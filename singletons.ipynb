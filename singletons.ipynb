{
 "metadata": {
  "name": "",
  "signature": "sha256:004fb83b49f33ee304802bf968725e261e2edbbc2113143ef73b764b1761f707"
 },
 "nbformat": 3,
 "nbformat_minor": 0,
 "worksheets": [
  {
   "cells": [
    {
     "cell_type": "markdown",
     "metadata": {},
     "source": [
      "### Baby names iPython notebooks #\n",
      "\n",
      "  * By David Taylor, [www.prooffreader.com](http://www.prooffreader.com)\n",
      "  * using data from United States Social Security Administration\n",
      "  * I am making this public to give a head start to those who want to explore this dataset, so they don't have to download and format the data and the python objects used to do preliminary analysis. Please let me know if you find this helpful!\n",
      "  * I'm a decent but new programmer and data analyst, and inexperienced in Python; constructive criticism is welcome. Often my code is non-pythonic and inefficiently iterative. Also, everything right now is in IPython notebooks instead of proper .py with classes, etc."
     ]
    },
    {
     "cell_type": "markdown",
     "metadata": {},
     "source": [
      "# Find singletons #"
     ]
    },
    {
     "cell_type": "markdown",
     "metadata": {},
     "source": [
      " * The database only shows names that appear at least five times in a given year. This script will find names that appeared only five times, only in one year."
     ]
    },
    {
     "cell_type": "heading",
     "level": 4,
     "metadata": {},
     "source": [
      "Set working path, and import libraries and read dataframe pickles"
     ]
    },
    {
     "cell_type": "code",
     "collapsed": false,
     "input": [
      "last_year = 2013 #change this when Social Security database is updated\n",
      "save_path = \"user_biblical_singletons\" # files created by this notebook will be saved in this directory\n",
      "\n",
      "import time\n",
      "import os\n",
      "if not os.path.isdir(save_path): # creates path if it does not exist\n",
      "    os.makedirs(save_path)\n",
      "\n",
      "import pandas as pd\n",
      "import numpy as np\n",
      "import matplotlib.pyplot as plt\n",
      "#import seaborn # comment out if you don't have it, but it makes good-looking charts\n",
      "%run download_and_process.py\n",
      "\n",
      "# used to round limit of y axis up to second-most-significant digit\n",
      "def determine_y_limit(x):                      \n",
      "    significance = int(floor((log10(x))))\n",
      "    val = floor(x / (10 ** (significance - 1))) + 1\n",
      "    val = val * (10 ** (significance - 1))\n",
      "    return val"
     ],
     "language": "python",
     "metadata": {},
     "outputs": [
      {
       "output_type": "stream",
       "stream": "stdout",
       "text": [
        "Data already downloaded.\n",
        "Data already extracted.\n",
        "Reading from pickle.\n",
        "Tail of dataframe 'yob':"
       ]
      },
      {
       "output_type": "stream",
       "stream": "stdout",
       "text": [
        "\n",
        "           name sex  births  year       pct  ranked\n",
        "1792086  Zyhier   M       5  2013  0.000267   12995\n",
        "1792087   Zylar   M       5  2013  0.000267   12995\n",
        "1792088  Zymari   M       5  2013  0.000267   12995\n",
        "1792089  Zymeer   M       5  2013  0.000267   12995\n",
        "1792090   Zyree   M       5  2013  0.000267   12995\n",
        "\n",
        "Tail of dataframe 'names':\n",
        "                 name sex  year_count year_min year_max pct_sum pct_max\n",
        "102685          Gross   M           1      NaN      NaN     NaN     NaN\n",
        "102686           Elik   M           1      NaN      NaN     NaN     NaN\n",
        "102687  Patrickjoseph   M           1      NaN      NaN     NaN     NaN\n",
        "102688       Southern   M           1      NaN      NaN     NaN     NaN\n",
        "102689           Jeon   M           1      NaN      NaN     NaN     NaN\n",
        "\n",
        "Tail of dataframe 'years':\n",
        "Empty DataFrame\n",
        "Columns: [births_f, births_m, births_t, new_names, unique_names, year, sexratio]\n",
        "Index: []\n"
       ]
      }
     ],
     "prompt_number": 1
    },
    {
     "cell_type": "code",
     "collapsed": false,
     "input": [
      "df_oneyear = names[names.year_min == names.year_max]\n",
      "df_oneyear = df_oneyear[['name', 'sex', 'year_min', 'pct_max']]\n",
      "df_oneyear.columns = ['name', 'sex', 'year', 'pct']"
     ],
     "language": "python",
     "metadata": {},
     "outputs": [],
     "prompt_number": 2
    },
    {
     "cell_type": "code",
     "collapsed": false,
     "input": [
      "oneyearnames = list(df_oneyear.name)\n",
      "yobcopy = yob.copy()\n",
      "yobcopy = yobcopy[yobcopy.name.isin(oneyearnames)]"
     ],
     "language": "python",
     "metadata": {},
     "outputs": [],
     "prompt_number": 3
    },
    {
     "cell_type": "code",
     "collapsed": false,
     "input": [
      "df_oneyear['births'] = 0\n",
      "for i in range(len(df_oneyear)):\n",
      "    df_oneyear.births.iloc[i] = yobcopy[(yobcopy.name == df_oneyear.name.iloc[i]) & \n",
      "                                        (yobcopy.sex == df_oneyear.sex.iloc[i])].births.iloc[0]"
     ],
     "language": "python",
     "metadata": {},
     "outputs": [],
     "prompt_number": 4
    },
    {
     "cell_type": "code",
     "collapsed": false,
     "input": [
      "df_oneyear.to_pickle(save_path+'/df_oneyear.pickle')"
     ],
     "language": "python",
     "metadata": {},
     "outputs": [],
     "prompt_number": 5
    },
    {
     "cell_type": "code",
     "collapsed": false,
     "input": [
      "df_oneyear.sort('births', inplace=True, ascending=False)\n",
      "df_oneyear.head(50)"
     ],
     "language": "python",
     "metadata": {},
     "outputs": [
      {
       "html": [
        "<div style=\"max-height:1000px;max-width:1500px;overflow:auto;\">\n",
        "<table border=\"1\" class=\"dataframe\">\n",
        "  <thead>\n",
        "    <tr style=\"text-align: right;\">\n",
        "      <th></th>\n",
        "      <th>name</th>\n",
        "      <th>sex</th>\n",
        "      <th>year</th>\n",
        "      <th>pct</th>\n",
        "      <th>births</th>\n",
        "    </tr>\n",
        "  </thead>\n",
        "  <tbody>\n",
        "  </tbody>\n",
        "</table>\n",
        "</div>"
       ],
       "metadata": {},
       "output_type": "pyout",
       "prompt_number": 6,
       "text": [
        "Empty DataFrame\n",
        "Columns: [name, sex, year, pct, births]\n",
        "Index: []"
       ]
      }
     ],
     "prompt_number": 6
    },
    {
     "cell_type": "code",
     "collapsed": false,
     "input": [
      "%matplotlib inline\n",
      "dictionary = {0:1000, 1:20, 2:15, 3:0, 4:5}\n",
      "xmax = df_oneyear.year.max()\n",
      "plt.figure() # <- makes a new figure and sets it active (add this)\n",
      "plt.hist(list(df_oneyear.year),xmax) # <- finds the current active axes/figure and plots to it\n",
      "plt.title('Histogram of names appearing only once in the Social Security database') \n",
      "plt.xlabel('Year')\n",
      "plt.ylabel('Number of names')\n",
      "plt.show()"
     ],
     "language": "python",
     "metadata": {},
     "outputs": [
      {
       "metadata": {},
       "output_type": "display_data",
       "png": "[encoded data removed]",
       "text": [
        "<matplotlib.figure.Figure at 0x17016c18>"
       ]
      }
     ],
     "prompt_number": 5
    },
    {
     "cell_type": "code",
     "collapsed": false,
     "input": [
      "#determine what percentage of births were single-appearances for each year\n",
      "df_oygrt = pd.DataFrame(df_oneyear.groupby('year').births.sum())\n",
      "df_oygrm = pd.DataFrame(df_oneyear[df_oneyear.sex == 'M'].groupby('year').births.sum())\n",
      "df_oygrf = pd.DataFrame(df_oneyear[df_oneyear.sex == 'F'].groupby('year').births.sum())\n",
      "df_oygrt['pct'] = 0.0\n",
      "df_oygrm['pct'] = 0.0\n",
      "df_oygrf['pct'] = 0.0\n",
      "for i in range(len(df_oygrt)):\n",
      "    df_oygrt.pct.iloc[i] = df_oygrt.births.iloc[i] * 1.0 / "
     ],
     "language": "python",
     "metadata": {},
     "outputs": [],
     "prompt_number": 18
    },
    {
     "cell_type": "code",
     "collapsed": false,
     "input": [
      "df_oygr.head()"
     ],
     "language": "python",
     "metadata": {},
     "outputs": [
      {
       "html": [
        "<div style=\"max-height:1000px;max-width:1500px;overflow:auto;\">\n",
        "<table border=\"1\" class=\"dataframe\">\n",
        "  <thead>\n",
        "    <tr style=\"text-align: right;\">\n",
        "      <th></th>\n",
        "      <th>births</th>\n",
        "    </tr>\n",
        "    <tr>\n",
        "      <th>year</th>\n",
        "      <th></th>\n",
        "    </tr>\n",
        "  </thead>\n",
        "  <tbody>\n",
        "    <tr>\n",
        "      <th>1880</th>\n",
        "      <td>  5</td>\n",
        "    </tr>\n",
        "    <tr>\n",
        "      <th>1881</th>\n",
        "      <td> 14</td>\n",
        "    </tr>\n",
        "    <tr>\n",
        "      <th>1885</th>\n",
        "      <td> 15</td>\n",
        "    </tr>\n",
        "    <tr>\n",
        "      <th>1886</th>\n",
        "      <td>  5</td>\n",
        "    </tr>\n",
        "    <tr>\n",
        "      <th>1887</th>\n",
        "      <td>  5</td>\n",
        "    </tr>\n",
        "  </tbody>\n",
        "</table>\n",
        "</div>"
       ],
       "metadata": {},
       "output_type": "pyout",
       "prompt_number": 19,
       "text": [
        "      births\n",
        "year        \n",
        "1880       5\n",
        "1881      14\n",
        "1885      15\n",
        "1886       5\n",
        "1887       5"
       ]
      }
     ],
     "prompt_number": 19
    }
   ],
   "metadata": {}
  }
 ]
}