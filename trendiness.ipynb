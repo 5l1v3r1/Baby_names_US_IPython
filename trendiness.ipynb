{
 "metadata": {
  "name": "trendiness.ipynb"
 },
 "nbformat": 3,
 "nbformat_minor": 0,
 "worksheets": [
  {
   "cells": [
    {
     "cell_type": "markdown",
     "metadata": {},
     "source": [
      "### U.S. Baby names iPython notebooks #\n",
      "\n",
      "  * By David Taylor, [www.prooffreader.com](http://www.prooffreader.com)\n",
      "  * using data from United States Social Security Administration\n",
      "  * I am making this public in case it gives a head start to those who want to explore this dataset, so they don't have to download and format the data and the python objects used to do preliminary analysis. Please let me know if you find this helpful!\n",
      "  * I'm relatively new to Python; often my code is non-pythonic and I tend to use inefficient list iterations that are easy for me to code instead of comprehensions or Boolean indexing that would result in faster processing. Also, everything right now is in IPython notebooks instead of .py with classes, double underscores, etc., because it's more convenient for my workflow in data spelunking. Your mileage may vary, and constructive criticism is very welcome."
     ]
    },
    {
     "cell_type": "markdown",
     "metadata": {},
     "source": [
      "# Determine \"trendy\" names #\n",
      "\n",
      "* There are several ways one could find \"trendy\" names, i.e. ones that rise quickly from obscurity to popularity, then fade quickly. One could look at percentage changes, but others have already done this, and one would have to use a second algorithm to distinguish truly popular names \n",
      "* This method is borrowed from peak analysis in chemistry chromatography; it weighs the results in favour of the most popular names with the sharpest peaks. The names with the lowest ratio of maximum popularity (normalized frequency, i.e. peak height) to peak width a a certain percentage (e.g. 10%) of peak height are the most \"spiky\"."
     ]
    },
    {
     "cell_type": "markdown",
     "metadata": {},
     "source": [
      "-----"
     ]
    },
    {
     "cell_type": "markdown",
     "metadata": {},
     "source": [
      "### Load dataframes; run this before every subsequent section"
     ]
    },
    {
     "cell_type": "code",
     "collapsed": false,
     "input": [
      "save_path = \"user_trendy\" # files created by this notebook will be saved in this directory\n",
      "import time\n",
      "\n",
      "import os\n",
      "if not os.path.isdir(save_path): # creates path if it does not exist\n",
      "    os.makedirs(save_path)\n",
      "\n",
      "import pandas as pd\n",
      "import numpy as np\n",
      "import matplotlib.pyplot as plt\n",
      "%run download_and_process.py\n",
      "\n",
      "last_year = years.year.max()"
     ],
     "language": "python",
     "metadata": {},
     "outputs": [
      {
       "output_type": "stream",
       "stream": "stdout",
       "text": [
        "Data already downloaded.\n",
        "Data already extracted.\n",
        "Reading from pickle.\n",
        "Tail of dataframe 'yob':"
       ]
      },
      {
       "output_type": "stream",
       "stream": "stdout",
       "text": [
        "\n",
        "           name sex  births  year       pct  ranked\n",
        "1792086  Zyhier   M       5  2013  0.000267   12995\n",
        "1792087   Zylar   M       5  2013  0.000267   12995\n",
        "1792088  Zymari   M       5  2013  0.000267   12995\n",
        "1792089  Zymeer   M       5  2013  0.000267   12995\n",
        "1792090   Zyree   M       5  2013  0.000267   12995\n",
        "\n",
        "Tail of dataframe 'names':\n",
        "                 name sex  year_count  year_min  year_max   pct_sum   pct_max\n",
        "102685          Gross   M           1      1925      1925  0.000538  0.000538\n",
        "102686           Elik   M           1      2012      2012  0.000318  0.000318\n",
        "102687  Patrickjoseph   M           1      1998      1998  0.000262  0.000262\n",
        "102688       Southern   M           1      1923      1923  0.000547  0.000547\n",
        "102689           Jeon   M           1      1999      1999  0.000261  0.000261\n",
        "\n",
        "Tail of dataframe 'years':\n",
        "     year  births_f  births_m  births_t  new_names  unique_names\n",
        "128  2008   1886765   2035811   3922576       2046         32483\n",
        "129  2009   1832276   1978582   3810858       1789         32210\n",
        "130  2010   1771846   1912915   3684761       1635         31593\n",
        "131  2011   1752198   1891800   3643998       1539         31412\n",
        "132  2012   1751866   1886972   3638838       1531         31212\n"
       ]
      }
     ],
     "prompt_number": 1
    },
    {
     "cell_type": "markdown",
     "metadata": {},
     "source": [
      "### Find largest ratios of peak height to width at 10 percent height for 1000 most popular names of each sex ###\n",
      "\n",
      "Low-popularity names are not included because their low signal-to-noise ratio would create false positives"
     ]
    },
    {
     "cell_type": "code",
     "collapsed": false,
     "input": [
      "# create dataframes of most popular names\n",
      "\n",
      "top_cutoff = 1000 #consider only this number of most popular names of each sex;\n",
      "                  #it saves calculation time and does not change final result\n",
      "\n",
      "peak_height_cutoff = 0.1  # ten percent of peak height\n",
      "\n",
      "###\n",
      "\n",
      "start = time.time()\n",
      "\n",
      "dfnamesm = names[names.sex == 'M']\n",
      "dfnamesf = names[names.sex == 'F']\n",
      "dfnamesm = dfnamesm.sort('pct_sum', ascending=False)\n",
      "dfnamesf = dfnamesf.sort('pct_sum', ascending=False)\n",
      "dfnamesm = dfnamesm[:top_cutoff]\n",
      "dfnamesf = dfnamesf[:top_cutoff]\n",
      "\n",
      "# create dataframe of peak analyses\n",
      "\n",
      "dfresult = pd.DataFrame()\n",
      "\n",
      "print \"Countdown F, then M to zero: \",\n",
      "\n",
      "sx = 'F'\n",
      "print sx,\n",
      "total = len(dfnamesf)\n",
      "for nm in list(dfnamesf.name):\n",
      "    total -= 1\n",
      "    if total % 100 == 0: print total,\n",
      "    df = yob[(yob.name == nm) & (yob.sex == sx)]\n",
      "    pct_sum = names[(names.name == nm) & (names.sex == sx)].pct_sum.iloc[0]\n",
      "    year_count = names[(names.name == nm) & (names.sex == sx)].year_count.iloc[0]\n",
      "    year_min = names[(names.name == nm) & (names.sex == sx)].year_min.iloc[0]\n",
      "    year_max = names[(names.name == nm) & (names.sex == sx)].year_max.iloc[0]\n",
      "    pct_max = df.pct.max()\n",
      "    df = df.sort('year')\n",
      "    yrcutstart = 0\n",
      "    yrcutend= 0\n",
      "    pctcut_sum = 0\n",
      "    \n",
      "    for idx, row in df.iterrows():\n",
      "        currpct =df.pct[idx]\n",
      "        curryr = df.year[idx]\n",
      "        if currpct >= peak_height_cutoff*pct_max:\n",
      "            pctcut_sum += currpct\n",
      "            if yrcutstart == 0:\n",
      "                yrcutstart = curryr\n",
      "            yrcutend = curryr\n",
      "    \n",
      "    tail_front = yrcutstart - year_min\n",
      "    tail_end = year_max - yrcutend\n",
      "    \n",
      "    yrcutspan = yrcutend-yrcutstart\n",
      "    yrcutratio = 1.0*yrcutspan/year_count\n",
      "    \n",
      "    spikiness = pct_max / yrcutspan     \n",
      "        \n",
      "    dfresult = dfresult.append(pd.DataFrame({'name':[nm],\n",
      "                     'sex':[sx],\n",
      "                     'year_count':[year_count],\n",
      "                     'year_min':[year_min],\n",
      "                     'year_max':[year_max],\n",
      "                     'pct_max':[pct_max],\n",
      "                     'pct_sum':[pct_sum],\n",
      "                     'yrcutstart':[yrcutstart],\n",
      "                     'yrcutend':[yrcutend],\n",
      "                     'yrcutspan':[yrcutspan],\n",
      "                     'yrcutratio':[yrcutratio],\n",
      "                     'pctcut_sum':[pctcut_sum],\n",
      "                     'tail_front':[tail_front],\n",
      "                     'tail_end':[tail_end],\n",
      "                     'spikiness':[spikiness] }))\n",
      "\n",
      "sx = 'M'\n",
      "print sx,\n",
      "total = len(dfnamesm)\n",
      "for nm in list(dfnamesm.name):\n",
      "    total -= 1\n",
      "    if total % 100 == 0: print total,\n",
      "    df = yob[(yob.name == nm) & (yob.sex == sx)]\n",
      "    pct_sum = names[(names.name == nm) & (names.sex == sx)].pct_sum.iloc[0]\n",
      "    year_count = names[(names.name == nm) & (names.sex == sx)].year_count.iloc[0]\n",
      "    year_min = names[(names.name == nm) & (names.sex == sx)].year_min.iloc[0]\n",
      "    year_max = names[(names.name == nm) & (names.sex == sx)].year_max.iloc[0]\n",
      "    pct_max = df.pct.max()\n",
      "    df = df.sort('year')\n",
      "    yrcutstart = 0\n",
      "    yrcutend= 0\n",
      "    pctcut_sum = 0\n",
      "    \n",
      "    for idx, row in df.iterrows():\n",
      "        currpct =df.pct[idx]\n",
      "        curryr = df.year[idx]\n",
      "        if currpct >= peak_height_cutoff*pct_max:\n",
      "            pctcut_sum += currpct\n",
      "            if yrcutstart == 0:\n",
      "                yrcutstart = curryr\n",
      "            yrcutend = curryr\n",
      "    \n",
      "    tail_front = yrcutstart - year_min\n",
      "    tail_end = year_max - yrcutend\n",
      "    \n",
      "    yrcutspan = yrcutend-yrcutstart\n",
      "    yrcutratio = 1.0*yrcutspan/year_count\n",
      "    \n",
      "    spikiness = pct_max / yrcutspan     \n",
      "        \n",
      "    dfresult = dfresult.append(pd.DataFrame({'name':[nm],\n",
      "                     'sex':[sx],\n",
      "                     'year_count':[year_count],\n",
      "                     'year_min':[year_min],\n",
      "                     'year_max':[year_max],\n",
      "                     'pct_max':[pct_max],\n",
      "                     'pct_sum':[pct_sum],\n",
      "                     'yrcutstart':[yrcutstart],\n",
      "                     'yrcutend':[yrcutend],\n",
      "                     'yrcutspan':[yrcutspan],\n",
      "                     'yrcutratio':[yrcutratio],\n",
      "                     'pctcut_sum':[pctcut_sum],\n",
      "                     'tail_front':[tail_front],\n",
      "                     'tail_end':[tail_end],\n",
      "                     'spikiness':[spikiness] }))\n",
      "\n",
      "picklepath = save_path + 'trendiness_'+ str(int(100*peak_height_cutoff))+'.pickle'\n",
      "csvpath = save_path + 'trendiness_'+ str(int(100*peak_height_cutoff))+'.csv'\n",
      "\n",
      "dfresult = dfresult[(dfresult.tail_end != 0 ) & (dfresult.tail_front != 0)] # remove names that have no ascent or descent after peak\n",
      "df.reset_index(drop=True, inplace=True)\n",
      "dfresult.to_pickle(picklepath)\n",
      "dfresult.to_csv(csvpath)\n",
      "\n",
      "print '\\nFiles saved.'"
     ],
     "language": "python",
     "metadata": {},
     "outputs": [
      {
       "output_type": "stream",
       "stream": "stdout",
       "text": [
        "Countdown F, then M to zero:  F "
       ]
      },
      {
       "output_type": "stream",
       "stream": "stdout",
       "text": [
        "900 "
       ]
      },
      {
       "output_type": "stream",
       "stream": "stdout",
       "text": [
        "800 "
       ]
      },
      {
       "output_type": "stream",
       "stream": "stdout",
       "text": [
        "700 "
       ]
      },
      {
       "output_type": "stream",
       "stream": "stdout",
       "text": [
        "600 "
       ]
      },
      {
       "output_type": "stream",
       "stream": "stdout",
       "text": [
        "500 "
       ]
      },
      {
       "output_type": "stream",
       "stream": "stdout",
       "text": [
        "400 "
       ]
      },
      {
       "output_type": "stream",
       "stream": "stdout",
       "text": [
        "300 "
       ]
      },
      {
       "output_type": "stream",
       "stream": "stdout",
       "text": [
        "200 "
       ]
      },
      {
       "output_type": "stream",
       "stream": "stdout",
       "text": [
        "100 "
       ]
      },
      {
       "output_type": "stream",
       "stream": "stdout",
       "text": [
        "0 "
       ]
      },
      {
       "output_type": "stream",
       "stream": "stdout",
       "text": [
        "M "
       ]
      },
      {
       "output_type": "stream",
       "stream": "stdout",
       "text": [
        "900 "
       ]
      },
      {
       "output_type": "stream",
       "stream": "stdout",
       "text": [
        "800 "
       ]
      },
      {
       "output_type": "stream",
       "stream": "stdout",
       "text": [
        "700 "
       ]
      },
      {
       "output_type": "stream",
       "stream": "stdout",
       "text": [
        "600 "
       ]
      },
      {
       "output_type": "stream",
       "stream": "stdout",
       "text": [
        "500 "
       ]
      },
      {
       "output_type": "stream",
       "stream": "stdout",
       "text": [
        "400 "
       ]
      },
      {
       "output_type": "stream",
       "stream": "stdout",
       "text": [
        "300 "
       ]
      },
      {
       "output_type": "stream",
       "stream": "stdout",
       "text": [
        "200 "
       ]
      },
      {
       "output_type": "stream",
       "stream": "stdout",
       "text": [
        "100 "
       ]
      },
      {
       "output_type": "stream",
       "stream": "stdout",
       "text": [
        "0 "
       ]
      },
      {
       "output_type": "stream",
       "stream": "stdout",
       "text": [
        "\n",
        "Files saved.\n"
       ]
      }
     ],
     "prompt_number": 2
    },
    {
     "cell_type": "code",
     "collapsed": false,
     "input": [
      "print dfresult[dfresult.sex == 'F'].sort('spikiness', ascending=False).reset_index().head(10)"
     ],
     "language": "python",
     "metadata": {},
     "outputs": [
      {
       "output_type": "stream",
       "stream": "stdout",
       "text": [
        "   index      name   pct_max    pct_sum  pctcut_sum sex  spikiness  tail_end  \\\n",
        "0      0     Linda  5.666385  86.481786   78.126372   F   0.182787        44   \n",
        "1      0  Brittany  2.050094  19.855254   18.405681   F   0.120594        13   \n",
        "2      0     Debra  2.585195  29.131212   26.781168   F   0.117509        41   \n",
        "3      0   Shirley  4.040080  53.493663   46.610664   F   0.112224        56   \n",
        "4      0    Ashley  3.155460  46.890487   44.550597   F   0.105182         3   \n",
        "5      0  Jennifer  4.300706  88.233240   82.486767   F   0.104895        11   \n",
        "6      0   Deborah  2.816031  40.361956   36.586290   F   0.104297        39   \n",
        "7      0      Lisa  3.414439  55.271708   52.217140   F   0.100425        24   \n",
        "8      0   Jessica  3.221578  60.395536   57.361646   F   0.092045         7   \n",
        "9      0     Betty  3.396793  84.919816   76.302278   F   0.069322        54   \n",
        "\n",
        "   tail_front  year_count  year_max  year_min  yrcutend  yrcutratio  \\\n",
        "0          58         134      2013      1880      1969    0.231343   \n",
        "1          20          51      2013      1963      2000    0.333333   \n",
        "2          36          99      2013      1914      1972    0.222222   \n",
        "3          41         133      2013      1880      1957    0.270677   \n",
        "4          63          75      2013      1917      2010    0.400000   \n",
        "5          45          96      2013      1916      2002    0.427083   \n",
        "6          67         134      2013      1880      1974    0.201493   \n",
        "7          69         110      2013      1886      1989    0.309091   \n",
        "8          91         134      2013      1880      2006    0.261194   \n",
        "9          30         134      2013      1880      1959    0.365672   \n",
        "\n",
        "   yrcutspan  yrcutstart  \n",
        "0         31        1938  \n",
        "1         17        1983  \n",
        "2         22        1950  \n",
        "3         36        1921  \n",
        "4         30        1980  \n",
        "5         41        1961  \n",
        "6         27        1947  \n",
        "7         34        1955  \n",
        "8         35        1971  \n",
        "9         49        1910  \n"
       ]
      }
     ],
     "prompt_number": 5
    },
    {
     "cell_type": "code",
     "collapsed": false,
     "input": [
      "print dfresult[dfresult.sex == 'M'].sort('spikiness', ascending=False).reset_index().head(10)"
     ],
     "language": "python",
     "metadata": {},
     "outputs": [
      {
       "output_type": "stream",
       "stream": "stdout",
       "text": [
        "   index     name   pct_max     pct_sum  pctcut_sum sex  spikiness  tail_end  \\\n",
        "0      0    Dewey  0.908765    5.132570    2.104882   M   0.151461       110   \n",
        "1      0    Jason  3.482095   58.020317   54.847647   M   0.084929         4   \n",
        "2      0   Grover  0.712424    6.548641    3.900972   M   0.059369       118   \n",
        "3      0     Mark  2.754216   73.705981   65.994464   M   0.051966        14   \n",
        "4      0  Woodrow  0.455177    4.001271    2.711625   M   0.041380        91   \n",
        "5      0     Gary  2.026460   51.723374   48.724457   M   0.038970        28   \n",
        "6      0    Brian  2.290509   63.510556   61.009071   M   0.038822         4   \n",
        "7      0    Larry  1.909608   49.535771   44.995968   M   0.037443        31   \n",
        "8      0    Scott  1.748081   42.778283   39.141361   M   0.037193        16   \n",
        "9      0   Donald  2.945867  106.675879  100.563276   M   0.036369        30   \n",
        "\n",
        "   tail_front  year_count  year_max  year_min  yrcutend  yrcutratio  \\\n",
        "0          10         127      2013      1887      1903    0.047244   \n",
        "1          88         134      2013      1880      2009    0.305970   \n",
        "2           3         134      2013      1880      1895    0.089552   \n",
        "3          66         134      2013      1880      1999    0.395522   \n",
        "4          11         110      2013      1900      1922    0.100000   \n",
        "5          53         132      2013      1880      1985    0.393939   \n",
        "6          50         105      2013      1900      2009    0.561905   \n",
        "7          51         134      2013      1880      1982    0.380597   \n",
        "8          70         134      2013      1880      1997    0.350746   \n",
        "9          22         134      2013      1880      1983    0.604478   \n",
        "\n",
        "   yrcutspan  yrcutstart  \n",
        "0          6        1897  \n",
        "1         41        1968  \n",
        "2         12        1883  \n",
        "3         53        1946  \n",
        "4         11        1911  \n",
        "5         52        1933  \n",
        "6         59        1950  \n",
        "7         51        1931  \n",
        "8         47        1950  \n",
        "9         81        1902  \n"
       ]
      }
     ],
     "prompt_number": 6
    },
    {
     "cell_type": "code",
     "collapsed": false,
     "input": [
      "yob[(yob.name=='Linda')&(yob.sex=='F')].sort('year')['pct'].plot()"
     ],
     "language": "python",
     "metadata": {},
     "outputs": [
      {
       "metadata": {},
       "output_type": "pyout",
       "prompt_number": 7,
       "text": [
        "<matplotlib.axes.AxesSubplot at 0xe591240>"
       ]
      },
      {
       "metadata": {},
       "output_type": "display_data",
       "png": "[encoded data removed]",
       "text": [
        "<matplotlib.figure.Figure at 0xe5917b8>"
       ]
      }
     ],
     "prompt_number": 7
    },
    {
     "cell_type": "code",
     "collapsed": false,
     "input": [
      "yob[(yob.name=='Dewey')&(yob.sex=='M')].sort('year')['pct'].plot()"
     ],
     "language": "python",
     "metadata": {},
     "outputs": [
      {
       "metadata": {},
       "output_type": "pyout",
       "prompt_number": 8,
       "text": [
        "<matplotlib.axes.AxesSubplot at 0xe584860>"
       ]
      },
      {
       "metadata": {},
       "output_type": "display_data",
       "png": "[encoded data removed]",
       "text": [
        "<matplotlib.figure.Figure at 0xe587400>"
       ]
      }
     ],
     "prompt_number": 8
    },
    {
     "cell_type": "code",
     "collapsed": false,
     "input": [],
     "language": "python",
     "metadata": {},
     "outputs": []
    }
   ],
   "metadata": {}
  }
 ]
}