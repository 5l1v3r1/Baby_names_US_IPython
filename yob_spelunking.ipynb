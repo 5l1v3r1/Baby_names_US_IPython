{
 "metadata": {
  "name": "yob_spelunking.ipynb"
 },
 "nbformat": 3,
 "nbformat_minor": 0,
 "worksheets": [
  {
   "cells": [
    {
     "cell_type": "markdown",
     "metadata": {},
     "source": [
      "### U.S. Baby names iPython notebooks #\n",
      "\n",
      "  * By David Taylor, [www.prooffreader.com](http://www.prooffreader.com)\n",
      "  * using data from United States Social Security Administration\n",
      "  * I am making this public in case it gives a head start to those who want to explore this dataset, so they don't have to download and format the data and the python objects used to do preliminary analysis. Please let me know if you find this helpful!\n",
      "  * I'm relatively new to Python; often my code is non-pythonic and I tend to use inefficient list iterations that are easy for me to code instead of comprehensions or Boolean indexing that would result in faster processing. Also, everything right now is in IPython notebooks instead of .py with classes, double underscores, etc., because it's more convenient for my workflow in data spelunking. Your mileage may vary, and constructive criticism is very welcome."
     ]
    },
    {
     "cell_type": "markdown",
     "metadata": {},
     "source": [
      "# Some data spelunking using the yob dataframe #\n",
      "\n",
      "* I like to call this approach data spelunking, because it's not data mining but it's deeper than prospecting\n",
      "* Uses the yob dataframe, but we will load all three main dataframes into memory just in case\n",
      "\n",
      "Table of contents:\n",
      "\n",
      "1. Set global parameters and load dataframes\n",
      "2. x"
     ]
    },
    {
     "cell_type": "raw",
     "metadata": {},
     "source": [
      "1. Set global parameters and load dataframes yob, names and years"
     ]
    },
    {
     "cell_type": "code",
     "collapsed": false,
     "input": [
      "last_year = 2013 #change this when Social Security database is updated\n",
      "save_path = \"names_spelunking\" # files created by this notebook will be saved in this directory\n",
      "\n",
      "import os\n",
      "if not os.path.isdir(save_path): # creates path if it does not exist\n",
      "    os.makedirs(save_path)\n",
      "\n",
      "import pandas as pd\n",
      "import numpy as np\n",
      "import matplotlib.pyplot as plt\n",
      "%run download_and_process.py"
     ],
     "language": "python",
     "metadata": {},
     "outputs": [
      {
       "output_type": "stream",
       "stream": "stdout",
       "text": [
        "Data already downloaded.\n",
        "Data already extracted.\n",
        "Reading from pickle.\n",
        "Tail of dataframe 'yob':"
       ]
      },
      {
       "output_type": "stream",
       "stream": "stdout",
       "text": [
        "\n",
        "           name sex  births  year       pct  ranked\n",
        "1792086  Zyhier   M       5  2013  0.000267   12995\n",
        "1792087   Zylar   M       5  2013  0.000267   12995\n",
        "1792088  Zymari   M       5  2013  0.000267   12995\n",
        "1792089  Zymeer   M       5  2013  0.000267   12995\n",
        "1792090   Zyree   M       5  2013  0.000267   12995"
       ]
      },
      {
       "output_type": "stream",
       "stream": "stdout",
       "text": [
        "\n",
        "\n",
        "Tail of dataframe 'names':\n",
        "                 name sex  year_count  year_min  year_max   pct_sum   pct_max\n",
        "102685          Gross   M           1      1925      1925  0.000538  0.000538\n",
        "102686           Elik   M           1      2012      2012  0.000318  0.000318\n",
        "102687  Patrickjoseph   M           1      1998      1998  0.000262  0.000262\n",
        "102688       Southern   M           1      1923      1923  0.000547  0.000547\n",
        "102689           Jeon   M           1      1999      1999  0.000261  0.000261\n",
        "\n",
        "Tail of dataframe 'years':\n",
        "     year  births_f  births_m  births_t  new_names  unique_names\n",
        "128  2008   1886765   2035811   3922576       2046         32483\n",
        "129  2009   1832276   1978582   3810858       1789         32210\n",
        "130  2010   1771846   1912915   3684761       1635         31593\n",
        "131  2011   1752198   1891800   3643998       1539         31412\n",
        "132  2012   1751866   1886972   3638838       1531         31212\n"
       ]
      }
     ],
     "prompt_number": 3
    },
    {
     "cell_type": "markdown",
     "metadata": {},
     "source": [
      "##### 2. Compare names between 2012 and 2013 #####\n",
      "* All variables like dataframes will be numbered after their section in this notebook, in this case \"2\"."
     ]
    },
    {
     "cell_type": "code",
     "collapsed": false,
     "input": [
      "df2 = yob[yob.year >= 2012]\n",
      "# Make a pivot table of number of births so that there are separate columns for 2012 and 2013.\n",
      "# Names missing in either year are assigned a value of zero instead of NaN\n",
      "df2 = df2.pivot_table(values='births', rows=['name', 'sex'], cols='year', dropna=False).fillna(0)\n",
      "# Reset index and rename columns because pandas acts funny with numeric column names\n",
      "df2 = df2.reset_index()\n",
      "df2.columns = ['name', 'sex', 'y2012', 'y2013']\n",
      "df2.reset_index(drop=True, inplace = True)\n",
      "df2 = df2[['name', 'sex', 'y2012', 'y2013']]\n",
      "df2 = df2[(df2.y2012 > 0) | (df2.y2013 > 0)] # pivot table adds zero-value opposite-sex versions of every name\n",
      "df2['abs_diff'] = df2.y2013 - df2.y2012 # absolute difference between 2013 and 2012\n",
      "df2['pct_diff'] = df2['abs_diff'] * 100.0 / df2['y2012'] # percent difference; inf if y2012 == 0\n",
      "print \"Tail of df2:\"\n",
      "print df2.tail()"
     ],
     "language": "python",
     "metadata": {},
     "outputs": [
      {
       "output_type": "stream",
       "stream": "stdout",
       "text": [
        "Tail of df2:\n",
        "            name sex  y2012  y2013  abs_diff  pct_diff\n",
        "73757     Zyrion   M     12      6        -6       -50\n",
        "73759      Zyron   M     12      9        -3       -25\n",
        "73761      Zyrus   M      5      8         3        60\n",
        "73763    Zyshawn   M     10     13         3        30\n",
        "73765  Zytaevius   M      5      0        -5      -100\n"
       ]
      }
     ],
     "prompt_number": 32
    },
    {
     "cell_type": "code",
     "collapsed": false,
     "input": [],
     "language": "python",
     "metadata": {},
     "outputs": [],
     "prompt_number": 26
    },
    {
     "cell_type": "code",
     "collapsed": false,
     "input": [],
     "language": "python",
     "metadata": {},
     "outputs": [],
     "prompt_number": 28
    },
    {
     "cell_type": "code",
     "collapsed": false,
     "input": [],
     "language": "python",
     "metadata": {},
     "outputs": [],
     "prompt_number": 17
    },
    {
     "cell_type": "code",
     "collapsed": false,
     "input": [
      "#Some examples of filtering criteria:\n",
      "\n",
      "df1 = yob[yob.year == 2012]                          # Selects names in the year 2012\n",
      "df1 = yob[(yob.sex == 'F') & (yob.ranked < 10)]      # Girls in the top 10; the parentheses are necessary\n",
      "df1 = yob[yob.name.str.endswith('eb')]               # Names ending in \"n\"\n",
      "df1 = yob[yob.name.str.contains(\"aa\")]               # Names containing \"aa\" (case-sensitive)\n",
      "df1 = yob[yob.name.str.contains(\"[Aa]a\")]            # Names containing \"aa\" (case-insensitive)\n",
      "\n",
      "# since I have assigned df1 many times, only the last one will be valid. Change df names if you want to keep them all."
     ],
     "language": "python",
     "metadata": {},
     "outputs": [],
     "prompt_number": 21
    },
    {
     "cell_type": "code",
     "collapsed": false,
     "input": [
      "# I find this a handy device, that does not necessarily need to be wrapped in a function definition\n",
      "# It shows the first and last 10 records of a dataframe\n",
      "# just change 'df1' if necessary\n",
      "x = df1.copy(); print x.head(10); print x.tail(10)"
     ],
     "language": "python",
     "metadata": {},
     "outputs": [
      {
       "output_type": "stream",
       "stream": "stdout",
       "text": [
        "       name sex  births  year       pct  ranked\n",
        "1003  Isaac   M     274  1880  0.247984    62.0\n",
        "1072  Aaron   M     102  1880  0.092315   132.0\n",
        "3001  Isaac   M     258  1881  0.256090    64.0\n",
        "3064  Aaron   M      94  1881  0.093304   128.5\n",
        "5027  Isaac   M     278  1882  0.244531    65.0\n",
        "5123  Aaron   M      85  1882  0.074767   161.5\n",
        "7185  Isaac   M     227  1883  0.216955    70.0\n",
        "7236  Aaron   M     105  1883  0.100354   121.0\n",
        "9392  Isaac   M     243  1884  0.212327    75.0\n",
        "9459  Aaron   M      97  1884  0.084756   142.5\n",
        "             name sex  births  year       pct  ranked\n",
        "1791340   Maadhav   M       5  2013  0.000267   12995\n",
        "1791511  Nicolaas   M       5  2013  0.000267   12995\n",
        "1791612     Raaed   M       5  2013  0.000267   12995\n",
        "1791613   Raaghav   M       5  2013  0.000267   12995\n",
        "1791614    Raayan   M       5  2013  0.000267   12995\n",
        "1791678    Riyaan   M       5  2013  0.000267   12995\n",
        "1791834     Taaha   M       5  2013  0.000267   12995\n",
        "1791835    Taalib   M       5  2013  0.000267   12995\n",
        "1792032    Zaavan   M       5  2013  0.000267   12995\n",
        "1792079    Ziyaad   M       5  2013  0.000267   12995\n"
       ]
      }
     ],
     "prompt_number": 23
    },
    {
     "cell_type": "code",
     "collapsed": false,
     "input": [
      "#now let's prepare two dataframes, df1 and df2 for names in 2012 and 2013 respectively.\n",
      "\n",
      "criteria_name_1 = 'y2012' # don't start a string with a digit just in case\n",
      "criteria_name_2 = 'y2013'\n",
      "\n",
      "dataframe_list = [df1, df2]\n",
      "\n",
      "\n",
      "#now define our two dataframes\n",
      "df1 = yob[yob.year == 2012]\n",
      "df2 = yob[yob.year == 2013]\n",
      "#df3 = ... you can use any number of dataframes\n",
      "df1[criteria_name_1] = True\n",
      "df2[criteria_name_2] = True\n",
      "\n",
      "dataframe_list = [df1, df2] # add more if necessary\n",
      "\n",
      "dfcompare = dataframe_list[0].copy()\n",
      "\n",
      "dfcompare = pd.merge(dfcompare, dataframe_list[1])"
     ],
     "language": "python",
     "metadata": {},
     "outputs": [],
     "prompt_number": 28
    },
    {
     "cell_type": "code",
     "collapsed": false,
     "input": [
      "dfcompare.head()"
     ],
     "language": "python",
     "metadata": {},
     "outputs": [
      {
       "html": [
        "<div style=\"max-height:1000px;max-width:1500px;overflow:auto;\">\n",
        "<table border=\"1\" class=\"dataframe\">\n",
        "  <thead>\n",
        "    <tr style=\"text-align: right;\">\n",
        "      <th></th>\n",
        "      <th>name</th>\n",
        "      <th>sex</th>\n",
        "      <th>births</th>\n",
        "      <th>year</th>\n",
        "      <th>pct</th>\n",
        "      <th>ranked</th>\n",
        "      <th>y2012</th>\n",
        "    </tr>\n",
        "  </thead>\n",
        "  <tbody>\n",
        "    <tr>\n",
        "      <th>1725361</th>\n",
        "      <td>   Sophia</td>\n",
        "      <td> F</td>\n",
        "      <td> 22245</td>\n",
        "      <td> 2012</td>\n",
        "      <td> 1.269789</td>\n",
        "      <td> 1</td>\n",
        "      <td> True</td>\n",
        "    </tr>\n",
        "    <tr>\n",
        "      <th>1725362</th>\n",
        "      <td>     Emma</td>\n",
        "      <td> F</td>\n",
        "      <td> 20871</td>\n",
        "      <td> 2012</td>\n",
        "      <td> 1.191358</td>\n",
        "      <td> 2</td>\n",
        "      <td> True</td>\n",
        "    </tr>\n",
        "    <tr>\n",
        "      <th>1725363</th>\n",
        "      <td> Isabella</td>\n",
        "      <td> F</td>\n",
        "      <td> 19026</td>\n",
        "      <td> 2012</td>\n",
        "      <td> 1.086042</td>\n",
        "      <td> 3</td>\n",
        "      <td> True</td>\n",
        "    </tr>\n",
        "    <tr>\n",
        "      <th>1725364</th>\n",
        "      <td>   Olivia</td>\n",
        "      <td> F</td>\n",
        "      <td> 17253</td>\n",
        "      <td> 2012</td>\n",
        "      <td> 0.984836</td>\n",
        "      <td> 4</td>\n",
        "      <td> True</td>\n",
        "    </tr>\n",
        "    <tr>\n",
        "      <th>1725365</th>\n",
        "      <td>      Ava</td>\n",
        "      <td> F</td>\n",
        "      <td> 15494</td>\n",
        "      <td> 2012</td>\n",
        "      <td> 0.884428</td>\n",
        "      <td> 5</td>\n",
        "      <td> True</td>\n",
        "    </tr>\n",
        "  </tbody>\n",
        "</table>\n",
        "</div>"
       ],
       "metadata": {},
       "output_type": "pyout",
       "prompt_number": 29,
       "text": [
        "             name sex  births  year       pct  ranked y2012\n",
        "1725361    Sophia   F   22245  2012  1.269789       1  True\n",
        "1725362      Emma   F   20871  2012  1.191358       2  True\n",
        "1725363  Isabella   F   19026  2012  1.086042       3  True\n",
        "1725364    Olivia   F   17253  2012  0.984836       4  True\n",
        "1725365       Ava   F   15494  2012  0.884428       5  True"
       ]
      }
     ],
     "prompt_number": 29
    },
    {
     "cell_type": "code",
     "collapsed": false,
     "input": [],
     "language": "python",
     "metadata": {},
     "outputs": []
    }
   ],
   "metadata": {}
  }
 ]
}