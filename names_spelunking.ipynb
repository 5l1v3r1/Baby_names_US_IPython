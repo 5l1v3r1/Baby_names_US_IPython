{
 "metadata": {
  "name": "names_spelunking.ipynb"
 },
 "nbformat": 3,
 "nbformat_minor": 0,
 "worksheets": [
  {
   "cells": [
    {
     "cell_type": "markdown",
     "metadata": {},
     "source": [
      "### U.S. Baby names iPython notebooks #\n",
      "\n",
      "  * By David Taylor, [www.prooffreader.com](http://www.prooffreader.com)\n",
      "  * using data from United States Social Security Administration\n",
      "  * I am making this public in case it gives a head start to those who want to explore this dataset, so they don't have to download and format the data and the python objects used to do preliminary analysis. Please let me know if you find this helpful!\n",
      "  * I'm relatively new to Python; often my code is non-pythonic and I tend to use inefficient list iterations that are easy for me to code instead of comprehensions or Boolean indexing that would result in faster processing. Also, everything right now is in IPython notebooks instead of .py with classes, double underscores, etc., because it's more convenient for my workflow in data spelunking. Your mileage may vary, and constructive criticism is very welcome."
     ]
    },
    {
     "cell_type": "markdown",
     "metadata": {},
     "source": [
      "# Some data spelunking using the names dataframe #\n",
      "\n",
      "* I like to call this approach data spelunking, because it's not data mining but it's deeper than prospecting\n",
      "* Uses the names dataframe, but we will load all three main dataframes into memory just in case\n",
      "\n",
      "Table of contents:\n",
      "\n",
      "1. Set global parameters and load dataframes\n",
      "2. x"
     ]
    },
    {
     "cell_type": "raw",
     "metadata": {},
     "source": [
      "1. Set global parameters and load dataframes yob, names and years"
     ]
    },
    {
     "cell_type": "code",
     "collapsed": false,
     "input": [
      "last_year = 2013 #change this when Social Security database is updated\n",
      "save_path = \"names_spelunking\" # files created by this notebook will be saved in this directory\n",
      "\n",
      "import os\n",
      "if not os.path.isdir(save_path): # creates path if it does not exist\n",
      "    os.makedirs(save_path)\n",
      "\n",
      "import pandas as pd\n",
      "import numpy as np\n",
      "import matplotlib.pyplot as plt\n",
      "%run download_and_process.py"
     ],
     "language": "python",
     "metadata": {},
     "outputs": [
      {
       "output_type": "stream",
       "stream": "stdout",
       "text": [
        "Data already downloaded.\n",
        "Data already extracted.\n",
        "Reading from pickle.\n",
        "Tail of dataframe 'yob':"
       ]
      },
      {
       "output_type": "stream",
       "stream": "stdout",
       "text": [
        "\n",
        "           name sex  births  year       pct  ranked\n",
        "1792086  Zyhier   M       5  2013  0.000267   12995\n",
        "1792087   Zylar   M       5  2013  0.000267   12995\n",
        "1792088  Zymari   M       5  2013  0.000267   12995\n",
        "1792089  Zymeer   M       5  2013  0.000267   12995\n",
        "1792090   Zyree   M       5  2013  0.000267   12995"
       ]
      },
      {
       "output_type": "stream",
       "stream": "stdout",
       "text": [
        "\n",
        "\n",
        "Tail of dataframe 'names':\n",
        "                 name sex  year_count  year_min  year_max   pct_sum   pct_max\n",
        "102685          Gross   M           1      1925      1925  0.000538  0.000538\n",
        "102686           Elik   M           1      2012      2012  0.000318  0.000318\n",
        "102687  Patrickjoseph   M           1      1998      1998  0.000262  0.000262\n",
        "102688       Southern   M           1      1923      1923  0.000547  0.000547\n",
        "102689           Jeon   M           1      1999      1999  0.000261  0.000261\n",
        "\n",
        "Tail of dataframe 'years':\n",
        "     year  births_f  births_m  births_t  new_names  unique_names\n",
        "128  2008   1886765   2035811   3922576       2046         32483\n",
        "129  2009   1832276   1978582   3810858       1789         32210\n",
        "130  2010   1771846   1912915   3684761       1635         31593\n",
        "131  2011   1752198   1891800   3643998       1539         31412\n",
        "132  2012   1751866   1886972   3638838       1531         31212\n"
       ]
      }
     ],
     "prompt_number": 1
    },
    {
     "cell_type": "raw",
     "metadata": {},
     "source": [
      "2. "
     ]
    },
    {
     "cell_type": "code",
     "collapsed": false,
     "input": [
      "names[(names.year_count == 3) & (names.year_max == 2013)].head(50)"
     ],
     "language": "python",
     "metadata": {},
     "outputs": [
      {
       "html": [
        "<div style=\"max-height:1000px;max-width:1500px;overflow:auto;\">\n",
        "<table border=\"1\" class=\"dataframe\">\n",
        "  <thead>\n",
        "    <tr style=\"text-align: right;\">\n",
        "      <th></th>\n",
        "      <th>name</th>\n",
        "      <th>sex</th>\n",
        "      <th>year_count</th>\n",
        "      <th>year_min</th>\n",
        "      <th>year_max</th>\n",
        "      <th>pct_sum</th>\n",
        "      <th>pct_max</th>\n",
        "    </tr>\n",
        "  </thead>\n",
        "  <tbody>\n",
        "    <tr>\n",
        "      <th>39558</th>\n",
        "      <td>     Chosen</td>\n",
        "      <td> F</td>\n",
        "      <td> 3</td>\n",
        "      <td> 2005</td>\n",
        "      <td> 2013</td>\n",
        "      <td> 0.001104</td>\n",
        "      <td> 0.000437</td>\n",
        "    </tr>\n",
        "    <tr>\n",
        "      <th>39559</th>\n",
        "      <td>      Radia</td>\n",
        "      <td> F</td>\n",
        "      <td> 3</td>\n",
        "      <td> 2006</td>\n",
        "      <td> 2013</td>\n",
        "      <td> 0.000894</td>\n",
        "      <td> 0.000345</td>\n",
        "    </tr>\n",
        "    <tr>\n",
        "      <th>39562</th>\n",
        "      <td>  Aubreyona</td>\n",
        "      <td> F</td>\n",
        "      <td> 3</td>\n",
        "      <td> 2007</td>\n",
        "      <td> 2013</td>\n",
        "      <td> 0.000948</td>\n",
        "      <td> 0.000345</td>\n",
        "    </tr>\n",
        "    <tr>\n",
        "      <th>39564</th>\n",
        "      <td>    Quinlee</td>\n",
        "      <td> F</td>\n",
        "      <td> 3</td>\n",
        "      <td> 2010</td>\n",
        "      <td> 2013</td>\n",
        "      <td> 0.001198</td>\n",
        "      <td> 0.000514</td>\n",
        "    </tr>\n",
        "    <tr>\n",
        "      <th>39568</th>\n",
        "      <td>   Yanielis</td>\n",
        "      <td> F</td>\n",
        "      <td> 3</td>\n",
        "      <td> 2008</td>\n",
        "      <td> 2013</td>\n",
        "      <td> 0.001165</td>\n",
        "      <td> 0.000477</td>\n",
        "    </tr>\n",
        "    <tr>\n",
        "      <th>39573</th>\n",
        "      <td>     Zaidyn</td>\n",
        "      <td> F</td>\n",
        "      <td> 3</td>\n",
        "      <td> 2007</td>\n",
        "      <td> 2013</td>\n",
        "      <td> 0.001345</td>\n",
        "      <td> 0.000576</td>\n",
        "    </tr>\n",
        "    <tr>\n",
        "      <th>39581</th>\n",
        "      <td>  Zakariyah</td>\n",
        "      <td> F</td>\n",
        "      <td> 3</td>\n",
        "      <td> 2011</td>\n",
        "      <td> 2013</td>\n",
        "      <td> 0.001087</td>\n",
        "      <td> 0.000399</td>\n",
        "    </tr>\n",
        "    <tr>\n",
        "      <th>39583</th>\n",
        "      <td>    Jentrie</td>\n",
        "      <td> F</td>\n",
        "      <td> 3</td>\n",
        "      <td> 2002</td>\n",
        "      <td> 2013</td>\n",
        "      <td> 0.001064</td>\n",
        "      <td> 0.000461</td>\n",
        "    </tr>\n",
        "    <tr>\n",
        "      <th>39585</th>\n",
        "      <td>    Dallyce</td>\n",
        "      <td> F</td>\n",
        "      <td> 3</td>\n",
        "      <td> 2011</td>\n",
        "      <td> 2013</td>\n",
        "      <td> 0.001547</td>\n",
        "      <td> 0.000633</td>\n",
        "    </tr>\n",
        "    <tr>\n",
        "      <th>39596</th>\n",
        "      <td>     Dnylah</td>\n",
        "      <td> F</td>\n",
        "      <td> 3</td>\n",
        "      <td> 2011</td>\n",
        "      <td> 2013</td>\n",
        "      <td> 0.001373</td>\n",
        "      <td> 0.000514</td>\n",
        "    </tr>\n",
        "    <tr>\n",
        "      <th>39606</th>\n",
        "      <td>    Janelee</td>\n",
        "      <td> F</td>\n",
        "      <td> 3</td>\n",
        "      <td> 2006</td>\n",
        "      <td> 2013</td>\n",
        "      <td> 0.000948</td>\n",
        "      <td> 0.000345</td>\n",
        "    </tr>\n",
        "    <tr>\n",
        "      <th>39610</th>\n",
        "      <td>     Harlin</td>\n",
        "      <td> F</td>\n",
        "      <td> 3</td>\n",
        "      <td> 1999</td>\n",
        "      <td> 2013</td>\n",
        "      <td> 0.001021</td>\n",
        "      <td> 0.000461</td>\n",
        "    </tr>\n",
        "    <tr>\n",
        "      <th>39615</th>\n",
        "      <td>   Addalyne</td>\n",
        "      <td> F</td>\n",
        "      <td> 3</td>\n",
        "      <td> 2010</td>\n",
        "      <td> 2013</td>\n",
        "      <td> 0.001368</td>\n",
        "      <td> 0.000564</td>\n",
        "    </tr>\n",
        "    <tr>\n",
        "      <th>39621</th>\n",
        "      <td>    Mushtaq</td>\n",
        "      <td> F</td>\n",
        "      <td> 3</td>\n",
        "      <td> 2009</td>\n",
        "      <td> 2013</td>\n",
        "      <td> 0.000904</td>\n",
        "      <td> 0.000345</td>\n",
        "    </tr>\n",
        "    <tr>\n",
        "      <th>39622</th>\n",
        "      <td>   Aleyshka</td>\n",
        "      <td> F</td>\n",
        "      <td> 3</td>\n",
        "      <td> 2005</td>\n",
        "      <td> 2013</td>\n",
        "      <td> 0.000889</td>\n",
        "      <td> 0.000345</td>\n",
        "    </tr>\n",
        "    <tr>\n",
        "      <th>39633</th>\n",
        "      <td>  Nazariyah</td>\n",
        "      <td> F</td>\n",
        "      <td> 3</td>\n",
        "      <td> 2009</td>\n",
        "      <td> 2013</td>\n",
        "      <td> 0.000843</td>\n",
        "      <td> 0.000288</td>\n",
        "    </tr>\n",
        "    <tr>\n",
        "      <th>39639</th>\n",
        "      <td>        Dim</td>\n",
        "      <td> F</td>\n",
        "      <td> 3</td>\n",
        "      <td> 2011</td>\n",
        "      <td> 2013</td>\n",
        "      <td> 0.002060</td>\n",
        "      <td> 0.000913</td>\n",
        "    </tr>\n",
        "    <tr>\n",
        "      <th>39642</th>\n",
        "      <td>     Rakyla</td>\n",
        "      <td> F</td>\n",
        "      <td> 3</td>\n",
        "      <td> 2006</td>\n",
        "      <td> 2013</td>\n",
        "      <td> 0.000816</td>\n",
        "      <td> 0.000288</td>\n",
        "    </tr>\n",
        "    <tr>\n",
        "      <th>39645</th>\n",
        "      <td>     Emerey</td>\n",
        "      <td> F</td>\n",
        "      <td> 3</td>\n",
        "      <td> 2006</td>\n",
        "      <td> 2013</td>\n",
        "      <td> 0.001005</td>\n",
        "      <td> 0.000403</td>\n",
        "    </tr>\n",
        "    <tr>\n",
        "      <th>39647</th>\n",
        "      <td>     Rahmya</td>\n",
        "      <td> F</td>\n",
        "      <td> 3</td>\n",
        "      <td> 2004</td>\n",
        "      <td> 2013</td>\n",
        "      <td> 0.000821</td>\n",
        "      <td> 0.000288</td>\n",
        "    </tr>\n",
        "    <tr>\n",
        "      <th>39650</th>\n",
        "      <td>     Izelle</td>\n",
        "      <td> F</td>\n",
        "      <td> 3</td>\n",
        "      <td> 2008</td>\n",
        "      <td> 2013</td>\n",
        "      <td> 0.001064</td>\n",
        "      <td> 0.000461</td>\n",
        "    </tr>\n",
        "    <tr>\n",
        "      <th>39653</th>\n",
        "      <td>    Kaeloni</td>\n",
        "      <td> F</td>\n",
        "      <td> 3</td>\n",
        "      <td> 1988</td>\n",
        "      <td> 2013</td>\n",
        "      <td> 0.000886</td>\n",
        "      <td> 0.000337</td>\n",
        "    </tr>\n",
        "    <tr>\n",
        "      <th>39654</th>\n",
        "      <td>    Amitiel</td>\n",
        "      <td> F</td>\n",
        "      <td> 3</td>\n",
        "      <td> 2010</td>\n",
        "      <td> 2013</td>\n",
        "      <td> 0.000913</td>\n",
        "      <td> 0.000345</td>\n",
        "    </tr>\n",
        "    <tr>\n",
        "      <th>39669</th>\n",
        "      <td>    Azaelia</td>\n",
        "      <td> F</td>\n",
        "      <td> 3</td>\n",
        "      <td> 2010</td>\n",
        "      <td> 2013</td>\n",
        "      <td> 0.000913</td>\n",
        "      <td> 0.000342</td>\n",
        "    </tr>\n",
        "    <tr>\n",
        "      <th>39670</th>\n",
        "      <td>    Jaelinn</td>\n",
        "      <td> F</td>\n",
        "      <td> 3</td>\n",
        "      <td> 2006</td>\n",
        "      <td> 2013</td>\n",
        "      <td> 0.000824</td>\n",
        "      <td> 0.000288</td>\n",
        "    </tr>\n",
        "    <tr>\n",
        "      <th>39671</th>\n",
        "      <td>      Onora</td>\n",
        "      <td> F</td>\n",
        "      <td> 3</td>\n",
        "      <td> 2008</td>\n",
        "      <td> 2013</td>\n",
        "      <td> 0.000891</td>\n",
        "      <td> 0.000318</td>\n",
        "    </tr>\n",
        "    <tr>\n",
        "      <th>39677</th>\n",
        "      <td>  Briarrose</td>\n",
        "      <td> F</td>\n",
        "      <td> 3</td>\n",
        "      <td> 2011</td>\n",
        "      <td> 2013</td>\n",
        "      <td> 0.001087</td>\n",
        "      <td> 0.000400</td>\n",
        "    </tr>\n",
        "    <tr>\n",
        "      <th>39685</th>\n",
        "      <td>      Talei</td>\n",
        "      <td> F</td>\n",
        "      <td> 3</td>\n",
        "      <td> 2007</td>\n",
        "      <td> 2013</td>\n",
        "      <td> 0.000945</td>\n",
        "      <td> 0.000345</td>\n",
        "    </tr>\n",
        "    <tr>\n",
        "      <th>39688</th>\n",
        "      <td>      Zuhey</td>\n",
        "      <td> F</td>\n",
        "      <td> 3</td>\n",
        "      <td> 2004</td>\n",
        "      <td> 2013</td>\n",
        "      <td> 0.000929</td>\n",
        "      <td> 0.000369</td>\n",
        "    </tr>\n",
        "    <tr>\n",
        "      <th>39690</th>\n",
        "      <td>       Yoyo</td>\n",
        "      <td> F</td>\n",
        "      <td> 3</td>\n",
        "      <td> 2007</td>\n",
        "      <td> 2013</td>\n",
        "      <td> 0.001006</td>\n",
        "      <td> 0.000403</td>\n",
        "    </tr>\n",
        "    <tr>\n",
        "      <th>39693</th>\n",
        "      <td>    Henslee</td>\n",
        "      <td> F</td>\n",
        "      <td> 3</td>\n",
        "      <td> 2011</td>\n",
        "      <td> 2013</td>\n",
        "      <td> 0.001489</td>\n",
        "      <td> 0.000576</td>\n",
        "    </tr>\n",
        "    <tr>\n",
        "      <th>39701</th>\n",
        "      <td>  Huntleigh</td>\n",
        "      <td> F</td>\n",
        "      <td> 3</td>\n",
        "      <td> 2011</td>\n",
        "      <td> 2013</td>\n",
        "      <td> 0.001376</td>\n",
        "      <td> 0.000691</td>\n",
        "    </tr>\n",
        "    <tr>\n",
        "      <th>39710</th>\n",
        "      <td>     Maylah</td>\n",
        "      <td> F</td>\n",
        "      <td> 3</td>\n",
        "      <td> 2006</td>\n",
        "      <td> 2013</td>\n",
        "      <td> 0.000947</td>\n",
        "      <td> 0.000345</td>\n",
        "    </tr>\n",
        "    <tr>\n",
        "      <th>39715</th>\n",
        "      <td>     Zafina</td>\n",
        "      <td> F</td>\n",
        "      <td> 3</td>\n",
        "      <td> 2010</td>\n",
        "      <td> 2013</td>\n",
        "      <td> 0.000913</td>\n",
        "      <td> 0.000345</td>\n",
        "    </tr>\n",
        "    <tr>\n",
        "      <th>39737</th>\n",
        "      <td>   Khennedi</td>\n",
        "      <td> F</td>\n",
        "      <td> 3</td>\n",
        "      <td> 2007</td>\n",
        "      <td> 2013</td>\n",
        "      <td> 0.001056</td>\n",
        "      <td> 0.000508</td>\n",
        "    </tr>\n",
        "    <tr>\n",
        "      <th>39738</th>\n",
        "      <td>     Advita</td>\n",
        "      <td> F</td>\n",
        "      <td> 3</td>\n",
        "      <td> 2009</td>\n",
        "      <td> 2013</td>\n",
        "      <td> 0.000846</td>\n",
        "      <td> 0.000288</td>\n",
        "    </tr>\n",
        "    <tr>\n",
        "      <th>39741</th>\n",
        "      <td>      Aevah</td>\n",
        "      <td> F</td>\n",
        "      <td> 3</td>\n",
        "      <td> 2011</td>\n",
        "      <td> 2013</td>\n",
        "      <td> 0.001547</td>\n",
        "      <td> 0.000633</td>\n",
        "    </tr>\n",
        "    <tr>\n",
        "      <th>39755</th>\n",
        "      <td>    Anailah</td>\n",
        "      <td> F</td>\n",
        "      <td> 3</td>\n",
        "      <td> 2007</td>\n",
        "      <td> 2013</td>\n",
        "      <td> 0.001101</td>\n",
        "      <td> 0.000576</td>\n",
        "    </tr>\n",
        "    <tr>\n",
        "      <th>39760</th>\n",
        "      <td>    Cedella</td>\n",
        "      <td> F</td>\n",
        "      <td> 3</td>\n",
        "      <td> 1924</td>\n",
        "      <td> 2013</td>\n",
        "      <td> 0.001200</td>\n",
        "      <td> 0.000461</td>\n",
        "    </tr>\n",
        "    <tr>\n",
        "      <th>39771</th>\n",
        "      <td>   Breylynn</td>\n",
        "      <td> F</td>\n",
        "      <td> 3</td>\n",
        "      <td> 2007</td>\n",
        "      <td> 2013</td>\n",
        "      <td> 0.000931</td>\n",
        "      <td> 0.000345</td>\n",
        "    </tr>\n",
        "    <tr>\n",
        "      <th>39772</th>\n",
        "      <td>   Alisiana</td>\n",
        "      <td> F</td>\n",
        "      <td> 3</td>\n",
        "      <td> 2008</td>\n",
        "      <td> 2013</td>\n",
        "      <td> 0.000997</td>\n",
        "      <td> 0.000424</td>\n",
        "    </tr>\n",
        "    <tr>\n",
        "      <th>39781</th>\n",
        "      <td>     Deklyn</td>\n",
        "      <td> F</td>\n",
        "      <td> 3</td>\n",
        "      <td> 2011</td>\n",
        "      <td> 2013</td>\n",
        "      <td> 0.002120</td>\n",
        "      <td> 0.000921</td>\n",
        "    </tr>\n",
        "    <tr>\n",
        "      <th>39783</th>\n",
        "      <td>      Yihan</td>\n",
        "      <td> F</td>\n",
        "      <td> 3</td>\n",
        "      <td> 2010</td>\n",
        "      <td> 2013</td>\n",
        "      <td> 0.001028</td>\n",
        "      <td> 0.000403</td>\n",
        "    </tr>\n",
        "    <tr>\n",
        "      <th>39785</th>\n",
        "      <td>     Adelay</td>\n",
        "      <td> F</td>\n",
        "      <td> 3</td>\n",
        "      <td> 2009</td>\n",
        "      <td> 2013</td>\n",
        "      <td> 0.001125</td>\n",
        "      <td> 0.000437</td>\n",
        "    </tr>\n",
        "    <tr>\n",
        "      <th>39795</th>\n",
        "      <td>      Arysa</td>\n",
        "      <td> F</td>\n",
        "      <td> 3</td>\n",
        "      <td> 2003</td>\n",
        "      <td> 2013</td>\n",
        "      <td> 0.000944</td>\n",
        "      <td> 0.000329</td>\n",
        "    </tr>\n",
        "    <tr>\n",
        "      <th>39797</th>\n",
        "      <td>    Jahmyah</td>\n",
        "      <td> F</td>\n",
        "      <td> 3</td>\n",
        "      <td> 2008</td>\n",
        "      <td> 2013</td>\n",
        "      <td> 0.000835</td>\n",
        "      <td> 0.000288</td>\n",
        "    </tr>\n",
        "    <tr>\n",
        "      <th>39803</th>\n",
        "      <td> Makinleigh</td>\n",
        "      <td> F</td>\n",
        "      <td> 3</td>\n",
        "      <td> 2010</td>\n",
        "      <td> 2013</td>\n",
        "      <td> 0.001028</td>\n",
        "      <td> 0.000403</td>\n",
        "    </tr>\n",
        "    <tr>\n",
        "      <th>39811</th>\n",
        "      <td>      Hewan</td>\n",
        "      <td> F</td>\n",
        "      <td> 3</td>\n",
        "      <td> 2004</td>\n",
        "      <td> 2013</td>\n",
        "      <td> 0.001369</td>\n",
        "      <td> 0.000530</td>\n",
        "    </tr>\n",
        "    <tr>\n",
        "      <th>39817</th>\n",
        "      <td>     Rhylen</td>\n",
        "      <td> F</td>\n",
        "      <td> 3</td>\n",
        "      <td> 2010</td>\n",
        "      <td> 2013</td>\n",
        "      <td> 0.001084</td>\n",
        "      <td> 0.000400</td>\n",
        "    </tr>\n",
        "    <tr>\n",
        "      <th>39821</th>\n",
        "      <td>     Zoeigh</td>\n",
        "      <td> F</td>\n",
        "      <td> 3</td>\n",
        "      <td> 2010</td>\n",
        "      <td> 2013</td>\n",
        "      <td> 0.001544</td>\n",
        "      <td> 0.000749</td>\n",
        "    </tr>\n",
        "  </tbody>\n",
        "</table>\n",
        "</div>"
       ],
       "metadata": {},
       "output_type": "pyout",
       "prompt_number": 4,
       "text": [
        "             name sex  year_count  year_min  year_max   pct_sum   pct_max\n",
        "39558      Chosen   F           3      2005      2013  0.001104  0.000437\n",
        "39559       Radia   F           3      2006      2013  0.000894  0.000345\n",
        "39562   Aubreyona   F           3      2007      2013  0.000948  0.000345\n",
        "39564     Quinlee   F           3      2010      2013  0.001198  0.000514\n",
        "39568    Yanielis   F           3      2008      2013  0.001165  0.000477\n",
        "39573      Zaidyn   F           3      2007      2013  0.001345  0.000576\n",
        "39581   Zakariyah   F           3      2011      2013  0.001087  0.000399\n",
        "39583     Jentrie   F           3      2002      2013  0.001064  0.000461\n",
        "39585     Dallyce   F           3      2011      2013  0.001547  0.000633\n",
        "39596      Dnylah   F           3      2011      2013  0.001373  0.000514\n",
        "39606     Janelee   F           3      2006      2013  0.000948  0.000345\n",
        "39610      Harlin   F           3      1999      2013  0.001021  0.000461\n",
        "39615    Addalyne   F           3      2010      2013  0.001368  0.000564\n",
        "39621     Mushtaq   F           3      2009      2013  0.000904  0.000345\n",
        "39622    Aleyshka   F           3      2005      2013  0.000889  0.000345\n",
        "39633   Nazariyah   F           3      2009      2013  0.000843  0.000288\n",
        "39639         Dim   F           3      2011      2013  0.002060  0.000913\n",
        "39642      Rakyla   F           3      2006      2013  0.000816  0.000288\n",
        "39645      Emerey   F           3      2006      2013  0.001005  0.000403\n",
        "39647      Rahmya   F           3      2004      2013  0.000821  0.000288\n",
        "39650      Izelle   F           3      2008      2013  0.001064  0.000461\n",
        "39653     Kaeloni   F           3      1988      2013  0.000886  0.000337\n",
        "39654     Amitiel   F           3      2010      2013  0.000913  0.000345\n",
        "39669     Azaelia   F           3      2010      2013  0.000913  0.000342\n",
        "39670     Jaelinn   F           3      2006      2013  0.000824  0.000288\n",
        "39671       Onora   F           3      2008      2013  0.000891  0.000318\n",
        "39677   Briarrose   F           3      2011      2013  0.001087  0.000400\n",
        "39685       Talei   F           3      2007      2013  0.000945  0.000345\n",
        "39688       Zuhey   F           3      2004      2013  0.000929  0.000369\n",
        "39690        Yoyo   F           3      2007      2013  0.001006  0.000403\n",
        "39693     Henslee   F           3      2011      2013  0.001489  0.000576\n",
        "39701   Huntleigh   F           3      2011      2013  0.001376  0.000691\n",
        "39710      Maylah   F           3      2006      2013  0.000947  0.000345\n",
        "39715      Zafina   F           3      2010      2013  0.000913  0.000345\n",
        "39737    Khennedi   F           3      2007      2013  0.001056  0.000508\n",
        "39738      Advita   F           3      2009      2013  0.000846  0.000288\n",
        "39741       Aevah   F           3      2011      2013  0.001547  0.000633\n",
        "39755     Anailah   F           3      2007      2013  0.001101  0.000576\n",
        "39760     Cedella   F           3      1924      2013  0.001200  0.000461\n",
        "39771    Breylynn   F           3      2007      2013  0.000931  0.000345\n",
        "39772    Alisiana   F           3      2008      2013  0.000997  0.000424\n",
        "39781      Deklyn   F           3      2011      2013  0.002120  0.000921\n",
        "39783       Yihan   F           3      2010      2013  0.001028  0.000403\n",
        "39785      Adelay   F           3      2009      2013  0.001125  0.000437\n",
        "39795       Arysa   F           3      2003      2013  0.000944  0.000329\n",
        "39797     Jahmyah   F           3      2008      2013  0.000835  0.000288\n",
        "39803  Makinleigh   F           3      2010      2013  0.001028  0.000403\n",
        "39811       Hewan   F           3      2004      2013  0.001369  0.000530\n",
        "39817      Rhylen   F           3      2010      2013  0.001084  0.000400\n",
        "39821      Zoeigh   F           3      2010      2013  0.001544  0.000749"
       ]
      }
     ],
     "prompt_number": 4
    },
    {
     "cell_type": "code",
     "collapsed": false,
     "input": [],
     "language": "python",
     "metadata": {},
     "outputs": []
    },
    {
     "cell_type": "code",
     "collapsed": false,
     "input": [],
     "language": "python",
     "metadata": {},
     "outputs": []
    },
    {
     "cell_type": "code",
     "collapsed": false,
     "input": [],
     "language": "python",
     "metadata": {},
     "outputs": []
    },
    {
     "cell_type": "raw",
     "metadata": {},
     "source": [
      "2. 'Reverse names': make a dataframe of names that are the reverse of each other, and/or that are the "
     ]
    },
    {
     "cell_type": "code",
     "collapsed": false,
     "input": [
      "\n",
      "print len(namelist)"
     ],
     "language": "python",
     "metadata": {},
     "outputs": [
      {
       "output_type": "stream",
       "stream": "stdout",
       "text": [
        "92600\n"
       ]
      }
     ],
     "prompt_number": 12
    },
    {
     "cell_type": "code",
     "collapsed": false,
     "input": [
      "temp = list(names.name.unique())\n",
      "namelist = []\n",
      "for name in temp:\n",
      "    namelist.append(name.lower())"
     ],
     "language": "python",
     "metadata": {},
     "outputs": [],
     "prompt_number": 11
    },
    {
     "cell_type": "raw",
     "metadata": {},
     "source": [
      "Keep - Long runtime, O(mn)/2 of 96,000 names finding pairs that are the reverse of each other\n",
      "\n",
      "temp = list(names.name.unique())\n",
      "namelist = []\n",
      "for name in temp:\n",
      "    namelist.append(name.lower())\n",
      "list1 = []\n",
      "list2 = []\n",
      "for i in range(len(namelist) - 1):\n",
      "    if i % 100 == 0: print i, \n",
      "    for j in range(i, len(namelist)):\n",
      "        if namelist[i] == namelist[j][::-1]:\n",
      "            list1.append(namelist[i])\n",
      "            list2.append(namelist[j])\n",
      "            print \"!\",\n",
      "for pos in range(len(list1)):\n",
      "    list1[pos] = list1[pos].capitalize()\n",
      "    list2[pos] = list2[pos].capitalize()\n",
      "backpairs = pd.DataFrame({'n1': list1, 'n2': list2})\n"
     ]
    },
    {
     "cell_type": "code",
     "collapsed": false,
     "input": [
      "backpairs = pd.DataFrame({'n1': list1, 'n2': list2})"
     ],
     "language": "python",
     "metadata": {},
     "outputs": [],
     "prompt_number": 53
    },
    {
     "cell_type": "code",
     "collapsed": false,
     "input": [
      "print namelist[3]"
     ],
     "language": "python",
     "metadata": {},
     "outputs": [
      {
       "output_type": "stream",
       "stream": "stdout",
       "text": [
        "georgiana\n"
       ]
      }
     ],
     "prompt_number": 63
    },
    {
     "cell_type": "code",
     "collapsed": false,
     "input": [
      "print backpairs.head()"
     ],
     "language": "python",
     "metadata": {},
     "outputs": [
      {
       "output_type": "stream",
       "stream": "stdout",
       "text": [
        "      n1     n2\n",
        "0   Ella   Alle\n",
        "1  Delia  Ailed\n",
        "2  Norah  Haron\n",
        "3   Emma   Amme\n",
        "4  Hanna  Annah\n"
       ]
      }
     ],
     "prompt_number": 54
    },
    {
     "cell_type": "code",
     "collapsed": false,
     "input": [
      "names[(names.name == 'Georgiana') & (names.sex == 'F')].pct_sum.iloc[0]"
     ],
     "language": "python",
     "metadata": {},
     "outputs": [
      {
       "metadata": {},
       "output_type": "pyout",
       "prompt_number": 31,
       "text": [
        "1.118720418316844"
       ]
      }
     ],
     "prompt_number": 31
    },
    {
     "cell_type": "code",
     "collapsed": false,
     "input": [
      "backpairs['pc1F'] = 0.0\n",
      "backpairs['pc1M'] = 0.0\n",
      "backpairs['pc2F'] = 0.0\n",
      "backpairs['pc2M'] = 0.0\n",
      "for idx, row in backpairs.iterrows():\n",
      "    try:\n",
      "        backpairs.pc1F[idx] = names[(names.name == backpairs.n1[idx]) & (names.sex == 'F')].pct_sum.iloc[0]\n",
      "    except:\n",
      "        pass\n",
      "    try:\n",
      "        backpairs.pc1M[idx] = names[(names.name == backpairs.n1[idx]) & (names.sex == 'M')].pct_sum.iloc[0]\n",
      "    except:\n",
      "        pass\n",
      "    try:\n",
      "        backpairs.pc2F[idx] = names[(names.name == backpairs.n2[idx]) & (names.sex == 'F')].pct_sum.iloc[0]\n",
      "    except:\n",
      "        pass\n",
      "    try:\n",
      "        backpairs.pc2M[idx] = names[(names.name == backpairs.n2[idx]) & (names.sex == 'M')].pct_sum.iloc[0]\n",
      "    except:\n",
      "        pass\n",
      "backpairs.to_pickle('backpairs.pickle')"
     ],
     "language": "python",
     "metadata": {},
     "outputs": [],
     "prompt_number": 58
    },
    {
     "cell_type": "code",
     "collapsed": false,
     "input": [
      "backpairs.head(50)"
     ],
     "language": "python",
     "metadata": {},
     "outputs": [
      {
       "html": [
        "<div style=\"max-height:1000px;max-width:1500px;overflow:auto;\">\n",
        "<table border=\"1\" class=\"dataframe\">\n",
        "  <thead>\n",
        "    <tr style=\"text-align: right;\">\n",
        "      <th></th>\n",
        "      <th>n1</th>\n",
        "      <th>n2</th>\n",
        "      <th>pc1F</th>\n",
        "      <th>pc1M</th>\n",
        "      <th>pc2F</th>\n",
        "      <th>pc2M</th>\n",
        "    </tr>\n",
        "  </thead>\n",
        "  <tbody>\n",
        "    <tr>\n",
        "      <th>0 </th>\n",
        "      <td>    Ella</td>\n",
        "      <td>    Alle</td>\n",
        "      <td>  39.406650</td>\n",
        "      <td>   0.189704</td>\n",
        "      <td>   0.008014</td>\n",
        "      <td> 0.000000</td>\n",
        "    </tr>\n",
        "    <tr>\n",
        "      <th>1 </th>\n",
        "      <td>   Delia</td>\n",
        "      <td>   Ailed</td>\n",
        "      <td>   4.716709</td>\n",
        "      <td>   0.004695</td>\n",
        "      <td>   0.011281</td>\n",
        "      <td> 0.000000</td>\n",
        "    </tr>\n",
        "    <tr>\n",
        "      <th>2 </th>\n",
        "      <td>   Norah</td>\n",
        "      <td>   Haron</td>\n",
        "      <td>   0.904658</td>\n",
        "      <td>   0.009855</td>\n",
        "      <td>   0.000000</td>\n",
        "      <td> 0.006573</td>\n",
        "    </tr>\n",
        "    <tr>\n",
        "      <th>3 </th>\n",
        "      <td>    Emma</td>\n",
        "      <td>    Amme</td>\n",
        "      <td>  74.434629</td>\n",
        "      <td>   0.369364</td>\n",
        "      <td>   0.002992</td>\n",
        "      <td> 0.000000</td>\n",
        "    </tr>\n",
        "    <tr>\n",
        "      <th>4 </th>\n",
        "      <td>   Hanna</td>\n",
        "      <td>   Annah</td>\n",
        "      <td>   2.341303</td>\n",
        "      <td>   0.006007</td>\n",
        "      <td>   0.108297</td>\n",
        "      <td> 0.000000</td>\n",
        "    </tr>\n",
        "    <tr>\n",
        "      <th>5 </th>\n",
        "      <td>   Irene</td>\n",
        "      <td>   Eneri</td>\n",
        "      <td>  43.514555</td>\n",
        "      <td>   0.233474</td>\n",
        "      <td>   0.000365</td>\n",
        "      <td> 0.000000</td>\n",
        "    </tr>\n",
        "    <tr>\n",
        "      <th>6 </th>\n",
        "      <td>     Eve</td>\n",
        "      <td>     Eve</td>\n",
        "      <td>   1.656652</td>\n",
        "      <td>   0.000000</td>\n",
        "      <td>   1.656652</td>\n",
        "      <td> 0.000000</td>\n",
        "    </tr>\n",
        "    <tr>\n",
        "      <th>7 </th>\n",
        "      <td>     Eva</td>\n",
        "      <td>     Ave</td>\n",
        "      <td>  37.156277</td>\n",
        "      <td>   0.202040</td>\n",
        "      <td>   0.044759</td>\n",
        "      <td> 0.000000</td>\n",
        "    </tr>\n",
        "    <tr>\n",
        "      <th>8 </th>\n",
        "      <td>    Neva</td>\n",
        "      <td>    Aven</td>\n",
        "      <td>   2.716834</td>\n",
        "      <td>   0.000592</td>\n",
        "      <td>   0.047590</td>\n",
        "      <td> 0.066386</td>\n",
        "    </tr>\n",
        "    <tr>\n",
        "      <th>9 </th>\n",
        "      <td>   Lenna</td>\n",
        "      <td>   Annel</td>\n",
        "      <td>   0.574621</td>\n",
        "      <td>   0.000000</td>\n",
        "      <td>   0.027603</td>\n",
        "      <td> 0.000000</td>\n",
        "    </tr>\n",
        "    <tr>\n",
        "      <th>10</th>\n",
        "      <td>  Nellie</td>\n",
        "      <td>  Eillen</td>\n",
        "      <td>  33.593051</td>\n",
        "      <td>   0.220168</td>\n",
        "      <td>   0.002190</td>\n",
        "      <td> 0.000000</td>\n",
        "    </tr>\n",
        "    <tr>\n",
        "      <th>11</th>\n",
        "      <td>   Hilda</td>\n",
        "      <td>   Adlih</td>\n",
        "      <td>  11.181564</td>\n",
        "      <td>   0.020149</td>\n",
        "      <td>   0.001071</td>\n",
        "      <td> 0.000000</td>\n",
        "    </tr>\n",
        "    <tr>\n",
        "      <th>12</th>\n",
        "      <td>    Lena</td>\n",
        "      <td>    Anel</td>\n",
        "      <td>  25.027737</td>\n",
        "      <td>   0.072428</td>\n",
        "      <td>   0.099166</td>\n",
        "      <td> 0.012793</td>\n",
        "    </tr>\n",
        "    <tr>\n",
        "      <th>13</th>\n",
        "      <td>   Helen</td>\n",
        "      <td>   Neleh</td>\n",
        "      <td> 129.574749</td>\n",
        "      <td>   0.587530</td>\n",
        "      <td>   0.005575</td>\n",
        "      <td> 0.000000</td>\n",
        "    </tr>\n",
        "    <tr>\n",
        "      <th>14</th>\n",
        "      <td>     Ila</td>\n",
        "      <td>     Ali</td>\n",
        "      <td>   2.882348</td>\n",
        "      <td>   0.005867</td>\n",
        "      <td>   0.513351</td>\n",
        "      <td> 1.131673</td>\n",
        "    </tr>\n",
        "    <tr>\n",
        "      <th>15</th>\n",
        "      <td>   Alida</td>\n",
        "      <td>   Adila</td>\n",
        "      <td>   0.586786</td>\n",
        "      <td>   0.000000</td>\n",
        "      <td>   0.001388</td>\n",
        "      <td> 0.000000</td>\n",
        "    </tr>\n",
        "    <tr>\n",
        "      <th>16</th>\n",
        "      <td>     Iva</td>\n",
        "      <td>     Avi</td>\n",
        "      <td>   7.280381</td>\n",
        "      <td>   0.120078</td>\n",
        "      <td>   0.019964</td>\n",
        "      <td> 0.154743</td>\n",
        "    </tr>\n",
        "    <tr>\n",
        "      <th>17</th>\n",
        "      <td>    Vida</td>\n",
        "      <td>    Adiv</td>\n",
        "      <td>   1.457215</td>\n",
        "      <td>   0.002338</td>\n",
        "      <td>   0.000000</td>\n",
        "      <td> 0.001021</td>\n",
        "    </tr>\n",
        "    <tr>\n",
        "      <th>18</th>\n",
        "      <td>     Ada</td>\n",
        "      <td>     Ada</td>\n",
        "      <td>  19.802283</td>\n",
        "      <td>   0.088749</td>\n",
        "      <td>  19.802283</td>\n",
        "      <td> 0.088749</td>\n",
        "    </tr>\n",
        "    <tr>\n",
        "      <th>19</th>\n",
        "      <td>   Olive</td>\n",
        "      <td>   Evilo</td>\n",
        "      <td>  10.495069</td>\n",
        "      <td>   0.083605</td>\n",
        "      <td>   0.000508</td>\n",
        "      <td> 0.000000</td>\n",
        "    </tr>\n",
        "    <tr>\n",
        "      <th>20</th>\n",
        "      <td>    Lida</td>\n",
        "      <td>    Adil</td>\n",
        "      <td>   1.337488</td>\n",
        "      <td>   0.000000</td>\n",
        "      <td>   0.000000</td>\n",
        "      <td> 0.055546</td>\n",
        "    </tr>\n",
        "    <tr>\n",
        "      <th>21</th>\n",
        "      <td>     Ara</td>\n",
        "      <td>     Ara</td>\n",
        "      <td>   0.447772</td>\n",
        "      <td>   0.080637</td>\n",
        "      <td>   0.447772</td>\n",
        "      <td> 0.080637</td>\n",
        "    </tr>\n",
        "    <tr>\n",
        "      <th>22</th>\n",
        "      <td>  Angela</td>\n",
        "      <td>  Alegna</td>\n",
        "      <td>  40.636487</td>\n",
        "      <td>   0.123754</td>\n",
        "      <td>   0.001966</td>\n",
        "      <td> 0.000000</td>\n",
        "    </tr>\n",
        "    <tr>\n",
        "      <th>23</th>\n",
        "      <td>    Nola</td>\n",
        "      <td>    Alon</td>\n",
        "      <td>   2.647095</td>\n",
        "      <td>   0.000810</td>\n",
        "      <td>   0.001316</td>\n",
        "      <td> 0.047849</td>\n",
        "    </tr>\n",
        "    <tr>\n",
        "      <th>24</th>\n",
        "      <td>    Lina</td>\n",
        "      <td>    Anil</td>\n",
        "      <td>   1.640679</td>\n",
        "      <td>   0.000271</td>\n",
        "      <td>   0.000000</td>\n",
        "      <td> 0.061636</td>\n",
        "    </tr>\n",
        "    <tr>\n",
        "      <th>25</th>\n",
        "      <td>    Irma</td>\n",
        "      <td>    Amri</td>\n",
        "      <td>   8.110799</td>\n",
        "      <td>   0.018835</td>\n",
        "      <td>   0.012598</td>\n",
        "      <td> 0.000000</td>\n",
        "    </tr>\n",
        "    <tr>\n",
        "      <th>26</th>\n",
        "      <td>   Maria</td>\n",
        "      <td>   Airam</td>\n",
        "      <td>  36.316826</td>\n",
        "      <td>   0.266592</td>\n",
        "      <td>   0.032623</td>\n",
        "      <td> 0.003734</td>\n",
        "    </tr>\n",
        "    <tr>\n",
        "      <th>27</th>\n",
        "      <td>   Adele</td>\n",
        "      <td>   Eleda</td>\n",
        "      <td>   4.615613</td>\n",
        "      <td>   0.003831</td>\n",
        "      <td>   0.002337</td>\n",
        "      <td> 0.000000</td>\n",
        "    </tr>\n",
        "    <tr>\n",
        "      <th>28</th>\n",
        "      <td>  Miriam</td>\n",
        "      <td>  Mairim</td>\n",
        "      <td>   8.917064</td>\n",
        "      <td>   0.017154</td>\n",
        "      <td>   0.005419</td>\n",
        "      <td> 0.000000</td>\n",
        "    </tr>\n",
        "    <tr>\n",
        "      <th>29</th>\n",
        "      <td>   Adela</td>\n",
        "      <td>   Aleda</td>\n",
        "      <td>   1.130846</td>\n",
        "      <td>   0.000000</td>\n",
        "      <td>   0.109629</td>\n",
        "      <td> 0.000000</td>\n",
        "    </tr>\n",
        "    <tr>\n",
        "      <th>30</th>\n",
        "      <td>    Lora</td>\n",
        "      <td>    Arol</td>\n",
        "      <td>   5.114306</td>\n",
        "      <td>   0.044547</td>\n",
        "      <td>   0.000000</td>\n",
        "      <td> 0.002954</td>\n",
        "    </tr>\n",
        "    <tr>\n",
        "      <th>31</th>\n",
        "      <td>    Sara</td>\n",
        "      <td>    Aras</td>\n",
        "      <td>  30.283768</td>\n",
        "      <td>   0.078646</td>\n",
        "      <td>   0.000000</td>\n",
        "      <td> 0.005589</td>\n",
        "    </tr>\n",
        "    <tr>\n",
        "      <th>32</th>\n",
        "      <td>   Janet</td>\n",
        "      <td>   Tenaj</td>\n",
        "      <td>  37.478849</td>\n",
        "      <td>   0.099495</td>\n",
        "      <td>   0.002050</td>\n",
        "      <td> 0.000000</td>\n",
        "    </tr>\n",
        "    <tr>\n",
        "      <th>33</th>\n",
        "      <td>  Robert</td>\n",
        "      <td>  Trebor</td>\n",
        "      <td>   1.635472</td>\n",
        "      <td> 398.274208</td>\n",
        "      <td>   0.000000</td>\n",
        "      <td> 0.024760</td>\n",
        "    </tr>\n",
        "    <tr>\n",
        "      <th>34</th>\n",
        "      <td>   Hazel</td>\n",
        "      <td>   Lezah</td>\n",
        "      <td>  37.095404</td>\n",
        "      <td>   0.506496</td>\n",
        "      <td>   0.000906</td>\n",
        "      <td> 0.000000</td>\n",
        "    </tr>\n",
        "    <tr>\n",
        "      <th>35</th>\n",
        "      <td> Eleanor</td>\n",
        "      <td> Ronaele</td>\n",
        "      <td>  28.439049</td>\n",
        "      <td>   0.069345</td>\n",
        "      <td>   0.001102</td>\n",
        "      <td> 0.000000</td>\n",
        "    </tr>\n",
        "    <tr>\n",
        "      <th>36</th>\n",
        "      <td>    Leda</td>\n",
        "      <td>    Adel</td>\n",
        "      <td>   0.433834</td>\n",
        "      <td>   0.000000</td>\n",
        "      <td>   0.119679</td>\n",
        "      <td> 0.056941</td>\n",
        "    </tr>\n",
        "    <tr>\n",
        "      <th>37</th>\n",
        "      <td>    Inez</td>\n",
        "      <td>    Zeni</td>\n",
        "      <td>  10.076441</td>\n",
        "      <td>   0.086689</td>\n",
        "      <td>   0.002187</td>\n",
        "      <td> 0.000000</td>\n",
        "    </tr>\n",
        "    <tr>\n",
        "      <th>38</th>\n",
        "      <td>    Anna</td>\n",
        "      <td>    Anna</td>\n",
        "      <td> 128.223636</td>\n",
        "      <td>   0.641454</td>\n",
        "      <td> 128.223636</td>\n",
        "      <td> 0.641454</td>\n",
        "    </tr>\n",
        "    <tr>\n",
        "      <th>39</th>\n",
        "      <td>    Anne</td>\n",
        "      <td>    Enna</td>\n",
        "      <td>  27.831841</td>\n",
        "      <td>   0.071334</td>\n",
        "      <td>   0.044281</td>\n",
        "      <td> 0.000000</td>\n",
        "    </tr>\n",
        "    <tr>\n",
        "      <th>40</th>\n",
        "      <td>   Diana</td>\n",
        "      <td>   Anaid</td>\n",
        "      <td>  21.019023</td>\n",
        "      <td>   0.071122</td>\n",
        "      <td>   0.020438</td>\n",
        "      <td> 0.000000</td>\n",
        "    </tr>\n",
        "    <tr>\n",
        "      <th>41</th>\n",
        "      <td>     Ina</td>\n",
        "      <td>     Ani</td>\n",
        "      <td>   5.395692</td>\n",
        "      <td>   0.005455</td>\n",
        "      <td>   0.126088</td>\n",
        "      <td> 0.000241</td>\n",
        "    </tr>\n",
        "    <tr>\n",
        "      <th>42</th>\n",
        "      <td>    Nora</td>\n",
        "      <td>    Aron</td>\n",
        "      <td>  18.529093</td>\n",
        "      <td>   0.175701</td>\n",
        "      <td>   0.021260</td>\n",
        "      <td> 1.330348</td>\n",
        "    </tr>\n",
        "    <tr>\n",
        "      <th>43</th>\n",
        "      <td>     Amy</td>\n",
        "      <td>     Yma</td>\n",
        "      <td>  45.120382</td>\n",
        "      <td>   0.106959</td>\n",
        "      <td>   0.001692</td>\n",
        "      <td> 0.000000</td>\n",
        "    </tr>\n",
        "    <tr>\n",
        "      <th>44</th>\n",
        "      <td>   James</td>\n",
        "      <td>   Semaj</td>\n",
        "      <td>   2.042211</td>\n",
        "      <td> 480.900042</td>\n",
        "      <td>   0.085842</td>\n",
        "      <td> 0.259212</td>\n",
        "    </tr>\n",
        "    <tr>\n",
        "      <th>45</th>\n",
        "      <td>   Eliza</td>\n",
        "      <td>   Azile</td>\n",
        "      <td>   6.781892</td>\n",
        "      <td>   0.025552</td>\n",
        "      <td>   0.011330</td>\n",
        "      <td> 0.000000</td>\n",
        "    </tr>\n",
        "    <tr>\n",
        "      <th>46</th>\n",
        "      <td>    Reba</td>\n",
        "      <td>    Aber</td>\n",
        "      <td>   3.704652</td>\n",
        "      <td>   0.006142</td>\n",
        "      <td>   0.000292</td>\n",
        "      <td> 0.000000</td>\n",
        "    </tr>\n",
        "    <tr>\n",
        "      <th>47</th>\n",
        "      <td>     Una</td>\n",
        "      <td>     Anu</td>\n",
        "      <td>   1.126460</td>\n",
        "      <td>   0.000000</td>\n",
        "      <td>   0.011756</td>\n",
        "      <td> 0.000515</td>\n",
        "    </tr>\n",
        "    <tr>\n",
        "      <th>48</th>\n",
        "      <td>     Ola</td>\n",
        "      <td>     Alo</td>\n",
        "      <td>   5.469373</td>\n",
        "      <td>   0.155363</td>\n",
        "      <td>   0.000000</td>\n",
        "      <td> 0.000374</td>\n",
        "    </tr>\n",
        "    <tr>\n",
        "      <th>49</th>\n",
        "      <td>     Ann</td>\n",
        "      <td>     Nna</td>\n",
        "      <td>  39.554144</td>\n",
        "      <td>   0.126599</td>\n",
        "      <td>   0.000460</td>\n",
        "      <td> 0.000000</td>\n",
        "    </tr>\n",
        "  </tbody>\n",
        "</table>\n",
        "</div>"
       ],
       "metadata": {},
       "output_type": "pyout",
       "prompt_number": 59,
       "text": [
        "         n1       n2        pc1F        pc1M        pc2F      pc2M\n",
        "0      Ella     Alle   39.406650    0.189704    0.008014  0.000000\n",
        "1     Delia    Ailed    4.716709    0.004695    0.011281  0.000000\n",
        "2     Norah    Haron    0.904658    0.009855    0.000000  0.006573\n",
        "3      Emma     Amme   74.434629    0.369364    0.002992  0.000000\n",
        "4     Hanna    Annah    2.341303    0.006007    0.108297  0.000000\n",
        "5     Irene    Eneri   43.514555    0.233474    0.000365  0.000000\n",
        "6       Eve      Eve    1.656652    0.000000    1.656652  0.000000\n",
        "7       Eva      Ave   37.156277    0.202040    0.044759  0.000000\n",
        "8      Neva     Aven    2.716834    0.000592    0.047590  0.066386\n",
        "9     Lenna    Annel    0.574621    0.000000    0.027603  0.000000\n",
        "10   Nellie   Eillen   33.593051    0.220168    0.002190  0.000000\n",
        "11    Hilda    Adlih   11.181564    0.020149    0.001071  0.000000\n",
        "12     Lena     Anel   25.027737    0.072428    0.099166  0.012793\n",
        "13    Helen    Neleh  129.574749    0.587530    0.005575  0.000000\n",
        "14      Ila      Ali    2.882348    0.005867    0.513351  1.131673\n",
        "15    Alida    Adila    0.586786    0.000000    0.001388  0.000000\n",
        "16      Iva      Avi    7.280381    0.120078    0.019964  0.154743\n",
        "17     Vida     Adiv    1.457215    0.002338    0.000000  0.001021\n",
        "18      Ada      Ada   19.802283    0.088749   19.802283  0.088749\n",
        "19    Olive    Evilo   10.495069    0.083605    0.000508  0.000000\n",
        "20     Lida     Adil    1.337488    0.000000    0.000000  0.055546\n",
        "21      Ara      Ara    0.447772    0.080637    0.447772  0.080637\n",
        "22   Angela   Alegna   40.636487    0.123754    0.001966  0.000000\n",
        "23     Nola     Alon    2.647095    0.000810    0.001316  0.047849\n",
        "24     Lina     Anil    1.640679    0.000271    0.000000  0.061636\n",
        "25     Irma     Amri    8.110799    0.018835    0.012598  0.000000\n",
        "26    Maria    Airam   36.316826    0.266592    0.032623  0.003734\n",
        "27    Adele    Eleda    4.615613    0.003831    0.002337  0.000000\n",
        "28   Miriam   Mairim    8.917064    0.017154    0.005419  0.000000\n",
        "29    Adela    Aleda    1.130846    0.000000    0.109629  0.000000\n",
        "30     Lora     Arol    5.114306    0.044547    0.000000  0.002954\n",
        "31     Sara     Aras   30.283768    0.078646    0.000000  0.005589\n",
        "32    Janet    Tenaj   37.478849    0.099495    0.002050  0.000000\n",
        "33   Robert   Trebor    1.635472  398.274208    0.000000  0.024760\n",
        "34    Hazel    Lezah   37.095404    0.506496    0.000906  0.000000\n",
        "35  Eleanor  Ronaele   28.439049    0.069345    0.001102  0.000000\n",
        "36     Leda     Adel    0.433834    0.000000    0.119679  0.056941\n",
        "37     Inez     Zeni   10.076441    0.086689    0.002187  0.000000\n",
        "38     Anna     Anna  128.223636    0.641454  128.223636  0.641454\n",
        "39     Anne     Enna   27.831841    0.071334    0.044281  0.000000\n",
        "40    Diana    Anaid   21.019023    0.071122    0.020438  0.000000\n",
        "41      Ina      Ani    5.395692    0.005455    0.126088  0.000241\n",
        "42     Nora     Aron   18.529093    0.175701    0.021260  1.330348\n",
        "43      Amy      Yma   45.120382    0.106959    0.001692  0.000000\n",
        "44    James    Semaj    2.042211  480.900042    0.085842  0.259212\n",
        "45    Eliza    Azile    6.781892    0.025552    0.011330  0.000000\n",
        "46     Reba     Aber    3.704652    0.006142    0.000292  0.000000\n",
        "47      Una      Anu    1.126460    0.000000    0.011756  0.000515\n",
        "48      Ola      Alo    5.469373    0.155363    0.000000  0.000374\n",
        "49      Ann      Nna   39.554144    0.126599    0.000460  0.000000"
       ]
      }
     ],
     "prompt_number": 59
    },
    {
     "cell_type": "code",
     "collapsed": false,
     "input": [],
     "language": "python",
     "metadata": {},
     "outputs": [],
     "prompt_number": 44
    },
    {
     "cell_type": "code",
     "collapsed": false,
     "input": [
      "names[names.name=='Arol'].head()"
     ],
     "language": "python",
     "metadata": {},
     "outputs": [
      {
       "html": [
        "<div style=\"max-height:1000px;max-width:1500px;overflow:auto;\">\n",
        "<table border=\"1\" class=\"dataframe\">\n",
        "  <thead>\n",
        "    <tr style=\"text-align: right;\">\n",
        "      <th></th>\n",
        "      <th>name</th>\n",
        "      <th>sex</th>\n",
        "      <th>year_count</th>\n",
        "      <th>year_min</th>\n",
        "      <th>year_max</th>\n",
        "      <th>pct_sum</th>\n",
        "      <th>pct_max</th>\n",
        "    </tr>\n",
        "  </thead>\n",
        "  <tbody>\n",
        "    <tr>\n",
        "      <th>86189</th>\n",
        "      <td> Arol</td>\n",
        "      <td> M</td>\n",
        "      <td> 5</td>\n",
        "      <td> 1917</td>\n",
        "      <td> 1935</td>\n",
        "      <td> 0.002954</td>\n",
        "      <td> 0.000816</td>\n",
        "    </tr>\n",
        "  </tbody>\n",
        "</table>\n",
        "</div>"
       ],
       "metadata": {},
       "output_type": "pyout",
       "prompt_number": 57,
       "text": [
        "       name sex  year_count  year_min  year_max   pct_sum   pct_max\n",
        "86189  Arol   M           5      1917      1935  0.002954  0.000816"
       ]
      }
     ],
     "prompt_number": 57
    },
    {
     "cell_type": "code",
     "collapsed": false,
     "input": [
      "wordlistfwd = []\n",
      "with open('eraseme/word_list_moby_crossword.flat.txt', 'r') as f:\n",
      "    for line in f:\n",
      "        wordlistfwd.append(line.strip())"
     ],
     "language": "python",
     "metadata": {},
     "outputs": [],
     "prompt_number": 1
    },
    {
     "cell_type": "code",
     "collapsed": false,
     "input": [
      "len(wordlistfwd)"
     ],
     "language": "python",
     "metadata": {},
     "outputs": [
      {
       "metadata": {},
       "output_type": "pyout",
       "prompt_number": 13,
       "text": [
        "113809"
       ]
      }
     ],
     "prompt_number": 13
    },
    {
     "cell_type": "code",
     "collapsed": false,
     "input": [
      "wordlistfwd[:100]"
     ],
     "language": "python",
     "metadata": {},
     "outputs": [
      {
       "metadata": {},
       "output_type": "pyout",
       "prompt_number": 14,
       "text": [
        "['aa',\n",
        " 'aah',\n",
        " 'aahed',\n",
        " 'aahing',\n",
        " 'aahs',\n",
        " 'aal',\n",
        " 'aalii',\n",
        " 'aaliis',\n",
        " 'aals',\n",
        " 'aardvark',\n",
        " 'aardvarks',\n",
        " 'aardwolf',\n",
        " 'aardwolves',\n",
        " 'aas',\n",
        " 'aasvogel',\n",
        " 'aasvogels',\n",
        " 'aba',\n",
        " 'abaca',\n",
        " 'abacas',\n",
        " 'abaci',\n",
        " 'aback',\n",
        " 'abacus',\n",
        " 'abacuses',\n",
        " 'abaft',\n",
        " 'abaka',\n",
        " 'abakas',\n",
        " 'abalone',\n",
        " 'abalones',\n",
        " 'abamp',\n",
        " 'abampere',\n",
        " 'abamperes',\n",
        " 'abamps',\n",
        " 'abandon',\n",
        " 'abandoned',\n",
        " 'abandoning',\n",
        " 'abandonment',\n",
        " 'abandonments',\n",
        " 'abandons',\n",
        " 'abas',\n",
        " 'abase',\n",
        " 'abased',\n",
        " 'abasedly',\n",
        " 'abasement',\n",
        " 'abasements',\n",
        " 'abaser',\n",
        " 'abasers',\n",
        " 'abases',\n",
        " 'abash',\n",
        " 'abashed',\n",
        " 'abashes',\n",
        " 'abashing',\n",
        " 'abasing',\n",
        " 'abatable',\n",
        " 'abate',\n",
        " 'abated',\n",
        " 'abatement',\n",
        " 'abatements',\n",
        " 'abater',\n",
        " 'abaters',\n",
        " 'abates',\n",
        " 'abating',\n",
        " 'abatis',\n",
        " 'abatises',\n",
        " 'abator',\n",
        " 'abators',\n",
        " 'abattis',\n",
        " 'abattises',\n",
        " 'abattoir',\n",
        " 'abattoirs',\n",
        " 'abaxial',\n",
        " 'abaxile',\n",
        " 'abbacies',\n",
        " 'abbacy',\n",
        " 'abbatial',\n",
        " 'abbe',\n",
        " 'abbes',\n",
        " 'abbess',\n",
        " 'abbesses',\n",
        " 'abbey',\n",
        " 'abbeys',\n",
        " 'abbot',\n",
        " 'abbotcies',\n",
        " 'abbotcy',\n",
        " 'abbots',\n",
        " 'abbreviate',\n",
        " 'abbreviated',\n",
        " 'abbreviates',\n",
        " 'abbreviating',\n",
        " 'abbreviation',\n",
        " 'abbreviations',\n",
        " 'abdicate',\n",
        " 'abdicated',\n",
        " 'abdicates',\n",
        " 'abdicating',\n",
        " 'abdication',\n",
        " 'abdications',\n",
        " 'abdomen',\n",
        " 'abdomens',\n",
        " 'abdomina',\n",
        " 'abdominal']"
       ]
      }
     ],
     "prompt_number": 14
    },
    {
     "cell_type": "code",
     "collapsed": false,
     "input": [
      "list4 = []\n",
      "for i in range(len(namelist)):\n",
      "    if i % 100 == 0: print i, \n",
      "    for word in wordlistfwd:\n",
      "        if namelist[i] == word:\n",
      "            list4.append(namelist[i])\n",
      "            print \"!\",\n",
      "for pos in range(len(list4)):\n",
      "    list4[pos] = list4[pos].capitalize()\n",
      "namefwddict = pd.DataFrame({'name': list3})\n",
      "namefwddict.to_pickle('eraseme/namefwddict.pickle')"
     ],
     "language": "python",
     "metadata": {},
     "outputs": [
      {
       "output_type": "stream",
       "stream": "stdout",
       "text": [
        "0 "
       ]
      },
      {
       "output_type": "stream",
       "stream": "stdout",
       "text": [
        "! "
       ]
      },
      {
       "output_type": "stream",
       "stream": "stdout",
       "text": [
        "! "
       ]
      },
      {
       "output_type": "stream",
       "stream": "stdout",
       "text": [
        "! "
       ]
      },
      {
       "output_type": "stream",
       "stream": "stdout",
       "text": [
        "! "
       ]
      },
      {
       "output_type": "stream",
       "stream": "stdout",
       "text": [
        "! "
       ]
      },
      {
       "output_type": "stream",
       "stream": "stdout",
       "text": [
        "! "
       ]
      },
      {
       "output_type": "stream",
       "stream": "stdout",
       "text": [
        "! "
       ]
      },
      {
       "output_type": "stream",
       "stream": "stdout",
       "text": [
        "! ! "
       ]
      },
      {
       "output_type": "stream",
       "stream": "stdout",
       "text": [
        "! "
       ]
      },
      {
       "output_type": "stream",
       "stream": "stdout",
       "text": [
        "! 100 "
       ]
      },
      {
       "output_type": "stream",
       "stream": "stdout",
       "text": [
        "! "
       ]
      },
      {
       "output_type": "stream",
       "stream": "stdout",
       "text": [
        "! ! "
       ]
      },
      {
       "output_type": "stream",
       "stream": "stdout",
       "text": [
        "! "
       ]
      },
      {
       "output_type": "stream",
       "stream": "stdout",
       "text": [
        "! "
       ]
      },
      {
       "output_type": "stream",
       "stream": "stdout",
       "text": [
        "! "
       ]
      },
      {
       "output_type": "stream",
       "stream": "stdout",
       "text": [
        "! ! ! "
       ]
      },
      {
       "output_type": "stream",
       "stream": "stdout",
       "text": [
        "! "
       ]
      },
      {
       "output_type": "stream",
       "stream": "stdout",
       "text": [
        "! ! "
       ]
      },
      {
       "output_type": "stream",
       "stream": "stdout",
       "text": [
        "! ! "
       ]
      },
      {
       "output_type": "stream",
       "stream": "stdout",
       "text": [
        "200 "
       ]
      },
      {
       "output_type": "stream",
       "stream": "stdout",
       "text": [
        "! ! "
       ]
      },
      {
       "output_type": "stream",
       "stream": "stdout",
       "text": [
        "! ! "
       ]
      },
      {
       "output_type": "stream",
       "stream": "stdout",
       "text": [
        "! ! "
       ]
      },
      {
       "output_type": "stream",
       "stream": "stdout",
       "text": [
        "! "
       ]
      },
      {
       "output_type": "stream",
       "stream": "stdout",
       "text": [
        "! ! "
       ]
      },
      {
       "output_type": "stream",
       "stream": "stdout",
       "text": [
        "! ! "
       ]
      },
      {
       "output_type": "stream",
       "stream": "stdout",
       "text": [
        "! "
       ]
      },
      {
       "output_type": "stream",
       "stream": "stdout",
       "text": [
        "! ! "
       ]
      },
      {
       "output_type": "stream",
       "stream": "stdout",
       "text": [
        "! ! "
       ]
      },
      {
       "output_type": "stream",
       "stream": "stdout",
       "text": [
        "! 300 ! "
       ]
      },
      {
       "output_type": "stream",
       "stream": "stdout",
       "text": [
        "! "
       ]
      },
      {
       "output_type": "stream",
       "stream": "stdout",
       "text": [
        "! "
       ]
      },
      {
       "output_type": "stream",
       "stream": "stdout",
       "text": [
        "! "
       ]
      },
      {
       "output_type": "stream",
       "stream": "stdout",
       "text": [
        "! "
       ]
      },
      {
       "output_type": "stream",
       "stream": "stdout",
       "text": [
        "! ! "
       ]
      },
      {
       "output_type": "stream",
       "stream": "stdout",
       "text": [
        "! "
       ]
      },
      {
       "output_type": "stream",
       "stream": "stdout",
       "text": [
        "! "
       ]
      },
      {
       "output_type": "stream",
       "stream": "stdout",
       "text": [
        "! ! "
       ]
      },
      {
       "output_type": "stream",
       "stream": "stdout",
       "text": [
        "! "
       ]
      },
      {
       "output_type": "stream",
       "stream": "stdout",
       "text": [
        "! "
       ]
      },
      {
       "output_type": "stream",
       "stream": "stdout",
       "text": [
        "! "
       ]
      },
      {
       "output_type": "stream",
       "stream": "stdout",
       "text": [
        "! ! ! "
       ]
      },
      {
       "output_type": "stream",
       "stream": "stdout",
       "text": [
        "! "
       ]
      },
      {
       "output_type": "stream",
       "stream": "stdout",
       "text": [
        "! "
       ]
      },
      {
       "output_type": "stream",
       "stream": "stdout",
       "text": [
        "400 ! "
       ]
      },
      {
       "output_type": "stream",
       "stream": "stdout",
       "text": [
        "! "
       ]
      },
      {
       "output_type": "stream",
       "stream": "stdout",
       "text": [
        "! ! "
       ]
      },
      {
       "output_type": "stream",
       "stream": "stdout",
       "text": [
        "! ! "
       ]
      },
      {
       "output_type": "stream",
       "stream": "stdout",
       "text": [
        "! "
       ]
      },
      {
       "output_type": "stream",
       "stream": "stdout",
       "text": [
        "! "
       ]
      },
      {
       "output_type": "stream",
       "stream": "stdout",
       "text": [
        "! ! "
       ]
      },
      {
       "output_type": "stream",
       "stream": "stdout",
       "text": [
        "! ! "
       ]
      },
      {
       "output_type": "stream",
       "stream": "stdout",
       "text": [
        "! ! "
       ]
      },
      {
       "output_type": "stream",
       "stream": "stdout",
       "text": [
        "! "
       ]
      },
      {
       "output_type": "stream",
       "stream": "stdout",
       "text": [
        "! "
       ]
      },
      {
       "output_type": "stream",
       "stream": "stdout",
       "text": [
        "! "
       ]
      },
      {
       "output_type": "stream",
       "stream": "stdout",
       "text": [
        "! ! "
       ]
      },
      {
       "output_type": "stream",
       "stream": "stdout",
       "text": [
        "! ! "
       ]
      },
      {
       "output_type": "stream",
       "stream": "stdout",
       "text": [
        "500 ! "
       ]
      },
      {
       "output_type": "stream",
       "stream": "stdout",
       "text": [
        "! "
       ]
      },
      {
       "output_type": "stream",
       "stream": "stdout",
       "text": [
        "! ! "
       ]
      },
      {
       "output_type": "stream",
       "stream": "stdout",
       "text": [
        "! "
       ]
      },
      {
       "output_type": "stream",
       "stream": "stdout",
       "text": [
        "! "
       ]
      },
      {
       "output_type": "stream",
       "stream": "stdout",
       "text": [
        "! "
       ]
      },
      {
       "output_type": "stream",
       "stream": "stdout",
       "text": [
        "! ! "
       ]
      },
      {
       "output_type": "stream",
       "stream": "stdout",
       "text": [
        "! ! "
       ]
      },
      {
       "output_type": "stream",
       "stream": "stdout",
       "text": [
        "600 "
       ]
      },
      {
       "output_type": "stream",
       "stream": "stdout",
       "text": [
        "! "
       ]
      },
      {
       "output_type": "stream",
       "stream": "stdout",
       "text": [
        "! "
       ]
      },
      {
       "output_type": "stream",
       "stream": "stdout",
       "text": [
        "! ! ! "
       ]
      },
      {
       "output_type": "stream",
       "stream": "stdout",
       "text": [
        "! "
       ]
      },
      {
       "output_type": "stream",
       "stream": "stdout",
       "text": [
        "! ! ! "
       ]
      },
      {
       "output_type": "stream",
       "stream": "stdout",
       "text": [
        "! "
       ]
      },
      {
       "output_type": "stream",
       "stream": "stdout",
       "text": [
        "! "
       ]
      },
      {
       "output_type": "stream",
       "stream": "stdout",
       "text": [
        "! ! "
       ]
      },
      {
       "output_type": "stream",
       "stream": "stdout",
       "text": [
        "! "
       ]
      },
      {
       "output_type": "stream",
       "stream": "stdout",
       "text": [
        "! ! "
       ]
      },
      {
       "output_type": "stream",
       "stream": "stdout",
       "text": [
        "! "
       ]
      },
      {
       "output_type": "stream",
       "stream": "stdout",
       "text": [
        "! 700 ! "
       ]
      },
      {
       "output_type": "stream",
       "stream": "stdout",
       "text": [
        "! ! "
       ]
      },
      {
       "output_type": "stream",
       "stream": "stdout",
       "text": [
        "! "
       ]
      },
      {
       "output_type": "stream",
       "stream": "stdout",
       "text": [
        "! ! "
       ]
      },
      {
       "output_type": "stream",
       "stream": "stdout",
       "text": [
        "! "
       ]
      },
      {
       "output_type": "stream",
       "stream": "stdout",
       "text": [
        "! "
       ]
      },
      {
       "output_type": "stream",
       "stream": "stdout",
       "text": [
        "! "
       ]
      },
      {
       "output_type": "stream",
       "stream": "stdout",
       "text": [
        "! ! ! "
       ]
      },
      {
       "output_type": "stream",
       "stream": "stdout",
       "text": [
        "! "
       ]
      },
      {
       "output_type": "stream",
       "stream": "stdout",
       "text": [
        "! ! "
       ]
      },
      {
       "output_type": "stream",
       "stream": "stdout",
       "text": [
        "! 800 ! "
       ]
      },
      {
       "output_type": "stream",
       "stream": "stdout",
       "text": [
        "! "
       ]
      },
      {
       "output_type": "stream",
       "stream": "stdout",
       "text": [
        "! ! "
       ]
      },
      {
       "output_type": "stream",
       "stream": "stdout",
       "text": [
        "! "
       ]
      },
      {
       "output_type": "stream",
       "stream": "stdout",
       "text": [
        "! ! "
       ]
      },
      {
       "output_type": "stream",
       "stream": "stdout",
       "text": [
        "! ! ! "
       ]
      },
      {
       "output_type": "stream",
       "stream": "stdout",
       "text": [
        "! "
       ]
      },
      {
       "output_type": "stream",
       "stream": "stdout",
       "text": [
        "! "
       ]
      },
      {
       "output_type": "stream",
       "stream": "stdout",
       "text": [
        "! ! "
       ]
      },
      {
       "output_type": "stream",
       "stream": "stdout",
       "text": [
        "! "
       ]
      },
      {
       "output_type": "stream",
       "stream": "stdout",
       "text": [
        "! "
       ]
      },
      {
       "output_type": "stream",
       "stream": "stdout",
       "text": [
        "900 "
       ]
      },
      {
       "output_type": "stream",
       "stream": "stdout",
       "text": [
        "! "
       ]
      },
      {
       "output_type": "stream",
       "stream": "stdout",
       "text": [
        "! "
       ]
      },
      {
       "output_type": "stream",
       "stream": "stdout",
       "text": [
        "! "
       ]
      },
      {
       "output_type": "stream",
       "stream": "stdout",
       "text": [
        "! ! "
       ]
      },
      {
       "output_type": "stream",
       "stream": "stdout",
       "text": [
        "! "
       ]
      },
      {
       "output_type": "stream",
       "stream": "stdout",
       "text": [
        "! "
       ]
      },
      {
       "output_type": "stream",
       "stream": "stdout",
       "text": [
        "! "
       ]
      },
      {
       "output_type": "stream",
       "stream": "stdout",
       "text": [
        "! "
       ]
      },
      {
       "output_type": "stream",
       "stream": "stdout",
       "text": [
        "! ! ! "
       ]
      },
      {
       "output_type": "stream",
       "stream": "stdout",
       "text": [
        "! "
       ]
      },
      {
       "output_type": "stream",
       "stream": "stdout",
       "text": [
        "1000 "
       ]
      },
      {
       "output_type": "stream",
       "stream": "stdout",
       "text": [
        "! "
       ]
      },
      {
       "output_type": "stream",
       "stream": "stdout",
       "text": [
        "! "
       ]
      },
      {
       "output_type": "stream",
       "stream": "stdout",
       "text": [
        "! ! "
       ]
      },
      {
       "output_type": "stream",
       "stream": "stdout",
       "text": [
        "! "
       ]
      },
      {
       "output_type": "stream",
       "stream": "stdout",
       "text": [
        "! "
       ]
      },
      {
       "output_type": "stream",
       "stream": "stdout",
       "text": [
        "! "
       ]
      },
      {
       "output_type": "stream",
       "stream": "stdout",
       "text": [
        "! ! "
       ]
      },
      {
       "output_type": "stream",
       "stream": "stdout",
       "text": [
        "! "
       ]
      },
      {
       "output_type": "stream",
       "stream": "stdout",
       "text": [
        "! "
       ]
      },
      {
       "output_type": "stream",
       "stream": "stdout",
       "text": [
        "! "
       ]
      },
      {
       "output_type": "stream",
       "stream": "stdout",
       "text": [
        "! "
       ]
      },
      {
       "output_type": "stream",
       "stream": "stdout",
       "text": [
        "1100 ! ! ! "
       ]
      },
      {
       "output_type": "stream",
       "stream": "stdout",
       "text": [
        "! ! "
       ]
      },
      {
       "output_type": "stream",
       "stream": "stdout",
       "text": [
        "! "
       ]
      },
      {
       "output_type": "stream",
       "stream": "stdout",
       "text": [
        "! ! "
       ]
      },
      {
       "output_type": "stream",
       "stream": "stdout",
       "text": [
        "! "
       ]
      },
      {
       "output_type": "stream",
       "stream": "stdout",
       "text": [
        "! ! "
       ]
      },
      {
       "output_type": "stream",
       "stream": "stdout",
       "text": [
        "! "
       ]
      },
      {
       "output_type": "stream",
       "stream": "stdout",
       "text": [
        "! "
       ]
      },
      {
       "output_type": "stream",
       "stream": "stdout",
       "text": [
        "! 1200 "
       ]
      },
      {
       "output_type": "stream",
       "stream": "stdout",
       "text": [
        "! ! "
       ]
      },
      {
       "output_type": "stream",
       "stream": "stdout",
       "text": [
        "! "
       ]
      },
      {
       "output_type": "stream",
       "stream": "stdout",
       "text": [
        "! "
       ]
      },
      {
       "output_type": "stream",
       "stream": "stdout",
       "text": [
        "! "
       ]
      },
      {
       "output_type": "stream",
       "stream": "stdout",
       "text": [
        "! "
       ]
      },
      {
       "output_type": "stream",
       "stream": "stdout",
       "text": [
        "! ! "
       ]
      },
      {
       "output_type": "stream",
       "stream": "stdout",
       "text": [
        "! "
       ]
      },
      {
       "output_type": "stream",
       "stream": "stdout",
       "text": [
        "! 1300 "
       ]
      },
      {
       "output_type": "stream",
       "stream": "stdout",
       "text": [
        "! "
       ]
      },
      {
       "output_type": "stream",
       "stream": "stdout",
       "text": [
        "! ! "
       ]
      },
      {
       "output_type": "stream",
       "stream": "stdout",
       "text": [
        "! "
       ]
      },
      {
       "output_type": "stream",
       "stream": "stdout",
       "text": [
        "! "
       ]
      },
      {
       "output_type": "stream",
       "stream": "stdout",
       "text": [
        "! "
       ]
      },
      {
       "output_type": "stream",
       "stream": "stdout",
       "text": [
        "! ! "
       ]
      },
      {
       "output_type": "stream",
       "stream": "stdout",
       "text": [
        "! "
       ]
      },
      {
       "output_type": "stream",
       "stream": "stdout",
       "text": [
        "! "
       ]
      },
      {
       "output_type": "stream",
       "stream": "stdout",
       "text": [
        "! "
       ]
      },
      {
       "output_type": "stream",
       "stream": "stdout",
       "text": [
        "! ! "
       ]
      },
      {
       "output_type": "stream",
       "stream": "stdout",
       "text": [
        "1400 ! "
       ]
      },
      {
       "output_type": "stream",
       "stream": "stdout",
       "text": [
        "! ! "
       ]
      },
      {
       "output_type": "stream",
       "stream": "stdout",
       "text": [
        "! "
       ]
      },
      {
       "output_type": "stream",
       "stream": "stdout",
       "text": [
        "! ! "
       ]
      },
      {
       "output_type": "stream",
       "stream": "stdout",
       "text": [
        "! ! "
       ]
      },
      {
       "output_type": "stream",
       "stream": "stdout",
       "text": [
        "! "
       ]
      },
      {
       "output_type": "stream",
       "stream": "stdout",
       "text": [
        "! "
       ]
      },
      {
       "output_type": "stream",
       "stream": "stdout",
       "text": [
        "! "
       ]
      },
      {
       "output_type": "stream",
       "stream": "stdout",
       "text": [
        "! ! "
       ]
      },
      {
       "output_type": "stream",
       "stream": "stdout",
       "text": [
        "! "
       ]
      },
      {
       "output_type": "stream",
       "stream": "stdout",
       "text": [
        "1500 "
       ]
      },
      {
       "output_type": "stream",
       "stream": "stdout",
       "text": [
        "! ! "
       ]
      },
      {
       "output_type": "stream",
       "stream": "stdout",
       "text": [
        "! "
       ]
      },
      {
       "output_type": "stream",
       "stream": "stdout",
       "text": [
        "! ! ! ! "
       ]
      },
      {
       "output_type": "stream",
       "stream": "stdout",
       "text": [
        "! ! "
       ]
      },
      {
       "output_type": "stream",
       "stream": "stdout",
       "text": [
        "! "
       ]
      },
      {
       "output_type": "stream",
       "stream": "stdout",
       "text": [
        "! "
       ]
      },
      {
       "output_type": "stream",
       "stream": "stdout",
       "text": [
        "! "
       ]
      },
      {
       "output_type": "stream",
       "stream": "stdout",
       "text": [
        "! 1600 "
       ]
      },
      {
       "output_type": "stream",
       "stream": "stdout",
       "text": [
        "! "
       ]
      },
      {
       "output_type": "stream",
       "stream": "stdout",
       "text": [
        "! "
       ]
      },
      {
       "output_type": "stream",
       "stream": "stdout",
       "text": [
        "! "
       ]
      },
      {
       "output_type": "stream",
       "stream": "stdout",
       "text": [
        "! "
       ]
      },
      {
       "output_type": "stream",
       "stream": "stdout",
       "text": [
        "1700 ! "
       ]
      },
      {
       "output_type": "stream",
       "stream": "stdout",
       "text": [
        "! "
       ]
      },
      {
       "output_type": "stream",
       "stream": "stdout",
       "text": [
        "! "
       ]
      },
      {
       "output_type": "stream",
       "stream": "stdout",
       "text": [
        "! ! "
       ]
      },
      {
       "output_type": "stream",
       "stream": "stdout",
       "text": [
        "! "
       ]
      },
      {
       "output_type": "stream",
       "stream": "stdout",
       "text": [
        "! "
       ]
      },
      {
       "output_type": "stream",
       "stream": "stdout",
       "text": [
        "! "
       ]
      },
      {
       "output_type": "stream",
       "stream": "stdout",
       "text": [
        "! "
       ]
      },
      {
       "output_type": "stream",
       "stream": "stdout",
       "text": [
        "1800 "
       ]
      },
      {
       "output_type": "stream",
       "stream": "stdout",
       "text": [
        "! "
       ]
      },
      {
       "output_type": "stream",
       "stream": "stdout",
       "text": [
        "! ! "
       ]
      },
      {
       "output_type": "stream",
       "stream": "stdout",
       "text": [
        "! "
       ]
      },
      {
       "output_type": "stream",
       "stream": "stdout",
       "text": [
        "! "
       ]
      },
      {
       "output_type": "stream",
       "stream": "stdout",
       "text": [
        "! "
       ]
      },
      {
       "output_type": "stream",
       "stream": "stdout",
       "text": [
        "! "
       ]
      },
      {
       "output_type": "stream",
       "stream": "stdout",
       "text": [
        "! "
       ]
      },
      {
       "output_type": "stream",
       "stream": "stdout",
       "text": [
        "1900 ! "
       ]
      },
      {
       "output_type": "stream",
       "stream": "stdout",
       "text": [
        "! "
       ]
      },
      {
       "output_type": "stream",
       "stream": "stdout",
       "text": [
        "! "
       ]
      },
      {
       "output_type": "stream",
       "stream": "stdout",
       "text": [
        "! "
       ]
      },
      {
       "output_type": "stream",
       "stream": "stdout",
       "text": [
        "! ! "
       ]
      },
      {
       "output_type": "stream",
       "stream": "stdout",
       "text": [
        "! "
       ]
      },
      {
       "output_type": "stream",
       "stream": "stdout",
       "text": [
        "! "
       ]
      },
      {
       "output_type": "stream",
       "stream": "stdout",
       "text": [
        "! "
       ]
      },
      {
       "output_type": "stream",
       "stream": "stdout",
       "text": [
        "! "
       ]
      },
      {
       "output_type": "stream",
       "stream": "stdout",
       "text": [
        "! "
       ]
      },
      {
       "output_type": "stream",
       "stream": "stdout",
       "text": [
        "! ! "
       ]
      },
      {
       "output_type": "stream",
       "stream": "stdout",
       "text": [
        "! 2000 "
       ]
      },
      {
       "output_type": "stream",
       "stream": "stdout",
       "text": [
        "! ! "
       ]
      },
      {
       "output_type": "stream",
       "stream": "stdout",
       "text": [
        "! ! "
       ]
      },
      {
       "output_type": "stream",
       "stream": "stdout",
       "text": [
        "! "
       ]
      },
      {
       "output_type": "stream",
       "stream": "stdout",
       "text": [
        "! ! "
       ]
      },
      {
       "output_type": "stream",
       "stream": "stdout",
       "text": [
        "! "
       ]
      },
      {
       "output_type": "stream",
       "stream": "stdout",
       "text": [
        "! "
       ]
      },
      {
       "output_type": "stream",
       "stream": "stdout",
       "text": [
        "! "
       ]
      },
      {
       "output_type": "stream",
       "stream": "stdout",
       "text": [
        "! "
       ]
      },
      {
       "output_type": "stream",
       "stream": "stdout",
       "text": [
        "2100 ! "
       ]
      },
      {
       "output_type": "stream",
       "stream": "stdout",
       "text": [
        "! "
       ]
      },
      {
       "output_type": "stream",
       "stream": "stdout",
       "text": [
        "! ! "
       ]
      },
      {
       "output_type": "stream",
       "stream": "stdout",
       "text": [
        "! "
       ]
      },
      {
       "output_type": "stream",
       "stream": "stdout",
       "text": [
        "! "
       ]
      },
      {
       "output_type": "stream",
       "stream": "stdout",
       "text": [
        "2200 "
       ]
      },
      {
       "output_type": "stream",
       "stream": "stdout",
       "text": [
        "! ! "
       ]
      },
      {
       "output_type": "stream",
       "stream": "stdout",
       "text": [
        "! ! "
       ]
      },
      {
       "output_type": "stream",
       "stream": "stdout",
       "text": [
        "! "
       ]
      },
      {
       "output_type": "stream",
       "stream": "stdout",
       "text": [
        "! "
       ]
      },
      {
       "output_type": "stream",
       "stream": "stdout",
       "text": [
        "! "
       ]
      },
      {
       "output_type": "stream",
       "stream": "stdout",
       "text": [
        "! "
       ]
      },
      {
       "output_type": "stream",
       "stream": "stdout",
       "text": [
        "! "
       ]
      },
      {
       "output_type": "stream",
       "stream": "stdout",
       "text": [
        "! 2300 "
       ]
      },
      {
       "output_type": "stream",
       "stream": "stdout",
       "text": [
        "! "
       ]
      },
      {
       "output_type": "stream",
       "stream": "stdout",
       "text": [
        "! "
       ]
      },
      {
       "output_type": "stream",
       "stream": "stdout",
       "text": [
        "! "
       ]
      },
      {
       "output_type": "stream",
       "stream": "stdout",
       "text": [
        "! "
       ]
      },
      {
       "output_type": "stream",
       "stream": "stdout",
       "text": [
        "! ! "
       ]
      },
      {
       "output_type": "stream",
       "stream": "stdout",
       "text": [
        "! ! ! "
       ]
      },
      {
       "output_type": "stream",
       "stream": "stdout",
       "text": [
        "! "
       ]
      },
      {
       "output_type": "stream",
       "stream": "stdout",
       "text": [
        "2400 "
       ]
      },
      {
       "output_type": "stream",
       "stream": "stdout",
       "text": [
        "! "
       ]
      },
      {
       "output_type": "stream",
       "stream": "stdout",
       "text": [
        "! "
       ]
      },
      {
       "output_type": "stream",
       "stream": "stdout",
       "text": [
        "! "
       ]
      },
      {
       "output_type": "stream",
       "stream": "stdout",
       "text": [
        "! "
       ]
      },
      {
       "output_type": "stream",
       "stream": "stdout",
       "text": [
        "! "
       ]
      },
      {
       "output_type": "stream",
       "stream": "stdout",
       "text": [
        "! "
       ]
      },
      {
       "output_type": "stream",
       "stream": "stdout",
       "text": [
        "2500 "
       ]
      },
      {
       "output_type": "stream",
       "stream": "stdout",
       "text": [
        "! "
       ]
      },
      {
       "output_type": "stream",
       "stream": "stdout",
       "text": [
        "! "
       ]
      },
      {
       "output_type": "stream",
       "stream": "stdout",
       "text": [
        "! "
       ]
      },
      {
       "output_type": "stream",
       "stream": "stdout",
       "text": [
        "! "
       ]
      },
      {
       "output_type": "stream",
       "stream": "stdout",
       "text": [
        "! ! "
       ]
      },
      {
       "output_type": "stream",
       "stream": "stdout",
       "text": [
        "! "
       ]
      },
      {
       "output_type": "stream",
       "stream": "stdout",
       "text": [
        "! "
       ]
      },
      {
       "output_type": "stream",
       "stream": "stdout",
       "text": [
        "! "
       ]
      },
      {
       "output_type": "stream",
       "stream": "stdout",
       "text": [
        "2600 ! "
       ]
      },
      {
       "output_type": "stream",
       "stream": "stdout",
       "text": [
        "! "
       ]
      },
      {
       "output_type": "stream",
       "stream": "stdout",
       "text": [
        "! "
       ]
      },
      {
       "output_type": "stream",
       "stream": "stdout",
       "text": [
        "! "
       ]
      },
      {
       "output_type": "stream",
       "stream": "stdout",
       "text": [
        "! "
       ]
      },
      {
       "output_type": "stream",
       "stream": "stdout",
       "text": [
        "! "
       ]
      },
      {
       "output_type": "stream",
       "stream": "stdout",
       "text": [
        "! "
       ]
      },
      {
       "output_type": "stream",
       "stream": "stdout",
       "text": [
        "! "
       ]
      },
      {
       "output_type": "stream",
       "stream": "stdout",
       "text": [
        "! 2700 "
       ]
      },
      {
       "output_type": "stream",
       "stream": "stdout",
       "text": [
        "! "
       ]
      },
      {
       "output_type": "stream",
       "stream": "stdout",
       "text": [
        "! "
       ]
      },
      {
       "output_type": "stream",
       "stream": "stdout",
       "text": [
        "! "
       ]
      },
      {
       "output_type": "stream",
       "stream": "stdout",
       "text": [
        "! "
       ]
      },
      {
       "output_type": "stream",
       "stream": "stdout",
       "text": [
        "! "
       ]
      },
      {
       "output_type": "stream",
       "stream": "stdout",
       "text": [
        "! "
       ]
      },
      {
       "output_type": "stream",
       "stream": "stdout",
       "text": [
        "! "
       ]
      },
      {
       "output_type": "stream",
       "stream": "stdout",
       "text": [
        "! "
       ]
      },
      {
       "output_type": "stream",
       "stream": "stdout",
       "text": [
        "2800 "
       ]
      },
      {
       "output_type": "stream",
       "stream": "stdout",
       "text": [
        "! "
       ]
      },
      {
       "output_type": "stream",
       "stream": "stdout",
       "text": [
        "! "
       ]
      },
      {
       "output_type": "stream",
       "stream": "stdout",
       "text": [
        "! "
       ]
      },
      {
       "output_type": "stream",
       "stream": "stdout",
       "text": [
        "! "
       ]
      },
      {
       "output_type": "stream",
       "stream": "stdout",
       "text": [
        "! "
       ]
      },
      {
       "output_type": "stream",
       "stream": "stdout",
       "text": [
        "2900 "
       ]
      },
      {
       "output_type": "stream",
       "stream": "stdout",
       "text": [
        "! ! "
       ]
      },
      {
       "output_type": "stream",
       "stream": "stdout",
       "text": [
        "! "
       ]
      },
      {
       "output_type": "stream",
       "stream": "stdout",
       "text": [
        "! "
       ]
      },
      {
       "output_type": "stream",
       "stream": "stdout",
       "text": [
        "! ! "
       ]
      },
      {
       "output_type": "stream",
       "stream": "stdout",
       "text": [
        "! ! "
       ]
      },
      {
       "output_type": "stream",
       "stream": "stdout",
       "text": [
        "3000 "
       ]
      },
      {
       "output_type": "stream",
       "stream": "stdout",
       "text": [
        "! "
       ]
      },
      {
       "output_type": "stream",
       "stream": "stdout",
       "text": [
        "! "
       ]
      },
      {
       "output_type": "stream",
       "stream": "stdout",
       "text": [
        "! "
       ]
      },
      {
       "output_type": "stream",
       "stream": "stdout",
       "text": [
        "! "
       ]
      },
      {
       "output_type": "stream",
       "stream": "stdout",
       "text": [
        "! "
       ]
      },
      {
       "output_type": "stream",
       "stream": "stdout",
       "text": [
        "! "
       ]
      },
      {
       "output_type": "stream",
       "stream": "stdout",
       "text": [
        "! "
       ]
      },
      {
       "output_type": "stream",
       "stream": "stdout",
       "text": [
        "! "
       ]
      },
      {
       "output_type": "stream",
       "stream": "stdout",
       "text": [
        "! "
       ]
      },
      {
       "output_type": "stream",
       "stream": "stdout",
       "text": [
        "! "
       ]
      },
      {
       "output_type": "stream",
       "stream": "stdout",
       "text": [
        "! 3100 "
       ]
      },
      {
       "output_type": "stream",
       "stream": "stdout",
       "text": [
        "! "
       ]
      },
      {
       "output_type": "stream",
       "stream": "stdout",
       "text": [
        "! "
       ]
      },
      {
       "output_type": "stream",
       "stream": "stdout",
       "text": [
        "! "
       ]
      },
      {
       "output_type": "stream",
       "stream": "stdout",
       "text": [
        "! "
       ]
      },
      {
       "output_type": "stream",
       "stream": "stdout",
       "text": [
        "! "
       ]
      },
      {
       "output_type": "stream",
       "stream": "stdout",
       "text": [
        "! "
       ]
      },
      {
       "output_type": "stream",
       "stream": "stdout",
       "text": [
        "! "
       ]
      },
      {
       "output_type": "stream",
       "stream": "stdout",
       "text": [
        "! "
       ]
      },
      {
       "output_type": "stream",
       "stream": "stdout",
       "text": [
        "! ! "
       ]
      },
      {
       "output_type": "stream",
       "stream": "stdout",
       "text": [
        "! "
       ]
      },
      {
       "output_type": "stream",
       "stream": "stdout",
       "text": [
        "! 3200 "
       ]
      },
      {
       "output_type": "stream",
       "stream": "stdout",
       "text": [
        "! "
       ]
      },
      {
       "output_type": "stream",
       "stream": "stdout",
       "text": [
        "3300 "
       ]
      },
      {
       "output_type": "stream",
       "stream": "stdout",
       "text": [
        "! ! "
       ]
      },
      {
       "output_type": "stream",
       "stream": "stdout",
       "text": [
        "! "
       ]
      },
      {
       "output_type": "stream",
       "stream": "stdout",
       "text": [
        "! "
       ]
      },
      {
       "output_type": "stream",
       "stream": "stdout",
       "text": [
        "3400 "
       ]
      },
      {
       "output_type": "stream",
       "stream": "stdout",
       "text": [
        "! "
       ]
      },
      {
       "output_type": "stream",
       "stream": "stdout",
       "text": [
        "! "
       ]
      },
      {
       "output_type": "stream",
       "stream": "stdout",
       "text": [
        "! "
       ]
      },
      {
       "output_type": "stream",
       "stream": "stdout",
       "text": [
        "! "
       ]
      },
      {
       "output_type": "stream",
       "stream": "stdout",
       "text": [
        "! "
       ]
      },
      {
       "output_type": "stream",
       "stream": "stdout",
       "text": [
        "! "
       ]
      },
      {
       "output_type": "stream",
       "stream": "stdout",
       "text": [
        "! "
       ]
      },
      {
       "output_type": "stream",
       "stream": "stdout",
       "text": [
        "! 3500 "
       ]
      },
      {
       "output_type": "stream",
       "stream": "stdout",
       "text": [
        "! "
       ]
      },
      {
       "output_type": "stream",
       "stream": "stdout",
       "text": [
        "! "
       ]
      },
      {
       "output_type": "stream",
       "stream": "stdout",
       "text": [
        "! ! "
       ]
      },
      {
       "output_type": "stream",
       "stream": "stdout",
       "text": [
        "! "
       ]
      },
      {
       "output_type": "stream",
       "stream": "stdout",
       "text": [
        "! ! "
       ]
      },
      {
       "output_type": "stream",
       "stream": "stdout",
       "text": [
        "! "
       ]
      },
      {
       "output_type": "stream",
       "stream": "stdout",
       "text": [
        "! ! ! ! "
       ]
      },
      {
       "output_type": "stream",
       "stream": "stdout",
       "text": [
        "! "
       ]
      },
      {
       "output_type": "stream",
       "stream": "stdout",
       "text": [
        "! "
       ]
      },
      {
       "output_type": "stream",
       "stream": "stdout",
       "text": [
        "3600 "
       ]
      },
      {
       "output_type": "stream",
       "stream": "stdout",
       "text": [
        "! "
       ]
      },
      {
       "output_type": "stream",
       "stream": "stdout",
       "text": [
        "! "
       ]
      },
      {
       "output_type": "stream",
       "stream": "stdout",
       "text": [
        "! "
       ]
      },
      {
       "output_type": "stream",
       "stream": "stdout",
       "text": [
        "! "
       ]
      },
      {
       "output_type": "stream",
       "stream": "stdout",
       "text": [
        "! "
       ]
      },
      {
       "output_type": "stream",
       "stream": "stdout",
       "text": [
        "! "
       ]
      },
      {
       "output_type": "stream",
       "stream": "stdout",
       "text": [
        "3700 ! "
       ]
      },
      {
       "output_type": "stream",
       "stream": "stdout",
       "text": [
        "! "
       ]
      },
      {
       "output_type": "stream",
       "stream": "stdout",
       "text": [
        "! ! ! "
       ]
      },
      {
       "output_type": "stream",
       "stream": "stdout",
       "text": [
        "! ! "
       ]
      },
      {
       "output_type": "stream",
       "stream": "stdout",
       "text": [
        "! "
       ]
      },
      {
       "output_type": "stream",
       "stream": "stdout",
       "text": [
        "! 3800 "
       ]
      },
      {
       "output_type": "stream",
       "stream": "stdout",
       "text": [
        "! ! "
       ]
      },
      {
       "output_type": "stream",
       "stream": "stdout",
       "text": [
        "! ! "
       ]
      },
      {
       "output_type": "stream",
       "stream": "stdout",
       "text": [
        "! ! "
       ]
      },
      {
       "output_type": "stream",
       "stream": "stdout",
       "text": [
        "! "
       ]
      },
      {
       "output_type": "stream",
       "stream": "stdout",
       "text": [
        "3900 ! "
       ]
      },
      {
       "output_type": "stream",
       "stream": "stdout",
       "text": [
        "! "
       ]
      },
      {
       "output_type": "stream",
       "stream": "stdout",
       "text": [
        "! "
       ]
      },
      {
       "output_type": "stream",
       "stream": "stdout",
       "text": [
        "! "
       ]
      },
      {
       "output_type": "stream",
       "stream": "stdout",
       "text": [
        "! "
       ]
      },
      {
       "output_type": "stream",
       "stream": "stdout",
       "text": [
        "! "
       ]
      },
      {
       "output_type": "stream",
       "stream": "stdout",
       "text": [
        "! "
       ]
      },
      {
       "output_type": "stream",
       "stream": "stdout",
       "text": [
        "! "
       ]
      },
      {
       "output_type": "stream",
       "stream": "stdout",
       "text": [
        "! "
       ]
      },
      {
       "output_type": "stream",
       "stream": "stdout",
       "text": [
        "! "
       ]
      },
      {
       "output_type": "stream",
       "stream": "stdout",
       "text": [
        "4000 "
       ]
      },
      {
       "output_type": "stream",
       "stream": "stdout",
       "text": [
        "! ! "
       ]
      },
      {
       "output_type": "stream",
       "stream": "stdout",
       "text": [
        "! "
       ]
      },
      {
       "output_type": "stream",
       "stream": "stdout",
       "text": [
        "! "
       ]
      },
      {
       "output_type": "stream",
       "stream": "stdout",
       "text": [
        "! "
       ]
      },
      {
       "output_type": "stream",
       "stream": "stdout",
       "text": [
        "! "
       ]
      },
      {
       "output_type": "stream",
       "stream": "stdout",
       "text": [
        "! "
       ]
      },
      {
       "output_type": "stream",
       "stream": "stdout",
       "text": [
        "4100 "
       ]
      },
      {
       "output_type": "stream",
       "stream": "stdout",
       "text": [
        "! ! "
       ]
      },
      {
       "output_type": "stream",
       "stream": "stdout",
       "text": [
        "! "
       ]
      },
      {
       "output_type": "stream",
       "stream": "stdout",
       "text": [
        "! "
       ]
      },
      {
       "output_type": "stream",
       "stream": "stdout",
       "text": [
        "! "
       ]
      },
      {
       "output_type": "stream",
       "stream": "stdout",
       "text": [
        "! "
       ]
      },
      {
       "output_type": "stream",
       "stream": "stdout",
       "text": [
        "4200 "
       ]
      },
      {
       "output_type": "stream",
       "stream": "stdout",
       "text": [
        "! "
       ]
      },
      {
       "output_type": "stream",
       "stream": "stdout",
       "text": [
        "! ! "
       ]
      },
      {
       "output_type": "stream",
       "stream": "stdout",
       "text": [
        "! "
       ]
      },
      {
       "output_type": "stream",
       "stream": "stdout",
       "text": [
        "! "
       ]
      },
      {
       "output_type": "stream",
       "stream": "stdout",
       "text": [
        "! "
       ]
      },
      {
       "output_type": "stream",
       "stream": "stdout",
       "text": [
        "! "
       ]
      },
      {
       "output_type": "stream",
       "stream": "stdout",
       "text": [
        "! ! "
       ]
      },
      {
       "output_type": "stream",
       "stream": "stdout",
       "text": [
        "4300 "
       ]
      },
      {
       "output_type": "stream",
       "stream": "stdout",
       "text": [
        "! "
       ]
      },
      {
       "output_type": "stream",
       "stream": "stdout",
       "text": [
        "! ! "
       ]
      },
      {
       "output_type": "stream",
       "stream": "stdout",
       "text": [
        "! "
       ]
      },
      {
       "output_type": "stream",
       "stream": "stdout",
       "text": [
        "! "
       ]
      },
      {
       "output_type": "stream",
       "stream": "stdout",
       "text": [
        "! "
       ]
      },
      {
       "output_type": "stream",
       "stream": "stdout",
       "text": [
        "! "
       ]
      },
      {
       "output_type": "stream",
       "stream": "stdout",
       "text": [
        "4400 "
       ]
      },
      {
       "output_type": "stream",
       "stream": "stdout",
       "text": [
        "! "
       ]
      },
      {
       "output_type": "stream",
       "stream": "stdout",
       "text": [
        "! "
       ]
      },
      {
       "output_type": "stream",
       "stream": "stdout",
       "text": [
        "! "
       ]
      },
      {
       "output_type": "stream",
       "stream": "stdout",
       "text": [
        "! "
       ]
      },
      {
       "output_type": "stream",
       "stream": "stdout",
       "text": [
        "! "
       ]
      },
      {
       "output_type": "stream",
       "stream": "stdout",
       "text": [
        "! "
       ]
      },
      {
       "output_type": "stream",
       "stream": "stdout",
       "text": [
        "! "
       ]
      },
      {
       "output_type": "stream",
       "stream": "stdout",
       "text": [
        "! "
       ]
      },
      {
       "output_type": "stream",
       "stream": "stdout",
       "text": [
        "4500 "
       ]
      },
      {
       "output_type": "stream",
       "stream": "stdout",
       "text": [
        "! "
       ]
      },
      {
       "output_type": "stream",
       "stream": "stdout",
       "text": [
        "! "
       ]
      },
      {
       "output_type": "stream",
       "stream": "stdout",
       "text": [
        "! "
       ]
      },
      {
       "output_type": "stream",
       "stream": "stdout",
       "text": [
        "! "
       ]
      },
      {
       "output_type": "stream",
       "stream": "stdout",
       "text": [
        "! "
       ]
      },
      {
       "output_type": "stream",
       "stream": "stdout",
       "text": [
        "! "
       ]
      },
      {
       "output_type": "stream",
       "stream": "stdout",
       "text": [
        "4600 "
       ]
      },
      {
       "output_type": "stream",
       "stream": "stdout",
       "text": [
        "! ! ! "
       ]
      },
      {
       "output_type": "stream",
       "stream": "stdout",
       "text": [
        "! "
       ]
      },
      {
       "output_type": "stream",
       "stream": "stdout",
       "text": [
        "! ! "
       ]
      },
      {
       "output_type": "stream",
       "stream": "stdout",
       "text": [
        "! "
       ]
      },
      {
       "output_type": "stream",
       "stream": "stdout",
       "text": [
        "! "
       ]
      },
      {
       "output_type": "stream",
       "stream": "stdout",
       "text": [
        "! "
       ]
      },
      {
       "output_type": "stream",
       "stream": "stdout",
       "text": [
        "4700 "
       ]
      },
      {
       "output_type": "stream",
       "stream": "stdout",
       "text": [
        "! "
       ]
      },
      {
       "output_type": "stream",
       "stream": "stdout",
       "text": [
        "! "
       ]
      },
      {
       "output_type": "stream",
       "stream": "stdout",
       "text": [
        "! "
       ]
      },
      {
       "output_type": "stream",
       "stream": "stdout",
       "text": [
        "! 4800 "
       ]
      },
      {
       "output_type": "stream",
       "stream": "stdout",
       "text": [
        "! "
       ]
      },
      {
       "output_type": "stream",
       "stream": "stdout",
       "text": [
        "! "
       ]
      },
      {
       "output_type": "stream",
       "stream": "stdout",
       "text": [
        "! "
       ]
      },
      {
       "output_type": "stream",
       "stream": "stdout",
       "text": [
        "! ! "
       ]
      },
      {
       "output_type": "stream",
       "stream": "stdout",
       "text": [
        "4900 "
       ]
      },
      {
       "output_type": "stream",
       "stream": "stdout",
       "text": [
        "! "
       ]
      },
      {
       "output_type": "stream",
       "stream": "stdout",
       "text": [
        "! "
       ]
      },
      {
       "output_type": "stream",
       "stream": "stdout",
       "text": [
        "! "
       ]
      },
      {
       "output_type": "stream",
       "stream": "stdout",
       "text": [
        "! "
       ]
      },
      {
       "output_type": "stream",
       "stream": "stdout",
       "text": [
        "! "
       ]
      },
      {
       "output_type": "stream",
       "stream": "stdout",
       "text": [
        "! "
       ]
      },
      {
       "output_type": "stream",
       "stream": "stdout",
       "text": [
        "! "
       ]
      },
      {
       "output_type": "stream",
       "stream": "stdout",
       "text": [
        "! "
       ]
      },
      {
       "output_type": "stream",
       "stream": "stdout",
       "text": [
        "! "
       ]
      },
      {
       "output_type": "stream",
       "stream": "stdout",
       "text": [
        "! ! "
       ]
      },
      {
       "output_type": "stream",
       "stream": "stdout",
       "text": [
        "! "
       ]
      },
      {
       "output_type": "stream",
       "stream": "stdout",
       "text": [
        "5000 "
       ]
      },
      {
       "output_type": "stream",
       "stream": "stdout",
       "text": [
        "! "
       ]
      },
      {
       "output_type": "stream",
       "stream": "stdout",
       "text": [
        "! "
       ]
      },
      {
       "output_type": "stream",
       "stream": "stdout",
       "text": [
        "5100 "
       ]
      },
      {
       "output_type": "stream",
       "stream": "stdout",
       "text": [
        "! "
       ]
      },
      {
       "output_type": "stream",
       "stream": "stdout",
       "text": [
        "! "
       ]
      },
      {
       "output_type": "stream",
       "stream": "stdout",
       "text": [
        "! "
       ]
      },
      {
       "output_type": "stream",
       "stream": "stdout",
       "text": [
        "5200 "
       ]
      },
      {
       "output_type": "stream",
       "stream": "stdout",
       "text": [
        "! "
       ]
      },
      {
       "output_type": "stream",
       "stream": "stdout",
       "text": [
        "! "
       ]
      },
      {
       "output_type": "stream",
       "stream": "stdout",
       "text": [
        "! "
       ]
      },
      {
       "output_type": "stream",
       "stream": "stdout",
       "text": [
        "! "
       ]
      },
      {
       "output_type": "stream",
       "stream": "stdout",
       "text": [
        "5300 "
       ]
      },
      {
       "output_type": "stream",
       "stream": "stdout",
       "text": [
        "! "
       ]
      },
      {
       "output_type": "stream",
       "stream": "stdout",
       "text": [
        "! "
       ]
      },
      {
       "output_type": "stream",
       "stream": "stdout",
       "text": [
        "! "
       ]
      },
      {
       "output_type": "stream",
       "stream": "stdout",
       "text": [
        "! "
       ]
      },
      {
       "output_type": "stream",
       "stream": "stdout",
       "text": [
        "! "
       ]
      },
      {
       "output_type": "stream",
       "stream": "stdout",
       "text": [
        "! "
       ]
      },
      {
       "output_type": "stream",
       "stream": "stdout",
       "text": [
        "! "
       ]
      },
      {
       "output_type": "stream",
       "stream": "stdout",
       "text": [
        "5400 ! "
       ]
      },
      {
       "output_type": "stream",
       "stream": "stdout",
       "text": [
        "! "
       ]
      },
      {
       "output_type": "stream",
       "stream": "stdout",
       "text": [
        "! ! ! ! "
       ]
      },
      {
       "output_type": "stream",
       "stream": "stdout",
       "text": [
        "! "
       ]
      },
      {
       "output_type": "stream",
       "stream": "stdout",
       "text": [
        "! "
       ]
      },
      {
       "output_type": "stream",
       "stream": "stdout",
       "text": [
        "! "
       ]
      },
      {
       "output_type": "stream",
       "stream": "stdout",
       "text": [
        "5500 "
       ]
      },
      {
       "output_type": "stream",
       "stream": "stdout",
       "text": [
        "! "
       ]
      },
      {
       "output_type": "stream",
       "stream": "stdout",
       "text": [
        "! ! "
       ]
      },
      {
       "output_type": "stream",
       "stream": "stdout",
       "text": [
        "! "
       ]
      },
      {
       "output_type": "stream",
       "stream": "stdout",
       "text": [
        "! "
       ]
      },
      {
       "output_type": "stream",
       "stream": "stdout",
       "text": [
        "! "
       ]
      },
      {
       "output_type": "stream",
       "stream": "stdout",
       "text": [
        "! "
       ]
      },
      {
       "output_type": "stream",
       "stream": "stdout",
       "text": [
        "5600 ! "
       ]
      },
      {
       "output_type": "stream",
       "stream": "stdout",
       "text": [
        "! "
       ]
      },
      {
       "output_type": "stream",
       "stream": "stdout",
       "text": [
        "! "
       ]
      },
      {
       "output_type": "stream",
       "stream": "stdout",
       "text": [
        "! "
       ]
      },
      {
       "output_type": "stream",
       "stream": "stdout",
       "text": [
        "! ! "
       ]
      },
      {
       "output_type": "stream",
       "stream": "stdout",
       "text": [
        "! 5700 "
       ]
      },
      {
       "output_type": "stream",
       "stream": "stdout",
       "text": [
        "! "
       ]
      },
      {
       "output_type": "stream",
       "stream": "stdout",
       "text": [
        "! "
       ]
      },
      {
       "output_type": "stream",
       "stream": "stdout",
       "text": [
        "! ! "
       ]
      },
      {
       "output_type": "stream",
       "stream": "stdout",
       "text": [
        "! ! "
       ]
      },
      {
       "output_type": "stream",
       "stream": "stdout",
       "text": [
        "! "
       ]
      },
      {
       "output_type": "stream",
       "stream": "stdout",
       "text": [
        "5800 "
       ]
      },
      {
       "output_type": "stream",
       "stream": "stdout",
       "text": [
        "! ! "
       ]
      },
      {
       "output_type": "stream",
       "stream": "stdout",
       "text": [
        "! "
       ]
      },
      {
       "output_type": "stream",
       "stream": "stdout",
       "text": [
        "! "
       ]
      },
      {
       "output_type": "stream",
       "stream": "stdout",
       "text": [
        "! "
       ]
      },
      {
       "output_type": "stream",
       "stream": "stdout",
       "text": [
        "! "
       ]
      },
      {
       "output_type": "stream",
       "stream": "stdout",
       "text": [
        "5900 "
       ]
      },
      {
       "output_type": "stream",
       "stream": "stdout",
       "text": [
        "! "
       ]
      },
      {
       "output_type": "stream",
       "stream": "stdout",
       "text": [
        "! "
       ]
      },
      {
       "output_type": "stream",
       "stream": "stdout",
       "text": [
        "! "
       ]
      },
      {
       "output_type": "stream",
       "stream": "stdout",
       "text": [
        "! "
       ]
      },
      {
       "output_type": "stream",
       "stream": "stdout",
       "text": [
        "! "
       ]
      },
      {
       "output_type": "stream",
       "stream": "stdout",
       "text": [
        "6000 "
       ]
      },
      {
       "output_type": "stream",
       "stream": "stdout",
       "text": [
        "! "
       ]
      },
      {
       "output_type": "stream",
       "stream": "stdout",
       "text": [
        "! "
       ]
      },
      {
       "output_type": "stream",
       "stream": "stdout",
       "text": [
        "! "
       ]
      },
      {
       "output_type": "stream",
       "stream": "stdout",
       "text": [
        "! "
       ]
      },
      {
       "output_type": "stream",
       "stream": "stdout",
       "text": [
        "! "
       ]
      },
      {
       "output_type": "stream",
       "stream": "stdout",
       "text": [
        "6100 "
       ]
      },
      {
       "output_type": "stream",
       "stream": "stdout",
       "text": [
        "! "
       ]
      },
      {
       "output_type": "stream",
       "stream": "stdout",
       "text": [
        "! "
       ]
      },
      {
       "output_type": "stream",
       "stream": "stdout",
       "text": [
        "! "
       ]
      },
      {
       "output_type": "stream",
       "stream": "stdout",
       "text": [
        "6200 "
       ]
      },
      {
       "output_type": "stream",
       "stream": "stdout",
       "text": [
        "! "
       ]
      },
      {
       "output_type": "stream",
       "stream": "stdout",
       "text": [
        "! ! "
       ]
      },
      {
       "output_type": "stream",
       "stream": "stdout",
       "text": [
        "! "
       ]
      },
      {
       "output_type": "stream",
       "stream": "stdout",
       "text": [
        "! "
       ]
      },
      {
       "output_type": "stream",
       "stream": "stdout",
       "text": [
        "! "
       ]
      },
      {
       "output_type": "stream",
       "stream": "stdout",
       "text": [
        "6300 "
       ]
      },
      {
       "output_type": "stream",
       "stream": "stdout",
       "text": [
        "! ! "
       ]
      },
      {
       "output_type": "stream",
       "stream": "stdout",
       "text": [
        "! "
       ]
      },
      {
       "output_type": "stream",
       "stream": "stdout",
       "text": [
        "! "
       ]
      },
      {
       "output_type": "stream",
       "stream": "stdout",
       "text": [
        "! "
       ]
      },
      {
       "output_type": "stream",
       "stream": "stdout",
       "text": [
        "! "
       ]
      },
      {
       "output_type": "stream",
       "stream": "stdout",
       "text": [
        "6400 "
       ]
      },
      {
       "output_type": "stream",
       "stream": "stdout",
       "text": [
        "! ! "
       ]
      },
      {
       "output_type": "stream",
       "stream": "stdout",
       "text": [
        "! "
       ]
      },
      {
       "output_type": "stream",
       "stream": "stdout",
       "text": [
        "! ! "
       ]
      },
      {
       "output_type": "stream",
       "stream": "stdout",
       "text": [
        "6500 "
       ]
      },
      {
       "output_type": "stream",
       "stream": "stdout",
       "text": [
        "! ! "
       ]
      },
      {
       "output_type": "stream",
       "stream": "stdout",
       "text": [
        "! "
       ]
      },
      {
       "output_type": "stream",
       "stream": "stdout",
       "text": [
        "6600 ! "
       ]
      },
      {
       "output_type": "stream",
       "stream": "stdout",
       "text": [
        "! "
       ]
      },
      {
       "output_type": "stream",
       "stream": "stdout",
       "text": [
        "! "
       ]
      },
      {
       "output_type": "stream",
       "stream": "stdout",
       "text": [
        "! "
       ]
      },
      {
       "output_type": "stream",
       "stream": "stdout",
       "text": [
        "6700 "
       ]
      },
      {
       "output_type": "stream",
       "stream": "stdout",
       "text": [
        "! ! "
       ]
      },
      {
       "output_type": "stream",
       "stream": "stdout",
       "text": [
        "! "
       ]
      },
      {
       "output_type": "stream",
       "stream": "stdout",
       "text": [
        "! "
       ]
      },
      {
       "output_type": "stream",
       "stream": "stdout",
       "text": [
        "! "
       ]
      },
      {
       "output_type": "stream",
       "stream": "stdout",
       "text": [
        "! "
       ]
      },
      {
       "output_type": "stream",
       "stream": "stdout",
       "text": [
        "6800 ! "
       ]
      },
      {
       "output_type": "stream",
       "stream": "stdout",
       "text": [
        "! "
       ]
      },
      {
       "output_type": "stream",
       "stream": "stdout",
       "text": [
        "! "
       ]
      },
      {
       "output_type": "stream",
       "stream": "stdout",
       "text": [
        "! "
       ]
      },
      {
       "output_type": "stream",
       "stream": "stdout",
       "text": [
        "! "
       ]
      },
      {
       "output_type": "stream",
       "stream": "stdout",
       "text": [
        "! "
       ]
      },
      {
       "output_type": "stream",
       "stream": "stdout",
       "text": [
        "! 6900 "
       ]
      },
      {
       "output_type": "stream",
       "stream": "stdout",
       "text": [
        "! "
       ]
      },
      {
       "output_type": "stream",
       "stream": "stdout",
       "text": [
        "! "
       ]
      },
      {
       "output_type": "stream",
       "stream": "stdout",
       "text": [
        "! "
       ]
      },
      {
       "output_type": "stream",
       "stream": "stdout",
       "text": [
        "! ! "
       ]
      },
      {
       "output_type": "stream",
       "stream": "stdout",
       "text": [
        "! "
       ]
      },
      {
       "output_type": "stream",
       "stream": "stdout",
       "text": [
        "! "
       ]
      },
      {
       "output_type": "stream",
       "stream": "stdout",
       "text": [
        "! ! "
       ]
      },
      {
       "output_type": "stream",
       "stream": "stdout",
       "text": [
        "7000 "
       ]
      },
      {
       "output_type": "stream",
       "stream": "stdout",
       "text": [
        "! ! "
       ]
      },
      {
       "output_type": "stream",
       "stream": "stdout",
       "text": [
        "! ! "
       ]
      },
      {
       "output_type": "stream",
       "stream": "stdout",
       "text": [
        "! "
       ]
      },
      {
       "output_type": "stream",
       "stream": "stdout",
       "text": [
        "! "
       ]
      },
      {
       "output_type": "stream",
       "stream": "stdout",
       "text": [
        "7100 "
       ]
      },
      {
       "output_type": "stream",
       "stream": "stdout",
       "text": [
        "! "
       ]
      },
      {
       "output_type": "stream",
       "stream": "stdout",
       "text": [
        "! ! "
       ]
      },
      {
       "output_type": "stream",
       "stream": "stdout",
       "text": [
        "! "
       ]
      },
      {
       "output_type": "stream",
       "stream": "stdout",
       "text": [
        "! "
       ]
      },
      {
       "output_type": "stream",
       "stream": "stdout",
       "text": [
        "! "
       ]
      },
      {
       "output_type": "stream",
       "stream": "stdout",
       "text": [
        "7200 "
       ]
      },
      {
       "output_type": "stream",
       "stream": "stdout",
       "text": [
        "! "
       ]
      },
      {
       "output_type": "stream",
       "stream": "stdout",
       "text": [
        "! "
       ]
      },
      {
       "output_type": "stream",
       "stream": "stdout",
       "text": [
        "! "
       ]
      },
      {
       "output_type": "stream",
       "stream": "stdout",
       "text": [
        "! "
       ]
      },
      {
       "output_type": "stream",
       "stream": "stdout",
       "text": [
        "! "
       ]
      },
      {
       "output_type": "stream",
       "stream": "stdout",
       "text": [
        "! 7300 "
       ]
      },
      {
       "output_type": "stream",
       "stream": "stdout",
       "text": [
        "! ! "
       ]
      },
      {
       "output_type": "stream",
       "stream": "stdout",
       "text": [
        "! "
       ]
      },
      {
       "output_type": "stream",
       "stream": "stdout",
       "text": [
        "! "
       ]
      },
      {
       "output_type": "stream",
       "stream": "stdout",
       "text": [
        "! "
       ]
      },
      {
       "output_type": "stream",
       "stream": "stdout",
       "text": [
        "! "
       ]
      },
      {
       "output_type": "stream",
       "stream": "stdout",
       "text": [
        "7400 "
       ]
      },
      {
       "output_type": "stream",
       "stream": "stdout",
       "text": [
        "! "
       ]
      },
      {
       "output_type": "stream",
       "stream": "stdout",
       "text": [
        "! "
       ]
      },
      {
       "output_type": "stream",
       "stream": "stdout",
       "text": [
        "! ! "
       ]
      },
      {
       "output_type": "stream",
       "stream": "stdout",
       "text": [
        "! "
       ]
      },
      {
       "output_type": "stream",
       "stream": "stdout",
       "text": [
        "7500 "
       ]
      },
      {
       "output_type": "stream",
       "stream": "stdout",
       "text": [
        "! "
       ]
      },
      {
       "output_type": "stream",
       "stream": "stdout",
       "text": [
        "! "
       ]
      },
      {
       "output_type": "stream",
       "stream": "stdout",
       "text": [
        "! ! "
       ]
      },
      {
       "output_type": "stream",
       "stream": "stdout",
       "text": [
        "! "
       ]
      },
      {
       "output_type": "stream",
       "stream": "stdout",
       "text": [
        "7600 "
       ]
      },
      {
       "output_type": "stream",
       "stream": "stdout",
       "text": [
        "! "
       ]
      },
      {
       "output_type": "stream",
       "stream": "stdout",
       "text": [
        "! "
       ]
      },
      {
       "output_type": "stream",
       "stream": "stdout",
       "text": [
        "! "
       ]
      },
      {
       "output_type": "stream",
       "stream": "stdout",
       "text": [
        "! "
       ]
      },
      {
       "output_type": "stream",
       "stream": "stdout",
       "text": [
        "! "
       ]
      },
      {
       "output_type": "stream",
       "stream": "stdout",
       "text": [
        "! "
       ]
      },
      {
       "output_type": "stream",
       "stream": "stdout",
       "text": [
        "7700 "
       ]
      },
      {
       "output_type": "stream",
       "stream": "stdout",
       "text": [
        "! "
       ]
      },
      {
       "output_type": "stream",
       "stream": "stdout",
       "text": [
        "! "
       ]
      },
      {
       "output_type": "stream",
       "stream": "stdout",
       "text": [
        "! ! "
       ]
      },
      {
       "output_type": "stream",
       "stream": "stdout",
       "text": [
        "! "
       ]
      },
      {
       "output_type": "stream",
       "stream": "stdout",
       "text": [
        "! "
       ]
      },
      {
       "output_type": "stream",
       "stream": "stdout",
       "text": [
        "! "
       ]
      },
      {
       "output_type": "stream",
       "stream": "stdout",
       "text": [
        "! "
       ]
      },
      {
       "output_type": "stream",
       "stream": "stdout",
       "text": [
        "7800 "
       ]
      },
      {
       "output_type": "stream",
       "stream": "stdout",
       "text": [
        "! "
       ]
      },
      {
       "output_type": "stream",
       "stream": "stdout",
       "text": [
        "! ! "
       ]
      },
      {
       "output_type": "stream",
       "stream": "stdout",
       "text": [
        "! "
       ]
      },
      {
       "output_type": "stream",
       "stream": "stdout",
       "text": [
        "! ! "
       ]
      },
      {
       "output_type": "stream",
       "stream": "stdout",
       "text": [
        "! "
       ]
      },
      {
       "output_type": "stream",
       "stream": "stdout",
       "text": [
        "! "
       ]
      },
      {
       "output_type": "stream",
       "stream": "stdout",
       "text": [
        "! "
       ]
      },
      {
       "output_type": "stream",
       "stream": "stdout",
       "text": [
        "! ! "
       ]
      },
      {
       "output_type": "stream",
       "stream": "stdout",
       "text": [
        "! 7900 "
       ]
      },
      {
       "output_type": "stream",
       "stream": "stdout",
       "text": [
        "! "
       ]
      },
      {
       "output_type": "stream",
       "stream": "stdout",
       "text": [
        "! "
       ]
      },
      {
       "output_type": "stream",
       "stream": "stdout",
       "text": [
        "! ! "
       ]
      },
      {
       "output_type": "stream",
       "stream": "stdout",
       "text": [
        "8000 "
       ]
      },
      {
       "output_type": "stream",
       "stream": "stdout",
       "text": [
        "! "
       ]
      },
      {
       "output_type": "stream",
       "stream": "stdout",
       "text": [
        "! "
       ]
      },
      {
       "output_type": "stream",
       "stream": "stdout",
       "text": [
        "! "
       ]
      },
      {
       "output_type": "stream",
       "stream": "stdout",
       "text": [
        "! "
       ]
      },
      {
       "output_type": "stream",
       "stream": "stdout",
       "text": [
        "! "
       ]
      },
      {
       "output_type": "stream",
       "stream": "stdout",
       "text": [
        "8100 "
       ]
      },
      {
       "output_type": "stream",
       "stream": "stdout",
       "text": [
        "! "
       ]
      },
      {
       "output_type": "stream",
       "stream": "stdout",
       "text": [
        "! "
       ]
      },
      {
       "output_type": "stream",
       "stream": "stdout",
       "text": [
        "! "
       ]
      },
      {
       "output_type": "stream",
       "stream": "stdout",
       "text": [
        "! ! "
       ]
      },
      {
       "output_type": "stream",
       "stream": "stdout",
       "text": [
        "! "
       ]
      },
      {
       "output_type": "stream",
       "stream": "stdout",
       "text": [
        "8200 "
       ]
      },
      {
       "output_type": "stream",
       "stream": "stdout",
       "text": [
        "! "
       ]
      },
      {
       "output_type": "stream",
       "stream": "stdout",
       "text": [
        "! "
       ]
      },
      {
       "output_type": "stream",
       "stream": "stdout",
       "text": [
        "! "
       ]
      },
      {
       "output_type": "stream",
       "stream": "stdout",
       "text": [
        "! "
       ]
      },
      {
       "output_type": "stream",
       "stream": "stdout",
       "text": [
        "! "
       ]
      },
      {
       "output_type": "stream",
       "stream": "stdout",
       "text": [
        "8300 "
       ]
      },
      {
       "output_type": "stream",
       "stream": "stdout",
       "text": [
        "! "
       ]
      },
      {
       "output_type": "stream",
       "stream": "stdout",
       "text": [
        "! "
       ]
      },
      {
       "output_type": "stream",
       "stream": "stdout",
       "text": [
        "8400 "
       ]
      },
      {
       "output_type": "stream",
       "stream": "stdout",
       "text": [
        "! "
       ]
      },
      {
       "output_type": "stream",
       "stream": "stdout",
       "text": [
        "! "
       ]
      },
      {
       "output_type": "stream",
       "stream": "stdout",
       "text": [
        "! "
       ]
      },
      {
       "output_type": "stream",
       "stream": "stdout",
       "text": [
        "! "
       ]
      },
      {
       "output_type": "stream",
       "stream": "stdout",
       "text": [
        "! ! "
       ]
      },
      {
       "output_type": "stream",
       "stream": "stdout",
       "text": [
        "! "
       ]
      },
      {
       "output_type": "stream",
       "stream": "stdout",
       "text": [
        "! "
       ]
      },
      {
       "output_type": "stream",
       "stream": "stdout",
       "text": [
        "8500 "
       ]
      },
      {
       "output_type": "stream",
       "stream": "stdout",
       "text": [
        "! "
       ]
      },
      {
       "output_type": "stream",
       "stream": "stdout",
       "text": [
        "! "
       ]
      },
      {
       "output_type": "stream",
       "stream": "stdout",
       "text": [
        "! "
       ]
      },
      {
       "output_type": "stream",
       "stream": "stdout",
       "text": [
        "8600 "
       ]
      },
      {
       "output_type": "stream",
       "stream": "stdout",
       "text": [
        "! "
       ]
      },
      {
       "output_type": "stream",
       "stream": "stdout",
       "text": [
        "! "
       ]
      },
      {
       "output_type": "stream",
       "stream": "stdout",
       "text": [
        "! "
       ]
      },
      {
       "output_type": "stream",
       "stream": "stdout",
       "text": [
        "! "
       ]
      },
      {
       "output_type": "stream",
       "stream": "stdout",
       "text": [
        "! "
       ]
      },
      {
       "output_type": "stream",
       "stream": "stdout",
       "text": [
        "! "
       ]
      },
      {
       "output_type": "stream",
       "stream": "stdout",
       "text": [
        "! "
       ]
      },
      {
       "output_type": "stream",
       "stream": "stdout",
       "text": [
        "! "
       ]
      },
      {
       "output_type": "stream",
       "stream": "stdout",
       "text": [
        "8700 "
       ]
      },
      {
       "output_type": "stream",
       "stream": "stdout",
       "text": [
        "! "
       ]
      },
      {
       "output_type": "stream",
       "stream": "stdout",
       "text": [
        "! "
       ]
      },
      {
       "output_type": "stream",
       "stream": "stdout",
       "text": [
        "8800 "
       ]
      },
      {
       "output_type": "stream",
       "stream": "stdout",
       "text": [
        "! "
       ]
      },
      {
       "output_type": "stream",
       "stream": "stdout",
       "text": [
        "! ! ! "
       ]
      },
      {
       "output_type": "stream",
       "stream": "stdout",
       "text": [
        "! ! "
       ]
      },
      {
       "output_type": "stream",
       "stream": "stdout",
       "text": [
        "! "
       ]
      },
      {
       "output_type": "stream",
       "stream": "stdout",
       "text": [
        "! "
       ]
      },
      {
       "output_type": "stream",
       "stream": "stdout",
       "text": [
        "! "
       ]
      },
      {
       "output_type": "stream",
       "stream": "stdout",
       "text": [
        "! "
       ]
      },
      {
       "output_type": "stream",
       "stream": "stdout",
       "text": [
        "! ! "
       ]
      },
      {
       "output_type": "stream",
       "stream": "stdout",
       "text": [
        "8900 "
       ]
      },
      {
       "output_type": "stream",
       "stream": "stdout",
       "text": [
        "! "
       ]
      },
      {
       "output_type": "stream",
       "stream": "stdout",
       "text": [
        "! "
       ]
      },
      {
       "output_type": "stream",
       "stream": "stdout",
       "text": [
        "! "
       ]
      },
      {
       "output_type": "stream",
       "stream": "stdout",
       "text": [
        "! "
       ]
      },
      {
       "output_type": "stream",
       "stream": "stdout",
       "text": [
        "! ! "
       ]
      },
      {
       "output_type": "stream",
       "stream": "stdout",
       "text": [
        "! "
       ]
      },
      {
       "output_type": "stream",
       "stream": "stdout",
       "text": [
        "! "
       ]
      },
      {
       "output_type": "stream",
       "stream": "stdout",
       "text": [
        "9000 ! ! "
       ]
      },
      {
       "output_type": "stream",
       "stream": "stdout",
       "text": [
        "! ! "
       ]
      },
      {
       "output_type": "stream",
       "stream": "stdout",
       "text": [
        "! "
       ]
      },
      {
       "output_type": "stream",
       "stream": "stdout",
       "text": [
        "! "
       ]
      },
      {
       "output_type": "stream",
       "stream": "stdout",
       "text": [
        "9100 "
       ]
      },
      {
       "output_type": "stream",
       "stream": "stdout",
       "text": [
        "! "
       ]
      },
      {
       "output_type": "stream",
       "stream": "stdout",
       "text": [
        "! ! "
       ]
      },
      {
       "output_type": "stream",
       "stream": "stdout",
       "text": [
        "! "
       ]
      },
      {
       "output_type": "stream",
       "stream": "stdout",
       "text": [
        "9200 ! "
       ]
      },
      {
       "output_type": "stream",
       "stream": "stdout",
       "text": [
        "! "
       ]
      },
      {
       "output_type": "stream",
       "stream": "stdout",
       "text": [
        "! 9300 "
       ]
      },
      {
       "output_type": "stream",
       "stream": "stdout",
       "text": [
        "! "
       ]
      },
      {
       "output_type": "stream",
       "stream": "stdout",
       "text": [
        "! "
       ]
      },
      {
       "output_type": "stream",
       "stream": "stdout",
       "text": [
        "! "
       ]
      },
      {
       "output_type": "stream",
       "stream": "stdout",
       "text": [
        "! "
       ]
      },
      {
       "output_type": "stream",
       "stream": "stdout",
       "text": [
        "! "
       ]
      },
      {
       "output_type": "stream",
       "stream": "stdout",
       "text": [
        "9400 "
       ]
      },
      {
       "output_type": "stream",
       "stream": "stdout",
       "text": [
        "! "
       ]
      },
      {
       "output_type": "stream",
       "stream": "stdout",
       "text": [
        "! "
       ]
      },
      {
       "output_type": "stream",
       "stream": "stdout",
       "text": [
        "! "
       ]
      },
      {
       "output_type": "stream",
       "stream": "stdout",
       "text": [
        "! "
       ]
      },
      {
       "output_type": "stream",
       "stream": "stdout",
       "text": [
        "! "
       ]
      },
      {
       "output_type": "stream",
       "stream": "stdout",
       "text": [
        "! 9500 "
       ]
      },
      {
       "output_type": "stream",
       "stream": "stdout",
       "text": [
        "! "
       ]
      },
      {
       "output_type": "stream",
       "stream": "stdout",
       "text": [
        "! "
       ]
      },
      {
       "output_type": "stream",
       "stream": "stdout",
       "text": [
        "9600 "
       ]
      },
      {
       "output_type": "stream",
       "stream": "stdout",
       "text": [
        "! "
       ]
      },
      {
       "output_type": "stream",
       "stream": "stdout",
       "text": [
        "! "
       ]
      },
      {
       "output_type": "stream",
       "stream": "stdout",
       "text": [
        "9700 "
       ]
      },
      {
       "output_type": "stream",
       "stream": "stdout",
       "text": [
        "! "
       ]
      },
      {
       "output_type": "stream",
       "stream": "stdout",
       "text": [
        "! "
       ]
      },
      {
       "output_type": "stream",
       "stream": "stdout",
       "text": [
        "! "
       ]
      },
      {
       "output_type": "stream",
       "stream": "stdout",
       "text": [
        "9800 "
       ]
      },
      {
       "output_type": "stream",
       "stream": "stdout",
       "text": [
        "! "
       ]
      },
      {
       "output_type": "stream",
       "stream": "stdout",
       "text": [
        "! "
       ]
      },
      {
       "output_type": "stream",
       "stream": "stdout",
       "text": [
        "! "
       ]
      },
      {
       "output_type": "stream",
       "stream": "stdout",
       "text": [
        "9900 "
       ]
      },
      {
       "output_type": "stream",
       "stream": "stdout",
       "text": [
        "! "
       ]
      },
      {
       "output_type": "stream",
       "stream": "stdout",
       "text": [
        "! "
       ]
      },
      {
       "output_type": "stream",
       "stream": "stdout",
       "text": [
        "! "
       ]
      },
      {
       "output_type": "stream",
       "stream": "stdout",
       "text": [
        "! 10000 "
       ]
      },
      {
       "output_type": "stream",
       "stream": "stdout",
       "text": [
        "! "
       ]
      },
      {
       "output_type": "stream",
       "stream": "stdout",
       "text": [
        "! "
       ]
      },
      {
       "output_type": "stream",
       "stream": "stdout",
       "text": [
        "! "
       ]
      },
      {
       "output_type": "stream",
       "stream": "stdout",
       "text": [
        "10100 "
       ]
      },
      {
       "output_type": "stream",
       "stream": "stdout",
       "text": [
        "! "
       ]
      },
      {
       "output_type": "stream",
       "stream": "stdout",
       "text": [
        "! "
       ]
      },
      {
       "output_type": "stream",
       "stream": "stdout",
       "text": [
        "! "
       ]
      },
      {
       "output_type": "stream",
       "stream": "stdout",
       "text": [
        "! "
       ]
      },
      {
       "output_type": "stream",
       "stream": "stdout",
       "text": [
        "10200 "
       ]
      },
      {
       "output_type": "stream",
       "stream": "stdout",
       "text": [
        "! "
       ]
      },
      {
       "output_type": "stream",
       "stream": "stdout",
       "text": [
        "! "
       ]
      },
      {
       "output_type": "stream",
       "stream": "stdout",
       "text": [
        "10300 "
       ]
      },
      {
       "output_type": "stream",
       "stream": "stdout",
       "text": [
        "! "
       ]
      },
      {
       "output_type": "stream",
       "stream": "stdout",
       "text": [
        "! "
       ]
      },
      {
       "output_type": "stream",
       "stream": "stdout",
       "text": [
        "! "
       ]
      },
      {
       "output_type": "stream",
       "stream": "stdout",
       "text": [
        "10400 "
       ]
      },
      {
       "output_type": "stream",
       "stream": "stdout",
       "text": [
        "! "
       ]
      },
      {
       "output_type": "stream",
       "stream": "stdout",
       "text": [
        "! "
       ]
      },
      {
       "output_type": "stream",
       "stream": "stdout",
       "text": [
        "! "
       ]
      },
      {
       "output_type": "stream",
       "stream": "stdout",
       "text": [
        "! "
       ]
      },
      {
       "output_type": "stream",
       "stream": "stdout",
       "text": [
        "10500 "
       ]
      },
      {
       "output_type": "stream",
       "stream": "stdout",
       "text": [
        "! "
       ]
      },
      {
       "output_type": "stream",
       "stream": "stdout",
       "text": [
        "! "
       ]
      },
      {
       "output_type": "stream",
       "stream": "stdout",
       "text": [
        "! "
       ]
      },
      {
       "output_type": "stream",
       "stream": "stdout",
       "text": [
        "! 10600 "
       ]
      },
      {
       "output_type": "stream",
       "stream": "stdout",
       "text": [
        "! "
       ]
      },
      {
       "output_type": "stream",
       "stream": "stdout",
       "text": [
        "! "
       ]
      },
      {
       "output_type": "stream",
       "stream": "stdout",
       "text": [
        "! "
       ]
      },
      {
       "output_type": "stream",
       "stream": "stdout",
       "text": [
        "! "
       ]
      },
      {
       "output_type": "stream",
       "stream": "stdout",
       "text": [
        "10700 "
       ]
      },
      {
       "output_type": "stream",
       "stream": "stdout",
       "text": [
        "! "
       ]
      },
      {
       "output_type": "stream",
       "stream": "stdout",
       "text": [
        "10800 "
       ]
      },
      {
       "output_type": "stream",
       "stream": "stdout",
       "text": [
        "! "
       ]
      },
      {
       "output_type": "stream",
       "stream": "stdout",
       "text": [
        "! "
       ]
      },
      {
       "output_type": "stream",
       "stream": "stdout",
       "text": [
        "! 10900 "
       ]
      },
      {
       "output_type": "stream",
       "stream": "stdout",
       "text": [
        "! "
       ]
      },
      {
       "output_type": "stream",
       "stream": "stdout",
       "text": [
        "! ! "
       ]
      },
      {
       "output_type": "stream",
       "stream": "stdout",
       "text": [
        "! "
       ]
      },
      {
       "output_type": "stream",
       "stream": "stdout",
       "text": [
        "! "
       ]
      },
      {
       "output_type": "stream",
       "stream": "stdout",
       "text": [
        "! ! "
       ]
      },
      {
       "output_type": "stream",
       "stream": "stdout",
       "text": [
        "! "
       ]
      },
      {
       "output_type": "stream",
       "stream": "stdout",
       "text": [
        "! "
       ]
      },
      {
       "output_type": "stream",
       "stream": "stdout",
       "text": [
        "! "
       ]
      },
      {
       "output_type": "stream",
       "stream": "stdout",
       "text": [
        "11000 "
       ]
      },
      {
       "output_type": "stream",
       "stream": "stdout",
       "text": [
        "! "
       ]
      },
      {
       "output_type": "stream",
       "stream": "stdout",
       "text": [
        "! "
       ]
      },
      {
       "output_type": "stream",
       "stream": "stdout",
       "text": [
        "! "
       ]
      },
      {
       "output_type": "stream",
       "stream": "stdout",
       "text": [
        "11100 "
       ]
      },
      {
       "output_type": "stream",
       "stream": "stdout",
       "text": [
        "! "
       ]
      },
      {
       "output_type": "stream",
       "stream": "stdout",
       "text": [
        "! "
       ]
      },
      {
       "output_type": "stream",
       "stream": "stdout",
       "text": [
        "! ! "
       ]
      },
      {
       "output_type": "stream",
       "stream": "stdout",
       "text": [
        "! "
       ]
      },
      {
       "output_type": "stream",
       "stream": "stdout",
       "text": [
        "! "
       ]
      },
      {
       "output_type": "stream",
       "stream": "stdout",
       "text": [
        "11200 "
       ]
      },
      {
       "output_type": "stream",
       "stream": "stdout",
       "text": [
        "! "
       ]
      },
      {
       "output_type": "stream",
       "stream": "stdout",
       "text": [
        "! "
       ]
      },
      {
       "output_type": "stream",
       "stream": "stdout",
       "text": [
        "! "
       ]
      },
      {
       "output_type": "stream",
       "stream": "stdout",
       "text": [
        "! 11300 "
       ]
      },
      {
       "output_type": "stream",
       "stream": "stdout",
       "text": [
        "! "
       ]
      },
      {
       "output_type": "stream",
       "stream": "stdout",
       "text": [
        "! "
       ]
      },
      {
       "output_type": "stream",
       "stream": "stdout",
       "text": [
        "! "
       ]
      },
      {
       "output_type": "stream",
       "stream": "stdout",
       "text": [
        "11400 "
       ]
      },
      {
       "output_type": "stream",
       "stream": "stdout",
       "text": [
        "! "
       ]
      },
      {
       "output_type": "stream",
       "stream": "stdout",
       "text": [
        "! "
       ]
      },
      {
       "output_type": "stream",
       "stream": "stdout",
       "text": [
        "! "
       ]
      },
      {
       "output_type": "stream",
       "stream": "stdout",
       "text": [
        "11500 "
       ]
      },
      {
       "output_type": "stream",
       "stream": "stdout",
       "text": [
        "! "
       ]
      },
      {
       "output_type": "stream",
       "stream": "stdout",
       "text": [
        "! "
       ]
      },
      {
       "output_type": "stream",
       "stream": "stdout",
       "text": [
        "! "
       ]
      },
      {
       "output_type": "stream",
       "stream": "stdout",
       "text": [
        "! "
       ]
      },
      {
       "output_type": "stream",
       "stream": "stdout",
       "text": [
        "! "
       ]
      },
      {
       "output_type": "stream",
       "stream": "stdout",
       "text": [
        "! "
       ]
      },
      {
       "output_type": "stream",
       "stream": "stdout",
       "text": [
        "11600 "
       ]
      },
      {
       "output_type": "stream",
       "stream": "stdout",
       "text": [
        "! "
       ]
      },
      {
       "output_type": "stream",
       "stream": "stdout",
       "text": [
        "! "
       ]
      },
      {
       "output_type": "stream",
       "stream": "stdout",
       "text": [
        "11700 "
       ]
      },
      {
       "output_type": "stream",
       "stream": "stdout",
       "text": [
        "! "
       ]
      },
      {
       "output_type": "stream",
       "stream": "stdout",
       "text": [
        "! "
       ]
      },
      {
       "output_type": "stream",
       "stream": "stdout",
       "text": [
        "! "
       ]
      },
      {
       "output_type": "stream",
       "stream": "stdout",
       "text": [
        "11800 "
       ]
      },
      {
       "output_type": "stream",
       "stream": "stdout",
       "text": [
        "! "
       ]
      },
      {
       "output_type": "stream",
       "stream": "stdout",
       "text": [
        "! "
       ]
      },
      {
       "output_type": "stream",
       "stream": "stdout",
       "text": [
        "! "
       ]
      },
      {
       "output_type": "stream",
       "stream": "stdout",
       "text": [
        "! "
       ]
      },
      {
       "output_type": "stream",
       "stream": "stdout",
       "text": [
        "! "
       ]
      },
      {
       "output_type": "stream",
       "stream": "stdout",
       "text": [
        "! "
       ]
      },
      {
       "output_type": "stream",
       "stream": "stdout",
       "text": [
        "11900 "
       ]
      },
      {
       "output_type": "stream",
       "stream": "stdout",
       "text": [
        "! "
       ]
      },
      {
       "output_type": "stream",
       "stream": "stdout",
       "text": [
        "! "
       ]
      },
      {
       "output_type": "stream",
       "stream": "stdout",
       "text": [
        "12000 "
       ]
      },
      {
       "output_type": "stream",
       "stream": "stdout",
       "text": [
        "! "
       ]
      },
      {
       "output_type": "stream",
       "stream": "stdout",
       "text": [
        "! "
       ]
      },
      {
       "output_type": "stream",
       "stream": "stdout",
       "text": [
        "! "
       ]
      },
      {
       "output_type": "stream",
       "stream": "stdout",
       "text": [
        "! "
       ]
      },
      {
       "output_type": "stream",
       "stream": "stdout",
       "text": [
        "! "
       ]
      },
      {
       "output_type": "stream",
       "stream": "stdout",
       "text": [
        "! "
       ]
      },
      {
       "output_type": "stream",
       "stream": "stdout",
       "text": [
        "! "
       ]
      },
      {
       "output_type": "stream",
       "stream": "stdout",
       "text": [
        "12100 ! "
       ]
      },
      {
       "output_type": "stream",
       "stream": "stdout",
       "text": [
        "! "
       ]
      },
      {
       "output_type": "stream",
       "stream": "stdout",
       "text": [
        "! "
       ]
      },
      {
       "output_type": "stream",
       "stream": "stdout",
       "text": [
        "! "
       ]
      },
      {
       "output_type": "stream",
       "stream": "stdout",
       "text": [
        "! "
       ]
      },
      {
       "output_type": "stream",
       "stream": "stdout",
       "text": [
        "! "
       ]
      },
      {
       "output_type": "stream",
       "stream": "stdout",
       "text": [
        "! "
       ]
      },
      {
       "output_type": "stream",
       "stream": "stdout",
       "text": [
        "12200 "
       ]
      },
      {
       "output_type": "stream",
       "stream": "stdout",
       "text": [
        "! "
       ]
      },
      {
       "output_type": "stream",
       "stream": "stdout",
       "text": [
        "12300 "
       ]
      },
      {
       "output_type": "stream",
       "stream": "stdout",
       "text": [
        "! "
       ]
      },
      {
       "output_type": "stream",
       "stream": "stdout",
       "text": [
        "! "
       ]
      },
      {
       "output_type": "stream",
       "stream": "stdout",
       "text": [
        "! "
       ]
      },
      {
       "output_type": "stream",
       "stream": "stdout",
       "text": [
        "! "
       ]
      },
      {
       "output_type": "stream",
       "stream": "stdout",
       "text": [
        "12400 "
       ]
      },
      {
       "output_type": "stream",
       "stream": "stdout",
       "text": [
        "! "
       ]
      },
      {
       "output_type": "stream",
       "stream": "stdout",
       "text": [
        "! "
       ]
      },
      {
       "output_type": "stream",
       "stream": "stdout",
       "text": [
        "! "
       ]
      },
      {
       "output_type": "stream",
       "stream": "stdout",
       "text": [
        "12500 "
       ]
      },
      {
       "output_type": "stream",
       "stream": "stdout",
       "text": [
        "! "
       ]
      },
      {
       "output_type": "stream",
       "stream": "stdout",
       "text": [
        "! "
       ]
      },
      {
       "output_type": "stream",
       "stream": "stdout",
       "text": [
        "! "
       ]
      },
      {
       "output_type": "stream",
       "stream": "stdout",
       "text": [
        "! "
       ]
      },
      {
       "output_type": "stream",
       "stream": "stdout",
       "text": [
        "! "
       ]
      },
      {
       "output_type": "stream",
       "stream": "stdout",
       "text": [
        "! "
       ]
      },
      {
       "output_type": "stream",
       "stream": "stdout",
       "text": [
        "12600 "
       ]
      },
      {
       "output_type": "stream",
       "stream": "stdout",
       "text": [
        "! ! ! "
       ]
      },
      {
       "output_type": "stream",
       "stream": "stdout",
       "text": [
        "! "
       ]
      },
      {
       "output_type": "stream",
       "stream": "stdout",
       "text": [
        "12700 "
       ]
      },
      {
       "output_type": "stream",
       "stream": "stdout",
       "text": [
        "! "
       ]
      },
      {
       "output_type": "stream",
       "stream": "stdout",
       "text": [
        "! "
       ]
      },
      {
       "output_type": "stream",
       "stream": "stdout",
       "text": [
        "! "
       ]
      },
      {
       "output_type": "stream",
       "stream": "stdout",
       "text": [
        "! "
       ]
      },
      {
       "output_type": "stream",
       "stream": "stdout",
       "text": [
        "! "
       ]
      },
      {
       "output_type": "stream",
       "stream": "stdout",
       "text": [
        "12800 "
       ]
      },
      {
       "output_type": "stream",
       "stream": "stdout",
       "text": [
        "! "
       ]
      },
      {
       "output_type": "stream",
       "stream": "stdout",
       "text": [
        "! "
       ]
      },
      {
       "output_type": "stream",
       "stream": "stdout",
       "text": [
        "! ! "
       ]
      },
      {
       "output_type": "stream",
       "stream": "stdout",
       "text": [
        "12900 "
       ]
      },
      {
       "output_type": "stream",
       "stream": "stdout",
       "text": [
        "! "
       ]
      },
      {
       "output_type": "stream",
       "stream": "stdout",
       "text": [
        "! "
       ]
      },
      {
       "output_type": "stream",
       "stream": "stdout",
       "text": [
        "13000 "
       ]
      },
      {
       "output_type": "stream",
       "stream": "stdout",
       "text": [
        "! "
       ]
      },
      {
       "output_type": "stream",
       "stream": "stdout",
       "text": [
        "! "
       ]
      },
      {
       "output_type": "stream",
       "stream": "stdout",
       "text": [
        "! "
       ]
      },
      {
       "output_type": "stream",
       "stream": "stdout",
       "text": [
        "13100 ! "
       ]
      },
      {
       "output_type": "stream",
       "stream": "stdout",
       "text": [
        "! ! "
       ]
      },
      {
       "output_type": "stream",
       "stream": "stdout",
       "text": [
        "13200 "
       ]
      },
      {
       "output_type": "stream",
       "stream": "stdout",
       "text": [
        "! "
       ]
      },
      {
       "output_type": "stream",
       "stream": "stdout",
       "text": [
        "! "
       ]
      },
      {
       "output_type": "stream",
       "stream": "stdout",
       "text": [
        "! "
       ]
      },
      {
       "output_type": "stream",
       "stream": "stdout",
       "text": [
        "! "
       ]
      },
      {
       "output_type": "stream",
       "stream": "stdout",
       "text": [
        "13300 "
       ]
      },
      {
       "output_type": "stream",
       "stream": "stdout",
       "text": [
        "! "
       ]
      },
      {
       "output_type": "stream",
       "stream": "stdout",
       "text": [
        "! "
       ]
      },
      {
       "output_type": "stream",
       "stream": "stdout",
       "text": [
        "! "
       ]
      },
      {
       "output_type": "stream",
       "stream": "stdout",
       "text": [
        "! "
       ]
      },
      {
       "output_type": "stream",
       "stream": "stdout",
       "text": [
        "! "
       ]
      },
      {
       "output_type": "stream",
       "stream": "stdout",
       "text": [
        "13400 "
       ]
      },
      {
       "output_type": "stream",
       "stream": "stdout",
       "text": [
        "! "
       ]
      },
      {
       "output_type": "stream",
       "stream": "stdout",
       "text": [
        "! "
       ]
      },
      {
       "output_type": "stream",
       "stream": "stdout",
       "text": [
        "! "
       ]
      },
      {
       "output_type": "stream",
       "stream": "stdout",
       "text": [
        "! "
       ]
      },
      {
       "output_type": "stream",
       "stream": "stdout",
       "text": [
        "! "
       ]
      },
      {
       "output_type": "stream",
       "stream": "stdout",
       "text": [
        "! "
       ]
      },
      {
       "output_type": "stream",
       "stream": "stdout",
       "text": [
        "13500 "
       ]
      },
      {
       "output_type": "stream",
       "stream": "stdout",
       "text": [
        "! "
       ]
      },
      {
       "output_type": "stream",
       "stream": "stdout",
       "text": [
        "! ! "
       ]
      },
      {
       "output_type": "stream",
       "stream": "stdout",
       "text": [
        "! "
       ]
      },
      {
       "output_type": "stream",
       "stream": "stdout",
       "text": [
        "13600 "
       ]
      },
      {
       "output_type": "stream",
       "stream": "stdout",
       "text": [
        "! "
       ]
      },
      {
       "output_type": "stream",
       "stream": "stdout",
       "text": [
        "! "
       ]
      },
      {
       "output_type": "stream",
       "stream": "stdout",
       "text": [
        "13700 "
       ]
      },
      {
       "output_type": "stream",
       "stream": "stdout",
       "text": [
        "! "
       ]
      },
      {
       "output_type": "stream",
       "stream": "stdout",
       "text": [
        "! "
       ]
      },
      {
       "output_type": "stream",
       "stream": "stdout",
       "text": [
        "! "
       ]
      },
      {
       "output_type": "stream",
       "stream": "stdout",
       "text": [
        "! "
       ]
      },
      {
       "output_type": "stream",
       "stream": "stdout",
       "text": [
        "! 13800 "
       ]
      },
      {
       "output_type": "stream",
       "stream": "stdout",
       "text": [
        "! "
       ]
      },
      {
       "output_type": "stream",
       "stream": "stdout",
       "text": [
        "! "
       ]
      },
      {
       "output_type": "stream",
       "stream": "stdout",
       "text": [
        "! "
       ]
      },
      {
       "output_type": "stream",
       "stream": "stdout",
       "text": [
        "13900 ! "
       ]
      },
      {
       "output_type": "stream",
       "stream": "stdout",
       "text": [
        "! "
       ]
      },
      {
       "output_type": "stream",
       "stream": "stdout",
       "text": [
        "14000 "
       ]
      },
      {
       "output_type": "stream",
       "stream": "stdout",
       "text": [
        "! "
       ]
      },
      {
       "output_type": "stream",
       "stream": "stdout",
       "text": [
        "! "
       ]
      },
      {
       "output_type": "stream",
       "stream": "stdout",
       "text": [
        "! "
       ]
      },
      {
       "output_type": "stream",
       "stream": "stdout",
       "text": [
        "14100 "
       ]
      },
      {
       "output_type": "stream",
       "stream": "stdout",
       "text": [
        "! "
       ]
      },
      {
       "output_type": "stream",
       "stream": "stdout",
       "text": [
        "! "
       ]
      },
      {
       "output_type": "stream",
       "stream": "stdout",
       "text": [
        "14200 "
       ]
      },
      {
       "output_type": "stream",
       "stream": "stdout",
       "text": [
        "! "
       ]
      },
      {
       "output_type": "stream",
       "stream": "stdout",
       "text": [
        "! "
       ]
      },
      {
       "output_type": "stream",
       "stream": "stdout",
       "text": [
        "! "
       ]
      },
      {
       "output_type": "stream",
       "stream": "stdout",
       "text": [
        "14300 "
       ]
      },
      {
       "output_type": "stream",
       "stream": "stdout",
       "text": [
        "! "
       ]
      },
      {
       "output_type": "stream",
       "stream": "stdout",
       "text": [
        "! "
       ]
      },
      {
       "output_type": "stream",
       "stream": "stdout",
       "text": [
        "! ! "
       ]
      },
      {
       "output_type": "stream",
       "stream": "stdout",
       "text": [
        "! "
       ]
      },
      {
       "output_type": "stream",
       "stream": "stdout",
       "text": [
        "! 14400 "
       ]
      },
      {
       "output_type": "stream",
       "stream": "stdout",
       "text": [
        "! "
       ]
      },
      {
       "output_type": "stream",
       "stream": "stdout",
       "text": [
        "! "
       ]
      },
      {
       "output_type": "stream",
       "stream": "stdout",
       "text": [
        "! "
       ]
      },
      {
       "output_type": "stream",
       "stream": "stdout",
       "text": [
        "14500 "
       ]
      },
      {
       "output_type": "stream",
       "stream": "stdout",
       "text": [
        "! "
       ]
      },
      {
       "output_type": "stream",
       "stream": "stdout",
       "text": [
        "! "
       ]
      },
      {
       "output_type": "stream",
       "stream": "stdout",
       "text": [
        "14600 "
       ]
      },
      {
       "output_type": "stream",
       "stream": "stdout",
       "text": [
        "! "
       ]
      },
      {
       "output_type": "stream",
       "stream": "stdout",
       "text": [
        "! "
       ]
      },
      {
       "output_type": "stream",
       "stream": "stdout",
       "text": [
        "! "
       ]
      },
      {
       "output_type": "stream",
       "stream": "stdout",
       "text": [
        "! "
       ]
      },
      {
       "output_type": "stream",
       "stream": "stdout",
       "text": [
        "14700 "
       ]
      },
      {
       "output_type": "stream",
       "stream": "stdout",
       "text": [
        "! "
       ]
      },
      {
       "output_type": "stream",
       "stream": "stdout",
       "text": [
        "! "
       ]
      },
      {
       "output_type": "stream",
       "stream": "stdout",
       "text": [
        "! "
       ]
      },
      {
       "output_type": "stream",
       "stream": "stdout",
       "text": [
        "! "
       ]
      },
      {
       "output_type": "stream",
       "stream": "stdout",
       "text": [
        "! "
       ]
      },
      {
       "output_type": "stream",
       "stream": "stdout",
       "text": [
        "14800 "
       ]
      },
      {
       "output_type": "stream",
       "stream": "stdout",
       "text": [
        "! ! "
       ]
      },
      {
       "output_type": "stream",
       "stream": "stdout",
       "text": [
        "! "
       ]
      },
      {
       "output_type": "stream",
       "stream": "stdout",
       "text": [
        "! "
       ]
      },
      {
       "output_type": "stream",
       "stream": "stdout",
       "text": [
        "14900 "
       ]
      },
      {
       "output_type": "stream",
       "stream": "stdout",
       "text": [
        "! ! "
       ]
      },
      {
       "output_type": "stream",
       "stream": "stdout",
       "text": [
        "! ! "
       ]
      },
      {
       "output_type": "stream",
       "stream": "stdout",
       "text": [
        "15000 "
       ]
      },
      {
       "output_type": "stream",
       "stream": "stdout",
       "text": [
        "! "
       ]
      },
      {
       "output_type": "stream",
       "stream": "stdout",
       "text": [
        "! "
       ]
      },
      {
       "output_type": "stream",
       "stream": "stdout",
       "text": [
        "! "
       ]
      },
      {
       "output_type": "stream",
       "stream": "stdout",
       "text": [
        "! "
       ]
      },
      {
       "output_type": "stream",
       "stream": "stdout",
       "text": [
        "! "
       ]
      },
      {
       "output_type": "stream",
       "stream": "stdout",
       "text": [
        "15100 "
       ]
      },
      {
       "output_type": "stream",
       "stream": "stdout",
       "text": [
        "! "
       ]
      },
      {
       "output_type": "stream",
       "stream": "stdout",
       "text": [
        "! "
       ]
      },
      {
       "output_type": "stream",
       "stream": "stdout",
       "text": [
        "15200 "
       ]
      },
      {
       "output_type": "stream",
       "stream": "stdout",
       "text": [
        "! "
       ]
      },
      {
       "output_type": "stream",
       "stream": "stdout",
       "text": [
        "! "
       ]
      },
      {
       "output_type": "stream",
       "stream": "stdout",
       "text": [
        "! "
       ]
      },
      {
       "output_type": "stream",
       "stream": "stdout",
       "text": [
        "! ! "
       ]
      },
      {
       "output_type": "stream",
       "stream": "stdout",
       "text": [
        "! "
       ]
      },
      {
       "output_type": "stream",
       "stream": "stdout",
       "text": [
        "! "
       ]
      },
      {
       "output_type": "stream",
       "stream": "stdout",
       "text": [
        "! "
       ]
      },
      {
       "output_type": "stream",
       "stream": "stdout",
       "text": [
        "! ! "
       ]
      },
      {
       "output_type": "stream",
       "stream": "stdout",
       "text": [
        "15300 "
       ]
      },
      {
       "output_type": "stream",
       "stream": "stdout",
       "text": [
        "! "
       ]
      },
      {
       "output_type": "stream",
       "stream": "stdout",
       "text": [
        "! "
       ]
      },
      {
       "output_type": "stream",
       "stream": "stdout",
       "text": [
        "! "
       ]
      },
      {
       "output_type": "stream",
       "stream": "stdout",
       "text": [
        "! 15400 "
       ]
      },
      {
       "output_type": "stream",
       "stream": "stdout",
       "text": [
        "! "
       ]
      },
      {
       "output_type": "stream",
       "stream": "stdout",
       "text": [
        "! "
       ]
      },
      {
       "output_type": "stream",
       "stream": "stdout",
       "text": [
        "! 15500 "
       ]
      },
      {
       "output_type": "stream",
       "stream": "stdout",
       "text": [
        "! "
       ]
      },
      {
       "output_type": "stream",
       "stream": "stdout",
       "text": [
        "15600 "
       ]
      },
      {
       "output_type": "stream",
       "stream": "stdout",
       "text": [
        "! "
       ]
      },
      {
       "output_type": "stream",
       "stream": "stdout",
       "text": [
        "! "
       ]
      },
      {
       "output_type": "stream",
       "stream": "stdout",
       "text": [
        "! "
       ]
      },
      {
       "output_type": "stream",
       "stream": "stdout",
       "text": [
        "15700 "
       ]
      },
      {
       "output_type": "stream",
       "stream": "stdout",
       "text": [
        "! "
       ]
      },
      {
       "output_type": "stream",
       "stream": "stdout",
       "text": [
        "! "
       ]
      },
      {
       "output_type": "stream",
       "stream": "stdout",
       "text": [
        "15800 "
       ]
      },
      {
       "output_type": "stream",
       "stream": "stdout",
       "text": [
        "! "
       ]
      },
      {
       "output_type": "stream",
       "stream": "stdout",
       "text": [
        "! "
       ]
      },
      {
       "output_type": "stream",
       "stream": "stdout",
       "text": [
        "! "
       ]
      },
      {
       "output_type": "stream",
       "stream": "stdout",
       "text": [
        "15900 "
       ]
      },
      {
       "output_type": "stream",
       "stream": "stdout",
       "text": [
        "! "
       ]
      },
      {
       "output_type": "stream",
       "stream": "stdout",
       "text": [
        "! ! "
       ]
      },
      {
       "output_type": "stream",
       "stream": "stdout",
       "text": [
        "! "
       ]
      },
      {
       "output_type": "stream",
       "stream": "stdout",
       "text": [
        "! "
       ]
      },
      {
       "output_type": "stream",
       "stream": "stdout",
       "text": [
        "16000 "
       ]
      },
      {
       "output_type": "stream",
       "stream": "stdout",
       "text": [
        "! "
       ]
      },
      {
       "output_type": "stream",
       "stream": "stdout",
       "text": [
        "! "
       ]
      },
      {
       "output_type": "stream",
       "stream": "stdout",
       "text": [
        "! "
       ]
      },
      {
       "output_type": "stream",
       "stream": "stdout",
       "text": [
        "! "
       ]
      },
      {
       "output_type": "stream",
       "stream": "stdout",
       "text": [
        "16100 "
       ]
      },
      {
       "output_type": "stream",
       "stream": "stdout",
       "text": [
        "! ! "
       ]
      },
      {
       "output_type": "stream",
       "stream": "stdout",
       "text": [
        "! "
       ]
      },
      {
       "output_type": "stream",
       "stream": "stdout",
       "text": [
        "! "
       ]
      },
      {
       "output_type": "stream",
       "stream": "stdout",
       "text": [
        "! 16200 ! "
       ]
      },
      {
       "output_type": "stream",
       "stream": "stdout",
       "text": [
        "! "
       ]
      },
      {
       "output_type": "stream",
       "stream": "stdout",
       "text": [
        "16300 "
       ]
      },
      {
       "output_type": "stream",
       "stream": "stdout",
       "text": [
        "16400 "
       ]
      },
      {
       "output_type": "stream",
       "stream": "stdout",
       "text": [
        "! "
       ]
      },
      {
       "output_type": "stream",
       "stream": "stdout",
       "text": [
        "! "
       ]
      },
      {
       "output_type": "stream",
       "stream": "stdout",
       "text": [
        "! "
       ]
      },
      {
       "output_type": "stream",
       "stream": "stdout",
       "text": [
        "! ! "
       ]
      },
      {
       "output_type": "stream",
       "stream": "stdout",
       "text": [
        "16500 "
       ]
      },
      {
       "output_type": "stream",
       "stream": "stdout",
       "text": [
        "16600 "
       ]
      },
      {
       "output_type": "stream",
       "stream": "stdout",
       "text": [
        "! "
       ]
      },
      {
       "output_type": "stream",
       "stream": "stdout",
       "text": [
        "16700 "
       ]
      },
      {
       "output_type": "stream",
       "stream": "stdout",
       "text": [
        "! "
       ]
      },
      {
       "output_type": "stream",
       "stream": "stdout",
       "text": [
        "! "
       ]
      },
      {
       "output_type": "stream",
       "stream": "stdout",
       "text": [
        "! "
       ]
      },
      {
       "output_type": "stream",
       "stream": "stdout",
       "text": [
        "16800 "
       ]
      },
      {
       "output_type": "stream",
       "stream": "stdout",
       "text": [
        "! "
       ]
      },
      {
       "output_type": "stream",
       "stream": "stdout",
       "text": [
        "! "
       ]
      },
      {
       "output_type": "stream",
       "stream": "stdout",
       "text": [
        "! "
       ]
      },
      {
       "output_type": "stream",
       "stream": "stdout",
       "text": [
        "! "
       ]
      },
      {
       "output_type": "stream",
       "stream": "stdout",
       "text": [
        "16900 "
       ]
      },
      {
       "output_type": "stream",
       "stream": "stdout",
       "text": [
        "! "
       ]
      },
      {
       "output_type": "stream",
       "stream": "stdout",
       "text": [
        "! "
       ]
      },
      {
       "output_type": "stream",
       "stream": "stdout",
       "text": [
        "! "
       ]
      },
      {
       "output_type": "stream",
       "stream": "stdout",
       "text": [
        "! "
       ]
      },
      {
       "output_type": "stream",
       "stream": "stdout",
       "text": [
        "17000 "
       ]
      },
      {
       "output_type": "stream",
       "stream": "stdout",
       "text": [
        "! "
       ]
      },
      {
       "output_type": "stream",
       "stream": "stdout",
       "text": [
        "17100 "
       ]
      },
      {
       "output_type": "stream",
       "stream": "stdout",
       "text": [
        "! "
       ]
      },
      {
       "output_type": "stream",
       "stream": "stdout",
       "text": [
        "! "
       ]
      },
      {
       "output_type": "stream",
       "stream": "stdout",
       "text": [
        "17200 "
       ]
      },
      {
       "output_type": "stream",
       "stream": "stdout",
       "text": [
        "! "
       ]
      },
      {
       "output_type": "stream",
       "stream": "stdout",
       "text": [
        "! "
       ]
      },
      {
       "output_type": "stream",
       "stream": "stdout",
       "text": [
        "! "
       ]
      },
      {
       "output_type": "stream",
       "stream": "stdout",
       "text": [
        "! "
       ]
      },
      {
       "output_type": "stream",
       "stream": "stdout",
       "text": [
        "17300 "
       ]
      },
      {
       "output_type": "stream",
       "stream": "stdout",
       "text": [
        "! "
       ]
      },
      {
       "output_type": "stream",
       "stream": "stdout",
       "text": [
        "! "
       ]
      },
      {
       "output_type": "stream",
       "stream": "stdout",
       "text": [
        "17400 "
       ]
      },
      {
       "output_type": "stream",
       "stream": "stdout",
       "text": [
        "! "
       ]
      },
      {
       "output_type": "stream",
       "stream": "stdout",
       "text": [
        "! "
       ]
      },
      {
       "output_type": "stream",
       "stream": "stdout",
       "text": [
        "! "
       ]
      },
      {
       "output_type": "stream",
       "stream": "stdout",
       "text": [
        "! "
       ]
      },
      {
       "output_type": "stream",
       "stream": "stdout",
       "text": [
        "! "
       ]
      },
      {
       "output_type": "stream",
       "stream": "stdout",
       "text": [
        "! "
       ]
      },
      {
       "output_type": "stream",
       "stream": "stdout",
       "text": [
        "! "
       ]
      },
      {
       "output_type": "stream",
       "stream": "stdout",
       "text": [
        "17500 "
       ]
      },
      {
       "output_type": "stream",
       "stream": "stdout",
       "text": [
        "! "
       ]
      },
      {
       "output_type": "stream",
       "stream": "stdout",
       "text": [
        "! "
       ]
      },
      {
       "output_type": "stream",
       "stream": "stdout",
       "text": [
        "! ! "
       ]
      },
      {
       "output_type": "stream",
       "stream": "stdout",
       "text": [
        "! "
       ]
      },
      {
       "output_type": "stream",
       "stream": "stdout",
       "text": [
        "! "
       ]
      },
      {
       "output_type": "stream",
       "stream": "stdout",
       "text": [
        "! "
       ]
      },
      {
       "output_type": "stream",
       "stream": "stdout",
       "text": [
        "17600 "
       ]
      },
      {
       "output_type": "stream",
       "stream": "stdout",
       "text": [
        "! "
       ]
      },
      {
       "output_type": "stream",
       "stream": "stdout",
       "text": [
        "! "
       ]
      },
      {
       "output_type": "stream",
       "stream": "stdout",
       "text": [
        "! "
       ]
      },
      {
       "output_type": "stream",
       "stream": "stdout",
       "text": [
        "17700 "
       ]
      },
      {
       "output_type": "stream",
       "stream": "stdout",
       "text": [
        "! "
       ]
      },
      {
       "output_type": "stream",
       "stream": "stdout",
       "text": [
        "! "
       ]
      },
      {
       "output_type": "stream",
       "stream": "stdout",
       "text": [
        "! ! "
       ]
      },
      {
       "output_type": "stream",
       "stream": "stdout",
       "text": [
        "17800 "
       ]
      },
      {
       "output_type": "stream",
       "stream": "stdout",
       "text": [
        "! "
       ]
      },
      {
       "output_type": "stream",
       "stream": "stdout",
       "text": [
        "17900 "
       ]
      },
      {
       "output_type": "stream",
       "stream": "stdout",
       "text": [
        "! "
       ]
      },
      {
       "output_type": "stream",
       "stream": "stdout",
       "text": [
        "18000 "
       ]
      },
      {
       "output_type": "stream",
       "stream": "stdout",
       "text": [
        "! "
       ]
      },
      {
       "output_type": "stream",
       "stream": "stdout",
       "text": [
        "! "
       ]
      },
      {
       "output_type": "stream",
       "stream": "stdout",
       "text": [
        "18100 "
       ]
      },
      {
       "output_type": "stream",
       "stream": "stdout",
       "text": [
        "! "
       ]
      },
      {
       "output_type": "stream",
       "stream": "stdout",
       "text": [
        "! "
       ]
      },
      {
       "output_type": "stream",
       "stream": "stdout",
       "text": [
        "! "
       ]
      },
      {
       "output_type": "stream",
       "stream": "stdout",
       "text": [
        "18200 "
       ]
      },
      {
       "output_type": "stream",
       "stream": "stdout",
       "text": [
        "! ! "
       ]
      },
      {
       "output_type": "stream",
       "stream": "stdout",
       "text": [
        "! "
       ]
      },
      {
       "output_type": "stream",
       "stream": "stdout",
       "text": [
        "! "
       ]
      },
      {
       "output_type": "stream",
       "stream": "stdout",
       "text": [
        "! "
       ]
      },
      {
       "output_type": "stream",
       "stream": "stdout",
       "text": [
        "18300 "
       ]
      },
      {
       "output_type": "stream",
       "stream": "stdout",
       "text": [
        "! ! "
       ]
      },
      {
       "output_type": "stream",
       "stream": "stdout",
       "text": [
        "! "
       ]
      },
      {
       "output_type": "stream",
       "stream": "stdout",
       "text": [
        "18400 "
       ]
      },
      {
       "output_type": "stream",
       "stream": "stdout",
       "text": [
        "! "
       ]
      },
      {
       "output_type": "stream",
       "stream": "stdout",
       "text": [
        "! "
       ]
      },
      {
       "output_type": "stream",
       "stream": "stdout",
       "text": [
        "18500 "
       ]
      },
      {
       "output_type": "stream",
       "stream": "stdout",
       "text": [
        "! "
       ]
      },
      {
       "output_type": "stream",
       "stream": "stdout",
       "text": [
        "! "
       ]
      },
      {
       "output_type": "stream",
       "stream": "stdout",
       "text": [
        "! "
       ]
      },
      {
       "output_type": "stream",
       "stream": "stdout",
       "text": [
        "! "
       ]
      },
      {
       "output_type": "stream",
       "stream": "stdout",
       "text": [
        "18600 "
       ]
      },
      {
       "output_type": "stream",
       "stream": "stdout",
       "text": [
        "! "
       ]
      },
      {
       "output_type": "stream",
       "stream": "stdout",
       "text": [
        "! "
       ]
      },
      {
       "output_type": "stream",
       "stream": "stdout",
       "text": [
        "18700 "
       ]
      },
      {
       "output_type": "stream",
       "stream": "stdout",
       "text": [
        "! "
       ]
      },
      {
       "output_type": "stream",
       "stream": "stdout",
       "text": [
        "! ! "
       ]
      },
      {
       "output_type": "stream",
       "stream": "stdout",
       "text": [
        "18800 "
       ]
      },
      {
       "output_type": "stream",
       "stream": "stdout",
       "text": [
        "! "
       ]
      },
      {
       "output_type": "stream",
       "stream": "stdout",
       "text": [
        "18900 "
       ]
      },
      {
       "output_type": "stream",
       "stream": "stdout",
       "text": [
        "19000 "
       ]
      },
      {
       "output_type": "stream",
       "stream": "stdout",
       "text": [
        "! "
       ]
      },
      {
       "output_type": "stream",
       "stream": "stdout",
       "text": [
        "! "
       ]
      },
      {
       "output_type": "stream",
       "stream": "stdout",
       "text": [
        "19100 "
       ]
      },
      {
       "output_type": "stream",
       "stream": "stdout",
       "text": [
        "! "
       ]
      },
      {
       "output_type": "stream",
       "stream": "stdout",
       "text": [
        "19200 "
       ]
      },
      {
       "output_type": "stream",
       "stream": "stdout",
       "text": [
        "! "
       ]
      },
      {
       "output_type": "stream",
       "stream": "stdout",
       "text": [
        "! "
       ]
      },
      {
       "output_type": "stream",
       "stream": "stdout",
       "text": [
        "19300 "
       ]
      },
      {
       "output_type": "stream",
       "stream": "stdout",
       "text": [
        "19400 "
       ]
      },
      {
       "output_type": "stream",
       "stream": "stdout",
       "text": [
        "! ! "
       ]
      },
      {
       "output_type": "stream",
       "stream": "stdout",
       "text": [
        "! "
       ]
      },
      {
       "output_type": "stream",
       "stream": "stdout",
       "text": [
        "! "
       ]
      },
      {
       "output_type": "stream",
       "stream": "stdout",
       "text": [
        "! "
       ]
      },
      {
       "output_type": "stream",
       "stream": "stdout",
       "text": [
        "19500 "
       ]
      },
      {
       "output_type": "stream",
       "stream": "stdout",
       "text": [
        "! "
       ]
      },
      {
       "output_type": "stream",
       "stream": "stdout",
       "text": [
        "! "
       ]
      },
      {
       "output_type": "stream",
       "stream": "stdout",
       "text": [
        "! "
       ]
      },
      {
       "output_type": "stream",
       "stream": "stdout",
       "text": [
        "! "
       ]
      },
      {
       "output_type": "stream",
       "stream": "stdout",
       "text": [
        "! "
       ]
      },
      {
       "output_type": "stream",
       "stream": "stdout",
       "text": [
        "19600 ! "
       ]
      },
      {
       "output_type": "stream",
       "stream": "stdout",
       "text": [
        "! "
       ]
      },
      {
       "output_type": "stream",
       "stream": "stdout",
       "text": [
        "! "
       ]
      },
      {
       "output_type": "stream",
       "stream": "stdout",
       "text": [
        "19700 "
       ]
      },
      {
       "output_type": "stream",
       "stream": "stdout",
       "text": [
        "! "
       ]
      },
      {
       "output_type": "stream",
       "stream": "stdout",
       "text": [
        "! "
       ]
      },
      {
       "output_type": "stream",
       "stream": "stdout",
       "text": [
        "! "
       ]
      },
      {
       "output_type": "stream",
       "stream": "stdout",
       "text": [
        "! "
       ]
      },
      {
       "output_type": "stream",
       "stream": "stdout",
       "text": [
        "19800 "
       ]
      },
      {
       "output_type": "stream",
       "stream": "stdout",
       "text": [
        "! "
       ]
      },
      {
       "output_type": "stream",
       "stream": "stdout",
       "text": [
        "! "
       ]
      },
      {
       "output_type": "stream",
       "stream": "stdout",
       "text": [
        "! "
       ]
      },
      {
       "output_type": "stream",
       "stream": "stdout",
       "text": [
        "19900 "
       ]
      },
      {
       "output_type": "stream",
       "stream": "stdout",
       "text": [
        "! ! "
       ]
      },
      {
       "output_type": "stream",
       "stream": "stdout",
       "text": [
        "! "
       ]
      },
      {
       "output_type": "stream",
       "stream": "stdout",
       "text": [
        "! 20000 "
       ]
      },
      {
       "output_type": "stream",
       "stream": "stdout",
       "text": [
        "! "
       ]
      },
      {
       "output_type": "stream",
       "stream": "stdout",
       "text": [
        "! "
       ]
      },
      {
       "output_type": "stream",
       "stream": "stdout",
       "text": [
        "! 20100 "
       ]
      },
      {
       "output_type": "stream",
       "stream": "stdout",
       "text": [
        "! "
       ]
      },
      {
       "output_type": "stream",
       "stream": "stdout",
       "text": [
        "! 20200 "
       ]
      },
      {
       "output_type": "stream",
       "stream": "stdout",
       "text": [
        "! "
       ]
      },
      {
       "output_type": "stream",
       "stream": "stdout",
       "text": [
        "! ! "
       ]
      },
      {
       "output_type": "stream",
       "stream": "stdout",
       "text": [
        "! "
       ]
      },
      {
       "output_type": "stream",
       "stream": "stdout",
       "text": [
        "! "
       ]
      },
      {
       "output_type": "stream",
       "stream": "stdout",
       "text": [
        "! "
       ]
      },
      {
       "output_type": "stream",
       "stream": "stdout",
       "text": [
        "20300 "
       ]
      },
      {
       "output_type": "stream",
       "stream": "stdout",
       "text": [
        "! ! "
       ]
      },
      {
       "output_type": "stream",
       "stream": "stdout",
       "text": [
        "! "
       ]
      },
      {
       "output_type": "stream",
       "stream": "stdout",
       "text": [
        "20400 ! "
       ]
      },
      {
       "output_type": "stream",
       "stream": "stdout",
       "text": [
        "! "
       ]
      },
      {
       "output_type": "stream",
       "stream": "stdout",
       "text": [
        "! "
       ]
      },
      {
       "output_type": "stream",
       "stream": "stdout",
       "text": [
        "! "
       ]
      },
      {
       "output_type": "stream",
       "stream": "stdout",
       "text": [
        "20500 "
       ]
      },
      {
       "output_type": "stream",
       "stream": "stdout",
       "text": [
        "! "
       ]
      },
      {
       "output_type": "stream",
       "stream": "stdout",
       "text": [
        "! "
       ]
      },
      {
       "output_type": "stream",
       "stream": "stdout",
       "text": [
        "20600 "
       ]
      },
      {
       "output_type": "stream",
       "stream": "stdout",
       "text": [
        "! "
       ]
      },
      {
       "output_type": "stream",
       "stream": "stdout",
       "text": [
        "! "
       ]
      },
      {
       "output_type": "stream",
       "stream": "stdout",
       "text": [
        "! "
       ]
      },
      {
       "output_type": "stream",
       "stream": "stdout",
       "text": [
        "20700 "
       ]
      },
      {
       "output_type": "stream",
       "stream": "stdout",
       "text": [
        "! "
       ]
      },
      {
       "output_type": "stream",
       "stream": "stdout",
       "text": [
        "! "
       ]
      },
      {
       "output_type": "stream",
       "stream": "stdout",
       "text": [
        "20800 ! "
       ]
      },
      {
       "output_type": "stream",
       "stream": "stdout",
       "text": [
        "! "
       ]
      },
      {
       "output_type": "stream",
       "stream": "stdout",
       "text": [
        "20900 "
       ]
      },
      {
       "output_type": "stream",
       "stream": "stdout",
       "text": [
        "! "
       ]
      },
      {
       "output_type": "stream",
       "stream": "stdout",
       "text": [
        "! "
       ]
      },
      {
       "output_type": "stream",
       "stream": "stdout",
       "text": [
        "21000 "
       ]
      },
      {
       "output_type": "stream",
       "stream": "stdout",
       "text": [
        "! "
       ]
      },
      {
       "output_type": "stream",
       "stream": "stdout",
       "text": [
        "! ! "
       ]
      },
      {
       "output_type": "stream",
       "stream": "stdout",
       "text": [
        "! "
       ]
      },
      {
       "output_type": "stream",
       "stream": "stdout",
       "text": [
        "! "
       ]
      },
      {
       "output_type": "stream",
       "stream": "stdout",
       "text": [
        "! "
       ]
      },
      {
       "output_type": "stream",
       "stream": "stdout",
       "text": [
        "21100 "
       ]
      },
      {
       "output_type": "stream",
       "stream": "stdout",
       "text": [
        "! "
       ]
      },
      {
       "output_type": "stream",
       "stream": "stdout",
       "text": [
        "! "
       ]
      },
      {
       "output_type": "stream",
       "stream": "stdout",
       "text": [
        "! "
       ]
      },
      {
       "output_type": "stream",
       "stream": "stdout",
       "text": [
        "21200 "
       ]
      },
      {
       "output_type": "stream",
       "stream": "stdout",
       "text": [
        "! "
       ]
      },
      {
       "output_type": "stream",
       "stream": "stdout",
       "text": [
        "! "
       ]
      },
      {
       "output_type": "stream",
       "stream": "stdout",
       "text": [
        "! "
       ]
      },
      {
       "output_type": "stream",
       "stream": "stdout",
       "text": [
        "! "
       ]
      },
      {
       "output_type": "stream",
       "stream": "stdout",
       "text": [
        "21300 "
       ]
      },
      {
       "output_type": "stream",
       "stream": "stdout",
       "text": [
        "! "
       ]
      },
      {
       "output_type": "stream",
       "stream": "stdout",
       "text": [
        "! "
       ]
      },
      {
       "output_type": "stream",
       "stream": "stdout",
       "text": [
        "! "
       ]
      },
      {
       "output_type": "stream",
       "stream": "stdout",
       "text": [
        "21400 "
       ]
      },
      {
       "output_type": "stream",
       "stream": "stdout",
       "text": [
        "! "
       ]
      },
      {
       "output_type": "stream",
       "stream": "stdout",
       "text": [
        "! "
       ]
      },
      {
       "output_type": "stream",
       "stream": "stdout",
       "text": [
        "21500 "
       ]
      },
      {
       "output_type": "stream",
       "stream": "stdout",
       "text": [
        "! ! "
       ]
      },
      {
       "output_type": "stream",
       "stream": "stdout",
       "text": [
        "! ! "
       ]
      },
      {
       "output_type": "stream",
       "stream": "stdout",
       "text": [
        "! "
       ]
      },
      {
       "output_type": "stream",
       "stream": "stdout",
       "text": [
        "21600 "
       ]
      },
      {
       "output_type": "stream",
       "stream": "stdout",
       "text": [
        "! "
       ]
      },
      {
       "output_type": "stream",
       "stream": "stdout",
       "text": [
        "21700 "
       ]
      },
      {
       "output_type": "stream",
       "stream": "stdout",
       "text": [
        "! "
       ]
      },
      {
       "output_type": "stream",
       "stream": "stdout",
       "text": [
        "! "
       ]
      },
      {
       "output_type": "stream",
       "stream": "stdout",
       "text": [
        "! "
       ]
      },
      {
       "output_type": "stream",
       "stream": "stdout",
       "text": [
        "21800 "
       ]
      },
      {
       "output_type": "stream",
       "stream": "stdout",
       "text": [
        "! "
       ]
      },
      {
       "output_type": "stream",
       "stream": "stdout",
       "text": [
        "! "
       ]
      },
      {
       "output_type": "stream",
       "stream": "stdout",
       "text": [
        "! "
       ]
      },
      {
       "output_type": "stream",
       "stream": "stdout",
       "text": [
        "! "
       ]
      },
      {
       "output_type": "stream",
       "stream": "stdout",
       "text": [
        "21900 "
       ]
      },
      {
       "output_type": "stream",
       "stream": "stdout",
       "text": [
        "! "
       ]
      },
      {
       "output_type": "stream",
       "stream": "stdout",
       "text": [
        "! "
       ]
      },
      {
       "output_type": "stream",
       "stream": "stdout",
       "text": [
        "22000 "
       ]
      },
      {
       "output_type": "stream",
       "stream": "stdout",
       "text": [
        "! "
       ]
      },
      {
       "output_type": "stream",
       "stream": "stdout",
       "text": [
        "! "
       ]
      },
      {
       "output_type": "stream",
       "stream": "stdout",
       "text": [
        "22100 "
       ]
      },
      {
       "output_type": "stream",
       "stream": "stdout",
       "text": [
        "! ! "
       ]
      },
      {
       "output_type": "stream",
       "stream": "stdout",
       "text": [
        "! 22200 "
       ]
      },
      {
       "output_type": "stream",
       "stream": "stdout",
       "text": [
        "! "
       ]
      },
      {
       "output_type": "stream",
       "stream": "stdout",
       "text": [
        "! ! "
       ]
      },
      {
       "output_type": "stream",
       "stream": "stdout",
       "text": [
        "! "
       ]
      },
      {
       "output_type": "stream",
       "stream": "stdout",
       "text": [
        "22300 "
       ]
      },
      {
       "output_type": "stream",
       "stream": "stdout",
       "text": [
        "! "
       ]
      },
      {
       "output_type": "stream",
       "stream": "stdout",
       "text": [
        "! "
       ]
      },
      {
       "output_type": "stream",
       "stream": "stdout",
       "text": [
        "22400 ! ! "
       ]
      },
      {
       "output_type": "stream",
       "stream": "stdout",
       "text": [
        "! "
       ]
      },
      {
       "output_type": "stream",
       "stream": "stdout",
       "text": [
        "! 22500 "
       ]
      },
      {
       "output_type": "stream",
       "stream": "stdout",
       "text": [
        "! "
       ]
      },
      {
       "output_type": "stream",
       "stream": "stdout",
       "text": [
        "! "
       ]
      },
      {
       "output_type": "stream",
       "stream": "stdout",
       "text": [
        "22600 "
       ]
      },
      {
       "output_type": "stream",
       "stream": "stdout",
       "text": [
        "! "
       ]
      },
      {
       "output_type": "stream",
       "stream": "stdout",
       "text": [
        "! "
       ]
      },
      {
       "output_type": "stream",
       "stream": "stdout",
       "text": [
        "! "
       ]
      },
      {
       "output_type": "stream",
       "stream": "stdout",
       "text": [
        "22700 "
       ]
      },
      {
       "output_type": "stream",
       "stream": "stdout",
       "text": [
        "! ! "
       ]
      },
      {
       "output_type": "stream",
       "stream": "stdout",
       "text": [
        "! "
       ]
      },
      {
       "output_type": "stream",
       "stream": "stdout",
       "text": [
        "! "
       ]
      },
      {
       "output_type": "stream",
       "stream": "stdout",
       "text": [
        "22800 "
       ]
      },
      {
       "output_type": "stream",
       "stream": "stdout",
       "text": [
        "! "
       ]
      },
      {
       "output_type": "stream",
       "stream": "stdout",
       "text": [
        "! "
       ]
      },
      {
       "output_type": "stream",
       "stream": "stdout",
       "text": [
        "! "
       ]
      },
      {
       "output_type": "stream",
       "stream": "stdout",
       "text": [
        "22900 "
       ]
      },
      {
       "output_type": "stream",
       "stream": "stdout",
       "text": [
        "! "
       ]
      },
      {
       "output_type": "stream",
       "stream": "stdout",
       "text": [
        "! "
       ]
      },
      {
       "output_type": "stream",
       "stream": "stdout",
       "text": [
        "23000 "
       ]
      },
      {
       "output_type": "stream",
       "stream": "stdout",
       "text": [
        "! "
       ]
      },
      {
       "output_type": "stream",
       "stream": "stdout",
       "text": [
        "! "
       ]
      },
      {
       "output_type": "stream",
       "stream": "stdout",
       "text": [
        "! "
       ]
      },
      {
       "output_type": "stream",
       "stream": "stdout",
       "text": [
        "! "
       ]
      },
      {
       "output_type": "stream",
       "stream": "stdout",
       "text": [
        "! "
       ]
      },
      {
       "output_type": "stream",
       "stream": "stdout",
       "text": [
        "! 23100 "
       ]
      },
      {
       "output_type": "stream",
       "stream": "stdout",
       "text": [
        "! "
       ]
      },
      {
       "output_type": "stream",
       "stream": "stdout",
       "text": [
        "! "
       ]
      },
      {
       "output_type": "stream",
       "stream": "stdout",
       "text": [
        "! "
       ]
      },
      {
       "output_type": "stream",
       "stream": "stdout",
       "text": [
        "! "
       ]
      },
      {
       "output_type": "stream",
       "stream": "stdout",
       "text": [
        "23200 "
       ]
      },
      {
       "output_type": "stream",
       "stream": "stdout",
       "text": [
        "! "
       ]
      },
      {
       "output_type": "stream",
       "stream": "stdout",
       "text": [
        "23300 "
       ]
      },
      {
       "output_type": "stream",
       "stream": "stdout",
       "text": [
        "! "
       ]
      },
      {
       "output_type": "stream",
       "stream": "stdout",
       "text": [
        "! "
       ]
      },
      {
       "output_type": "stream",
       "stream": "stdout",
       "text": [
        "! "
       ]
      },
      {
       "output_type": "stream",
       "stream": "stdout",
       "text": [
        "23400 "
       ]
      },
      {
       "output_type": "stream",
       "stream": "stdout",
       "text": [
        "! "
       ]
      },
      {
       "output_type": "stream",
       "stream": "stdout",
       "text": [
        "! "
       ]
      },
      {
       "output_type": "stream",
       "stream": "stdout",
       "text": [
        "23500 "
       ]
      },
      {
       "output_type": "stream",
       "stream": "stdout",
       "text": [
        "! "
       ]
      },
      {
       "output_type": "stream",
       "stream": "stdout",
       "text": [
        "23600 "
       ]
      },
      {
       "output_type": "stream",
       "stream": "stdout",
       "text": [
        "! ! "
       ]
      },
      {
       "output_type": "stream",
       "stream": "stdout",
       "text": [
        "! "
       ]
      },
      {
       "output_type": "stream",
       "stream": "stdout",
       "text": [
        "! "
       ]
      },
      {
       "output_type": "stream",
       "stream": "stdout",
       "text": [
        "! "
       ]
      },
      {
       "output_type": "stream",
       "stream": "stdout",
       "text": [
        "23700 "
       ]
      },
      {
       "output_type": "stream",
       "stream": "stdout",
       "text": [
        "23800 "
       ]
      },
      {
       "output_type": "stream",
       "stream": "stdout",
       "text": [
        "! ! "
       ]
      },
      {
       "output_type": "stream",
       "stream": "stdout",
       "text": [
        "! "
       ]
      },
      {
       "output_type": "stream",
       "stream": "stdout",
       "text": [
        "! "
       ]
      },
      {
       "output_type": "stream",
       "stream": "stdout",
       "text": [
        "! "
       ]
      },
      {
       "output_type": "stream",
       "stream": "stdout",
       "text": [
        "! "
       ]
      },
      {
       "output_type": "stream",
       "stream": "stdout",
       "text": [
        "23900 ! "
       ]
      },
      {
       "output_type": "stream",
       "stream": "stdout",
       "text": [
        "! "
       ]
      },
      {
       "output_type": "stream",
       "stream": "stdout",
       "text": [
        "24000 "
       ]
      },
      {
       "output_type": "stream",
       "stream": "stdout",
       "text": [
        "! "
       ]
      },
      {
       "output_type": "stream",
       "stream": "stdout",
       "text": [
        "! "
       ]
      },
      {
       "output_type": "stream",
       "stream": "stdout",
       "text": [
        "! "
       ]
      },
      {
       "output_type": "stream",
       "stream": "stdout",
       "text": [
        "24100 "
       ]
      },
      {
       "output_type": "stream",
       "stream": "stdout",
       "text": [
        "! "
       ]
      },
      {
       "output_type": "stream",
       "stream": "stdout",
       "text": [
        "! ! "
       ]
      },
      {
       "output_type": "stream",
       "stream": "stdout",
       "text": [
        "! "
       ]
      },
      {
       "output_type": "stream",
       "stream": "stdout",
       "text": [
        "! "
       ]
      },
      {
       "output_type": "stream",
       "stream": "stdout",
       "text": [
        "! "
       ]
      },
      {
       "output_type": "stream",
       "stream": "stdout",
       "text": [
        "24200 "
       ]
      },
      {
       "output_type": "stream",
       "stream": "stdout",
       "text": [
        "24300 "
       ]
      },
      {
       "output_type": "stream",
       "stream": "stdout",
       "text": [
        "! "
       ]
      },
      {
       "output_type": "stream",
       "stream": "stdout",
       "text": [
        "! "
       ]
      },
      {
       "output_type": "stream",
       "stream": "stdout",
       "text": [
        "! "
       ]
      },
      {
       "output_type": "stream",
       "stream": "stdout",
       "text": [
        "24400 "
       ]
      },
      {
       "output_type": "stream",
       "stream": "stdout",
       "text": [
        "! "
       ]
      },
      {
       "output_type": "stream",
       "stream": "stdout",
       "text": [
        "24500 "
       ]
      },
      {
       "output_type": "stream",
       "stream": "stdout",
       "text": [
        "! "
       ]
      },
      {
       "output_type": "stream",
       "stream": "stdout",
       "text": [
        "! "
       ]
      },
      {
       "output_type": "stream",
       "stream": "stdout",
       "text": [
        "24600 "
       ]
      },
      {
       "output_type": "stream",
       "stream": "stdout",
       "text": [
        "! "
       ]
      },
      {
       "output_type": "stream",
       "stream": "stdout",
       "text": [
        "24700 "
       ]
      },
      {
       "output_type": "stream",
       "stream": "stdout",
       "text": [
        "24800 "
       ]
      },
      {
       "output_type": "stream",
       "stream": "stdout",
       "text": [
        "24900 "
       ]
      },
      {
       "output_type": "stream",
       "stream": "stdout",
       "text": [
        "! "
       ]
      },
      {
       "output_type": "stream",
       "stream": "stdout",
       "text": [
        "! "
       ]
      },
      {
       "output_type": "stream",
       "stream": "stdout",
       "text": [
        "! ! "
       ]
      },
      {
       "output_type": "stream",
       "stream": "stdout",
       "text": [
        "! ! "
       ]
      },
      {
       "output_type": "stream",
       "stream": "stdout",
       "text": [
        "25000 "
       ]
      },
      {
       "output_type": "stream",
       "stream": "stdout",
       "text": [
        "! "
       ]
      },
      {
       "output_type": "stream",
       "stream": "stdout",
       "text": [
        "! "
       ]
      },
      {
       "output_type": "stream",
       "stream": "stdout",
       "text": [
        "! "
       ]
      },
      {
       "output_type": "stream",
       "stream": "stdout",
       "text": [
        "25100 "
       ]
      },
      {
       "output_type": "stream",
       "stream": "stdout",
       "text": [
        "! "
       ]
      },
      {
       "output_type": "stream",
       "stream": "stdout",
       "text": [
        "! "
       ]
      },
      {
       "output_type": "stream",
       "stream": "stdout",
       "text": [
        "! "
       ]
      },
      {
       "output_type": "stream",
       "stream": "stdout",
       "text": [
        "! "
       ]
      },
      {
       "output_type": "stream",
       "stream": "stdout",
       "text": [
        "! ! "
       ]
      },
      {
       "output_type": "stream",
       "stream": "stdout",
       "text": [
        "25200 "
       ]
      },
      {
       "output_type": "stream",
       "stream": "stdout",
       "text": [
        "! ! "
       ]
      },
      {
       "output_type": "stream",
       "stream": "stdout",
       "text": [
        "! "
       ]
      },
      {
       "output_type": "stream",
       "stream": "stdout",
       "text": [
        "! "
       ]
      },
      {
       "output_type": "stream",
       "stream": "stdout",
       "text": [
        "! "
       ]
      },
      {
       "output_type": "stream",
       "stream": "stdout",
       "text": [
        "25300 "
       ]
      },
      {
       "output_type": "stream",
       "stream": "stdout",
       "text": [
        "! "
       ]
      },
      {
       "output_type": "stream",
       "stream": "stdout",
       "text": [
        "25400 "
       ]
      },
      {
       "output_type": "stream",
       "stream": "stdout",
       "text": [
        "! "
       ]
      },
      {
       "output_type": "stream",
       "stream": "stdout",
       "text": [
        "25500 "
       ]
      },
      {
       "output_type": "stream",
       "stream": "stdout",
       "text": [
        "! "
       ]
      },
      {
       "output_type": "stream",
       "stream": "stdout",
       "text": [
        "! "
       ]
      },
      {
       "output_type": "stream",
       "stream": "stdout",
       "text": [
        "25600 "
       ]
      },
      {
       "output_type": "stream",
       "stream": "stdout",
       "text": [
        "! "
       ]
      },
      {
       "output_type": "stream",
       "stream": "stdout",
       "text": [
        "! "
       ]
      },
      {
       "output_type": "stream",
       "stream": "stdout",
       "text": [
        "! "
       ]
      },
      {
       "output_type": "stream",
       "stream": "stdout",
       "text": [
        "25700 "
       ]
      },
      {
       "output_type": "stream",
       "stream": "stdout",
       "text": [
        "! "
       ]
      },
      {
       "output_type": "stream",
       "stream": "stdout",
       "text": [
        "! "
       ]
      },
      {
       "output_type": "stream",
       "stream": "stdout",
       "text": [
        "25800 "
       ]
      },
      {
       "output_type": "stream",
       "stream": "stdout",
       "text": [
        "! "
       ]
      },
      {
       "output_type": "stream",
       "stream": "stdout",
       "text": [
        "! "
       ]
      },
      {
       "output_type": "stream",
       "stream": "stdout",
       "text": [
        "! "
       ]
      },
      {
       "output_type": "stream",
       "stream": "stdout",
       "text": [
        "! "
       ]
      },
      {
       "output_type": "stream",
       "stream": "stdout",
       "text": [
        "! "
       ]
      },
      {
       "output_type": "stream",
       "stream": "stdout",
       "text": [
        "25900 "
       ]
      },
      {
       "output_type": "stream",
       "stream": "stdout",
       "text": [
        "26000 "
       ]
      },
      {
       "output_type": "stream",
       "stream": "stdout",
       "text": [
        "! "
       ]
      },
      {
       "output_type": "stream",
       "stream": "stdout",
       "text": [
        "! "
       ]
      },
      {
       "output_type": "stream",
       "stream": "stdout",
       "text": [
        "26100 "
       ]
      },
      {
       "output_type": "stream",
       "stream": "stdout",
       "text": [
        "! "
       ]
      },
      {
       "output_type": "stream",
       "stream": "stdout",
       "text": [
        "! "
       ]
      },
      {
       "output_type": "stream",
       "stream": "stdout",
       "text": [
        "! "
       ]
      },
      {
       "output_type": "stream",
       "stream": "stdout",
       "text": [
        "! ! "
       ]
      },
      {
       "output_type": "stream",
       "stream": "stdout",
       "text": [
        "26200 "
       ]
      },
      {
       "output_type": "stream",
       "stream": "stdout",
       "text": [
        "! "
       ]
      },
      {
       "output_type": "stream",
       "stream": "stdout",
       "text": [
        "26300 "
       ]
      },
      {
       "output_type": "stream",
       "stream": "stdout",
       "text": [
        "! "
       ]
      },
      {
       "output_type": "stream",
       "stream": "stdout",
       "text": [
        "! "
       ]
      },
      {
       "output_type": "stream",
       "stream": "stdout",
       "text": [
        "26400 "
       ]
      },
      {
       "output_type": "stream",
       "stream": "stdout",
       "text": [
        "! "
       ]
      },
      {
       "output_type": "stream",
       "stream": "stdout",
       "text": [
        "! "
       ]
      },
      {
       "output_type": "stream",
       "stream": "stdout",
       "text": [
        "26500 "
       ]
      },
      {
       "output_type": "stream",
       "stream": "stdout",
       "text": [
        "! "
       ]
      },
      {
       "output_type": "stream",
       "stream": "stdout",
       "text": [
        "! "
       ]
      },
      {
       "output_type": "stream",
       "stream": "stdout",
       "text": [
        "26600 "
       ]
      },
      {
       "output_type": "stream",
       "stream": "stdout",
       "text": [
        "! "
       ]
      },
      {
       "output_type": "stream",
       "stream": "stdout",
       "text": [
        "! "
       ]
      },
      {
       "output_type": "stream",
       "stream": "stdout",
       "text": [
        "! "
       ]
      },
      {
       "output_type": "stream",
       "stream": "stdout",
       "text": [
        "26700 "
       ]
      },
      {
       "output_type": "stream",
       "stream": "stdout",
       "text": [
        "! "
       ]
      },
      {
       "output_type": "stream",
       "stream": "stdout",
       "text": [
        "! "
       ]
      },
      {
       "output_type": "stream",
       "stream": "stdout",
       "text": [
        "! 26800 ! "
       ]
      },
      {
       "output_type": "stream",
       "stream": "stdout",
       "text": [
        "! "
       ]
      },
      {
       "output_type": "stream",
       "stream": "stdout",
       "text": [
        "! "
       ]
      },
      {
       "output_type": "stream",
       "stream": "stdout",
       "text": [
        "26900 "
       ]
      },
      {
       "output_type": "stream",
       "stream": "stdout",
       "text": [
        "27000 "
       ]
      },
      {
       "output_type": "stream",
       "stream": "stdout",
       "text": [
        "! "
       ]
      },
      {
       "output_type": "stream",
       "stream": "stdout",
       "text": [
        "! "
       ]
      },
      {
       "output_type": "stream",
       "stream": "stdout",
       "text": [
        "! "
       ]
      },
      {
       "output_type": "stream",
       "stream": "stdout",
       "text": [
        "! 27100 "
       ]
      },
      {
       "output_type": "stream",
       "stream": "stdout",
       "text": [
        "! ! "
       ]
      },
      {
       "output_type": "stream",
       "stream": "stdout",
       "text": [
        "27200 "
       ]
      },
      {
       "output_type": "stream",
       "stream": "stdout",
       "text": [
        "! "
       ]
      },
      {
       "output_type": "stream",
       "stream": "stdout",
       "text": [
        "! "
       ]
      },
      {
       "output_type": "stream",
       "stream": "stdout",
       "text": [
        "27300 "
       ]
      },
      {
       "output_type": "stream",
       "stream": "stdout",
       "text": [
        "! "
       ]
      },
      {
       "output_type": "stream",
       "stream": "stdout",
       "text": [
        "27400 "
       ]
      },
      {
       "output_type": "stream",
       "stream": "stdout",
       "text": [
        "! ! "
       ]
      },
      {
       "output_type": "stream",
       "stream": "stdout",
       "text": [
        "! "
       ]
      },
      {
       "output_type": "stream",
       "stream": "stdout",
       "text": [
        "27500 "
       ]
      },
      {
       "output_type": "stream",
       "stream": "stdout",
       "text": [
        "! "
       ]
      },
      {
       "output_type": "stream",
       "stream": "stdout",
       "text": [
        "! "
       ]
      },
      {
       "output_type": "stream",
       "stream": "stdout",
       "text": [
        "! "
       ]
      },
      {
       "output_type": "stream",
       "stream": "stdout",
       "text": [
        "! "
       ]
      },
      {
       "output_type": "stream",
       "stream": "stdout",
       "text": [
        "27600 "
       ]
      },
      {
       "output_type": "stream",
       "stream": "stdout",
       "text": [
        "! "
       ]
      },
      {
       "output_type": "stream",
       "stream": "stdout",
       "text": [
        "27700 "
       ]
      },
      {
       "output_type": "stream",
       "stream": "stdout",
       "text": [
        "! "
       ]
      },
      {
       "output_type": "stream",
       "stream": "stdout",
       "text": [
        "! "
       ]
      },
      {
       "output_type": "stream",
       "stream": "stdout",
       "text": [
        "27800 "
       ]
      },
      {
       "output_type": "stream",
       "stream": "stdout",
       "text": [
        "! "
       ]
      },
      {
       "output_type": "stream",
       "stream": "stdout",
       "text": [
        "! "
       ]
      },
      {
       "output_type": "stream",
       "stream": "stdout",
       "text": [
        "! ! "
       ]
      },
      {
       "output_type": "stream",
       "stream": "stdout",
       "text": [
        "27900 "
       ]
      },
      {
       "output_type": "stream",
       "stream": "stdout",
       "text": [
        "! "
       ]
      },
      {
       "output_type": "stream",
       "stream": "stdout",
       "text": [
        "! "
       ]
      },
      {
       "output_type": "stream",
       "stream": "stdout",
       "text": [
        "! "
       ]
      },
      {
       "output_type": "stream",
       "stream": "stdout",
       "text": [
        "28000 "
       ]
      },
      {
       "output_type": "stream",
       "stream": "stdout",
       "text": [
        "! "
       ]
      },
      {
       "output_type": "stream",
       "stream": "stdout",
       "text": [
        "! 28100 "
       ]
      },
      {
       "output_type": "stream",
       "stream": "stdout",
       "text": [
        "! "
       ]
      },
      {
       "output_type": "stream",
       "stream": "stdout",
       "text": [
        "! "
       ]
      },
      {
       "output_type": "stream",
       "stream": "stdout",
       "text": [
        "28200 "
       ]
      },
      {
       "output_type": "stream",
       "stream": "stdout",
       "text": [
        "! "
       ]
      },
      {
       "output_type": "stream",
       "stream": "stdout",
       "text": [
        "! 28300 "
       ]
      },
      {
       "output_type": "stream",
       "stream": "stdout",
       "text": [
        "! "
       ]
      },
      {
       "output_type": "stream",
       "stream": "stdout",
       "text": [
        "! "
       ]
      },
      {
       "output_type": "stream",
       "stream": "stdout",
       "text": [
        "28400 ! "
       ]
      },
      {
       "output_type": "stream",
       "stream": "stdout",
       "text": [
        "! "
       ]
      },
      {
       "output_type": "stream",
       "stream": "stdout",
       "text": [
        "28500 "
       ]
      },
      {
       "output_type": "stream",
       "stream": "stdout",
       "text": [
        "! "
       ]
      },
      {
       "output_type": "stream",
       "stream": "stdout",
       "text": [
        "28600 "
       ]
      },
      {
       "output_type": "stream",
       "stream": "stdout",
       "text": [
        "! "
       ]
      },
      {
       "output_type": "stream",
       "stream": "stdout",
       "text": [
        "! "
       ]
      },
      {
       "output_type": "stream",
       "stream": "stdout",
       "text": [
        "! "
       ]
      },
      {
       "output_type": "stream",
       "stream": "stdout",
       "text": [
        "28700 ! "
       ]
      },
      {
       "output_type": "stream",
       "stream": "stdout",
       "text": [
        "! "
       ]
      },
      {
       "output_type": "stream",
       "stream": "stdout",
       "text": [
        "! "
       ]
      },
      {
       "output_type": "stream",
       "stream": "stdout",
       "text": [
        "! "
       ]
      },
      {
       "output_type": "stream",
       "stream": "stdout",
       "text": [
        "28800 "
       ]
      },
      {
       "output_type": "stream",
       "stream": "stdout",
       "text": [
        "! "
       ]
      },
      {
       "output_type": "stream",
       "stream": "stdout",
       "text": [
        "! "
       ]
      },
      {
       "output_type": "stream",
       "stream": "stdout",
       "text": [
        "! "
       ]
      },
      {
       "output_type": "stream",
       "stream": "stdout",
       "text": [
        "! 28900 "
       ]
      },
      {
       "output_type": "stream",
       "stream": "stdout",
       "text": [
        "! "
       ]
      },
      {
       "output_type": "stream",
       "stream": "stdout",
       "text": [
        "! "
       ]
      },
      {
       "output_type": "stream",
       "stream": "stdout",
       "text": [
        "! "
       ]
      },
      {
       "output_type": "stream",
       "stream": "stdout",
       "text": [
        "29000 "
       ]
      },
      {
       "output_type": "stream",
       "stream": "stdout",
       "text": [
        "! "
       ]
      },
      {
       "output_type": "stream",
       "stream": "stdout",
       "text": [
        "! "
       ]
      },
      {
       "output_type": "stream",
       "stream": "stdout",
       "text": [
        "29100 "
       ]
      },
      {
       "output_type": "stream",
       "stream": "stdout",
       "text": [
        "! "
       ]
      },
      {
       "output_type": "stream",
       "stream": "stdout",
       "text": [
        "! ! "
       ]
      },
      {
       "output_type": "stream",
       "stream": "stdout",
       "text": [
        "29200 "
       ]
      },
      {
       "output_type": "stream",
       "stream": "stdout",
       "text": [
        "! "
       ]
      },
      {
       "output_type": "stream",
       "stream": "stdout",
       "text": [
        "! "
       ]
      },
      {
       "output_type": "stream",
       "stream": "stdout",
       "text": [
        "! "
       ]
      },
      {
       "output_type": "stream",
       "stream": "stdout",
       "text": [
        "! "
       ]
      },
      {
       "output_type": "stream",
       "stream": "stdout",
       "text": [
        "! "
       ]
      },
      {
       "output_type": "stream",
       "stream": "stdout",
       "text": [
        "29300 "
       ]
      },
      {
       "output_type": "stream",
       "stream": "stdout",
       "text": [
        "! "
       ]
      },
      {
       "output_type": "stream",
       "stream": "stdout",
       "text": [
        "! "
       ]
      },
      {
       "output_type": "stream",
       "stream": "stdout",
       "text": [
        "! "
       ]
      },
      {
       "output_type": "stream",
       "stream": "stdout",
       "text": [
        "29400 "
       ]
      },
      {
       "output_type": "stream",
       "stream": "stdout",
       "text": [
        "! "
       ]
      },
      {
       "output_type": "stream",
       "stream": "stdout",
       "text": [
        "! "
       ]
      },
      {
       "output_type": "stream",
       "stream": "stdout",
       "text": [
        "29500 "
       ]
      },
      {
       "output_type": "stream",
       "stream": "stdout",
       "text": [
        "! ! "
       ]
      },
      {
       "output_type": "stream",
       "stream": "stdout",
       "text": [
        "! "
       ]
      },
      {
       "output_type": "stream",
       "stream": "stdout",
       "text": [
        "! ! "
       ]
      },
      {
       "output_type": "stream",
       "stream": "stdout",
       "text": [
        "! "
       ]
      },
      {
       "output_type": "stream",
       "stream": "stdout",
       "text": [
        "! "
       ]
      },
      {
       "output_type": "stream",
       "stream": "stdout",
       "text": [
        "! "
       ]
      },
      {
       "output_type": "stream",
       "stream": "stdout",
       "text": [
        "29600 "
       ]
      },
      {
       "output_type": "stream",
       "stream": "stdout",
       "text": [
        "! "
       ]
      },
      {
       "output_type": "stream",
       "stream": "stdout",
       "text": [
        "! "
       ]
      },
      {
       "output_type": "stream",
       "stream": "stdout",
       "text": [
        "! "
       ]
      },
      {
       "output_type": "stream",
       "stream": "stdout",
       "text": [
        "! "
       ]
      },
      {
       "output_type": "stream",
       "stream": "stdout",
       "text": [
        "29700 "
       ]
      },
      {
       "output_type": "stream",
       "stream": "stdout",
       "text": [
        "! "
       ]
      },
      {
       "output_type": "stream",
       "stream": "stdout",
       "text": [
        "! "
       ]
      },
      {
       "output_type": "stream",
       "stream": "stdout",
       "text": [
        "! "
       ]
      },
      {
       "output_type": "stream",
       "stream": "stdout",
       "text": [
        "29800 "
       ]
      },
      {
       "output_type": "stream",
       "stream": "stdout",
       "text": [
        "! "
       ]
      },
      {
       "output_type": "stream",
       "stream": "stdout",
       "text": [
        "! "
       ]
      },
      {
       "output_type": "stream",
       "stream": "stdout",
       "text": [
        "! "
       ]
      },
      {
       "output_type": "stream",
       "stream": "stdout",
       "text": [
        "! "
       ]
      },
      {
       "output_type": "stream",
       "stream": "stdout",
       "text": [
        "! "
       ]
      },
      {
       "output_type": "stream",
       "stream": "stdout",
       "text": [
        "! "
       ]
      },
      {
       "output_type": "stream",
       "stream": "stdout",
       "text": [
        "29900 "
       ]
      },
      {
       "output_type": "stream",
       "stream": "stdout",
       "text": [
        "! "
       ]
      },
      {
       "output_type": "stream",
       "stream": "stdout",
       "text": [
        "! "
       ]
      },
      {
       "output_type": "stream",
       "stream": "stdout",
       "text": [
        "30000 "
       ]
      },
      {
       "output_type": "stream",
       "stream": "stdout",
       "text": [
        "! "
       ]
      },
      {
       "output_type": "stream",
       "stream": "stdout",
       "text": [
        "! "
       ]
      },
      {
       "output_type": "stream",
       "stream": "stdout",
       "text": [
        "30100 "
       ]
      },
      {
       "output_type": "stream",
       "stream": "stdout",
       "text": [
        "! "
       ]
      },
      {
       "output_type": "stream",
       "stream": "stdout",
       "text": [
        "30200 "
       ]
      },
      {
       "output_type": "stream",
       "stream": "stdout",
       "text": [
        "! "
       ]
      },
      {
       "output_type": "stream",
       "stream": "stdout",
       "text": [
        "30300 "
       ]
      },
      {
       "output_type": "stream",
       "stream": "stdout",
       "text": [
        "! "
       ]
      },
      {
       "output_type": "stream",
       "stream": "stdout",
       "text": [
        "! "
       ]
      },
      {
       "output_type": "stream",
       "stream": "stdout",
       "text": [
        "30400 "
       ]
      },
      {
       "output_type": "stream",
       "stream": "stdout",
       "text": [
        "! "
       ]
      },
      {
       "output_type": "stream",
       "stream": "stdout",
       "text": [
        "30500 "
       ]
      },
      {
       "output_type": "stream",
       "stream": "stdout",
       "text": [
        "! "
       ]
      },
      {
       "output_type": "stream",
       "stream": "stdout",
       "text": [
        "30600 "
       ]
      },
      {
       "output_type": "stream",
       "stream": "stdout",
       "text": [
        "! "
       ]
      },
      {
       "output_type": "stream",
       "stream": "stdout",
       "text": [
        "! "
       ]
      },
      {
       "output_type": "stream",
       "stream": "stdout",
       "text": [
        "! "
       ]
      },
      {
       "output_type": "stream",
       "stream": "stdout",
       "text": [
        "30700 "
       ]
      },
      {
       "output_type": "stream",
       "stream": "stdout",
       "text": [
        "30800 "
       ]
      },
      {
       "output_type": "stream",
       "stream": "stdout",
       "text": [
        "! "
       ]
      },
      {
       "output_type": "stream",
       "stream": "stdout",
       "text": [
        "! "
       ]
      },
      {
       "output_type": "stream",
       "stream": "stdout",
       "text": [
        "30900 "
       ]
      },
      {
       "output_type": "stream",
       "stream": "stdout",
       "text": [
        "! "
       ]
      },
      {
       "output_type": "stream",
       "stream": "stdout",
       "text": [
        "31000 ! "
       ]
      },
      {
       "output_type": "stream",
       "stream": "stdout",
       "text": [
        "! "
       ]
      },
      {
       "output_type": "stream",
       "stream": "stdout",
       "text": [
        "! "
       ]
      },
      {
       "output_type": "stream",
       "stream": "stdout",
       "text": [
        "! "
       ]
      },
      {
       "output_type": "stream",
       "stream": "stdout",
       "text": [
        "! "
       ]
      },
      {
       "output_type": "stream",
       "stream": "stdout",
       "text": [
        "! "
       ]
      },
      {
       "output_type": "stream",
       "stream": "stdout",
       "text": [
        "31100 "
       ]
      },
      {
       "output_type": "stream",
       "stream": "stdout",
       "text": [
        "! "
       ]
      },
      {
       "output_type": "stream",
       "stream": "stdout",
       "text": [
        "! "
       ]
      },
      {
       "output_type": "stream",
       "stream": "stdout",
       "text": [
        "31200 "
       ]
      },
      {
       "output_type": "stream",
       "stream": "stdout",
       "text": [
        "31300 "
       ]
      },
      {
       "output_type": "stream",
       "stream": "stdout",
       "text": [
        "! "
       ]
      },
      {
       "output_type": "stream",
       "stream": "stdout",
       "text": [
        "31400 ! "
       ]
      },
      {
       "output_type": "stream",
       "stream": "stdout",
       "text": [
        "! "
       ]
      },
      {
       "output_type": "stream",
       "stream": "stdout",
       "text": [
        "31500 "
       ]
      },
      {
       "output_type": "stream",
       "stream": "stdout",
       "text": [
        "! "
       ]
      },
      {
       "output_type": "stream",
       "stream": "stdout",
       "text": [
        "31600 "
       ]
      },
      {
       "output_type": "stream",
       "stream": "stdout",
       "text": [
        "! "
       ]
      },
      {
       "output_type": "stream",
       "stream": "stdout",
       "text": [
        "! "
       ]
      },
      {
       "output_type": "stream",
       "stream": "stdout",
       "text": [
        "! "
       ]
      },
      {
       "output_type": "stream",
       "stream": "stdout",
       "text": [
        "! "
       ]
      },
      {
       "output_type": "stream",
       "stream": "stdout",
       "text": [
        "31700 "
       ]
      },
      {
       "output_type": "stream",
       "stream": "stdout",
       "text": [
        "! "
       ]
      },
      {
       "output_type": "stream",
       "stream": "stdout",
       "text": [
        "! "
       ]
      },
      {
       "output_type": "stream",
       "stream": "stdout",
       "text": [
        "31800 "
       ]
      },
      {
       "output_type": "stream",
       "stream": "stdout",
       "text": [
        "! "
       ]
      },
      {
       "output_type": "stream",
       "stream": "stdout",
       "text": [
        "31900 "
       ]
      },
      {
       "output_type": "stream",
       "stream": "stdout",
       "text": [
        "! "
       ]
      },
      {
       "output_type": "stream",
       "stream": "stdout",
       "text": [
        "32000 "
       ]
      },
      {
       "output_type": "stream",
       "stream": "stdout",
       "text": [
        "! "
       ]
      },
      {
       "output_type": "stream",
       "stream": "stdout",
       "text": [
        "! "
       ]
      },
      {
       "output_type": "stream",
       "stream": "stdout",
       "text": [
        "! ! "
       ]
      },
      {
       "output_type": "stream",
       "stream": "stdout",
       "text": [
        "! "
       ]
      },
      {
       "output_type": "stream",
       "stream": "stdout",
       "text": [
        "32100 "
       ]
      },
      {
       "output_type": "stream",
       "stream": "stdout",
       "text": [
        "! "
       ]
      },
      {
       "output_type": "stream",
       "stream": "stdout",
       "text": [
        "! "
       ]
      },
      {
       "output_type": "stream",
       "stream": "stdout",
       "text": [
        "! "
       ]
      },
      {
       "output_type": "stream",
       "stream": "stdout",
       "text": [
        "! "
       ]
      },
      {
       "output_type": "stream",
       "stream": "stdout",
       "text": [
        "32200 "
       ]
      },
      {
       "output_type": "stream",
       "stream": "stdout",
       "text": [
        "! "
       ]
      },
      {
       "output_type": "stream",
       "stream": "stdout",
       "text": [
        "32300 "
       ]
      },
      {
       "output_type": "stream",
       "stream": "stdout",
       "text": [
        "! "
       ]
      },
      {
       "output_type": "stream",
       "stream": "stdout",
       "text": [
        "! "
       ]
      },
      {
       "output_type": "stream",
       "stream": "stdout",
       "text": [
        "32400 "
       ]
      },
      {
       "output_type": "stream",
       "stream": "stdout",
       "text": [
        "! "
       ]
      },
      {
       "output_type": "stream",
       "stream": "stdout",
       "text": [
        "! "
       ]
      },
      {
       "output_type": "stream",
       "stream": "stdout",
       "text": [
        "32500 "
       ]
      },
      {
       "output_type": "stream",
       "stream": "stdout",
       "text": [
        "32600 ! "
       ]
      },
      {
       "output_type": "stream",
       "stream": "stdout",
       "text": [
        "! "
       ]
      },
      {
       "output_type": "stream",
       "stream": "stdout",
       "text": [
        "! "
       ]
      },
      {
       "output_type": "stream",
       "stream": "stdout",
       "text": [
        "! "
       ]
      },
      {
       "output_type": "stream",
       "stream": "stdout",
       "text": [
        "32700 "
       ]
      },
      {
       "output_type": "stream",
       "stream": "stdout",
       "text": [
        "! "
       ]
      },
      {
       "output_type": "stream",
       "stream": "stdout",
       "text": [
        "! "
       ]
      },
      {
       "output_type": "stream",
       "stream": "stdout",
       "text": [
        "32800 "
       ]
      },
      {
       "output_type": "stream",
       "stream": "stdout",
       "text": [
        "! "
       ]
      },
      {
       "output_type": "stream",
       "stream": "stdout",
       "text": [
        "32900 "
       ]
      },
      {
       "output_type": "stream",
       "stream": "stdout",
       "text": [
        "33000 "
       ]
      },
      {
       "output_type": "stream",
       "stream": "stdout",
       "text": [
        "! "
       ]
      },
      {
       "output_type": "stream",
       "stream": "stdout",
       "text": [
        "! "
       ]
      },
      {
       "output_type": "stream",
       "stream": "stdout",
       "text": [
        "! 33100 "
       ]
      },
      {
       "output_type": "stream",
       "stream": "stdout",
       "text": [
        "! "
       ]
      },
      {
       "output_type": "stream",
       "stream": "stdout",
       "text": [
        "! "
       ]
      },
      {
       "output_type": "stream",
       "stream": "stdout",
       "text": [
        "! "
       ]
      },
      {
       "output_type": "stream",
       "stream": "stdout",
       "text": [
        "33200 "
       ]
      },
      {
       "output_type": "stream",
       "stream": "stdout",
       "text": [
        "! "
       ]
      },
      {
       "output_type": "stream",
       "stream": "stdout",
       "text": [
        "! "
       ]
      },
      {
       "output_type": "stream",
       "stream": "stdout",
       "text": [
        "! "
       ]
      },
      {
       "output_type": "stream",
       "stream": "stdout",
       "text": [
        "! "
       ]
      },
      {
       "output_type": "stream",
       "stream": "stdout",
       "text": [
        "33300 "
       ]
      },
      {
       "output_type": "stream",
       "stream": "stdout",
       "text": [
        "! "
       ]
      },
      {
       "output_type": "stream",
       "stream": "stdout",
       "text": [
        "! "
       ]
      },
      {
       "output_type": "stream",
       "stream": "stdout",
       "text": [
        "33400 "
       ]
      },
      {
       "output_type": "stream",
       "stream": "stdout",
       "text": [
        "! "
       ]
      },
      {
       "output_type": "stream",
       "stream": "stdout",
       "text": [
        "33500 "
       ]
      },
      {
       "output_type": "stream",
       "stream": "stdout",
       "text": [
        "! "
       ]
      },
      {
       "output_type": "stream",
       "stream": "stdout",
       "text": [
        "33600 "
       ]
      },
      {
       "output_type": "stream",
       "stream": "stdout",
       "text": [
        "! "
       ]
      },
      {
       "output_type": "stream",
       "stream": "stdout",
       "text": [
        "! "
       ]
      },
      {
       "output_type": "stream",
       "stream": "stdout",
       "text": [
        "! "
       ]
      },
      {
       "output_type": "stream",
       "stream": "stdout",
       "text": [
        "! ! "
       ]
      },
      {
       "output_type": "stream",
       "stream": "stdout",
       "text": [
        "! "
       ]
      },
      {
       "output_type": "stream",
       "stream": "stdout",
       "text": [
        "33700 "
       ]
      },
      {
       "output_type": "stream",
       "stream": "stdout",
       "text": [
        "! "
       ]
      },
      {
       "output_type": "stream",
       "stream": "stdout",
       "text": [
        "! "
       ]
      },
      {
       "output_type": "stream",
       "stream": "stdout",
       "text": [
        "33800 "
       ]
      },
      {
       "output_type": "stream",
       "stream": "stdout",
       "text": [
        "! "
       ]
      },
      {
       "output_type": "stream",
       "stream": "stdout",
       "text": [
        "! "
       ]
      },
      {
       "output_type": "stream",
       "stream": "stdout",
       "text": [
        "! "
       ]
      },
      {
       "output_type": "stream",
       "stream": "stdout",
       "text": [
        "33900 "
       ]
      },
      {
       "output_type": "stream",
       "stream": "stdout",
       "text": [
        "! "
       ]
      },
      {
       "output_type": "stream",
       "stream": "stdout",
       "text": [
        "! "
       ]
      },
      {
       "output_type": "stream",
       "stream": "stdout",
       "text": [
        "! "
       ]
      },
      {
       "output_type": "stream",
       "stream": "stdout",
       "text": [
        "34000 "
       ]
      },
      {
       "output_type": "stream",
       "stream": "stdout",
       "text": [
        "! "
       ]
      },
      {
       "output_type": "stream",
       "stream": "stdout",
       "text": [
        "34100 "
       ]
      },
      {
       "output_type": "stream",
       "stream": "stdout",
       "text": [
        "! "
       ]
      },
      {
       "output_type": "stream",
       "stream": "stdout",
       "text": [
        "34200 "
       ]
      },
      {
       "output_type": "stream",
       "stream": "stdout",
       "text": [
        "! "
       ]
      },
      {
       "output_type": "stream",
       "stream": "stdout",
       "text": [
        "! "
       ]
      },
      {
       "output_type": "stream",
       "stream": "stdout",
       "text": [
        "! "
       ]
      },
      {
       "output_type": "stream",
       "stream": "stdout",
       "text": [
        "34300 "
       ]
      },
      {
       "output_type": "stream",
       "stream": "stdout",
       "text": [
        "34400 "
       ]
      },
      {
       "output_type": "stream",
       "stream": "stdout",
       "text": [
        "! "
       ]
      },
      {
       "output_type": "stream",
       "stream": "stdout",
       "text": [
        "34500 "
       ]
      },
      {
       "output_type": "stream",
       "stream": "stdout",
       "text": [
        "! "
       ]
      },
      {
       "output_type": "stream",
       "stream": "stdout",
       "text": [
        "! "
       ]
      },
      {
       "output_type": "stream",
       "stream": "stdout",
       "text": [
        "! "
       ]
      },
      {
       "output_type": "stream",
       "stream": "stdout",
       "text": [
        "34600 "
       ]
      },
      {
       "output_type": "stream",
       "stream": "stdout",
       "text": [
        "! ! "
       ]
      },
      {
       "output_type": "stream",
       "stream": "stdout",
       "text": [
        "! "
       ]
      },
      {
       "output_type": "stream",
       "stream": "stdout",
       "text": [
        "! "
       ]
      },
      {
       "output_type": "stream",
       "stream": "stdout",
       "text": [
        "! ! "
       ]
      },
      {
       "output_type": "stream",
       "stream": "stdout",
       "text": [
        "34700 "
       ]
      },
      {
       "output_type": "stream",
       "stream": "stdout",
       "text": [
        "! ! "
       ]
      },
      {
       "output_type": "stream",
       "stream": "stdout",
       "text": [
        "! "
       ]
      },
      {
       "output_type": "stream",
       "stream": "stdout",
       "text": [
        "! 34800 "
       ]
      },
      {
       "output_type": "stream",
       "stream": "stdout",
       "text": [
        "! "
       ]
      },
      {
       "output_type": "stream",
       "stream": "stdout",
       "text": [
        "! "
       ]
      },
      {
       "output_type": "stream",
       "stream": "stdout",
       "text": [
        "! "
       ]
      },
      {
       "output_type": "stream",
       "stream": "stdout",
       "text": [
        "34900 "
       ]
      },
      {
       "output_type": "stream",
       "stream": "stdout",
       "text": [
        "! "
       ]
      },
      {
       "output_type": "stream",
       "stream": "stdout",
       "text": [
        "! "
       ]
      },
      {
       "output_type": "stream",
       "stream": "stdout",
       "text": [
        "35000 "
       ]
      },
      {
       "output_type": "stream",
       "stream": "stdout",
       "text": [
        "! "
       ]
      },
      {
       "output_type": "stream",
       "stream": "stdout",
       "text": [
        "! "
       ]
      },
      {
       "output_type": "stream",
       "stream": "stdout",
       "text": [
        "35100 "
       ]
      },
      {
       "output_type": "stream",
       "stream": "stdout",
       "text": [
        "! "
       ]
      },
      {
       "output_type": "stream",
       "stream": "stdout",
       "text": [
        "! "
       ]
      },
      {
       "output_type": "stream",
       "stream": "stdout",
       "text": [
        "! "
       ]
      },
      {
       "output_type": "stream",
       "stream": "stdout",
       "text": [
        "35200 "
       ]
      },
      {
       "output_type": "stream",
       "stream": "stdout",
       "text": [
        "! "
       ]
      },
      {
       "output_type": "stream",
       "stream": "stdout",
       "text": [
        "! "
       ]
      },
      {
       "output_type": "stream",
       "stream": "stdout",
       "text": [
        "35300 "
       ]
      },
      {
       "output_type": "stream",
       "stream": "stdout",
       "text": [
        "! "
       ]
      },
      {
       "output_type": "stream",
       "stream": "stdout",
       "text": [
        "! "
       ]
      },
      {
       "output_type": "stream",
       "stream": "stdout",
       "text": [
        "35400 "
       ]
      },
      {
       "output_type": "stream",
       "stream": "stdout",
       "text": [
        "! "
       ]
      },
      {
       "output_type": "stream",
       "stream": "stdout",
       "text": [
        "! "
       ]
      },
      {
       "output_type": "stream",
       "stream": "stdout",
       "text": [
        "! "
       ]
      },
      {
       "output_type": "stream",
       "stream": "stdout",
       "text": [
        "! "
       ]
      },
      {
       "output_type": "stream",
       "stream": "stdout",
       "text": [
        "35500 "
       ]
      },
      {
       "output_type": "stream",
       "stream": "stdout",
       "text": [
        "35600 "
       ]
      },
      {
       "output_type": "stream",
       "stream": "stdout",
       "text": [
        "! "
       ]
      },
      {
       "output_type": "stream",
       "stream": "stdout",
       "text": [
        "! 35700 "
       ]
      },
      {
       "output_type": "stream",
       "stream": "stdout",
       "text": [
        "! "
       ]
      },
      {
       "output_type": "stream",
       "stream": "stdout",
       "text": [
        "! "
       ]
      },
      {
       "output_type": "stream",
       "stream": "stdout",
       "text": [
        "! "
       ]
      },
      {
       "output_type": "stream",
       "stream": "stdout",
       "text": [
        "! "
       ]
      },
      {
       "output_type": "stream",
       "stream": "stdout",
       "text": [
        "35800 "
       ]
      },
      {
       "output_type": "stream",
       "stream": "stdout",
       "text": [
        "! "
       ]
      },
      {
       "output_type": "stream",
       "stream": "stdout",
       "text": [
        "! "
       ]
      },
      {
       "output_type": "stream",
       "stream": "stdout",
       "text": [
        "! "
       ]
      },
      {
       "output_type": "stream",
       "stream": "stdout",
       "text": [
        "! "
       ]
      },
      {
       "output_type": "stream",
       "stream": "stdout",
       "text": [
        "! "
       ]
      },
      {
       "output_type": "stream",
       "stream": "stdout",
       "text": [
        "35900 "
       ]
      },
      {
       "output_type": "stream",
       "stream": "stdout",
       "text": [
        "! "
       ]
      },
      {
       "output_type": "stream",
       "stream": "stdout",
       "text": [
        "! "
       ]
      },
      {
       "output_type": "stream",
       "stream": "stdout",
       "text": [
        "! "
       ]
      },
      {
       "output_type": "stream",
       "stream": "stdout",
       "text": [
        "! "
       ]
      },
      {
       "output_type": "stream",
       "stream": "stdout",
       "text": [
        "36000 "
       ]
      },
      {
       "output_type": "stream",
       "stream": "stdout",
       "text": [
        "! "
       ]
      },
      {
       "output_type": "stream",
       "stream": "stdout",
       "text": [
        "! "
       ]
      },
      {
       "output_type": "stream",
       "stream": "stdout",
       "text": [
        "! "
       ]
      },
      {
       "output_type": "stream",
       "stream": "stdout",
       "text": [
        "36100 "
       ]
      },
      {
       "output_type": "stream",
       "stream": "stdout",
       "text": [
        "! "
       ]
      },
      {
       "output_type": "stream",
       "stream": "stdout",
       "text": [
        "36200 "
       ]
      },
      {
       "output_type": "stream",
       "stream": "stdout",
       "text": [
        "! "
       ]
      },
      {
       "output_type": "stream",
       "stream": "stdout",
       "text": [
        "36300 "
       ]
      },
      {
       "output_type": "stream",
       "stream": "stdout",
       "text": [
        "! "
       ]
      },
      {
       "output_type": "stream",
       "stream": "stdout",
       "text": [
        "36400 "
       ]
      },
      {
       "output_type": "stream",
       "stream": "stdout",
       "text": [
        "! "
       ]
      },
      {
       "output_type": "stream",
       "stream": "stdout",
       "text": [
        "! "
       ]
      },
      {
       "output_type": "stream",
       "stream": "stdout",
       "text": [
        "! "
       ]
      },
      {
       "output_type": "stream",
       "stream": "stdout",
       "text": [
        "! "
       ]
      },
      {
       "output_type": "stream",
       "stream": "stdout",
       "text": [
        "! ! "
       ]
      },
      {
       "output_type": "stream",
       "stream": "stdout",
       "text": [
        "! "
       ]
      },
      {
       "output_type": "stream",
       "stream": "stdout",
       "text": [
        "36500 "
       ]
      },
      {
       "output_type": "stream",
       "stream": "stdout",
       "text": [
        "! "
       ]
      },
      {
       "output_type": "stream",
       "stream": "stdout",
       "text": [
        "! "
       ]
      },
      {
       "output_type": "stream",
       "stream": "stdout",
       "text": [
        "! "
       ]
      },
      {
       "output_type": "stream",
       "stream": "stdout",
       "text": [
        "36600 "
       ]
      },
      {
       "output_type": "stream",
       "stream": "stdout",
       "text": [
        "! ! "
       ]
      },
      {
       "output_type": "stream",
       "stream": "stdout",
       "text": [
        "! "
       ]
      },
      {
       "output_type": "stream",
       "stream": "stdout",
       "text": [
        "36700 "
       ]
      },
      {
       "output_type": "stream",
       "stream": "stdout",
       "text": [
        "! "
       ]
      },
      {
       "output_type": "stream",
       "stream": "stdout",
       "text": [
        "! "
       ]
      },
      {
       "output_type": "stream",
       "stream": "stdout",
       "text": [
        "36800 "
       ]
      },
      {
       "output_type": "stream",
       "stream": "stdout",
       "text": [
        "! "
       ]
      },
      {
       "output_type": "stream",
       "stream": "stdout",
       "text": [
        "36900 "
       ]
      },
      {
       "output_type": "stream",
       "stream": "stdout",
       "text": [
        "! "
       ]
      },
      {
       "output_type": "stream",
       "stream": "stdout",
       "text": [
        "! ! "
       ]
      },
      {
       "output_type": "stream",
       "stream": "stdout",
       "text": [
        "! "
       ]
      },
      {
       "output_type": "stream",
       "stream": "stdout",
       "text": [
        "! "
       ]
      },
      {
       "output_type": "stream",
       "stream": "stdout",
       "text": [
        "37000 "
       ]
      },
      {
       "output_type": "stream",
       "stream": "stdout",
       "text": [
        "! ! "
       ]
      },
      {
       "output_type": "stream",
       "stream": "stdout",
       "text": [
        "! "
       ]
      },
      {
       "output_type": "stream",
       "stream": "stdout",
       "text": [
        "! ! "
       ]
      },
      {
       "output_type": "stream",
       "stream": "stdout",
       "text": [
        "37100 "
       ]
      },
      {
       "output_type": "stream",
       "stream": "stdout",
       "text": [
        "! ! "
       ]
      },
      {
       "output_type": "stream",
       "stream": "stdout",
       "text": [
        "! "
       ]
      },
      {
       "output_type": "stream",
       "stream": "stdout",
       "text": [
        "37200 "
       ]
      },
      {
       "output_type": "stream",
       "stream": "stdout",
       "text": [
        "! "
       ]
      },
      {
       "output_type": "stream",
       "stream": "stdout",
       "text": [
        "! "
       ]
      },
      {
       "output_type": "stream",
       "stream": "stdout",
       "text": [
        "! "
       ]
      },
      {
       "output_type": "stream",
       "stream": "stdout",
       "text": [
        "37300 "
       ]
      },
      {
       "output_type": "stream",
       "stream": "stdout",
       "text": [
        "! ! "
       ]
      },
      {
       "output_type": "stream",
       "stream": "stdout",
       "text": [
        "37400 "
       ]
      },
      {
       "output_type": "stream",
       "stream": "stdout",
       "text": [
        "! "
       ]
      },
      {
       "output_type": "stream",
       "stream": "stdout",
       "text": [
        "! ! "
       ]
      },
      {
       "output_type": "stream",
       "stream": "stdout",
       "text": [
        "37500 "
       ]
      },
      {
       "output_type": "stream",
       "stream": "stdout",
       "text": [
        "! "
       ]
      },
      {
       "output_type": "stream",
       "stream": "stdout",
       "text": [
        "37600 "
       ]
      },
      {
       "output_type": "stream",
       "stream": "stdout",
       "text": [
        "37700 "
       ]
      },
      {
       "output_type": "stream",
       "stream": "stdout",
       "text": [
        "! "
       ]
      },
      {
       "output_type": "stream",
       "stream": "stdout",
       "text": [
        "! "
       ]
      },
      {
       "output_type": "stream",
       "stream": "stdout",
       "text": [
        "37800 "
       ]
      },
      {
       "output_type": "stream",
       "stream": "stdout",
       "text": [
        "! "
       ]
      },
      {
       "output_type": "stream",
       "stream": "stdout",
       "text": [
        "! "
       ]
      },
      {
       "output_type": "stream",
       "stream": "stdout",
       "text": [
        "37900 "
       ]
      },
      {
       "output_type": "stream",
       "stream": "stdout",
       "text": [
        "38000 "
       ]
      },
      {
       "output_type": "stream",
       "stream": "stdout",
       "text": [
        "! "
       ]
      },
      {
       "output_type": "stream",
       "stream": "stdout",
       "text": [
        "! "
       ]
      },
      {
       "output_type": "stream",
       "stream": "stdout",
       "text": [
        "! 38100 "
       ]
      },
      {
       "output_type": "stream",
       "stream": "stdout",
       "text": [
        "! "
       ]
      },
      {
       "output_type": "stream",
       "stream": "stdout",
       "text": [
        "! "
       ]
      },
      {
       "output_type": "stream",
       "stream": "stdout",
       "text": [
        "! "
       ]
      },
      {
       "output_type": "stream",
       "stream": "stdout",
       "text": [
        "38200 "
       ]
      },
      {
       "output_type": "stream",
       "stream": "stdout",
       "text": [
        "! "
       ]
      },
      {
       "output_type": "stream",
       "stream": "stdout",
       "text": [
        "38300 "
       ]
      },
      {
       "output_type": "stream",
       "stream": "stdout",
       "text": [
        "38400 "
       ]
      },
      {
       "output_type": "stream",
       "stream": "stdout",
       "text": [
        "! "
       ]
      },
      {
       "output_type": "stream",
       "stream": "stdout",
       "text": [
        "! ! "
       ]
      },
      {
       "output_type": "stream",
       "stream": "stdout",
       "text": [
        "! "
       ]
      },
      {
       "output_type": "stream",
       "stream": "stdout",
       "text": [
        "38500 "
       ]
      },
      {
       "output_type": "stream",
       "stream": "stdout",
       "text": [
        "! "
       ]
      },
      {
       "output_type": "stream",
       "stream": "stdout",
       "text": [
        "! "
       ]
      },
      {
       "output_type": "stream",
       "stream": "stdout",
       "text": [
        "38600 "
       ]
      },
      {
       "output_type": "stream",
       "stream": "stdout",
       "text": [
        "! "
       ]
      },
      {
       "output_type": "stream",
       "stream": "stdout",
       "text": [
        "! "
       ]
      },
      {
       "output_type": "stream",
       "stream": "stdout",
       "text": [
        "38700 "
       ]
      },
      {
       "output_type": "stream",
       "stream": "stdout",
       "text": [
        "! "
       ]
      },
      {
       "output_type": "stream",
       "stream": "stdout",
       "text": [
        "! "
       ]
      },
      {
       "output_type": "stream",
       "stream": "stdout",
       "text": [
        "! "
       ]
      },
      {
       "output_type": "stream",
       "stream": "stdout",
       "text": [
        "38800 "
       ]
      },
      {
       "output_type": "stream",
       "stream": "stdout",
       "text": [
        "! "
       ]
      },
      {
       "output_type": "stream",
       "stream": "stdout",
       "text": [
        "! "
       ]
      },
      {
       "output_type": "stream",
       "stream": "stdout",
       "text": [
        "! "
       ]
      },
      {
       "output_type": "stream",
       "stream": "stdout",
       "text": [
        "! "
       ]
      },
      {
       "output_type": "stream",
       "stream": "stdout",
       "text": [
        "38900 "
       ]
      },
      {
       "output_type": "stream",
       "stream": "stdout",
       "text": [
        "! "
       ]
      },
      {
       "output_type": "stream",
       "stream": "stdout",
       "text": [
        "! "
       ]
      },
      {
       "output_type": "stream",
       "stream": "stdout",
       "text": [
        "! "
       ]
      },
      {
       "output_type": "stream",
       "stream": "stdout",
       "text": [
        "39000 "
       ]
      },
      {
       "output_type": "stream",
       "stream": "stdout",
       "text": [
        "! "
       ]
      },
      {
       "output_type": "stream",
       "stream": "stdout",
       "text": [
        "! "
       ]
      },
      {
       "output_type": "stream",
       "stream": "stdout",
       "text": [
        "! "
       ]
      },
      {
       "output_type": "stream",
       "stream": "stdout",
       "text": [
        "! "
       ]
      },
      {
       "output_type": "stream",
       "stream": "stdout",
       "text": [
        "! "
       ]
      },
      {
       "output_type": "stream",
       "stream": "stdout",
       "text": [
        "39100 "
       ]
      },
      {
       "output_type": "stream",
       "stream": "stdout",
       "text": [
        "! "
       ]
      },
      {
       "output_type": "stream",
       "stream": "stdout",
       "text": [
        "! "
       ]
      },
      {
       "output_type": "stream",
       "stream": "stdout",
       "text": [
        "39200 "
       ]
      },
      {
       "output_type": "stream",
       "stream": "stdout",
       "text": [
        "! "
       ]
      },
      {
       "output_type": "stream",
       "stream": "stdout",
       "text": [
        "! "
       ]
      },
      {
       "output_type": "stream",
       "stream": "stdout",
       "text": [
        "39300 "
       ]
      },
      {
       "output_type": "stream",
       "stream": "stdout",
       "text": [
        "! "
       ]
      },
      {
       "output_type": "stream",
       "stream": "stdout",
       "text": [
        "! "
       ]
      },
      {
       "output_type": "stream",
       "stream": "stdout",
       "text": [
        "! "
       ]
      },
      {
       "output_type": "stream",
       "stream": "stdout",
       "text": [
        "39400 "
       ]
      },
      {
       "output_type": "stream",
       "stream": "stdout",
       "text": [
        "39500 "
       ]
      },
      {
       "output_type": "stream",
       "stream": "stdout",
       "text": [
        "! "
       ]
      },
      {
       "output_type": "stream",
       "stream": "stdout",
       "text": [
        "! "
       ]
      },
      {
       "output_type": "stream",
       "stream": "stdout",
       "text": [
        "! "
       ]
      },
      {
       "output_type": "stream",
       "stream": "stdout",
       "text": [
        "39600 ! "
       ]
      },
      {
       "output_type": "stream",
       "stream": "stdout",
       "text": [
        "! ! "
       ]
      },
      {
       "output_type": "stream",
       "stream": "stdout",
       "text": [
        "! "
       ]
      },
      {
       "output_type": "stream",
       "stream": "stdout",
       "text": [
        "! "
       ]
      },
      {
       "output_type": "stream",
       "stream": "stdout",
       "text": [
        "! "
       ]
      },
      {
       "output_type": "stream",
       "stream": "stdout",
       "text": [
        "39700 "
       ]
      },
      {
       "output_type": "stream",
       "stream": "stdout",
       "text": [
        "39800 "
       ]
      },
      {
       "output_type": "stream",
       "stream": "stdout",
       "text": [
        "! "
       ]
      },
      {
       "output_type": "stream",
       "stream": "stdout",
       "text": [
        "! "
       ]
      },
      {
       "output_type": "stream",
       "stream": "stdout",
       "text": [
        "39900 "
       ]
      },
      {
       "output_type": "stream",
       "stream": "stdout",
       "text": [
        "40000 "
       ]
      },
      {
       "output_type": "stream",
       "stream": "stdout",
       "text": [
        "! "
       ]
      },
      {
       "output_type": "stream",
       "stream": "stdout",
       "text": [
        "! "
       ]
      },
      {
       "output_type": "stream",
       "stream": "stdout",
       "text": [
        "! "
       ]
      },
      {
       "output_type": "stream",
       "stream": "stdout",
       "text": [
        "! "
       ]
      },
      {
       "output_type": "stream",
       "stream": "stdout",
       "text": [
        "! "
       ]
      },
      {
       "output_type": "stream",
       "stream": "stdout",
       "text": [
        "40100 "
       ]
      },
      {
       "output_type": "stream",
       "stream": "stdout",
       "text": [
        "! "
       ]
      },
      {
       "output_type": "stream",
       "stream": "stdout",
       "text": [
        "40200 "
       ]
      },
      {
       "output_type": "stream",
       "stream": "stdout",
       "text": [
        "40300 "
       ]
      },
      {
       "output_type": "stream",
       "stream": "stdout",
       "text": [
        "! ! "
       ]
      },
      {
       "output_type": "stream",
       "stream": "stdout",
       "text": [
        "! "
       ]
      },
      {
       "output_type": "stream",
       "stream": "stdout",
       "text": [
        "! "
       ]
      },
      {
       "output_type": "stream",
       "stream": "stdout",
       "text": [
        "! "
       ]
      },
      {
       "output_type": "stream",
       "stream": "stdout",
       "text": [
        "40400 "
       ]
      },
      {
       "output_type": "stream",
       "stream": "stdout",
       "text": [
        "! 40500 "
       ]
      },
      {
       "output_type": "stream",
       "stream": "stdout",
       "text": [
        "! "
       ]
      },
      {
       "output_type": "stream",
       "stream": "stdout",
       "text": [
        "! "
       ]
      },
      {
       "output_type": "stream",
       "stream": "stdout",
       "text": [
        "! "
       ]
      },
      {
       "output_type": "stream",
       "stream": "stdout",
       "text": [
        "! "
       ]
      },
      {
       "output_type": "stream",
       "stream": "stdout",
       "text": [
        "! "
       ]
      },
      {
       "output_type": "stream",
       "stream": "stdout",
       "text": [
        "! ! "
       ]
      },
      {
       "output_type": "stream",
       "stream": "stdout",
       "text": [
        "! "
       ]
      },
      {
       "output_type": "stream",
       "stream": "stdout",
       "text": [
        "40600 "
       ]
      },
      {
       "output_type": "stream",
       "stream": "stdout",
       "text": [
        "! "
       ]
      },
      {
       "output_type": "stream",
       "stream": "stdout",
       "text": [
        "! "
       ]
      },
      {
       "output_type": "stream",
       "stream": "stdout",
       "text": [
        "40700 "
       ]
      },
      {
       "output_type": "stream",
       "stream": "stdout",
       "text": [
        "! "
       ]
      },
      {
       "output_type": "stream",
       "stream": "stdout",
       "text": [
        "! "
       ]
      },
      {
       "output_type": "stream",
       "stream": "stdout",
       "text": [
        "40800 "
       ]
      },
      {
       "output_type": "stream",
       "stream": "stdout",
       "text": [
        "! "
       ]
      },
      {
       "output_type": "stream",
       "stream": "stdout",
       "text": [
        "! ! "
       ]
      },
      {
       "output_type": "stream",
       "stream": "stdout",
       "text": [
        "! "
       ]
      },
      {
       "output_type": "stream",
       "stream": "stdout",
       "text": [
        "40900 "
       ]
      },
      {
       "output_type": "stream",
       "stream": "stdout",
       "text": [
        "41000 "
       ]
      },
      {
       "output_type": "stream",
       "stream": "stdout",
       "text": [
        "! "
       ]
      },
      {
       "output_type": "stream",
       "stream": "stdout",
       "text": [
        "! "
       ]
      },
      {
       "output_type": "stream",
       "stream": "stdout",
       "text": [
        "41100 "
       ]
      },
      {
       "output_type": "stream",
       "stream": "stdout",
       "text": [
        "! "
       ]
      },
      {
       "output_type": "stream",
       "stream": "stdout",
       "text": [
        "! "
       ]
      },
      {
       "output_type": "stream",
       "stream": "stdout",
       "text": [
        "! "
       ]
      },
      {
       "output_type": "stream",
       "stream": "stdout",
       "text": [
        "41200 "
       ]
      },
      {
       "output_type": "stream",
       "stream": "stdout",
       "text": [
        "! "
       ]
      },
      {
       "output_type": "stream",
       "stream": "stdout",
       "text": [
        "! "
       ]
      },
      {
       "output_type": "stream",
       "stream": "stdout",
       "text": [
        "! "
       ]
      },
      {
       "output_type": "stream",
       "stream": "stdout",
       "text": [
        "41300 "
       ]
      },
      {
       "output_type": "stream",
       "stream": "stdout",
       "text": [
        "! "
       ]
      },
      {
       "output_type": "stream",
       "stream": "stdout",
       "text": [
        "! "
       ]
      },
      {
       "output_type": "stream",
       "stream": "stdout",
       "text": [
        "41400 "
       ]
      },
      {
       "output_type": "stream",
       "stream": "stdout",
       "text": [
        "! "
       ]
      },
      {
       "output_type": "stream",
       "stream": "stdout",
       "text": [
        "41500 "
       ]
      },
      {
       "output_type": "stream",
       "stream": "stdout",
       "text": [
        "! ! "
       ]
      },
      {
       "output_type": "stream",
       "stream": "stdout",
       "text": [
        "! "
       ]
      },
      {
       "output_type": "stream",
       "stream": "stdout",
       "text": [
        "! "
       ]
      },
      {
       "output_type": "stream",
       "stream": "stdout",
       "text": [
        "41600 "
       ]
      },
      {
       "output_type": "stream",
       "stream": "stdout",
       "text": [
        "! "
       ]
      },
      {
       "output_type": "stream",
       "stream": "stdout",
       "text": [
        "! "
       ]
      },
      {
       "output_type": "stream",
       "stream": "stdout",
       "text": [
        "41700 "
       ]
      },
      {
       "output_type": "stream",
       "stream": "stdout",
       "text": [
        "! "
       ]
      },
      {
       "output_type": "stream",
       "stream": "stdout",
       "text": [
        "! "
       ]
      },
      {
       "output_type": "stream",
       "stream": "stdout",
       "text": [
        "! "
       ]
      },
      {
       "output_type": "stream",
       "stream": "stdout",
       "text": [
        "! "
       ]
      },
      {
       "output_type": "stream",
       "stream": "stdout",
       "text": [
        "41800 ! "
       ]
      },
      {
       "output_type": "stream",
       "stream": "stdout",
       "text": [
        "! "
       ]
      },
      {
       "output_type": "stream",
       "stream": "stdout",
       "text": [
        "! "
       ]
      },
      {
       "output_type": "stream",
       "stream": "stdout",
       "text": [
        "! "
       ]
      },
      {
       "output_type": "stream",
       "stream": "stdout",
       "text": [
        "41900 "
       ]
      },
      {
       "output_type": "stream",
       "stream": "stdout",
       "text": [
        "! "
       ]
      },
      {
       "output_type": "stream",
       "stream": "stdout",
       "text": [
        "42000 "
       ]
      },
      {
       "output_type": "stream",
       "stream": "stdout",
       "text": [
        "! "
       ]
      },
      {
       "output_type": "stream",
       "stream": "stdout",
       "text": [
        "! "
       ]
      },
      {
       "output_type": "stream",
       "stream": "stdout",
       "text": [
        "42100 "
       ]
      },
      {
       "output_type": "stream",
       "stream": "stdout",
       "text": [
        "! "
       ]
      },
      {
       "output_type": "stream",
       "stream": "stdout",
       "text": [
        "! "
       ]
      },
      {
       "output_type": "stream",
       "stream": "stdout",
       "text": [
        "! "
       ]
      },
      {
       "output_type": "stream",
       "stream": "stdout",
       "text": [
        "! "
       ]
      },
      {
       "output_type": "stream",
       "stream": "stdout",
       "text": [
        "42200 "
       ]
      },
      {
       "output_type": "stream",
       "stream": "stdout",
       "text": [
        "! "
       ]
      },
      {
       "output_type": "stream",
       "stream": "stdout",
       "text": [
        "42300 "
       ]
      },
      {
       "output_type": "stream",
       "stream": "stdout",
       "text": [
        "! "
       ]
      },
      {
       "output_type": "stream",
       "stream": "stdout",
       "text": [
        "42400 "
       ]
      },
      {
       "output_type": "stream",
       "stream": "stdout",
       "text": [
        "! "
       ]
      },
      {
       "output_type": "stream",
       "stream": "stdout",
       "text": [
        "! "
       ]
      },
      {
       "output_type": "stream",
       "stream": "stdout",
       "text": [
        "42500 "
       ]
      },
      {
       "output_type": "stream",
       "stream": "stdout",
       "text": [
        "! "
       ]
      },
      {
       "output_type": "stream",
       "stream": "stdout",
       "text": [
        "42600 "
       ]
      },
      {
       "output_type": "stream",
       "stream": "stdout",
       "text": [
        "! "
       ]
      },
      {
       "output_type": "stream",
       "stream": "stdout",
       "text": [
        "! "
       ]
      },
      {
       "output_type": "stream",
       "stream": "stdout",
       "text": [
        "42700 "
       ]
      },
      {
       "output_type": "stream",
       "stream": "stdout",
       "text": [
        "! "
       ]
      },
      {
       "output_type": "stream",
       "stream": "stdout",
       "text": [
        "! "
       ]
      },
      {
       "output_type": "stream",
       "stream": "stdout",
       "text": [
        "! "
       ]
      },
      {
       "output_type": "stream",
       "stream": "stdout",
       "text": [
        "42800 "
       ]
      },
      {
       "output_type": "stream",
       "stream": "stdout",
       "text": [
        "! "
       ]
      },
      {
       "output_type": "stream",
       "stream": "stdout",
       "text": [
        "42900 "
       ]
      },
      {
       "output_type": "stream",
       "stream": "stdout",
       "text": [
        "! "
       ]
      },
      {
       "output_type": "stream",
       "stream": "stdout",
       "text": [
        "! "
       ]
      },
      {
       "output_type": "stream",
       "stream": "stdout",
       "text": [
        "! "
       ]
      },
      {
       "output_type": "stream",
       "stream": "stdout",
       "text": [
        "43000 "
       ]
      },
      {
       "output_type": "stream",
       "stream": "stdout",
       "text": [
        "43100 "
       ]
      },
      {
       "output_type": "stream",
       "stream": "stdout",
       "text": [
        "! "
       ]
      },
      {
       "output_type": "stream",
       "stream": "stdout",
       "text": [
        "43200 "
       ]
      },
      {
       "output_type": "stream",
       "stream": "stdout",
       "text": [
        "! "
       ]
      },
      {
       "output_type": "stream",
       "stream": "stdout",
       "text": [
        "! ! "
       ]
      },
      {
       "output_type": "stream",
       "stream": "stdout",
       "text": [
        "43300 "
       ]
      },
      {
       "output_type": "stream",
       "stream": "stdout",
       "text": [
        "! "
       ]
      },
      {
       "output_type": "stream",
       "stream": "stdout",
       "text": [
        "! "
       ]
      },
      {
       "output_type": "stream",
       "stream": "stdout",
       "text": [
        "! "
       ]
      },
      {
       "output_type": "stream",
       "stream": "stdout",
       "text": [
        "! "
       ]
      },
      {
       "output_type": "stream",
       "stream": "stdout",
       "text": [
        "43400 "
       ]
      },
      {
       "output_type": "stream",
       "stream": "stdout",
       "text": [
        "! "
       ]
      },
      {
       "output_type": "stream",
       "stream": "stdout",
       "text": [
        "43500 "
       ]
      },
      {
       "output_type": "stream",
       "stream": "stdout",
       "text": [
        "! "
       ]
      },
      {
       "output_type": "stream",
       "stream": "stdout",
       "text": [
        "43600 "
       ]
      },
      {
       "output_type": "stream",
       "stream": "stdout",
       "text": [
        "! "
       ]
      },
      {
       "output_type": "stream",
       "stream": "stdout",
       "text": [
        "! "
       ]
      },
      {
       "output_type": "stream",
       "stream": "stdout",
       "text": [
        "! "
       ]
      },
      {
       "output_type": "stream",
       "stream": "stdout",
       "text": [
        "! "
       ]
      },
      {
       "output_type": "stream",
       "stream": "stdout",
       "text": [
        "43700 "
       ]
      },
      {
       "output_type": "stream",
       "stream": "stdout",
       "text": [
        "! "
       ]
      },
      {
       "output_type": "stream",
       "stream": "stdout",
       "text": [
        "! "
       ]
      },
      {
       "output_type": "stream",
       "stream": "stdout",
       "text": [
        "43800 "
       ]
      },
      {
       "output_type": "stream",
       "stream": "stdout",
       "text": [
        "! "
       ]
      },
      {
       "output_type": "stream",
       "stream": "stdout",
       "text": [
        "43900 "
       ]
      },
      {
       "output_type": "stream",
       "stream": "stdout",
       "text": [
        "! ! "
       ]
      },
      {
       "output_type": "stream",
       "stream": "stdout",
       "text": [
        "! "
       ]
      },
      {
       "output_type": "stream",
       "stream": "stdout",
       "text": [
        "! "
       ]
      },
      {
       "output_type": "stream",
       "stream": "stdout",
       "text": [
        "! "
       ]
      },
      {
       "output_type": "stream",
       "stream": "stdout",
       "text": [
        "! "
       ]
      },
      {
       "output_type": "stream",
       "stream": "stdout",
       "text": [
        "44000 "
       ]
      },
      {
       "output_type": "stream",
       "stream": "stdout",
       "text": [
        "! "
       ]
      },
      {
       "output_type": "stream",
       "stream": "stdout",
       "text": [
        "44100 "
       ]
      },
      {
       "output_type": "stream",
       "stream": "stdout",
       "text": [
        "! "
       ]
      },
      {
       "output_type": "stream",
       "stream": "stdout",
       "text": [
        "! "
       ]
      },
      {
       "output_type": "stream",
       "stream": "stdout",
       "text": [
        "! "
       ]
      },
      {
       "output_type": "stream",
       "stream": "stdout",
       "text": [
        "! "
       ]
      },
      {
       "output_type": "stream",
       "stream": "stdout",
       "text": [
        "44200 "
       ]
      },
      {
       "output_type": "stream",
       "stream": "stdout",
       "text": [
        "! "
       ]
      },
      {
       "output_type": "stream",
       "stream": "stdout",
       "text": [
        "! "
       ]
      },
      {
       "output_type": "stream",
       "stream": "stdout",
       "text": [
        "44300 "
       ]
      },
      {
       "output_type": "stream",
       "stream": "stdout",
       "text": [
        "! "
       ]
      },
      {
       "output_type": "stream",
       "stream": "stdout",
       "text": [
        "! "
       ]
      },
      {
       "output_type": "stream",
       "stream": "stdout",
       "text": [
        "! "
       ]
      },
      {
       "output_type": "stream",
       "stream": "stdout",
       "text": [
        "44400 "
       ]
      },
      {
       "output_type": "stream",
       "stream": "stdout",
       "text": [
        "! 44500 "
       ]
      },
      {
       "output_type": "stream",
       "stream": "stdout",
       "text": [
        "! "
       ]
      },
      {
       "output_type": "stream",
       "stream": "stdout",
       "text": [
        "! "
       ]
      },
      {
       "output_type": "stream",
       "stream": "stdout",
       "text": [
        "! "
       ]
      },
      {
       "output_type": "stream",
       "stream": "stdout",
       "text": [
        "44600 "
       ]
      },
      {
       "output_type": "stream",
       "stream": "stdout",
       "text": [
        "! "
       ]
      },
      {
       "output_type": "stream",
       "stream": "stdout",
       "text": [
        "! "
       ]
      },
      {
       "output_type": "stream",
       "stream": "stdout",
       "text": [
        "! "
       ]
      },
      {
       "output_type": "stream",
       "stream": "stdout",
       "text": [
        "44700 "
       ]
      },
      {
       "output_type": "stream",
       "stream": "stdout",
       "text": [
        "! "
       ]
      },
      {
       "output_type": "stream",
       "stream": "stdout",
       "text": [
        "44800 "
       ]
      },
      {
       "output_type": "stream",
       "stream": "stdout",
       "text": [
        "! "
       ]
      },
      {
       "output_type": "stream",
       "stream": "stdout",
       "text": [
        "! "
       ]
      },
      {
       "output_type": "stream",
       "stream": "stdout",
       "text": [
        "44900 "
       ]
      },
      {
       "output_type": "stream",
       "stream": "stdout",
       "text": [
        "! "
       ]
      },
      {
       "output_type": "stream",
       "stream": "stdout",
       "text": [
        "! "
       ]
      },
      {
       "output_type": "stream",
       "stream": "stdout",
       "text": [
        "45000 "
       ]
      },
      {
       "output_type": "stream",
       "stream": "stdout",
       "text": [
        "! "
       ]
      },
      {
       "output_type": "stream",
       "stream": "stdout",
       "text": [
        "! "
       ]
      },
      {
       "output_type": "stream",
       "stream": "stdout",
       "text": [
        "45100 "
       ]
      },
      {
       "output_type": "stream",
       "stream": "stdout",
       "text": [
        "! ! "
       ]
      },
      {
       "output_type": "stream",
       "stream": "stdout",
       "text": [
        "! "
       ]
      },
      {
       "output_type": "stream",
       "stream": "stdout",
       "text": [
        "45200 "
       ]
      },
      {
       "output_type": "stream",
       "stream": "stdout",
       "text": [
        "! "
       ]
      },
      {
       "output_type": "stream",
       "stream": "stdout",
       "text": [
        "! "
       ]
      },
      {
       "output_type": "stream",
       "stream": "stdout",
       "text": [
        "45300 "
       ]
      },
      {
       "output_type": "stream",
       "stream": "stdout",
       "text": [
        "! "
       ]
      },
      {
       "output_type": "stream",
       "stream": "stdout",
       "text": [
        "45400 "
       ]
      },
      {
       "output_type": "stream",
       "stream": "stdout",
       "text": [
        "! "
       ]
      },
      {
       "output_type": "stream",
       "stream": "stdout",
       "text": [
        "! ! "
       ]
      },
      {
       "output_type": "stream",
       "stream": "stdout",
       "text": [
        "! "
       ]
      },
      {
       "output_type": "stream",
       "stream": "stdout",
       "text": [
        "! "
       ]
      },
      {
       "output_type": "stream",
       "stream": "stdout",
       "text": [
        "45500 "
       ]
      },
      {
       "output_type": "stream",
       "stream": "stdout",
       "text": [
        "! "
       ]
      },
      {
       "output_type": "stream",
       "stream": "stdout",
       "text": [
        "! "
       ]
      },
      {
       "output_type": "stream",
       "stream": "stdout",
       "text": [
        "45600 "
       ]
      },
      {
       "output_type": "stream",
       "stream": "stdout",
       "text": [
        "! "
       ]
      },
      {
       "output_type": "stream",
       "stream": "stdout",
       "text": [
        "! ! "
       ]
      },
      {
       "output_type": "stream",
       "stream": "stdout",
       "text": [
        "! "
       ]
      },
      {
       "output_type": "stream",
       "stream": "stdout",
       "text": [
        "! ! "
       ]
      },
      {
       "output_type": "stream",
       "stream": "stdout",
       "text": [
        "45700 "
       ]
      },
      {
       "output_type": "stream",
       "stream": "stdout",
       "text": [
        "! "
       ]
      },
      {
       "output_type": "stream",
       "stream": "stdout",
       "text": [
        "! "
       ]
      },
      {
       "output_type": "stream",
       "stream": "stdout",
       "text": [
        "! "
       ]
      },
      {
       "output_type": "stream",
       "stream": "stdout",
       "text": [
        "! "
       ]
      },
      {
       "output_type": "stream",
       "stream": "stdout",
       "text": [
        "45800 "
       ]
      },
      {
       "output_type": "stream",
       "stream": "stdout",
       "text": [
        "! "
       ]
      },
      {
       "output_type": "stream",
       "stream": "stdout",
       "text": [
        "! "
       ]
      },
      {
       "output_type": "stream",
       "stream": "stdout",
       "text": [
        "! "
       ]
      },
      {
       "output_type": "stream",
       "stream": "stdout",
       "text": [
        "! "
       ]
      },
      {
       "output_type": "stream",
       "stream": "stdout",
       "text": [
        "45900 "
       ]
      },
      {
       "output_type": "stream",
       "stream": "stdout",
       "text": [
        "! "
       ]
      },
      {
       "output_type": "stream",
       "stream": "stdout",
       "text": [
        "! "
       ]
      },
      {
       "output_type": "stream",
       "stream": "stdout",
       "text": [
        "46000 "
       ]
      },
      {
       "output_type": "stream",
       "stream": "stdout",
       "text": [
        "! "
       ]
      },
      {
       "output_type": "stream",
       "stream": "stdout",
       "text": [
        "46100 "
       ]
      },
      {
       "output_type": "stream",
       "stream": "stdout",
       "text": [
        "! "
       ]
      },
      {
       "output_type": "stream",
       "stream": "stdout",
       "text": [
        "! "
       ]
      },
      {
       "output_type": "stream",
       "stream": "stdout",
       "text": [
        "! "
       ]
      },
      {
       "output_type": "stream",
       "stream": "stdout",
       "text": [
        "46200 "
       ]
      },
      {
       "output_type": "stream",
       "stream": "stdout",
       "text": [
        "! "
       ]
      },
      {
       "output_type": "stream",
       "stream": "stdout",
       "text": [
        "! "
       ]
      },
      {
       "output_type": "stream",
       "stream": "stdout",
       "text": [
        "! "
       ]
      },
      {
       "output_type": "stream",
       "stream": "stdout",
       "text": [
        "46300 "
       ]
      },
      {
       "output_type": "stream",
       "stream": "stdout",
       "text": [
        "! "
       ]
      },
      {
       "output_type": "stream",
       "stream": "stdout",
       "text": [
        "! "
       ]
      },
      {
       "output_type": "stream",
       "stream": "stdout",
       "text": [
        "! "
       ]
      },
      {
       "output_type": "stream",
       "stream": "stdout",
       "text": [
        "46400 "
       ]
      },
      {
       "output_type": "stream",
       "stream": "stdout",
       "text": [
        "! "
       ]
      },
      {
       "output_type": "stream",
       "stream": "stdout",
       "text": [
        "46500 "
       ]
      },
      {
       "output_type": "stream",
       "stream": "stdout",
       "text": [
        "! "
       ]
      },
      {
       "output_type": "stream",
       "stream": "stdout",
       "text": [
        "! "
       ]
      },
      {
       "output_type": "stream",
       "stream": "stdout",
       "text": [
        "! "
       ]
      },
      {
       "output_type": "stream",
       "stream": "stdout",
       "text": [
        "! "
       ]
      },
      {
       "output_type": "stream",
       "stream": "stdout",
       "text": [
        "! "
       ]
      },
      {
       "output_type": "stream",
       "stream": "stdout",
       "text": [
        "46600 "
       ]
      },
      {
       "output_type": "stream",
       "stream": "stdout",
       "text": [
        "! "
       ]
      },
      {
       "output_type": "stream",
       "stream": "stdout",
       "text": [
        "! "
       ]
      },
      {
       "output_type": "stream",
       "stream": "stdout",
       "text": [
        "! "
       ]
      },
      {
       "output_type": "stream",
       "stream": "stdout",
       "text": [
        "46700 ! "
       ]
      },
      {
       "output_type": "stream",
       "stream": "stdout",
       "text": [
        "! "
       ]
      },
      {
       "output_type": "stream",
       "stream": "stdout",
       "text": [
        "! "
       ]
      },
      {
       "output_type": "stream",
       "stream": "stdout",
       "text": [
        "! "
       ]
      },
      {
       "output_type": "stream",
       "stream": "stdout",
       "text": [
        "! "
       ]
      },
      {
       "output_type": "stream",
       "stream": "stdout",
       "text": [
        "46800 "
       ]
      },
      {
       "output_type": "stream",
       "stream": "stdout",
       "text": [
        "! "
       ]
      },
      {
       "output_type": "stream",
       "stream": "stdout",
       "text": [
        "! "
       ]
      },
      {
       "output_type": "stream",
       "stream": "stdout",
       "text": [
        "! ! "
       ]
      },
      {
       "output_type": "stream",
       "stream": "stdout",
       "text": [
        "46900 "
       ]
      },
      {
       "output_type": "stream",
       "stream": "stdout",
       "text": [
        "47000 "
       ]
      },
      {
       "output_type": "stream",
       "stream": "stdout",
       "text": [
        "! "
       ]
      },
      {
       "output_type": "stream",
       "stream": "stdout",
       "text": [
        "47100 ! "
       ]
      },
      {
       "output_type": "stream",
       "stream": "stdout",
       "text": [
        "! "
       ]
      },
      {
       "output_type": "stream",
       "stream": "stdout",
       "text": [
        "! "
       ]
      },
      {
       "output_type": "stream",
       "stream": "stdout",
       "text": [
        "! "
       ]
      },
      {
       "output_type": "stream",
       "stream": "stdout",
       "text": [
        "47200 "
       ]
      },
      {
       "output_type": "stream",
       "stream": "stdout",
       "text": [
        "! "
       ]
      },
      {
       "output_type": "stream",
       "stream": "stdout",
       "text": [
        "! "
       ]
      },
      {
       "output_type": "stream",
       "stream": "stdout",
       "text": [
        "47300 "
       ]
      },
      {
       "output_type": "stream",
       "stream": "stdout",
       "text": [
        "47400 "
       ]
      },
      {
       "output_type": "stream",
       "stream": "stdout",
       "text": [
        "! "
       ]
      },
      {
       "output_type": "stream",
       "stream": "stdout",
       "text": [
        "! "
       ]
      },
      {
       "output_type": "stream",
       "stream": "stdout",
       "text": [
        "! "
       ]
      },
      {
       "output_type": "stream",
       "stream": "stdout",
       "text": [
        "! "
       ]
      },
      {
       "output_type": "stream",
       "stream": "stdout",
       "text": [
        "47500 "
       ]
      },
      {
       "output_type": "stream",
       "stream": "stdout",
       "text": [
        "! "
       ]
      },
      {
       "output_type": "stream",
       "stream": "stdout",
       "text": [
        "47600 "
       ]
      },
      {
       "output_type": "stream",
       "stream": "stdout",
       "text": [
        "! "
       ]
      },
      {
       "output_type": "stream",
       "stream": "stdout",
       "text": [
        "! ! "
       ]
      },
      {
       "output_type": "stream",
       "stream": "stdout",
       "text": [
        "! "
       ]
      },
      {
       "output_type": "stream",
       "stream": "stdout",
       "text": [
        "47700 "
       ]
      },
      {
       "output_type": "stream",
       "stream": "stdout",
       "text": [
        "! "
       ]
      },
      {
       "output_type": "stream",
       "stream": "stdout",
       "text": [
        "! "
       ]
      },
      {
       "output_type": "stream",
       "stream": "stdout",
       "text": [
        "! "
       ]
      },
      {
       "output_type": "stream",
       "stream": "stdout",
       "text": [
        "47800 "
       ]
      },
      {
       "output_type": "stream",
       "stream": "stdout",
       "text": [
        "! "
       ]
      },
      {
       "output_type": "stream",
       "stream": "stdout",
       "text": [
        "! "
       ]
      },
      {
       "output_type": "stream",
       "stream": "stdout",
       "text": [
        "! "
       ]
      },
      {
       "output_type": "stream",
       "stream": "stdout",
       "text": [
        "47900 "
       ]
      },
      {
       "output_type": "stream",
       "stream": "stdout",
       "text": [
        "! "
       ]
      },
      {
       "output_type": "stream",
       "stream": "stdout",
       "text": [
        "48000 "
       ]
      },
      {
       "output_type": "stream",
       "stream": "stdout",
       "text": [
        "! "
       ]
      },
      {
       "output_type": "stream",
       "stream": "stdout",
       "text": [
        "! "
       ]
      },
      {
       "output_type": "stream",
       "stream": "stdout",
       "text": [
        "48100 "
       ]
      },
      {
       "output_type": "stream",
       "stream": "stdout",
       "text": [
        "! 48200 "
       ]
      },
      {
       "output_type": "stream",
       "stream": "stdout",
       "text": [
        "! "
       ]
      },
      {
       "output_type": "stream",
       "stream": "stdout",
       "text": [
        "48300 "
       ]
      },
      {
       "output_type": "stream",
       "stream": "stdout",
       "text": [
        "! "
       ]
      },
      {
       "output_type": "stream",
       "stream": "stdout",
       "text": [
        "! "
       ]
      },
      {
       "output_type": "stream",
       "stream": "stdout",
       "text": [
        "! "
       ]
      },
      {
       "output_type": "stream",
       "stream": "stdout",
       "text": [
        "48400 "
       ]
      },
      {
       "output_type": "stream",
       "stream": "stdout",
       "text": [
        "! "
       ]
      },
      {
       "output_type": "stream",
       "stream": "stdout",
       "text": [
        "! "
       ]
      },
      {
       "output_type": "stream",
       "stream": "stdout",
       "text": [
        "48500 "
       ]
      },
      {
       "output_type": "stream",
       "stream": "stdout",
       "text": [
        "! "
       ]
      },
      {
       "output_type": "stream",
       "stream": "stdout",
       "text": [
        "! "
       ]
      },
      {
       "output_type": "stream",
       "stream": "stdout",
       "text": [
        "! "
       ]
      },
      {
       "output_type": "stream",
       "stream": "stdout",
       "text": [
        "48600 "
       ]
      },
      {
       "output_type": "stream",
       "stream": "stdout",
       "text": [
        "! "
       ]
      },
      {
       "output_type": "stream",
       "stream": "stdout",
       "text": [
        "! ! "
       ]
      },
      {
       "output_type": "stream",
       "stream": "stdout",
       "text": [
        "! 48700 "
       ]
      },
      {
       "output_type": "stream",
       "stream": "stdout",
       "text": [
        "! "
       ]
      },
      {
       "output_type": "stream",
       "stream": "stdout",
       "text": [
        "! ! "
       ]
      },
      {
       "output_type": "stream",
       "stream": "stdout",
       "text": [
        "! "
       ]
      },
      {
       "output_type": "stream",
       "stream": "stdout",
       "text": [
        "48800 "
       ]
      },
      {
       "output_type": "stream",
       "stream": "stdout",
       "text": [
        "! "
       ]
      },
      {
       "output_type": "stream",
       "stream": "stdout",
       "text": [
        "! "
       ]
      },
      {
       "output_type": "stream",
       "stream": "stdout",
       "text": [
        "! "
       ]
      },
      {
       "output_type": "stream",
       "stream": "stdout",
       "text": [
        "48900 "
       ]
      },
      {
       "output_type": "stream",
       "stream": "stdout",
       "text": [
        "! "
       ]
      },
      {
       "output_type": "stream",
       "stream": "stdout",
       "text": [
        "49000 "
       ]
      },
      {
       "output_type": "stream",
       "stream": "stdout",
       "text": [
        "! "
       ]
      },
      {
       "output_type": "stream",
       "stream": "stdout",
       "text": [
        "! ! "
       ]
      },
      {
       "output_type": "stream",
       "stream": "stdout",
       "text": [
        "! "
       ]
      },
      {
       "output_type": "stream",
       "stream": "stdout",
       "text": [
        "49100 "
       ]
      },
      {
       "output_type": "stream",
       "stream": "stdout",
       "text": [
        "! "
       ]
      },
      {
       "output_type": "stream",
       "stream": "stdout",
       "text": [
        "49200 "
       ]
      },
      {
       "output_type": "stream",
       "stream": "stdout",
       "text": [
        "! "
       ]
      },
      {
       "output_type": "stream",
       "stream": "stdout",
       "text": [
        "! "
       ]
      },
      {
       "output_type": "stream",
       "stream": "stdout",
       "text": [
        "49300 "
       ]
      },
      {
       "output_type": "stream",
       "stream": "stdout",
       "text": [
        "! "
       ]
      },
      {
       "output_type": "stream",
       "stream": "stdout",
       "text": [
        "! "
       ]
      },
      {
       "output_type": "stream",
       "stream": "stdout",
       "text": [
        "49400 "
       ]
      },
      {
       "output_type": "stream",
       "stream": "stdout",
       "text": [
        "! "
       ]
      },
      {
       "output_type": "stream",
       "stream": "stdout",
       "text": [
        "! "
       ]
      },
      {
       "output_type": "stream",
       "stream": "stdout",
       "text": [
        "49500 "
       ]
      },
      {
       "output_type": "stream",
       "stream": "stdout",
       "text": [
        "! "
       ]
      },
      {
       "output_type": "stream",
       "stream": "stdout",
       "text": [
        "! "
       ]
      },
      {
       "output_type": "stream",
       "stream": "stdout",
       "text": [
        "49600 "
       ]
      },
      {
       "output_type": "stream",
       "stream": "stdout",
       "text": [
        "! "
       ]
      },
      {
       "output_type": "stream",
       "stream": "stdout",
       "text": [
        "49700 "
       ]
      },
      {
       "output_type": "stream",
       "stream": "stdout",
       "text": [
        "! "
       ]
      },
      {
       "output_type": "stream",
       "stream": "stdout",
       "text": [
        "49800 "
       ]
      },
      {
       "output_type": "stream",
       "stream": "stdout",
       "text": [
        "! ! "
       ]
      },
      {
       "output_type": "stream",
       "stream": "stdout",
       "text": [
        "! "
       ]
      },
      {
       "output_type": "stream",
       "stream": "stdout",
       "text": [
        "! "
       ]
      },
      {
       "output_type": "stream",
       "stream": "stdout",
       "text": [
        "49900 "
       ]
      },
      {
       "output_type": "stream",
       "stream": "stdout",
       "text": [
        "! "
       ]
      },
      {
       "output_type": "stream",
       "stream": "stdout",
       "text": [
        "! "
       ]
      },
      {
       "output_type": "stream",
       "stream": "stdout",
       "text": [
        "50000 ! "
       ]
      },
      {
       "output_type": "stream",
       "stream": "stdout",
       "text": [
        "! "
       ]
      },
      {
       "output_type": "stream",
       "stream": "stdout",
       "text": [
        "! "
       ]
      },
      {
       "output_type": "stream",
       "stream": "stdout",
       "text": [
        "50100 ! "
       ]
      },
      {
       "output_type": "stream",
       "stream": "stdout",
       "text": [
        "! "
       ]
      },
      {
       "output_type": "stream",
       "stream": "stdout",
       "text": [
        "50200 "
       ]
      },
      {
       "output_type": "stream",
       "stream": "stdout",
       "text": [
        "50300 "
       ]
      },
      {
       "output_type": "stream",
       "stream": "stdout",
       "text": [
        "! ! "
       ]
      },
      {
       "output_type": "stream",
       "stream": "stdout",
       "text": [
        "! "
       ]
      },
      {
       "output_type": "stream",
       "stream": "stdout",
       "text": [
        "! "
       ]
      },
      {
       "output_type": "stream",
       "stream": "stdout",
       "text": [
        "! "
       ]
      },
      {
       "output_type": "stream",
       "stream": "stdout",
       "text": [
        "50400 "
       ]
      },
      {
       "output_type": "stream",
       "stream": "stdout",
       "text": [
        "50500 "
       ]
      },
      {
       "output_type": "stream",
       "stream": "stdout",
       "text": [
        "! "
       ]
      },
      {
       "output_type": "stream",
       "stream": "stdout",
       "text": [
        "! "
       ]
      },
      {
       "output_type": "stream",
       "stream": "stdout",
       "text": [
        "! "
       ]
      },
      {
       "output_type": "stream",
       "stream": "stdout",
       "text": [
        "! ! "
       ]
      },
      {
       "output_type": "stream",
       "stream": "stdout",
       "text": [
        "! "
       ]
      },
      {
       "output_type": "stream",
       "stream": "stdout",
       "text": [
        "50600 "
       ]
      },
      {
       "output_type": "stream",
       "stream": "stdout",
       "text": [
        "! "
       ]
      },
      {
       "output_type": "stream",
       "stream": "stdout",
       "text": [
        "! "
       ]
      },
      {
       "output_type": "stream",
       "stream": "stdout",
       "text": [
        "50700 "
       ]
      },
      {
       "output_type": "stream",
       "stream": "stdout",
       "text": [
        "! "
       ]
      },
      {
       "output_type": "stream",
       "stream": "stdout",
       "text": [
        "! "
       ]
      },
      {
       "output_type": "stream",
       "stream": "stdout",
       "text": [
        "50800 "
       ]
      },
      {
       "output_type": "stream",
       "stream": "stdout",
       "text": [
        "! "
       ]
      },
      {
       "output_type": "stream",
       "stream": "stdout",
       "text": [
        "! "
       ]
      },
      {
       "output_type": "stream",
       "stream": "stdout",
       "text": [
        "! "
       ]
      },
      {
       "output_type": "stream",
       "stream": "stdout",
       "text": [
        "! "
       ]
      },
      {
       "output_type": "stream",
       "stream": "stdout",
       "text": [
        "50900 "
       ]
      },
      {
       "output_type": "stream",
       "stream": "stdout",
       "text": [
        "! "
       ]
      },
      {
       "output_type": "stream",
       "stream": "stdout",
       "text": [
        "! "
       ]
      },
      {
       "output_type": "stream",
       "stream": "stdout",
       "text": [
        "51000 "
       ]
      },
      {
       "output_type": "stream",
       "stream": "stdout",
       "text": [
        "! "
       ]
      },
      {
       "output_type": "stream",
       "stream": "stdout",
       "text": [
        "51100 "
       ]
      },
      {
       "output_type": "stream",
       "stream": "stdout",
       "text": [
        "! "
       ]
      },
      {
       "output_type": "stream",
       "stream": "stdout",
       "text": [
        "! "
       ]
      },
      {
       "output_type": "stream",
       "stream": "stdout",
       "text": [
        "51200 "
       ]
      },
      {
       "output_type": "stream",
       "stream": "stdout",
       "text": [
        "! "
       ]
      },
      {
       "output_type": "stream",
       "stream": "stdout",
       "text": [
        "! "
       ]
      },
      {
       "output_type": "stream",
       "stream": "stdout",
       "text": [
        "51300 "
       ]
      },
      {
       "output_type": "stream",
       "stream": "stdout",
       "text": [
        "! "
       ]
      },
      {
       "output_type": "stream",
       "stream": "stdout",
       "text": [
        "51400 "
       ]
      },
      {
       "output_type": "stream",
       "stream": "stdout",
       "text": [
        "! "
       ]
      },
      {
       "output_type": "stream",
       "stream": "stdout",
       "text": [
        "! "
       ]
      },
      {
       "output_type": "stream",
       "stream": "stdout",
       "text": [
        "51500 "
       ]
      },
      {
       "output_type": "stream",
       "stream": "stdout",
       "text": [
        "! "
       ]
      },
      {
       "output_type": "stream",
       "stream": "stdout",
       "text": [
        "! "
       ]
      },
      {
       "output_type": "stream",
       "stream": "stdout",
       "text": [
        "! "
       ]
      },
      {
       "output_type": "stream",
       "stream": "stdout",
       "text": [
        "! "
       ]
      },
      {
       "output_type": "stream",
       "stream": "stdout",
       "text": [
        "! "
       ]
      },
      {
       "output_type": "stream",
       "stream": "stdout",
       "text": [
        "51600 "
       ]
      },
      {
       "output_type": "stream",
       "stream": "stdout",
       "text": [
        "! "
       ]
      },
      {
       "output_type": "stream",
       "stream": "stdout",
       "text": [
        "! "
       ]
      },
      {
       "output_type": "stream",
       "stream": "stdout",
       "text": [
        "! ! "
       ]
      },
      {
       "output_type": "stream",
       "stream": "stdout",
       "text": [
        "51700 "
       ]
      },
      {
       "output_type": "stream",
       "stream": "stdout",
       "text": [
        "! "
       ]
      },
      {
       "output_type": "stream",
       "stream": "stdout",
       "text": [
        "! "
       ]
      },
      {
       "output_type": "stream",
       "stream": "stdout",
       "text": [
        "51800 "
       ]
      },
      {
       "output_type": "stream",
       "stream": "stdout",
       "text": [
        "51900 "
       ]
      },
      {
       "output_type": "stream",
       "stream": "stdout",
       "text": [
        "! "
       ]
      },
      {
       "output_type": "stream",
       "stream": "stdout",
       "text": [
        "! "
       ]
      },
      {
       "output_type": "stream",
       "stream": "stdout",
       "text": [
        "52000 "
       ]
      },
      {
       "output_type": "stream",
       "stream": "stdout",
       "text": [
        "! "
       ]
      },
      {
       "output_type": "stream",
       "stream": "stdout",
       "text": [
        "! "
       ]
      },
      {
       "output_type": "stream",
       "stream": "stdout",
       "text": [
        "52100 "
       ]
      },
      {
       "output_type": "stream",
       "stream": "stdout",
       "text": [
        "! "
       ]
      },
      {
       "output_type": "stream",
       "stream": "stdout",
       "text": [
        "! "
       ]
      },
      {
       "output_type": "stream",
       "stream": "stdout",
       "text": [
        "! "
       ]
      },
      {
       "output_type": "stream",
       "stream": "stdout",
       "text": [
        "52200 "
       ]
      },
      {
       "output_type": "stream",
       "stream": "stdout",
       "text": [
        "52300 "
       ]
      },
      {
       "output_type": "stream",
       "stream": "stdout",
       "text": [
        "! "
       ]
      },
      {
       "output_type": "stream",
       "stream": "stdout",
       "text": [
        "52400 ! "
       ]
      },
      {
       "output_type": "stream",
       "stream": "stdout",
       "text": [
        "52500 "
       ]
      },
      {
       "output_type": "stream",
       "stream": "stdout",
       "text": [
        "! "
       ]
      },
      {
       "output_type": "stream",
       "stream": "stdout",
       "text": [
        "! "
       ]
      },
      {
       "output_type": "stream",
       "stream": "stdout",
       "text": [
        "52600 "
       ]
      },
      {
       "output_type": "stream",
       "stream": "stdout",
       "text": [
        "! "
       ]
      },
      {
       "output_type": "stream",
       "stream": "stdout",
       "text": [
        "! "
       ]
      },
      {
       "output_type": "stream",
       "stream": "stdout",
       "text": [
        "52700 "
       ]
      },
      {
       "output_type": "stream",
       "stream": "stdout",
       "text": [
        "! "
       ]
      },
      {
       "output_type": "stream",
       "stream": "stdout",
       "text": [
        "! "
       ]
      },
      {
       "output_type": "stream",
       "stream": "stdout",
       "text": [
        "! "
       ]
      },
      {
       "output_type": "stream",
       "stream": "stdout",
       "text": [
        "52800 "
       ]
      },
      {
       "output_type": "stream",
       "stream": "stdout",
       "text": [
        "! "
       ]
      },
      {
       "output_type": "stream",
       "stream": "stdout",
       "text": [
        "52900 "
       ]
      },
      {
       "output_type": "stream",
       "stream": "stdout",
       "text": [
        "! "
       ]
      },
      {
       "output_type": "stream",
       "stream": "stdout",
       "text": [
        "53000 ! "
       ]
      },
      {
       "output_type": "stream",
       "stream": "stdout",
       "text": [
        "! "
       ]
      },
      {
       "output_type": "stream",
       "stream": "stdout",
       "text": [
        "53100 "
       ]
      },
      {
       "output_type": "stream",
       "stream": "stdout",
       "text": [
        "! "
       ]
      },
      {
       "output_type": "stream",
       "stream": "stdout",
       "text": [
        "! "
       ]
      },
      {
       "output_type": "stream",
       "stream": "stdout",
       "text": [
        "53200 "
       ]
      },
      {
       "output_type": "stream",
       "stream": "stdout",
       "text": [
        "! "
       ]
      },
      {
       "output_type": "stream",
       "stream": "stdout",
       "text": [
        "! "
       ]
      },
      {
       "output_type": "stream",
       "stream": "stdout",
       "text": [
        "! "
       ]
      },
      {
       "output_type": "stream",
       "stream": "stdout",
       "text": [
        "! "
       ]
      },
      {
       "output_type": "stream",
       "stream": "stdout",
       "text": [
        "53300 "
       ]
      },
      {
       "output_type": "stream",
       "stream": "stdout",
       "text": [
        "! ! "
       ]
      },
      {
       "output_type": "stream",
       "stream": "stdout",
       "text": [
        "! "
       ]
      },
      {
       "output_type": "stream",
       "stream": "stdout",
       "text": [
        "! "
       ]
      },
      {
       "output_type": "stream",
       "stream": "stdout",
       "text": [
        "53400 "
       ]
      },
      {
       "output_type": "stream",
       "stream": "stdout",
       "text": [
        "! "
       ]
      },
      {
       "output_type": "stream",
       "stream": "stdout",
       "text": [
        "! "
       ]
      },
      {
       "output_type": "stream",
       "stream": "stdout",
       "text": [
        "! "
       ]
      },
      {
       "output_type": "stream",
       "stream": "stdout",
       "text": [
        "! "
       ]
      },
      {
       "output_type": "stream",
       "stream": "stdout",
       "text": [
        "53500 "
       ]
      },
      {
       "output_type": "stream",
       "stream": "stdout",
       "text": [
        "! "
       ]
      },
      {
       "output_type": "stream",
       "stream": "stdout",
       "text": [
        "53600 "
       ]
      },
      {
       "output_type": "stream",
       "stream": "stdout",
       "text": [
        "! "
       ]
      },
      {
       "output_type": "stream",
       "stream": "stdout",
       "text": [
        "! "
       ]
      },
      {
       "output_type": "stream",
       "stream": "stdout",
       "text": [
        "! 53700 "
       ]
      },
      {
       "output_type": "stream",
       "stream": "stdout",
       "text": [
        "53800 "
       ]
      },
      {
       "output_type": "stream",
       "stream": "stdout",
       "text": [
        "53900 "
       ]
      },
      {
       "output_type": "stream",
       "stream": "stdout",
       "text": [
        "! ! "
       ]
      },
      {
       "output_type": "stream",
       "stream": "stdout",
       "text": [
        "! "
       ]
      },
      {
       "output_type": "stream",
       "stream": "stdout",
       "text": [
        "54000 "
       ]
      },
      {
       "output_type": "stream",
       "stream": "stdout",
       "text": [
        "! "
       ]
      },
      {
       "output_type": "stream",
       "stream": "stdout",
       "text": [
        "! "
       ]
      },
      {
       "output_type": "stream",
       "stream": "stdout",
       "text": [
        "! "
       ]
      },
      {
       "output_type": "stream",
       "stream": "stdout",
       "text": [
        "54100 "
       ]
      },
      {
       "output_type": "stream",
       "stream": "stdout",
       "text": [
        "! "
       ]
      },
      {
       "output_type": "stream",
       "stream": "stdout",
       "text": [
        "! "
       ]
      },
      {
       "output_type": "stream",
       "stream": "stdout",
       "text": [
        "! "
       ]
      },
      {
       "output_type": "stream",
       "stream": "stdout",
       "text": [
        "54200 "
       ]
      },
      {
       "output_type": "stream",
       "stream": "stdout",
       "text": [
        "! "
       ]
      },
      {
       "output_type": "stream",
       "stream": "stdout",
       "text": [
        "! "
       ]
      },
      {
       "output_type": "stream",
       "stream": "stdout",
       "text": [
        "54300 ! "
       ]
      },
      {
       "output_type": "stream",
       "stream": "stdout",
       "text": [
        "54400 "
       ]
      },
      {
       "output_type": "stream",
       "stream": "stdout",
       "text": [
        "54500 "
       ]
      },
      {
       "output_type": "stream",
       "stream": "stdout",
       "text": [
        "! "
       ]
      },
      {
       "output_type": "stream",
       "stream": "stdout",
       "text": [
        "54600 "
       ]
      },
      {
       "output_type": "stream",
       "stream": "stdout",
       "text": [
        "54700 "
       ]
      },
      {
       "output_type": "stream",
       "stream": "stdout",
       "text": [
        "! "
       ]
      },
      {
       "output_type": "stream",
       "stream": "stdout",
       "text": [
        "! "
       ]
      },
      {
       "output_type": "stream",
       "stream": "stdout",
       "text": [
        "54800 "
       ]
      },
      {
       "output_type": "stream",
       "stream": "stdout",
       "text": [
        "! "
       ]
      },
      {
       "output_type": "stream",
       "stream": "stdout",
       "text": [
        "54900 "
       ]
      },
      {
       "output_type": "stream",
       "stream": "stdout",
       "text": [
        "! "
       ]
      },
      {
       "output_type": "stream",
       "stream": "stdout",
       "text": [
        "55000 "
       ]
      },
      {
       "output_type": "stream",
       "stream": "stdout",
       "text": [
        "! "
       ]
      },
      {
       "output_type": "stream",
       "stream": "stdout",
       "text": [
        "! "
       ]
      },
      {
       "output_type": "stream",
       "stream": "stdout",
       "text": [
        "55100 "
       ]
      },
      {
       "output_type": "stream",
       "stream": "stdout",
       "text": [
        "! "
       ]
      },
      {
       "output_type": "stream",
       "stream": "stdout",
       "text": [
        "55200 "
       ]
      },
      {
       "output_type": "stream",
       "stream": "stdout",
       "text": [
        "! "
       ]
      },
      {
       "output_type": "stream",
       "stream": "stdout",
       "text": [
        "! "
       ]
      },
      {
       "output_type": "stream",
       "stream": "stdout",
       "text": [
        "55300 "
       ]
      },
      {
       "output_type": "stream",
       "stream": "stdout",
       "text": [
        "! "
       ]
      },
      {
       "output_type": "stream",
       "stream": "stdout",
       "text": [
        "! "
       ]
      },
      {
       "output_type": "stream",
       "stream": "stdout",
       "text": [
        "55400 "
       ]
      },
      {
       "output_type": "stream",
       "stream": "stdout",
       "text": [
        "! "
       ]
      },
      {
       "output_type": "stream",
       "stream": "stdout",
       "text": [
        "! "
       ]
      },
      {
       "output_type": "stream",
       "stream": "stdout",
       "text": [
        "! 55500 "
       ]
      },
      {
       "output_type": "stream",
       "stream": "stdout",
       "text": [
        "! "
       ]
      },
      {
       "output_type": "stream",
       "stream": "stdout",
       "text": [
        "55600 "
       ]
      },
      {
       "output_type": "stream",
       "stream": "stdout",
       "text": [
        "! "
       ]
      },
      {
       "output_type": "stream",
       "stream": "stdout",
       "text": [
        "! "
       ]
      },
      {
       "output_type": "stream",
       "stream": "stdout",
       "text": [
        "55700 "
       ]
      },
      {
       "output_type": "stream",
       "stream": "stdout",
       "text": [
        "! "
       ]
      },
      {
       "output_type": "stream",
       "stream": "stdout",
       "text": [
        "! "
       ]
      },
      {
       "output_type": "stream",
       "stream": "stdout",
       "text": [
        "! "
       ]
      },
      {
       "output_type": "stream",
       "stream": "stdout",
       "text": [
        "! "
       ]
      },
      {
       "output_type": "stream",
       "stream": "stdout",
       "text": [
        "55800 ! "
       ]
      },
      {
       "output_type": "stream",
       "stream": "stdout",
       "text": [
        "! "
       ]
      },
      {
       "output_type": "stream",
       "stream": "stdout",
       "text": [
        "! "
       ]
      },
      {
       "output_type": "stream",
       "stream": "stdout",
       "text": [
        "! ! "
       ]
      },
      {
       "output_type": "stream",
       "stream": "stdout",
       "text": [
        "! "
       ]
      },
      {
       "output_type": "stream",
       "stream": "stdout",
       "text": [
        "! "
       ]
      },
      {
       "output_type": "stream",
       "stream": "stdout",
       "text": [
        "55900 "
       ]
      },
      {
       "output_type": "stream",
       "stream": "stdout",
       "text": [
        "! ! "
       ]
      },
      {
       "output_type": "stream",
       "stream": "stdout",
       "text": [
        "56000 "
       ]
      },
      {
       "output_type": "stream",
       "stream": "stdout",
       "text": [
        "56100 "
       ]
      },
      {
       "output_type": "stream",
       "stream": "stdout",
       "text": [
        "! ! "
       ]
      },
      {
       "output_type": "stream",
       "stream": "stdout",
       "text": [
        "! "
       ]
      },
      {
       "output_type": "stream",
       "stream": "stdout",
       "text": [
        "! "
       ]
      },
      {
       "output_type": "stream",
       "stream": "stdout",
       "text": [
        "56200 "
       ]
      },
      {
       "output_type": "stream",
       "stream": "stdout",
       "text": [
        "! ! "
       ]
      },
      {
       "output_type": "stream",
       "stream": "stdout",
       "text": [
        "! "
       ]
      },
      {
       "output_type": "stream",
       "stream": "stdout",
       "text": [
        "56300 "
       ]
      },
      {
       "output_type": "stream",
       "stream": "stdout",
       "text": [
        "! "
       ]
      },
      {
       "output_type": "stream",
       "stream": "stdout",
       "text": [
        "! "
       ]
      },
      {
       "output_type": "stream",
       "stream": "stdout",
       "text": [
        "! "
       ]
      },
      {
       "output_type": "stream",
       "stream": "stdout",
       "text": [
        "! "
       ]
      },
      {
       "output_type": "stream",
       "stream": "stdout",
       "text": [
        "! 56400 "
       ]
      },
      {
       "output_type": "stream",
       "stream": "stdout",
       "text": [
        "! ! "
       ]
      },
      {
       "output_type": "stream",
       "stream": "stdout",
       "text": [
        "56500 "
       ]
      },
      {
       "output_type": "stream",
       "stream": "stdout",
       "text": [
        "! "
       ]
      },
      {
       "output_type": "stream",
       "stream": "stdout",
       "text": [
        "! "
       ]
      },
      {
       "output_type": "stream",
       "stream": "stdout",
       "text": [
        "! "
       ]
      },
      {
       "output_type": "stream",
       "stream": "stdout",
       "text": [
        "56600 "
       ]
      },
      {
       "output_type": "stream",
       "stream": "stdout",
       "text": [
        "56700 "
       ]
      },
      {
       "output_type": "stream",
       "stream": "stdout",
       "text": [
        "! "
       ]
      },
      {
       "output_type": "stream",
       "stream": "stdout",
       "text": [
        "! "
       ]
      },
      {
       "output_type": "stream",
       "stream": "stdout",
       "text": [
        "! "
       ]
      },
      {
       "output_type": "stream",
       "stream": "stdout",
       "text": [
        "56800 "
       ]
      },
      {
       "output_type": "stream",
       "stream": "stdout",
       "text": [
        "! "
       ]
      },
      {
       "output_type": "stream",
       "stream": "stdout",
       "text": [
        "56900 "
       ]
      },
      {
       "output_type": "stream",
       "stream": "stdout",
       "text": [
        "! "
       ]
      },
      {
       "output_type": "stream",
       "stream": "stdout",
       "text": [
        "! "
       ]
      },
      {
       "output_type": "stream",
       "stream": "stdout",
       "text": [
        "! "
       ]
      },
      {
       "output_type": "stream",
       "stream": "stdout",
       "text": [
        "57000 "
       ]
      },
      {
       "output_type": "stream",
       "stream": "stdout",
       "text": [
        "! "
       ]
      },
      {
       "output_type": "stream",
       "stream": "stdout",
       "text": [
        "! "
       ]
      },
      {
       "output_type": "stream",
       "stream": "stdout",
       "text": [
        "57100 "
       ]
      },
      {
       "output_type": "stream",
       "stream": "stdout",
       "text": [
        "! "
       ]
      },
      {
       "output_type": "stream",
       "stream": "stdout",
       "text": [
        "57200 "
       ]
      },
      {
       "output_type": "stream",
       "stream": "stdout",
       "text": [
        "! "
       ]
      },
      {
       "output_type": "stream",
       "stream": "stdout",
       "text": [
        "57300 "
       ]
      },
      {
       "output_type": "stream",
       "stream": "stdout",
       "text": [
        "! "
       ]
      },
      {
       "output_type": "stream",
       "stream": "stdout",
       "text": [
        "57400 "
       ]
      },
      {
       "output_type": "stream",
       "stream": "stdout",
       "text": [
        "! "
       ]
      },
      {
       "output_type": "stream",
       "stream": "stdout",
       "text": [
        "! "
       ]
      },
      {
       "output_type": "stream",
       "stream": "stdout",
       "text": [
        "57500 "
       ]
      },
      {
       "output_type": "stream",
       "stream": "stdout",
       "text": [
        "57600 "
       ]
      },
      {
       "output_type": "stream",
       "stream": "stdout",
       "text": [
        "! 57700 "
       ]
      },
      {
       "output_type": "stream",
       "stream": "stdout",
       "text": [
        "! "
       ]
      },
      {
       "output_type": "stream",
       "stream": "stdout",
       "text": [
        "! "
       ]
      },
      {
       "output_type": "stream",
       "stream": "stdout",
       "text": [
        "! "
       ]
      },
      {
       "output_type": "stream",
       "stream": "stdout",
       "text": [
        "57800 "
       ]
      },
      {
       "output_type": "stream",
       "stream": "stdout",
       "text": [
        "! "
       ]
      },
      {
       "output_type": "stream",
       "stream": "stdout",
       "text": [
        "! "
       ]
      },
      {
       "output_type": "stream",
       "stream": "stdout",
       "text": [
        "57900 ! "
       ]
      },
      {
       "output_type": "stream",
       "stream": "stdout",
       "text": [
        "! "
       ]
      },
      {
       "output_type": "stream",
       "stream": "stdout",
       "text": [
        "! "
       ]
      },
      {
       "output_type": "stream",
       "stream": "stdout",
       "text": [
        "! "
       ]
      },
      {
       "output_type": "stream",
       "stream": "stdout",
       "text": [
        "58000 "
       ]
      },
      {
       "output_type": "stream",
       "stream": "stdout",
       "text": [
        "! "
       ]
      },
      {
       "output_type": "stream",
       "stream": "stdout",
       "text": [
        "! ! 58100 "
       ]
      },
      {
       "output_type": "stream",
       "stream": "stdout",
       "text": [
        "58200 "
       ]
      },
      {
       "output_type": "stream",
       "stream": "stdout",
       "text": [
        "! "
       ]
      },
      {
       "output_type": "stream",
       "stream": "stdout",
       "text": [
        "! "
       ]
      },
      {
       "output_type": "stream",
       "stream": "stdout",
       "text": [
        "58300 "
       ]
      },
      {
       "output_type": "stream",
       "stream": "stdout",
       "text": [
        "! "
       ]
      },
      {
       "output_type": "stream",
       "stream": "stdout",
       "text": [
        "58400 "
       ]
      },
      {
       "output_type": "stream",
       "stream": "stdout",
       "text": [
        "! "
       ]
      },
      {
       "output_type": "stream",
       "stream": "stdout",
       "text": [
        "! "
       ]
      },
      {
       "output_type": "stream",
       "stream": "stdout",
       "text": [
        "! "
       ]
      },
      {
       "output_type": "stream",
       "stream": "stdout",
       "text": [
        "! "
       ]
      },
      {
       "output_type": "stream",
       "stream": "stdout",
       "text": [
        "58500 "
       ]
      },
      {
       "output_type": "stream",
       "stream": "stdout",
       "text": [
        "58600 "
       ]
      },
      {
       "output_type": "stream",
       "stream": "stdout",
       "text": [
        "! "
       ]
      },
      {
       "output_type": "stream",
       "stream": "stdout",
       "text": [
        "58700 "
       ]
      },
      {
       "output_type": "stream",
       "stream": "stdout",
       "text": [
        "! "
       ]
      },
      {
       "output_type": "stream",
       "stream": "stdout",
       "text": [
        "! "
       ]
      },
      {
       "output_type": "stream",
       "stream": "stdout",
       "text": [
        "58800 "
       ]
      },
      {
       "output_type": "stream",
       "stream": "stdout",
       "text": [
        "! "
       ]
      },
      {
       "output_type": "stream",
       "stream": "stdout",
       "text": [
        "! "
       ]
      },
      {
       "output_type": "stream",
       "stream": "stdout",
       "text": [
        "58900 "
       ]
      },
      {
       "output_type": "stream",
       "stream": "stdout",
       "text": [
        "! "
       ]
      },
      {
       "output_type": "stream",
       "stream": "stdout",
       "text": [
        "59000 "
       ]
      },
      {
       "output_type": "stream",
       "stream": "stdout",
       "text": [
        "! "
       ]
      },
      {
       "output_type": "stream",
       "stream": "stdout",
       "text": [
        "! "
       ]
      },
      {
       "output_type": "stream",
       "stream": "stdout",
       "text": [
        "! "
       ]
      },
      {
       "output_type": "stream",
       "stream": "stdout",
       "text": [
        "! "
       ]
      },
      {
       "output_type": "stream",
       "stream": "stdout",
       "text": [
        "! "
       ]
      },
      {
       "output_type": "stream",
       "stream": "stdout",
       "text": [
        "59100 "
       ]
      },
      {
       "output_type": "stream",
       "stream": "stdout",
       "text": [
        "! "
       ]
      },
      {
       "output_type": "stream",
       "stream": "stdout",
       "text": [
        "59200 ! "
       ]
      },
      {
       "output_type": "stream",
       "stream": "stdout",
       "text": [
        "! ! "
       ]
      },
      {
       "output_type": "stream",
       "stream": "stdout",
       "text": [
        "59300 "
       ]
      },
      {
       "output_type": "stream",
       "stream": "stdout",
       "text": [
        "! "
       ]
      },
      {
       "output_type": "stream",
       "stream": "stdout",
       "text": [
        "! "
       ]
      },
      {
       "output_type": "stream",
       "stream": "stdout",
       "text": [
        "59400 "
       ]
      },
      {
       "output_type": "stream",
       "stream": "stdout",
       "text": [
        "! "
       ]
      },
      {
       "output_type": "stream",
       "stream": "stdout",
       "text": [
        "59500 "
       ]
      },
      {
       "output_type": "stream",
       "stream": "stdout",
       "text": [
        "! "
       ]
      },
      {
       "output_type": "stream",
       "stream": "stdout",
       "text": [
        "! "
       ]
      },
      {
       "output_type": "stream",
       "stream": "stdout",
       "text": [
        "59600 "
       ]
      },
      {
       "output_type": "stream",
       "stream": "stdout",
       "text": [
        "! "
       ]
      },
      {
       "output_type": "stream",
       "stream": "stdout",
       "text": [
        "! "
       ]
      },
      {
       "output_type": "stream",
       "stream": "stdout",
       "text": [
        "! "
       ]
      },
      {
       "output_type": "stream",
       "stream": "stdout",
       "text": [
        "59700 "
       ]
      },
      {
       "output_type": "stream",
       "stream": "stdout",
       "text": [
        "! "
       ]
      },
      {
       "output_type": "stream",
       "stream": "stdout",
       "text": [
        "! ! "
       ]
      },
      {
       "output_type": "stream",
       "stream": "stdout",
       "text": [
        "59800 "
       ]
      },
      {
       "output_type": "stream",
       "stream": "stdout",
       "text": [
        "! "
       ]
      },
      {
       "output_type": "stream",
       "stream": "stdout",
       "text": [
        "! "
       ]
      },
      {
       "output_type": "stream",
       "stream": "stdout",
       "text": [
        "! "
       ]
      },
      {
       "output_type": "stream",
       "stream": "stdout",
       "text": [
        "59900 "
       ]
      },
      {
       "output_type": "stream",
       "stream": "stdout",
       "text": [
        "! "
       ]
      },
      {
       "output_type": "stream",
       "stream": "stdout",
       "text": [
        "60000 ! "
       ]
      },
      {
       "output_type": "stream",
       "stream": "stdout",
       "text": [
        "! "
       ]
      },
      {
       "output_type": "stream",
       "stream": "stdout",
       "text": [
        "! "
       ]
      },
      {
       "output_type": "stream",
       "stream": "stdout",
       "text": [
        "! "
       ]
      },
      {
       "output_type": "stream",
       "stream": "stdout",
       "text": [
        "! 60100 "
       ]
      },
      {
       "output_type": "stream",
       "stream": "stdout",
       "text": [
        "60200 "
       ]
      },
      {
       "output_type": "stream",
       "stream": "stdout",
       "text": [
        "60300 "
       ]
      },
      {
       "output_type": "stream",
       "stream": "stdout",
       "text": [
        "! "
       ]
      },
      {
       "output_type": "stream",
       "stream": "stdout",
       "text": [
        "! "
       ]
      },
      {
       "output_type": "stream",
       "stream": "stdout",
       "text": [
        "! "
       ]
      },
      {
       "output_type": "stream",
       "stream": "stdout",
       "text": [
        "! "
       ]
      },
      {
       "output_type": "stream",
       "stream": "stdout",
       "text": [
        "60400 "
       ]
      },
      {
       "output_type": "stream",
       "stream": "stdout",
       "text": [
        "! "
       ]
      },
      {
       "output_type": "stream",
       "stream": "stdout",
       "text": [
        "60500 "
       ]
      },
      {
       "output_type": "stream",
       "stream": "stdout",
       "text": [
        "! "
       ]
      },
      {
       "output_type": "stream",
       "stream": "stdout",
       "text": [
        "60600 "
       ]
      },
      {
       "output_type": "stream",
       "stream": "stdout",
       "text": [
        "! "
       ]
      },
      {
       "output_type": "stream",
       "stream": "stdout",
       "text": [
        "60700 ! "
       ]
      },
      {
       "output_type": "stream",
       "stream": "stdout",
       "text": [
        "60800 "
       ]
      },
      {
       "output_type": "stream",
       "stream": "stdout",
       "text": [
        "60900 "
       ]
      },
      {
       "output_type": "stream",
       "stream": "stdout",
       "text": [
        "! "
       ]
      },
      {
       "output_type": "stream",
       "stream": "stdout",
       "text": [
        "! "
       ]
      },
      {
       "output_type": "stream",
       "stream": "stdout",
       "text": [
        "! "
       ]
      },
      {
       "output_type": "stream",
       "stream": "stdout",
       "text": [
        "! "
       ]
      },
      {
       "output_type": "stream",
       "stream": "stdout",
       "text": [
        "61000 "
       ]
      },
      {
       "output_type": "stream",
       "stream": "stdout",
       "text": [
        "! "
       ]
      },
      {
       "output_type": "stream",
       "stream": "stdout",
       "text": [
        "! "
       ]
      },
      {
       "output_type": "stream",
       "stream": "stdout",
       "text": [
        "! "
       ]
      },
      {
       "output_type": "stream",
       "stream": "stdout",
       "text": [
        "61100 "
       ]
      },
      {
       "output_type": "stream",
       "stream": "stdout",
       "text": [
        "! "
       ]
      },
      {
       "output_type": "stream",
       "stream": "stdout",
       "text": [
        "61200 "
       ]
      },
      {
       "output_type": "stream",
       "stream": "stdout",
       "text": [
        "! ! "
       ]
      },
      {
       "output_type": "stream",
       "stream": "stdout",
       "text": [
        "! "
       ]
      },
      {
       "output_type": "stream",
       "stream": "stdout",
       "text": [
        "! ! "
       ]
      },
      {
       "output_type": "stream",
       "stream": "stdout",
       "text": [
        "! "
       ]
      },
      {
       "output_type": "stream",
       "stream": "stdout",
       "text": [
        "61300 "
       ]
      },
      {
       "output_type": "stream",
       "stream": "stdout",
       "text": [
        "! "
       ]
      },
      {
       "output_type": "stream",
       "stream": "stdout",
       "text": [
        "! "
       ]
      },
      {
       "output_type": "stream",
       "stream": "stdout",
       "text": [
        "61400 "
       ]
      },
      {
       "output_type": "stream",
       "stream": "stdout",
       "text": [
        "! "
       ]
      },
      {
       "output_type": "stream",
       "stream": "stdout",
       "text": [
        "! "
       ]
      },
      {
       "output_type": "stream",
       "stream": "stdout",
       "text": [
        "61500 "
       ]
      },
      {
       "output_type": "stream",
       "stream": "stdout",
       "text": [
        "! "
       ]
      },
      {
       "output_type": "stream",
       "stream": "stdout",
       "text": [
        "! "
       ]
      },
      {
       "output_type": "stream",
       "stream": "stdout",
       "text": [
        "61600 "
       ]
      },
      {
       "output_type": "stream",
       "stream": "stdout",
       "text": [
        "! "
       ]
      },
      {
       "output_type": "stream",
       "stream": "stdout",
       "text": [
        "! "
       ]
      },
      {
       "output_type": "stream",
       "stream": "stdout",
       "text": [
        "61700 "
       ]
      },
      {
       "output_type": "stream",
       "stream": "stdout",
       "text": [
        "! "
       ]
      },
      {
       "output_type": "stream",
       "stream": "stdout",
       "text": [
        "61800 "
       ]
      },
      {
       "output_type": "stream",
       "stream": "stdout",
       "text": [
        "! "
       ]
      },
      {
       "output_type": "stream",
       "stream": "stdout",
       "text": [
        "61900 "
       ]
      },
      {
       "output_type": "stream",
       "stream": "stdout",
       "text": [
        "! "
       ]
      },
      {
       "output_type": "stream",
       "stream": "stdout",
       "text": [
        "! "
       ]
      },
      {
       "output_type": "stream",
       "stream": "stdout",
       "text": [
        "! "
       ]
      },
      {
       "output_type": "stream",
       "stream": "stdout",
       "text": [
        "! "
       ]
      },
      {
       "output_type": "stream",
       "stream": "stdout",
       "text": [
        "! 62000 "
       ]
      },
      {
       "output_type": "stream",
       "stream": "stdout",
       "text": [
        "! "
       ]
      },
      {
       "output_type": "stream",
       "stream": "stdout",
       "text": [
        "! "
       ]
      },
      {
       "output_type": "stream",
       "stream": "stdout",
       "text": [
        "! "
       ]
      },
      {
       "output_type": "stream",
       "stream": "stdout",
       "text": [
        "! "
       ]
      },
      {
       "output_type": "stream",
       "stream": "stdout",
       "text": [
        "62100 "
       ]
      },
      {
       "output_type": "stream",
       "stream": "stdout",
       "text": [
        "! "
       ]
      },
      {
       "output_type": "stream",
       "stream": "stdout",
       "text": [
        "! "
       ]
      },
      {
       "output_type": "stream",
       "stream": "stdout",
       "text": [
        "! ! "
       ]
      },
      {
       "output_type": "stream",
       "stream": "stdout",
       "text": [
        "62200 "
       ]
      },
      {
       "output_type": "stream",
       "stream": "stdout",
       "text": [
        "! "
       ]
      },
      {
       "output_type": "stream",
       "stream": "stdout",
       "text": [
        "! "
       ]
      },
      {
       "output_type": "stream",
       "stream": "stdout",
       "text": [
        "62300 "
       ]
      },
      {
       "output_type": "stream",
       "stream": "stdout",
       "text": [
        "! "
       ]
      },
      {
       "output_type": "stream",
       "stream": "stdout",
       "text": [
        "! "
       ]
      },
      {
       "output_type": "stream",
       "stream": "stdout",
       "text": [
        "! "
       ]
      },
      {
       "output_type": "stream",
       "stream": "stdout",
       "text": [
        "62400 "
       ]
      },
      {
       "output_type": "stream",
       "stream": "stdout",
       "text": [
        "! "
       ]
      },
      {
       "output_type": "stream",
       "stream": "stdout",
       "text": [
        "62500 "
       ]
      },
      {
       "output_type": "stream",
       "stream": "stdout",
       "text": [
        "! "
       ]
      },
      {
       "output_type": "stream",
       "stream": "stdout",
       "text": [
        "! "
       ]
      },
      {
       "output_type": "stream",
       "stream": "stdout",
       "text": [
        "62600 "
       ]
      },
      {
       "output_type": "stream",
       "stream": "stdout",
       "text": [
        "! "
       ]
      },
      {
       "output_type": "stream",
       "stream": "stdout",
       "text": [
        "! "
       ]
      },
      {
       "output_type": "stream",
       "stream": "stdout",
       "text": [
        "! "
       ]
      },
      {
       "output_type": "stream",
       "stream": "stdout",
       "text": [
        "62700 "
       ]
      },
      {
       "output_type": "stream",
       "stream": "stdout",
       "text": [
        "! "
       ]
      },
      {
       "output_type": "stream",
       "stream": "stdout",
       "text": [
        "! "
       ]
      },
      {
       "output_type": "stream",
       "stream": "stdout",
       "text": [
        "! "
       ]
      },
      {
       "output_type": "stream",
       "stream": "stdout",
       "text": [
        "62800 "
       ]
      },
      {
       "output_type": "stream",
       "stream": "stdout",
       "text": [
        "! ! "
       ]
      },
      {
       "output_type": "stream",
       "stream": "stdout",
       "text": [
        "! "
       ]
      },
      {
       "output_type": "stream",
       "stream": "stdout",
       "text": [
        "! "
       ]
      },
      {
       "output_type": "stream",
       "stream": "stdout",
       "text": [
        "62900 "
       ]
      },
      {
       "output_type": "stream",
       "stream": "stdout",
       "text": [
        "! ! "
       ]
      },
      {
       "output_type": "stream",
       "stream": "stdout",
       "text": [
        "! "
       ]
      },
      {
       "output_type": "stream",
       "stream": "stdout",
       "text": [
        "63000 "
       ]
      },
      {
       "output_type": "stream",
       "stream": "stdout",
       "text": [
        "! "
       ]
      },
      {
       "output_type": "stream",
       "stream": "stdout",
       "text": [
        "! "
       ]
      },
      {
       "output_type": "stream",
       "stream": "stdout",
       "text": [
        "! 63100 "
       ]
      },
      {
       "output_type": "stream",
       "stream": "stdout",
       "text": [
        "! "
       ]
      },
      {
       "output_type": "stream",
       "stream": "stdout",
       "text": [
        "! "
       ]
      },
      {
       "output_type": "stream",
       "stream": "stdout",
       "text": [
        "! "
       ]
      },
      {
       "output_type": "stream",
       "stream": "stdout",
       "text": [
        "63200 "
       ]
      },
      {
       "output_type": "stream",
       "stream": "stdout",
       "text": [
        "! "
       ]
      },
      {
       "output_type": "stream",
       "stream": "stdout",
       "text": [
        "! "
       ]
      },
      {
       "output_type": "stream",
       "stream": "stdout",
       "text": [
        "! "
       ]
      },
      {
       "output_type": "stream",
       "stream": "stdout",
       "text": [
        "! "
       ]
      },
      {
       "output_type": "stream",
       "stream": "stdout",
       "text": [
        "63300 "
       ]
      },
      {
       "output_type": "stream",
       "stream": "stdout",
       "text": [
        "! "
       ]
      },
      {
       "output_type": "stream",
       "stream": "stdout",
       "text": [
        "! "
       ]
      },
      {
       "output_type": "stream",
       "stream": "stdout",
       "text": [
        "! "
       ]
      },
      {
       "output_type": "stream",
       "stream": "stdout",
       "text": [
        "63400 "
       ]
      },
      {
       "output_type": "stream",
       "stream": "stdout",
       "text": [
        "! "
       ]
      },
      {
       "output_type": "stream",
       "stream": "stdout",
       "text": [
        "63500 "
       ]
      },
      {
       "output_type": "stream",
       "stream": "stdout",
       "text": [
        "! "
       ]
      },
      {
       "output_type": "stream",
       "stream": "stdout",
       "text": [
        "! "
       ]
      },
      {
       "output_type": "stream",
       "stream": "stdout",
       "text": [
        "! "
       ]
      },
      {
       "output_type": "stream",
       "stream": "stdout",
       "text": [
        "63600 "
       ]
      },
      {
       "output_type": "stream",
       "stream": "stdout",
       "text": [
        "! "
       ]
      },
      {
       "output_type": "stream",
       "stream": "stdout",
       "text": [
        "63700 "
       ]
      },
      {
       "output_type": "stream",
       "stream": "stdout",
       "text": [
        "! "
       ]
      },
      {
       "output_type": "stream",
       "stream": "stdout",
       "text": [
        "! "
       ]
      },
      {
       "output_type": "stream",
       "stream": "stdout",
       "text": [
        "63800 "
       ]
      },
      {
       "output_type": "stream",
       "stream": "stdout",
       "text": [
        "! "
       ]
      },
      {
       "output_type": "stream",
       "stream": "stdout",
       "text": [
        "! "
       ]
      },
      {
       "output_type": "stream",
       "stream": "stdout",
       "text": [
        "! "
       ]
      },
      {
       "output_type": "stream",
       "stream": "stdout",
       "text": [
        "63900 "
       ]
      },
      {
       "output_type": "stream",
       "stream": "stdout",
       "text": [
        "! "
       ]
      },
      {
       "output_type": "stream",
       "stream": "stdout",
       "text": [
        "64000 "
       ]
      },
      {
       "output_type": "stream",
       "stream": "stdout",
       "text": [
        "! "
       ]
      },
      {
       "output_type": "stream",
       "stream": "stdout",
       "text": [
        "! "
       ]
      },
      {
       "output_type": "stream",
       "stream": "stdout",
       "text": [
        "64100 ! "
       ]
      },
      {
       "output_type": "stream",
       "stream": "stdout",
       "text": [
        "! ! "
       ]
      },
      {
       "output_type": "stream",
       "stream": "stdout",
       "text": [
        "! "
       ]
      },
      {
       "output_type": "stream",
       "stream": "stdout",
       "text": [
        "! "
       ]
      },
      {
       "output_type": "stream",
       "stream": "stdout",
       "text": [
        "! "
       ]
      },
      {
       "output_type": "stream",
       "stream": "stdout",
       "text": [
        "! ! "
       ]
      },
      {
       "output_type": "stream",
       "stream": "stdout",
       "text": [
        "! ! "
       ]
      },
      {
       "output_type": "stream",
       "stream": "stdout",
       "text": [
        "! "
       ]
      },
      {
       "output_type": "stream",
       "stream": "stdout",
       "text": [
        "! "
       ]
      },
      {
       "output_type": "stream",
       "stream": "stdout",
       "text": [
        "! ! "
       ]
      },
      {
       "output_type": "stream",
       "stream": "stdout",
       "text": [
        "! ! "
       ]
      },
      {
       "output_type": "stream",
       "stream": "stdout",
       "text": [
        "! "
       ]
      },
      {
       "output_type": "stream",
       "stream": "stdout",
       "text": [
        "! ! ! "
       ]
      },
      {
       "output_type": "stream",
       "stream": "stdout",
       "text": [
        "! 64200 "
       ]
      },
      {
       "output_type": "stream",
       "stream": "stdout",
       "text": [
        "! ! "
       ]
      },
      {
       "output_type": "stream",
       "stream": "stdout",
       "text": [
        "! "
       ]
      },
      {
       "output_type": "stream",
       "stream": "stdout",
       "text": [
        "! "
       ]
      },
      {
       "output_type": "stream",
       "stream": "stdout",
       "text": [
        "! "
       ]
      },
      {
       "output_type": "stream",
       "stream": "stdout",
       "text": [
        "! "
       ]
      },
      {
       "output_type": "stream",
       "stream": "stdout",
       "text": [
        "! "
       ]
      },
      {
       "output_type": "stream",
       "stream": "stdout",
       "text": [
        "! "
       ]
      },
      {
       "output_type": "stream",
       "stream": "stdout",
       "text": [
        "! "
       ]
      },
      {
       "output_type": "stream",
       "stream": "stdout",
       "text": [
        "64300 "
       ]
      },
      {
       "output_type": "stream",
       "stream": "stdout",
       "text": [
        "! "
       ]
      },
      {
       "output_type": "stream",
       "stream": "stdout",
       "text": [
        "! ! "
       ]
      },
      {
       "output_type": "stream",
       "stream": "stdout",
       "text": [
        "! "
       ]
      },
      {
       "output_type": "stream",
       "stream": "stdout",
       "text": [
        "! "
       ]
      },
      {
       "output_type": "stream",
       "stream": "stdout",
       "text": [
        "! "
       ]
      },
      {
       "output_type": "stream",
       "stream": "stdout",
       "text": [
        "! "
       ]
      },
      {
       "output_type": "stream",
       "stream": "stdout",
       "text": [
        "! "
       ]
      },
      {
       "output_type": "stream",
       "stream": "stdout",
       "text": [
        "! "
       ]
      },
      {
       "output_type": "stream",
       "stream": "stdout",
       "text": [
        "! "
       ]
      },
      {
       "output_type": "stream",
       "stream": "stdout",
       "text": [
        "! ! "
       ]
      },
      {
       "output_type": "stream",
       "stream": "stdout",
       "text": [
        "64400 "
       ]
      },
      {
       "output_type": "stream",
       "stream": "stdout",
       "text": [
        "! "
       ]
      },
      {
       "output_type": "stream",
       "stream": "stdout",
       "text": [
        "! "
       ]
      },
      {
       "output_type": "stream",
       "stream": "stdout",
       "text": [
        "! ! "
       ]
      },
      {
       "output_type": "stream",
       "stream": "stdout",
       "text": [
        "! "
       ]
      },
      {
       "output_type": "stream",
       "stream": "stdout",
       "text": [
        "64500 "
       ]
      },
      {
       "output_type": "stream",
       "stream": "stdout",
       "text": [
        "! "
       ]
      },
      {
       "output_type": "stream",
       "stream": "stdout",
       "text": [
        "! "
       ]
      },
      {
       "output_type": "stream",
       "stream": "stdout",
       "text": [
        "! "
       ]
      },
      {
       "output_type": "stream",
       "stream": "stdout",
       "text": [
        "! "
       ]
      },
      {
       "output_type": "stream",
       "stream": "stdout",
       "text": [
        "! "
       ]
      },
      {
       "output_type": "stream",
       "stream": "stdout",
       "text": [
        "! ! "
       ]
      },
      {
       "output_type": "stream",
       "stream": "stdout",
       "text": [
        "! "
       ]
      },
      {
       "output_type": "stream",
       "stream": "stdout",
       "text": [
        "! "
       ]
      },
      {
       "output_type": "stream",
       "stream": "stdout",
       "text": [
        "64600 "
       ]
      },
      {
       "output_type": "stream",
       "stream": "stdout",
       "text": [
        "! "
       ]
      },
      {
       "output_type": "stream",
       "stream": "stdout",
       "text": [
        "! "
       ]
      },
      {
       "output_type": "stream",
       "stream": "stdout",
       "text": [
        "! "
       ]
      },
      {
       "output_type": "stream",
       "stream": "stdout",
       "text": [
        "! "
       ]
      },
      {
       "output_type": "stream",
       "stream": "stdout",
       "text": [
        "! "
       ]
      },
      {
       "output_type": "stream",
       "stream": "stdout",
       "text": [
        "! "
       ]
      },
      {
       "output_type": "stream",
       "stream": "stdout",
       "text": [
        "! "
       ]
      },
      {
       "output_type": "stream",
       "stream": "stdout",
       "text": [
        "! ! "
       ]
      },
      {
       "output_type": "stream",
       "stream": "stdout",
       "text": [
        "! 64700 "
       ]
      },
      {
       "output_type": "stream",
       "stream": "stdout",
       "text": [
        "! "
       ]
      },
      {
       "output_type": "stream",
       "stream": "stdout",
       "text": [
        "! "
       ]
      },
      {
       "output_type": "stream",
       "stream": "stdout",
       "text": [
        "! "
       ]
      },
      {
       "output_type": "stream",
       "stream": "stdout",
       "text": [
        "! ! ! "
       ]
      },
      {
       "output_type": "stream",
       "stream": "stdout",
       "text": [
        "! ! "
       ]
      },
      {
       "output_type": "stream",
       "stream": "stdout",
       "text": [
        "64800 "
       ]
      },
      {
       "output_type": "stream",
       "stream": "stdout",
       "text": [
        "! "
       ]
      },
      {
       "output_type": "stream",
       "stream": "stdout",
       "text": [
        "! "
       ]
      },
      {
       "output_type": "stream",
       "stream": "stdout",
       "text": [
        "! ! "
       ]
      },
      {
       "output_type": "stream",
       "stream": "stdout",
       "text": [
        "! "
       ]
      },
      {
       "output_type": "stream",
       "stream": "stdout",
       "text": [
        "! ! "
       ]
      },
      {
       "output_type": "stream",
       "stream": "stdout",
       "text": [
        "! "
       ]
      },
      {
       "output_type": "stream",
       "stream": "stdout",
       "text": [
        "! "
       ]
      },
      {
       "output_type": "stream",
       "stream": "stdout",
       "text": [
        "! "
       ]
      },
      {
       "output_type": "stream",
       "stream": "stdout",
       "text": [
        "! "
       ]
      },
      {
       "output_type": "stream",
       "stream": "stdout",
       "text": [
        "! 64900 "
       ]
      },
      {
       "output_type": "stream",
       "stream": "stdout",
       "text": [
        "! "
       ]
      },
      {
       "output_type": "stream",
       "stream": "stdout",
       "text": [
        "! "
       ]
      },
      {
       "output_type": "stream",
       "stream": "stdout",
       "text": [
        "! ! ! "
       ]
      },
      {
       "output_type": "stream",
       "stream": "stdout",
       "text": [
        "! ! "
       ]
      },
      {
       "output_type": "stream",
       "stream": "stdout",
       "text": [
        "! ! ! "
       ]
      },
      {
       "output_type": "stream",
       "stream": "stdout",
       "text": [
        "! ! "
       ]
      },
      {
       "output_type": "stream",
       "stream": "stdout",
       "text": [
        "! "
       ]
      },
      {
       "output_type": "stream",
       "stream": "stdout",
       "text": [
        "! "
       ]
      },
      {
       "output_type": "stream",
       "stream": "stdout",
       "text": [
        "! "
       ]
      },
      {
       "output_type": "stream",
       "stream": "stdout",
       "text": [
        "! "
       ]
      },
      {
       "output_type": "stream",
       "stream": "stdout",
       "text": [
        "65000 "
       ]
      },
      {
       "output_type": "stream",
       "stream": "stdout",
       "text": [
        "! "
       ]
      },
      {
       "output_type": "stream",
       "stream": "stdout",
       "text": [
        "! "
       ]
      },
      {
       "output_type": "stream",
       "stream": "stdout",
       "text": [
        "! "
       ]
      },
      {
       "output_type": "stream",
       "stream": "stdout",
       "text": [
        "! "
       ]
      },
      {
       "output_type": "stream",
       "stream": "stdout",
       "text": [
        "! "
       ]
      },
      {
       "output_type": "stream",
       "stream": "stdout",
       "text": [
        "! "
       ]
      },
      {
       "output_type": "stream",
       "stream": "stdout",
       "text": [
        "! "
       ]
      },
      {
       "output_type": "stream",
       "stream": "stdout",
       "text": [
        "! "
       ]
      },
      {
       "output_type": "stream",
       "stream": "stdout",
       "text": [
        "! "
       ]
      },
      {
       "output_type": "stream",
       "stream": "stdout",
       "text": [
        "! 65100 "
       ]
      },
      {
       "output_type": "stream",
       "stream": "stdout",
       "text": [
        "! ! "
       ]
      },
      {
       "output_type": "stream",
       "stream": "stdout",
       "text": [
        "! ! "
       ]
      },
      {
       "output_type": "stream",
       "stream": "stdout",
       "text": [
        "! "
       ]
      },
      {
       "output_type": "stream",
       "stream": "stdout",
       "text": [
        "! "
       ]
      },
      {
       "output_type": "stream",
       "stream": "stdout",
       "text": [
        "! ! "
       ]
      },
      {
       "output_type": "stream",
       "stream": "stdout",
       "text": [
        "! "
       ]
      },
      {
       "output_type": "stream",
       "stream": "stdout",
       "text": [
        "! "
       ]
      },
      {
       "output_type": "stream",
       "stream": "stdout",
       "text": [
        "! "
       ]
      },
      {
       "output_type": "stream",
       "stream": "stdout",
       "text": [
        "! 65200 "
       ]
      },
      {
       "output_type": "stream",
       "stream": "stdout",
       "text": [
        "! "
       ]
      },
      {
       "output_type": "stream",
       "stream": "stdout",
       "text": [
        "! "
       ]
      },
      {
       "output_type": "stream",
       "stream": "stdout",
       "text": [
        "! "
       ]
      },
      {
       "output_type": "stream",
       "stream": "stdout",
       "text": [
        "! "
       ]
      },
      {
       "output_type": "stream",
       "stream": "stdout",
       "text": [
        "! ! ! "
       ]
      },
      {
       "output_type": "stream",
       "stream": "stdout",
       "text": [
        "! "
       ]
      },
      {
       "output_type": "stream",
       "stream": "stdout",
       "text": [
        "65300 "
       ]
      },
      {
       "output_type": "stream",
       "stream": "stdout",
       "text": [
        "! "
       ]
      },
      {
       "output_type": "stream",
       "stream": "stdout",
       "text": [
        "! "
       ]
      },
      {
       "output_type": "stream",
       "stream": "stdout",
       "text": [
        "! "
       ]
      },
      {
       "output_type": "stream",
       "stream": "stdout",
       "text": [
        "! ! "
       ]
      },
      {
       "output_type": "stream",
       "stream": "stdout",
       "text": [
        "65400 "
       ]
      },
      {
       "output_type": "stream",
       "stream": "stdout",
       "text": [
        "! ! ! "
       ]
      },
      {
       "output_type": "stream",
       "stream": "stdout",
       "text": [
        "! "
       ]
      },
      {
       "output_type": "stream",
       "stream": "stdout",
       "text": [
        "! "
       ]
      },
      {
       "output_type": "stream",
       "stream": "stdout",
       "text": [
        "! "
       ]
      },
      {
       "output_type": "stream",
       "stream": "stdout",
       "text": [
        "! "
       ]
      },
      {
       "output_type": "stream",
       "stream": "stdout",
       "text": [
        "! "
       ]
      },
      {
       "output_type": "stream",
       "stream": "stdout",
       "text": [
        "! "
       ]
      },
      {
       "output_type": "stream",
       "stream": "stdout",
       "text": [
        "65500 "
       ]
      },
      {
       "output_type": "stream",
       "stream": "stdout",
       "text": [
        "! "
       ]
      },
      {
       "output_type": "stream",
       "stream": "stdout",
       "text": [
        "! "
       ]
      },
      {
       "output_type": "stream",
       "stream": "stdout",
       "text": [
        "! "
       ]
      },
      {
       "output_type": "stream",
       "stream": "stdout",
       "text": [
        "! "
       ]
      },
      {
       "output_type": "stream",
       "stream": "stdout",
       "text": [
        "! "
       ]
      },
      {
       "output_type": "stream",
       "stream": "stdout",
       "text": [
        "! "
       ]
      },
      {
       "output_type": "stream",
       "stream": "stdout",
       "text": [
        "! ! ! "
       ]
      },
      {
       "output_type": "stream",
       "stream": "stdout",
       "text": [
        "! 65600 "
       ]
      },
      {
       "output_type": "stream",
       "stream": "stdout",
       "text": [
        "! "
       ]
      },
      {
       "output_type": "stream",
       "stream": "stdout",
       "text": [
        "! "
       ]
      },
      {
       "output_type": "stream",
       "stream": "stdout",
       "text": [
        "! "
       ]
      },
      {
       "output_type": "stream",
       "stream": "stdout",
       "text": [
        "! "
       ]
      },
      {
       "output_type": "stream",
       "stream": "stdout",
       "text": [
        "! ! "
       ]
      },
      {
       "output_type": "stream",
       "stream": "stdout",
       "text": [
        "! "
       ]
      },
      {
       "output_type": "stream",
       "stream": "stdout",
       "text": [
        "! "
       ]
      },
      {
       "output_type": "stream",
       "stream": "stdout",
       "text": [
        "! ! "
       ]
      },
      {
       "output_type": "stream",
       "stream": "stdout",
       "text": [
        "! ! "
       ]
      },
      {
       "output_type": "stream",
       "stream": "stdout",
       "text": [
        "! "
       ]
      },
      {
       "output_type": "stream",
       "stream": "stdout",
       "text": [
        "65700 "
       ]
      },
      {
       "output_type": "stream",
       "stream": "stdout",
       "text": [
        "! "
       ]
      },
      {
       "output_type": "stream",
       "stream": "stdout",
       "text": [
        "! ! "
       ]
      },
      {
       "output_type": "stream",
       "stream": "stdout",
       "text": [
        "! "
       ]
      },
      {
       "output_type": "stream",
       "stream": "stdout",
       "text": [
        "! "
       ]
      },
      {
       "output_type": "stream",
       "stream": "stdout",
       "text": [
        "! "
       ]
      },
      {
       "output_type": "stream",
       "stream": "stdout",
       "text": [
        "! ! ! "
       ]
      },
      {
       "output_type": "stream",
       "stream": "stdout",
       "text": [
        "! "
       ]
      },
      {
       "output_type": "stream",
       "stream": "stdout",
       "text": [
        "! "
       ]
      },
      {
       "output_type": "stream",
       "stream": "stdout",
       "text": [
        "65800 "
       ]
      },
      {
       "output_type": "stream",
       "stream": "stdout",
       "text": [
        "! "
       ]
      },
      {
       "output_type": "stream",
       "stream": "stdout",
       "text": [
        "! "
       ]
      },
      {
       "output_type": "stream",
       "stream": "stdout",
       "text": [
        "! "
       ]
      },
      {
       "output_type": "stream",
       "stream": "stdout",
       "text": [
        "! "
       ]
      },
      {
       "output_type": "stream",
       "stream": "stdout",
       "text": [
        "! ! "
       ]
      },
      {
       "output_type": "stream",
       "stream": "stdout",
       "text": [
        "65900 ! "
       ]
      },
      {
       "output_type": "stream",
       "stream": "stdout",
       "text": [
        "! "
       ]
      },
      {
       "output_type": "stream",
       "stream": "stdout",
       "text": [
        "! ! "
       ]
      },
      {
       "output_type": "stream",
       "stream": "stdout",
       "text": [
        "! "
       ]
      },
      {
       "output_type": "stream",
       "stream": "stdout",
       "text": [
        "! "
       ]
      },
      {
       "output_type": "stream",
       "stream": "stdout",
       "text": [
        "! "
       ]
      },
      {
       "output_type": "stream",
       "stream": "stdout",
       "text": [
        "! "
       ]
      },
      {
       "output_type": "stream",
       "stream": "stdout",
       "text": [
        "! "
       ]
      },
      {
       "output_type": "stream",
       "stream": "stdout",
       "text": [
        "! "
       ]
      },
      {
       "output_type": "stream",
       "stream": "stdout",
       "text": [
        "! 66000 "
       ]
      },
      {
       "output_type": "stream",
       "stream": "stdout",
       "text": [
        "! "
       ]
      },
      {
       "output_type": "stream",
       "stream": "stdout",
       "text": [
        "! "
       ]
      },
      {
       "output_type": "stream",
       "stream": "stdout",
       "text": [
        "! ! "
       ]
      },
      {
       "output_type": "stream",
       "stream": "stdout",
       "text": [
        "! "
       ]
      },
      {
       "output_type": "stream",
       "stream": "stdout",
       "text": [
        "! ! "
       ]
      },
      {
       "output_type": "stream",
       "stream": "stdout",
       "text": [
        "! "
       ]
      },
      {
       "output_type": "stream",
       "stream": "stdout",
       "text": [
        "! "
       ]
      },
      {
       "output_type": "stream",
       "stream": "stdout",
       "text": [
        "! "
       ]
      },
      {
       "output_type": "stream",
       "stream": "stdout",
       "text": [
        "! "
       ]
      },
      {
       "output_type": "stream",
       "stream": "stdout",
       "text": [
        "! "
       ]
      },
      {
       "output_type": "stream",
       "stream": "stdout",
       "text": [
        "66100 "
       ]
      },
      {
       "output_type": "stream",
       "stream": "stdout",
       "text": [
        "! "
       ]
      },
      {
       "output_type": "stream",
       "stream": "stdout",
       "text": [
        "! "
       ]
      },
      {
       "output_type": "stream",
       "stream": "stdout",
       "text": [
        "! "
       ]
      },
      {
       "output_type": "stream",
       "stream": "stdout",
       "text": [
        "! ! "
       ]
      },
      {
       "output_type": "stream",
       "stream": "stdout",
       "text": [
        "! "
       ]
      },
      {
       "output_type": "stream",
       "stream": "stdout",
       "text": [
        "66200 "
       ]
      },
      {
       "output_type": "stream",
       "stream": "stdout",
       "text": [
        "! "
       ]
      },
      {
       "output_type": "stream",
       "stream": "stdout",
       "text": [
        "! "
       ]
      },
      {
       "output_type": "stream",
       "stream": "stdout",
       "text": [
        "! ! "
       ]
      },
      {
       "output_type": "stream",
       "stream": "stdout",
       "text": [
        "! ! "
       ]
      },
      {
       "output_type": "stream",
       "stream": "stdout",
       "text": [
        "! "
       ]
      },
      {
       "output_type": "stream",
       "stream": "stdout",
       "text": [
        "66300 "
       ]
      },
      {
       "output_type": "stream",
       "stream": "stdout",
       "text": [
        "! ! "
       ]
      },
      {
       "output_type": "stream",
       "stream": "stdout",
       "text": [
        "! "
       ]
      },
      {
       "output_type": "stream",
       "stream": "stdout",
       "text": [
        "! "
       ]
      },
      {
       "output_type": "stream",
       "stream": "stdout",
       "text": [
        "! "
       ]
      },
      {
       "output_type": "stream",
       "stream": "stdout",
       "text": [
        "66400 ! "
       ]
      },
      {
       "output_type": "stream",
       "stream": "stdout",
       "text": [
        "! "
       ]
      },
      {
       "output_type": "stream",
       "stream": "stdout",
       "text": [
        "! "
       ]
      },
      {
       "output_type": "stream",
       "stream": "stdout",
       "text": [
        "! "
       ]
      },
      {
       "output_type": "stream",
       "stream": "stdout",
       "text": [
        "! "
       ]
      },
      {
       "output_type": "stream",
       "stream": "stdout",
       "text": [
        "! ! "
       ]
      },
      {
       "output_type": "stream",
       "stream": "stdout",
       "text": [
        "! ! "
       ]
      },
      {
       "output_type": "stream",
       "stream": "stdout",
       "text": [
        "! "
       ]
      },
      {
       "output_type": "stream",
       "stream": "stdout",
       "text": [
        "66500 "
       ]
      },
      {
       "output_type": "stream",
       "stream": "stdout",
       "text": [
        "! "
       ]
      },
      {
       "output_type": "stream",
       "stream": "stdout",
       "text": [
        "! "
       ]
      },
      {
       "output_type": "stream",
       "stream": "stdout",
       "text": [
        "! "
       ]
      },
      {
       "output_type": "stream",
       "stream": "stdout",
       "text": [
        "! "
       ]
      },
      {
       "output_type": "stream",
       "stream": "stdout",
       "text": [
        "! "
       ]
      },
      {
       "output_type": "stream",
       "stream": "stdout",
       "text": [
        "! "
       ]
      },
      {
       "output_type": "stream",
       "stream": "stdout",
       "text": [
        "! "
       ]
      },
      {
       "output_type": "stream",
       "stream": "stdout",
       "text": [
        "66600 "
       ]
      },
      {
       "output_type": "stream",
       "stream": "stdout",
       "text": [
        "! ! "
       ]
      },
      {
       "output_type": "stream",
       "stream": "stdout",
       "text": [
        "! "
       ]
      },
      {
       "output_type": "stream",
       "stream": "stdout",
       "text": [
        "! "
       ]
      },
      {
       "output_type": "stream",
       "stream": "stdout",
       "text": [
        "! "
       ]
      },
      {
       "output_type": "stream",
       "stream": "stdout",
       "text": [
        "! "
       ]
      },
      {
       "output_type": "stream",
       "stream": "stdout",
       "text": [
        "! "
       ]
      },
      {
       "output_type": "stream",
       "stream": "stdout",
       "text": [
        "! ! "
       ]
      },
      {
       "output_type": "stream",
       "stream": "stdout",
       "text": [
        "66700 "
       ]
      },
      {
       "output_type": "stream",
       "stream": "stdout",
       "text": [
        "! "
       ]
      },
      {
       "output_type": "stream",
       "stream": "stdout",
       "text": [
        "! "
       ]
      },
      {
       "output_type": "stream",
       "stream": "stdout",
       "text": [
        "! "
       ]
      },
      {
       "output_type": "stream",
       "stream": "stdout",
       "text": [
        "! "
       ]
      },
      {
       "output_type": "stream",
       "stream": "stdout",
       "text": [
        "! "
       ]
      },
      {
       "output_type": "stream",
       "stream": "stdout",
       "text": [
        "66800 "
       ]
      },
      {
       "output_type": "stream",
       "stream": "stdout",
       "text": [
        "! "
       ]
      },
      {
       "output_type": "stream",
       "stream": "stdout",
       "text": [
        "! ! "
       ]
      },
      {
       "output_type": "stream",
       "stream": "stdout",
       "text": [
        "! "
       ]
      },
      {
       "output_type": "stream",
       "stream": "stdout",
       "text": [
        "! "
       ]
      },
      {
       "output_type": "stream",
       "stream": "stdout",
       "text": [
        "66900 ! "
       ]
      },
      {
       "output_type": "stream",
       "stream": "stdout",
       "text": [
        "! ! "
       ]
      },
      {
       "output_type": "stream",
       "stream": "stdout",
       "text": [
        "! "
       ]
      },
      {
       "output_type": "stream",
       "stream": "stdout",
       "text": [
        "! "
       ]
      },
      {
       "output_type": "stream",
       "stream": "stdout",
       "text": [
        "! "
       ]
      },
      {
       "output_type": "stream",
       "stream": "stdout",
       "text": [
        "! "
       ]
      },
      {
       "output_type": "stream",
       "stream": "stdout",
       "text": [
        "! "
       ]
      },
      {
       "output_type": "stream",
       "stream": "stdout",
       "text": [
        "! "
       ]
      },
      {
       "output_type": "stream",
       "stream": "stdout",
       "text": [
        "67000 "
       ]
      },
      {
       "output_type": "stream",
       "stream": "stdout",
       "text": [
        "! "
       ]
      },
      {
       "output_type": "stream",
       "stream": "stdout",
       "text": [
        "! "
       ]
      },
      {
       "output_type": "stream",
       "stream": "stdout",
       "text": [
        "! "
       ]
      },
      {
       "output_type": "stream",
       "stream": "stdout",
       "text": [
        "67100 "
       ]
      },
      {
       "output_type": "stream",
       "stream": "stdout",
       "text": [
        "! "
       ]
      },
      {
       "output_type": "stream",
       "stream": "stdout",
       "text": [
        "! "
       ]
      },
      {
       "output_type": "stream",
       "stream": "stdout",
       "text": [
        "! "
       ]
      },
      {
       "output_type": "stream",
       "stream": "stdout",
       "text": [
        "! ! "
       ]
      },
      {
       "output_type": "stream",
       "stream": "stdout",
       "text": [
        "! ! "
       ]
      },
      {
       "output_type": "stream",
       "stream": "stdout",
       "text": [
        "! "
       ]
      },
      {
       "output_type": "stream",
       "stream": "stdout",
       "text": [
        "! "
       ]
      },
      {
       "output_type": "stream",
       "stream": "stdout",
       "text": [
        "67200 "
       ]
      },
      {
       "output_type": "stream",
       "stream": "stdout",
       "text": [
        "! "
       ]
      },
      {
       "output_type": "stream",
       "stream": "stdout",
       "text": [
        "! "
       ]
      },
      {
       "output_type": "stream",
       "stream": "stdout",
       "text": [
        "! "
       ]
      },
      {
       "output_type": "stream",
       "stream": "stdout",
       "text": [
        "! ! "
       ]
      },
      {
       "output_type": "stream",
       "stream": "stdout",
       "text": [
        "! "
       ]
      },
      {
       "output_type": "stream",
       "stream": "stdout",
       "text": [
        "67300 "
       ]
      },
      {
       "output_type": "stream",
       "stream": "stdout",
       "text": [
        "! ! "
       ]
      },
      {
       "output_type": "stream",
       "stream": "stdout",
       "text": [
        "! "
       ]
      },
      {
       "output_type": "stream",
       "stream": "stdout",
       "text": [
        "! "
       ]
      },
      {
       "output_type": "stream",
       "stream": "stdout",
       "text": [
        "! "
       ]
      },
      {
       "output_type": "stream",
       "stream": "stdout",
       "text": [
        "67400 "
       ]
      },
      {
       "output_type": "stream",
       "stream": "stdout",
       "text": [
        "! "
       ]
      },
      {
       "output_type": "stream",
       "stream": "stdout",
       "text": [
        "! "
       ]
      },
      {
       "output_type": "stream",
       "stream": "stdout",
       "text": [
        "! "
       ]
      },
      {
       "output_type": "stream",
       "stream": "stdout",
       "text": [
        "! "
       ]
      },
      {
       "output_type": "stream",
       "stream": "stdout",
       "text": [
        "! "
       ]
      },
      {
       "output_type": "stream",
       "stream": "stdout",
       "text": [
        "! "
       ]
      },
      {
       "output_type": "stream",
       "stream": "stdout",
       "text": [
        "! ! "
       ]
      },
      {
       "output_type": "stream",
       "stream": "stdout",
       "text": [
        "67500 "
       ]
      },
      {
       "output_type": "stream",
       "stream": "stdout",
       "text": [
        "! "
       ]
      },
      {
       "output_type": "stream",
       "stream": "stdout",
       "text": [
        "! "
       ]
      },
      {
       "output_type": "stream",
       "stream": "stdout",
       "text": [
        "! "
       ]
      },
      {
       "output_type": "stream",
       "stream": "stdout",
       "text": [
        "! "
       ]
      },
      {
       "output_type": "stream",
       "stream": "stdout",
       "text": [
        "! "
       ]
      },
      {
       "output_type": "stream",
       "stream": "stdout",
       "text": [
        "! "
       ]
      },
      {
       "output_type": "stream",
       "stream": "stdout",
       "text": [
        "67600 "
       ]
      },
      {
       "output_type": "stream",
       "stream": "stdout",
       "text": [
        "! "
       ]
      },
      {
       "output_type": "stream",
       "stream": "stdout",
       "text": [
        "! "
       ]
      },
      {
       "output_type": "stream",
       "stream": "stdout",
       "text": [
        "! "
       ]
      },
      {
       "output_type": "stream",
       "stream": "stdout",
       "text": [
        "! "
       ]
      },
      {
       "output_type": "stream",
       "stream": "stdout",
       "text": [
        "! ! "
       ]
      },
      {
       "output_type": "stream",
       "stream": "stdout",
       "text": [
        "67700 "
       ]
      },
      {
       "output_type": "stream",
       "stream": "stdout",
       "text": [
        "! "
       ]
      },
      {
       "output_type": "stream",
       "stream": "stdout",
       "text": [
        "! "
       ]
      },
      {
       "output_type": "stream",
       "stream": "stdout",
       "text": [
        "! "
       ]
      },
      {
       "output_type": "stream",
       "stream": "stdout",
       "text": [
        "! "
       ]
      },
      {
       "output_type": "stream",
       "stream": "stdout",
       "text": [
        "! 67800 "
       ]
      },
      {
       "output_type": "stream",
       "stream": "stdout",
       "text": [
        "! "
       ]
      },
      {
       "output_type": "stream",
       "stream": "stdout",
       "text": [
        "! "
       ]
      },
      {
       "output_type": "stream",
       "stream": "stdout",
       "text": [
        "! "
       ]
      },
      {
       "output_type": "stream",
       "stream": "stdout",
       "text": [
        "! "
       ]
      },
      {
       "output_type": "stream",
       "stream": "stdout",
       "text": [
        "! "
       ]
      },
      {
       "output_type": "stream",
       "stream": "stdout",
       "text": [
        "! ! "
       ]
      },
      {
       "output_type": "stream",
       "stream": "stdout",
       "text": [
        "! "
       ]
      },
      {
       "output_type": "stream",
       "stream": "stdout",
       "text": [
        "! "
       ]
      },
      {
       "output_type": "stream",
       "stream": "stdout",
       "text": [
        "! "
       ]
      },
      {
       "output_type": "stream",
       "stream": "stdout",
       "text": [
        "67900 "
       ]
      },
      {
       "output_type": "stream",
       "stream": "stdout",
       "text": [
        "! "
       ]
      },
      {
       "output_type": "stream",
       "stream": "stdout",
       "text": [
        "! "
       ]
      },
      {
       "output_type": "stream",
       "stream": "stdout",
       "text": [
        "! "
       ]
      },
      {
       "output_type": "stream",
       "stream": "stdout",
       "text": [
        "! "
       ]
      },
      {
       "output_type": "stream",
       "stream": "stdout",
       "text": [
        "! "
       ]
      },
      {
       "output_type": "stream",
       "stream": "stdout",
       "text": [
        "! ! "
       ]
      },
      {
       "output_type": "stream",
       "stream": "stdout",
       "text": [
        "! "
       ]
      },
      {
       "output_type": "stream",
       "stream": "stdout",
       "text": [
        "68000 "
       ]
      },
      {
       "output_type": "stream",
       "stream": "stdout",
       "text": [
        "! "
       ]
      },
      {
       "output_type": "stream",
       "stream": "stdout",
       "text": [
        "! "
       ]
      },
      {
       "output_type": "stream",
       "stream": "stdout",
       "text": [
        "! "
       ]
      },
      {
       "output_type": "stream",
       "stream": "stdout",
       "text": [
        "! "
       ]
      },
      {
       "output_type": "stream",
       "stream": "stdout",
       "text": [
        "! "
       ]
      },
      {
       "output_type": "stream",
       "stream": "stdout",
       "text": [
        "! "
       ]
      },
      {
       "output_type": "stream",
       "stream": "stdout",
       "text": [
        "! "
       ]
      },
      {
       "output_type": "stream",
       "stream": "stdout",
       "text": [
        "68100 ! "
       ]
      },
      {
       "output_type": "stream",
       "stream": "stdout",
       "text": [
        "! "
       ]
      },
      {
       "output_type": "stream",
       "stream": "stdout",
       "text": [
        "! "
       ]
      },
      {
       "output_type": "stream",
       "stream": "stdout",
       "text": [
        "! "
       ]
      },
      {
       "output_type": "stream",
       "stream": "stdout",
       "text": [
        "68200 "
       ]
      },
      {
       "output_type": "stream",
       "stream": "stdout",
       "text": [
        "! "
       ]
      },
      {
       "output_type": "stream",
       "stream": "stdout",
       "text": [
        "! "
       ]
      },
      {
       "output_type": "stream",
       "stream": "stdout",
       "text": [
        "! "
       ]
      },
      {
       "output_type": "stream",
       "stream": "stdout",
       "text": [
        "! "
       ]
      },
      {
       "output_type": "stream",
       "stream": "stdout",
       "text": [
        "! "
       ]
      },
      {
       "output_type": "stream",
       "stream": "stdout",
       "text": [
        "! "
       ]
      },
      {
       "output_type": "stream",
       "stream": "stdout",
       "text": [
        "68300 "
       ]
      },
      {
       "output_type": "stream",
       "stream": "stdout",
       "text": [
        "! "
       ]
      },
      {
       "output_type": "stream",
       "stream": "stdout",
       "text": [
        "! "
       ]
      },
      {
       "output_type": "stream",
       "stream": "stdout",
       "text": [
        "! "
       ]
      },
      {
       "output_type": "stream",
       "stream": "stdout",
       "text": [
        "! "
       ]
      },
      {
       "output_type": "stream",
       "stream": "stdout",
       "text": [
        "68400 ! "
       ]
      },
      {
       "output_type": "stream",
       "stream": "stdout",
       "text": [
        "! "
       ]
      },
      {
       "output_type": "stream",
       "stream": "stdout",
       "text": [
        "! "
       ]
      },
      {
       "output_type": "stream",
       "stream": "stdout",
       "text": [
        "! "
       ]
      },
      {
       "output_type": "stream",
       "stream": "stdout",
       "text": [
        "68500 "
       ]
      },
      {
       "output_type": "stream",
       "stream": "stdout",
       "text": [
        "! "
       ]
      },
      {
       "output_type": "stream",
       "stream": "stdout",
       "text": [
        "! "
       ]
      },
      {
       "output_type": "stream",
       "stream": "stdout",
       "text": [
        "68600 "
       ]
      },
      {
       "output_type": "stream",
       "stream": "stdout",
       "text": [
        "! "
       ]
      },
      {
       "output_type": "stream",
       "stream": "stdout",
       "text": [
        "! ! "
       ]
      },
      {
       "output_type": "stream",
       "stream": "stdout",
       "text": [
        "! "
       ]
      },
      {
       "output_type": "stream",
       "stream": "stdout",
       "text": [
        "! "
       ]
      },
      {
       "output_type": "stream",
       "stream": "stdout",
       "text": [
        "! ! "
       ]
      },
      {
       "output_type": "stream",
       "stream": "stdout",
       "text": [
        "! "
       ]
      },
      {
       "output_type": "stream",
       "stream": "stdout",
       "text": [
        "! "
       ]
      },
      {
       "output_type": "stream",
       "stream": "stdout",
       "text": [
        "68700 "
       ]
      },
      {
       "output_type": "stream",
       "stream": "stdout",
       "text": [
        "! "
       ]
      },
      {
       "output_type": "stream",
       "stream": "stdout",
       "text": [
        "! "
       ]
      },
      {
       "output_type": "stream",
       "stream": "stdout",
       "text": [
        "! ! "
       ]
      },
      {
       "output_type": "stream",
       "stream": "stdout",
       "text": [
        "! "
       ]
      },
      {
       "output_type": "stream",
       "stream": "stdout",
       "text": [
        "68800 "
       ]
      },
      {
       "output_type": "stream",
       "stream": "stdout",
       "text": [
        "! "
       ]
      },
      {
       "output_type": "stream",
       "stream": "stdout",
       "text": [
        "! "
       ]
      },
      {
       "output_type": "stream",
       "stream": "stdout",
       "text": [
        "! "
       ]
      },
      {
       "output_type": "stream",
       "stream": "stdout",
       "text": [
        "! "
       ]
      },
      {
       "output_type": "stream",
       "stream": "stdout",
       "text": [
        "! "
       ]
      },
      {
       "output_type": "stream",
       "stream": "stdout",
       "text": [
        "68900 "
       ]
      },
      {
       "output_type": "stream",
       "stream": "stdout",
       "text": [
        "! "
       ]
      },
      {
       "output_type": "stream",
       "stream": "stdout",
       "text": [
        "! ! "
       ]
      },
      {
       "output_type": "stream",
       "stream": "stdout",
       "text": [
        "! ! "
       ]
      },
      {
       "output_type": "stream",
       "stream": "stdout",
       "text": [
        "! "
       ]
      },
      {
       "output_type": "stream",
       "stream": "stdout",
       "text": [
        "! "
       ]
      },
      {
       "output_type": "stream",
       "stream": "stdout",
       "text": [
        "69000 "
       ]
      },
      {
       "output_type": "stream",
       "stream": "stdout",
       "text": [
        "! "
       ]
      },
      {
       "output_type": "stream",
       "stream": "stdout",
       "text": [
        "! "
       ]
      },
      {
       "output_type": "stream",
       "stream": "stdout",
       "text": [
        "! ! "
       ]
      },
      {
       "output_type": "stream",
       "stream": "stdout",
       "text": [
        "! "
       ]
      },
      {
       "output_type": "stream",
       "stream": "stdout",
       "text": [
        "! "
       ]
      },
      {
       "output_type": "stream",
       "stream": "stdout",
       "text": [
        "! "
       ]
      },
      {
       "output_type": "stream",
       "stream": "stdout",
       "text": [
        "69100 ! "
       ]
      },
      {
       "output_type": "stream",
       "stream": "stdout",
       "text": [
        "! "
       ]
      },
      {
       "output_type": "stream",
       "stream": "stdout",
       "text": [
        "! "
       ]
      },
      {
       "output_type": "stream",
       "stream": "stdout",
       "text": [
        "! "
       ]
      },
      {
       "output_type": "stream",
       "stream": "stdout",
       "text": [
        "! "
       ]
      },
      {
       "output_type": "stream",
       "stream": "stdout",
       "text": [
        "! "
       ]
      },
      {
       "output_type": "stream",
       "stream": "stdout",
       "text": [
        "! "
       ]
      },
      {
       "output_type": "stream",
       "stream": "stdout",
       "text": [
        "69200 "
       ]
      },
      {
       "output_type": "stream",
       "stream": "stdout",
       "text": [
        "! "
       ]
      },
      {
       "output_type": "stream",
       "stream": "stdout",
       "text": [
        "! "
       ]
      },
      {
       "output_type": "stream",
       "stream": "stdout",
       "text": [
        "! "
       ]
      },
      {
       "output_type": "stream",
       "stream": "stdout",
       "text": [
        "! "
       ]
      },
      {
       "output_type": "stream",
       "stream": "stdout",
       "text": [
        "69300 ! "
       ]
      },
      {
       "output_type": "stream",
       "stream": "stdout",
       "text": [
        "! "
       ]
      },
      {
       "output_type": "stream",
       "stream": "stdout",
       "text": [
        "! "
       ]
      },
      {
       "output_type": "stream",
       "stream": "stdout",
       "text": [
        "! ! "
       ]
      },
      {
       "output_type": "stream",
       "stream": "stdout",
       "text": [
        "! ! "
       ]
      },
      {
       "output_type": "stream",
       "stream": "stdout",
       "text": [
        "! "
       ]
      },
      {
       "output_type": "stream",
       "stream": "stdout",
       "text": [
        "69400 "
       ]
      },
      {
       "output_type": "stream",
       "stream": "stdout",
       "text": [
        "! "
       ]
      },
      {
       "output_type": "stream",
       "stream": "stdout",
       "text": [
        "! "
       ]
      },
      {
       "output_type": "stream",
       "stream": "stdout",
       "text": [
        "! "
       ]
      },
      {
       "output_type": "stream",
       "stream": "stdout",
       "text": [
        "! "
       ]
      },
      {
       "output_type": "stream",
       "stream": "stdout",
       "text": [
        "! "
       ]
      },
      {
       "output_type": "stream",
       "stream": "stdout",
       "text": [
        "69500 "
       ]
      },
      {
       "output_type": "stream",
       "stream": "stdout",
       "text": [
        "! "
       ]
      },
      {
       "output_type": "stream",
       "stream": "stdout",
       "text": [
        "! ! "
       ]
      },
      {
       "output_type": "stream",
       "stream": "stdout",
       "text": [
        "! "
       ]
      },
      {
       "output_type": "stream",
       "stream": "stdout",
       "text": [
        "! ! "
       ]
      },
      {
       "output_type": "stream",
       "stream": "stdout",
       "text": [
        "! "
       ]
      },
      {
       "output_type": "stream",
       "stream": "stdout",
       "text": [
        "! "
       ]
      },
      {
       "output_type": "stream",
       "stream": "stdout",
       "text": [
        "! "
       ]
      },
      {
       "output_type": "stream",
       "stream": "stdout",
       "text": [
        "! "
       ]
      },
      {
       "output_type": "stream",
       "stream": "stdout",
       "text": [
        "! 69600 "
       ]
      },
      {
       "output_type": "stream",
       "stream": "stdout",
       "text": [
        "! "
       ]
      },
      {
       "output_type": "stream",
       "stream": "stdout",
       "text": [
        "! ! "
       ]
      },
      {
       "output_type": "stream",
       "stream": "stdout",
       "text": [
        "! "
       ]
      },
      {
       "output_type": "stream",
       "stream": "stdout",
       "text": [
        "! "
       ]
      },
      {
       "output_type": "stream",
       "stream": "stdout",
       "text": [
        "! "
       ]
      },
      {
       "output_type": "stream",
       "stream": "stdout",
       "text": [
        "! "
       ]
      },
      {
       "output_type": "stream",
       "stream": "stdout",
       "text": [
        "! "
       ]
      },
      {
       "output_type": "stream",
       "stream": "stdout",
       "text": [
        "69700 "
       ]
      },
      {
       "output_type": "stream",
       "stream": "stdout",
       "text": [
        "! "
       ]
      },
      {
       "output_type": "stream",
       "stream": "stdout",
       "text": [
        "! "
       ]
      },
      {
       "output_type": "stream",
       "stream": "stdout",
       "text": [
        "69800 "
       ]
      },
      {
       "output_type": "stream",
       "stream": "stdout",
       "text": [
        "! "
       ]
      },
      {
       "output_type": "stream",
       "stream": "stdout",
       "text": [
        "! "
       ]
      },
      {
       "output_type": "stream",
       "stream": "stdout",
       "text": [
        "69900 "
       ]
      },
      {
       "output_type": "stream",
       "stream": "stdout",
       "text": [
        "! "
       ]
      },
      {
       "output_type": "stream",
       "stream": "stdout",
       "text": [
        "! "
       ]
      },
      {
       "output_type": "stream",
       "stream": "stdout",
       "text": [
        "! "
       ]
      },
      {
       "output_type": "stream",
       "stream": "stdout",
       "text": [
        "! "
       ]
      },
      {
       "output_type": "stream",
       "stream": "stdout",
       "text": [
        "70000 "
       ]
      },
      {
       "output_type": "stream",
       "stream": "stdout",
       "text": [
        "! "
       ]
      },
      {
       "output_type": "stream",
       "stream": "stdout",
       "text": [
        "! "
       ]
      },
      {
       "output_type": "stream",
       "stream": "stdout",
       "text": [
        "70100 "
       ]
      },
      {
       "output_type": "stream",
       "stream": "stdout",
       "text": [
        "! "
       ]
      },
      {
       "output_type": "stream",
       "stream": "stdout",
       "text": [
        "! "
       ]
      },
      {
       "output_type": "stream",
       "stream": "stdout",
       "text": [
        "! "
       ]
      },
      {
       "output_type": "stream",
       "stream": "stdout",
       "text": [
        "! "
       ]
      },
      {
       "output_type": "stream",
       "stream": "stdout",
       "text": [
        "! "
       ]
      },
      {
       "output_type": "stream",
       "stream": "stdout",
       "text": [
        "70200 ! "
       ]
      },
      {
       "output_type": "stream",
       "stream": "stdout",
       "text": [
        "! "
       ]
      },
      {
       "output_type": "stream",
       "stream": "stdout",
       "text": [
        "! ! "
       ]
      },
      {
       "output_type": "stream",
       "stream": "stdout",
       "text": [
        "! "
       ]
      },
      {
       "output_type": "stream",
       "stream": "stdout",
       "text": [
        "! "
       ]
      },
      {
       "output_type": "stream",
       "stream": "stdout",
       "text": [
        "! "
       ]
      },
      {
       "output_type": "stream",
       "stream": "stdout",
       "text": [
        "70300 "
       ]
      },
      {
       "output_type": "stream",
       "stream": "stdout",
       "text": [
        "! "
       ]
      },
      {
       "output_type": "stream",
       "stream": "stdout",
       "text": [
        "! "
       ]
      },
      {
       "output_type": "stream",
       "stream": "stdout",
       "text": [
        "! "
       ]
      },
      {
       "output_type": "stream",
       "stream": "stdout",
       "text": [
        "70400 "
       ]
      },
      {
       "output_type": "stream",
       "stream": "stdout",
       "text": [
        "! "
       ]
      },
      {
       "output_type": "stream",
       "stream": "stdout",
       "text": [
        "! "
       ]
      },
      {
       "output_type": "stream",
       "stream": "stdout",
       "text": [
        "! "
       ]
      },
      {
       "output_type": "stream",
       "stream": "stdout",
       "text": [
        "! "
       ]
      },
      {
       "output_type": "stream",
       "stream": "stdout",
       "text": [
        "70500 "
       ]
      },
      {
       "output_type": "stream",
       "stream": "stdout",
       "text": [
        "! "
       ]
      },
      {
       "output_type": "stream",
       "stream": "stdout",
       "text": [
        "! "
       ]
      },
      {
       "output_type": "stream",
       "stream": "stdout",
       "text": [
        "! "
       ]
      },
      {
       "output_type": "stream",
       "stream": "stdout",
       "text": [
        "! "
       ]
      },
      {
       "output_type": "stream",
       "stream": "stdout",
       "text": [
        "70600 ! "
       ]
      },
      {
       "output_type": "stream",
       "stream": "stdout",
       "text": [
        "! "
       ]
      },
      {
       "output_type": "stream",
       "stream": "stdout",
       "text": [
        "! "
       ]
      },
      {
       "output_type": "stream",
       "stream": "stdout",
       "text": [
        "! ! "
       ]
      },
      {
       "output_type": "stream",
       "stream": "stdout",
       "text": [
        "! "
       ]
      },
      {
       "output_type": "stream",
       "stream": "stdout",
       "text": [
        "70700 "
       ]
      },
      {
       "output_type": "stream",
       "stream": "stdout",
       "text": [
        "! "
       ]
      },
      {
       "output_type": "stream",
       "stream": "stdout",
       "text": [
        "! ! ! "
       ]
      },
      {
       "output_type": "stream",
       "stream": "stdout",
       "text": [
        "70800 "
       ]
      },
      {
       "output_type": "stream",
       "stream": "stdout",
       "text": [
        "! ! "
       ]
      },
      {
       "output_type": "stream",
       "stream": "stdout",
       "text": [
        "! "
       ]
      },
      {
       "output_type": "stream",
       "stream": "stdout",
       "text": [
        "! "
       ]
      },
      {
       "output_type": "stream",
       "stream": "stdout",
       "text": [
        "! "
       ]
      },
      {
       "output_type": "stream",
       "stream": "stdout",
       "text": [
        "! "
       ]
      },
      {
       "output_type": "stream",
       "stream": "stdout",
       "text": [
        "70900 ! "
       ]
      },
      {
       "output_type": "stream",
       "stream": "stdout",
       "text": [
        "! "
       ]
      },
      {
       "output_type": "stream",
       "stream": "stdout",
       "text": [
        "! "
       ]
      },
      {
       "output_type": "stream",
       "stream": "stdout",
       "text": [
        "! "
       ]
      },
      {
       "output_type": "stream",
       "stream": "stdout",
       "text": [
        "71000 "
       ]
      },
      {
       "output_type": "stream",
       "stream": "stdout",
       "text": [
        "! "
       ]
      },
      {
       "output_type": "stream",
       "stream": "stdout",
       "text": [
        "! "
       ]
      },
      {
       "output_type": "stream",
       "stream": "stdout",
       "text": [
        "! "
       ]
      },
      {
       "output_type": "stream",
       "stream": "stdout",
       "text": [
        "! "
       ]
      },
      {
       "output_type": "stream",
       "stream": "stdout",
       "text": [
        "! ! "
       ]
      },
      {
       "output_type": "stream",
       "stream": "stdout",
       "text": [
        "71100 "
       ]
      },
      {
       "output_type": "stream",
       "stream": "stdout",
       "text": [
        "! "
       ]
      },
      {
       "output_type": "stream",
       "stream": "stdout",
       "text": [
        "! ! "
       ]
      },
      {
       "output_type": "stream",
       "stream": "stdout",
       "text": [
        "! "
       ]
      },
      {
       "output_type": "stream",
       "stream": "stdout",
       "text": [
        "! "
       ]
      },
      {
       "output_type": "stream",
       "stream": "stdout",
       "text": [
        "! 71200 "
       ]
      },
      {
       "output_type": "stream",
       "stream": "stdout",
       "text": [
        "! "
       ]
      },
      {
       "output_type": "stream",
       "stream": "stdout",
       "text": [
        "! "
       ]
      },
      {
       "output_type": "stream",
       "stream": "stdout",
       "text": [
        "! "
       ]
      },
      {
       "output_type": "stream",
       "stream": "stdout",
       "text": [
        "! "
       ]
      },
      {
       "output_type": "stream",
       "stream": "stdout",
       "text": [
        "! "
       ]
      },
      {
       "output_type": "stream",
       "stream": "stdout",
       "text": [
        "! "
       ]
      },
      {
       "output_type": "stream",
       "stream": "stdout",
       "text": [
        "71300 "
       ]
      },
      {
       "output_type": "stream",
       "stream": "stdout",
       "text": [
        "! "
       ]
      },
      {
       "output_type": "stream",
       "stream": "stdout",
       "text": [
        "! "
       ]
      },
      {
       "output_type": "stream",
       "stream": "stdout",
       "text": [
        "! "
       ]
      },
      {
       "output_type": "stream",
       "stream": "stdout",
       "text": [
        "! ! ! "
       ]
      },
      {
       "output_type": "stream",
       "stream": "stdout",
       "text": [
        "! 71400 "
       ]
      },
      {
       "output_type": "stream",
       "stream": "stdout",
       "text": [
        "! "
       ]
      },
      {
       "output_type": "stream",
       "stream": "stdout",
       "text": [
        "! "
       ]
      },
      {
       "output_type": "stream",
       "stream": "stdout",
       "text": [
        "! "
       ]
      },
      {
       "output_type": "stream",
       "stream": "stdout",
       "text": [
        "! "
       ]
      },
      {
       "output_type": "stream",
       "stream": "stdout",
       "text": [
        "! 71500 "
       ]
      },
      {
       "output_type": "stream",
       "stream": "stdout",
       "text": [
        "! ! "
       ]
      },
      {
       "output_type": "stream",
       "stream": "stdout",
       "text": [
        "! "
       ]
      },
      {
       "output_type": "stream",
       "stream": "stdout",
       "text": [
        "! "
       ]
      },
      {
       "output_type": "stream",
       "stream": "stdout",
       "text": [
        "! "
       ]
      },
      {
       "output_type": "stream",
       "stream": "stdout",
       "text": [
        "! "
       ]
      },
      {
       "output_type": "stream",
       "stream": "stdout",
       "text": [
        "! "
       ]
      },
      {
       "output_type": "stream",
       "stream": "stdout",
       "text": [
        "71600 "
       ]
      },
      {
       "output_type": "stream",
       "stream": "stdout",
       "text": [
        "! "
       ]
      },
      {
       "output_type": "stream",
       "stream": "stdout",
       "text": [
        "! "
       ]
      },
      {
       "output_type": "stream",
       "stream": "stdout",
       "text": [
        "! "
       ]
      },
      {
       "output_type": "stream",
       "stream": "stdout",
       "text": [
        "71700 "
       ]
      },
      {
       "output_type": "stream",
       "stream": "stdout",
       "text": [
        "! "
       ]
      },
      {
       "output_type": "stream",
       "stream": "stdout",
       "text": [
        "! "
       ]
      },
      {
       "output_type": "stream",
       "stream": "stdout",
       "text": [
        "! "
       ]
      },
      {
       "output_type": "stream",
       "stream": "stdout",
       "text": [
        "! "
       ]
      },
      {
       "output_type": "stream",
       "stream": "stdout",
       "text": [
        "! "
       ]
      },
      {
       "output_type": "stream",
       "stream": "stdout",
       "text": [
        "71800 "
       ]
      },
      {
       "output_type": "stream",
       "stream": "stdout",
       "text": [
        "! "
       ]
      },
      {
       "output_type": "stream",
       "stream": "stdout",
       "text": [
        "! "
       ]
      },
      {
       "output_type": "stream",
       "stream": "stdout",
       "text": [
        "71900 "
       ]
      },
      {
       "output_type": "stream",
       "stream": "stdout",
       "text": [
        "! "
       ]
      },
      {
       "output_type": "stream",
       "stream": "stdout",
       "text": [
        "! "
       ]
      },
      {
       "output_type": "stream",
       "stream": "stdout",
       "text": [
        "! "
       ]
      },
      {
       "output_type": "stream",
       "stream": "stdout",
       "text": [
        "72000 "
       ]
      },
      {
       "output_type": "stream",
       "stream": "stdout",
       "text": [
        "! "
       ]
      },
      {
       "output_type": "stream",
       "stream": "stdout",
       "text": [
        "! "
       ]
      },
      {
       "output_type": "stream",
       "stream": "stdout",
       "text": [
        "72100 "
       ]
      },
      {
       "output_type": "stream",
       "stream": "stdout",
       "text": [
        "! "
       ]
      },
      {
       "output_type": "stream",
       "stream": "stdout",
       "text": [
        "! "
       ]
      },
      {
       "output_type": "stream",
       "stream": "stdout",
       "text": [
        "! 72200 "
       ]
      },
      {
       "output_type": "stream",
       "stream": "stdout",
       "text": [
        "! "
       ]
      },
      {
       "output_type": "stream",
       "stream": "stdout",
       "text": [
        "! "
       ]
      },
      {
       "output_type": "stream",
       "stream": "stdout",
       "text": [
        "! ! "
       ]
      },
      {
       "output_type": "stream",
       "stream": "stdout",
       "text": [
        "! "
       ]
      },
      {
       "output_type": "stream",
       "stream": "stdout",
       "text": [
        "! "
       ]
      },
      {
       "output_type": "stream",
       "stream": "stdout",
       "text": [
        "! "
       ]
      },
      {
       "output_type": "stream",
       "stream": "stdout",
       "text": [
        "72300 "
       ]
      },
      {
       "output_type": "stream",
       "stream": "stdout",
       "text": [
        "! "
       ]
      },
      {
       "output_type": "stream",
       "stream": "stdout",
       "text": [
        "! "
       ]
      },
      {
       "output_type": "stream",
       "stream": "stdout",
       "text": [
        "! "
       ]
      },
      {
       "output_type": "stream",
       "stream": "stdout",
       "text": [
        "! ! "
       ]
      },
      {
       "output_type": "stream",
       "stream": "stdout",
       "text": [
        "! "
       ]
      },
      {
       "output_type": "stream",
       "stream": "stdout",
       "text": [
        "! 72400 "
       ]
      },
      {
       "output_type": "stream",
       "stream": "stdout",
       "text": [
        "! "
       ]
      },
      {
       "output_type": "stream",
       "stream": "stdout",
       "text": [
        "! "
       ]
      },
      {
       "output_type": "stream",
       "stream": "stdout",
       "text": [
        "! "
       ]
      },
      {
       "output_type": "stream",
       "stream": "stdout",
       "text": [
        "! "
       ]
      },
      {
       "output_type": "stream",
       "stream": "stdout",
       "text": [
        "! "
       ]
      },
      {
       "output_type": "stream",
       "stream": "stdout",
       "text": [
        "72500 "
       ]
      },
      {
       "output_type": "stream",
       "stream": "stdout",
       "text": [
        "! "
       ]
      },
      {
       "output_type": "stream",
       "stream": "stdout",
       "text": [
        "! "
       ]
      },
      {
       "output_type": "stream",
       "stream": "stdout",
       "text": [
        "! "
       ]
      },
      {
       "output_type": "stream",
       "stream": "stdout",
       "text": [
        "! ! "
       ]
      },
      {
       "output_type": "stream",
       "stream": "stdout",
       "text": [
        "72600 "
       ]
      },
      {
       "output_type": "stream",
       "stream": "stdout",
       "text": [
        "! "
       ]
      },
      {
       "output_type": "stream",
       "stream": "stdout",
       "text": [
        "! "
       ]
      },
      {
       "output_type": "stream",
       "stream": "stdout",
       "text": [
        "72700 "
       ]
      },
      {
       "output_type": "stream",
       "stream": "stdout",
       "text": [
        "! "
       ]
      },
      {
       "output_type": "stream",
       "stream": "stdout",
       "text": [
        "! "
       ]
      },
      {
       "output_type": "stream",
       "stream": "stdout",
       "text": [
        "! "
       ]
      },
      {
       "output_type": "stream",
       "stream": "stdout",
       "text": [
        "! "
       ]
      },
      {
       "output_type": "stream",
       "stream": "stdout",
       "text": [
        "! 72800 "
       ]
      },
      {
       "output_type": "stream",
       "stream": "stdout",
       "text": [
        "! "
       ]
      },
      {
       "output_type": "stream",
       "stream": "stdout",
       "text": [
        "! "
       ]
      },
      {
       "output_type": "stream",
       "stream": "stdout",
       "text": [
        "! ! "
       ]
      },
      {
       "output_type": "stream",
       "stream": "stdout",
       "text": [
        "! "
       ]
      },
      {
       "output_type": "stream",
       "stream": "stdout",
       "text": [
        "! "
       ]
      },
      {
       "output_type": "stream",
       "stream": "stdout",
       "text": [
        "! "
       ]
      },
      {
       "output_type": "stream",
       "stream": "stdout",
       "text": [
        "72900 "
       ]
      },
      {
       "output_type": "stream",
       "stream": "stdout",
       "text": [
        "! "
       ]
      },
      {
       "output_type": "stream",
       "stream": "stdout",
       "text": [
        "! "
       ]
      },
      {
       "output_type": "stream",
       "stream": "stdout",
       "text": [
        "! ! "
       ]
      },
      {
       "output_type": "stream",
       "stream": "stdout",
       "text": [
        "! "
       ]
      },
      {
       "output_type": "stream",
       "stream": "stdout",
       "text": [
        "! ! "
       ]
      },
      {
       "output_type": "stream",
       "stream": "stdout",
       "text": [
        "73000 "
       ]
      },
      {
       "output_type": "stream",
       "stream": "stdout",
       "text": [
        "! ! "
       ]
      },
      {
       "output_type": "stream",
       "stream": "stdout",
       "text": [
        "! "
       ]
      },
      {
       "output_type": "stream",
       "stream": "stdout",
       "text": [
        "! ! "
       ]
      },
      {
       "output_type": "stream",
       "stream": "stdout",
       "text": [
        "! "
       ]
      },
      {
       "output_type": "stream",
       "stream": "stdout",
       "text": [
        "73100 "
       ]
      },
      {
       "output_type": "stream",
       "stream": "stdout",
       "text": [
        "! "
       ]
      },
      {
       "output_type": "stream",
       "stream": "stdout",
       "text": [
        "! "
       ]
      },
      {
       "output_type": "stream",
       "stream": "stdout",
       "text": [
        "! "
       ]
      },
      {
       "output_type": "stream",
       "stream": "stdout",
       "text": [
        "! "
       ]
      },
      {
       "output_type": "stream",
       "stream": "stdout",
       "text": [
        "73200 "
       ]
      },
      {
       "output_type": "stream",
       "stream": "stdout",
       "text": [
        "! "
       ]
      },
      {
       "output_type": "stream",
       "stream": "stdout",
       "text": [
        "! "
       ]
      },
      {
       "output_type": "stream",
       "stream": "stdout",
       "text": [
        "73300 "
       ]
      },
      {
       "output_type": "stream",
       "stream": "stdout",
       "text": [
        "! "
       ]
      },
      {
       "output_type": "stream",
       "stream": "stdout",
       "text": [
        "! "
       ]
      },
      {
       "output_type": "stream",
       "stream": "stdout",
       "text": [
        "! "
       ]
      },
      {
       "output_type": "stream",
       "stream": "stdout",
       "text": [
        "! "
       ]
      },
      {
       "output_type": "stream",
       "stream": "stdout",
       "text": [
        "! "
       ]
      },
      {
       "output_type": "stream",
       "stream": "stdout",
       "text": [
        "73400 "
       ]
      },
      {
       "output_type": "stream",
       "stream": "stdout",
       "text": [
        "! "
       ]
      },
      {
       "output_type": "stream",
       "stream": "stdout",
       "text": [
        "! 73500 "
       ]
      },
      {
       "output_type": "stream",
       "stream": "stdout",
       "text": [
        "! "
       ]
      },
      {
       "output_type": "stream",
       "stream": "stdout",
       "text": [
        "! "
       ]
      },
      {
       "output_type": "stream",
       "stream": "stdout",
       "text": [
        "! "
       ]
      },
      {
       "output_type": "stream",
       "stream": "stdout",
       "text": [
        "! "
       ]
      },
      {
       "output_type": "stream",
       "stream": "stdout",
       "text": [
        "! "
       ]
      },
      {
       "output_type": "stream",
       "stream": "stdout",
       "text": [
        "73600 "
       ]
      },
      {
       "output_type": "stream",
       "stream": "stdout",
       "text": [
        "! "
       ]
      },
      {
       "output_type": "stream",
       "stream": "stdout",
       "text": [
        "! "
       ]
      },
      {
       "output_type": "stream",
       "stream": "stdout",
       "text": [
        "! "
       ]
      },
      {
       "output_type": "stream",
       "stream": "stdout",
       "text": [
        "73700 "
       ]
      },
      {
       "output_type": "stream",
       "stream": "stdout",
       "text": [
        "! "
       ]
      },
      {
       "output_type": "stream",
       "stream": "stdout",
       "text": [
        "! "
       ]
      },
      {
       "output_type": "stream",
       "stream": "stdout",
       "text": [
        "73800 "
       ]
      },
      {
       "output_type": "stream",
       "stream": "stdout",
       "text": [
        "! "
       ]
      },
      {
       "output_type": "stream",
       "stream": "stdout",
       "text": [
        "73900 ! "
       ]
      },
      {
       "output_type": "stream",
       "stream": "stdout",
       "text": [
        "! ! "
       ]
      },
      {
       "output_type": "stream",
       "stream": "stdout",
       "text": [
        "! "
       ]
      },
      {
       "output_type": "stream",
       "stream": "stdout",
       "text": [
        "! "
       ]
      },
      {
       "output_type": "stream",
       "stream": "stdout",
       "text": [
        "! "
       ]
      },
      {
       "output_type": "stream",
       "stream": "stdout",
       "text": [
        "74000 "
       ]
      },
      {
       "output_type": "stream",
       "stream": "stdout",
       "text": [
        "! "
       ]
      },
      {
       "output_type": "stream",
       "stream": "stdout",
       "text": [
        "! "
       ]
      },
      {
       "output_type": "stream",
       "stream": "stdout",
       "text": [
        "! "
       ]
      },
      {
       "output_type": "stream",
       "stream": "stdout",
       "text": [
        "! "
       ]
      },
      {
       "output_type": "stream",
       "stream": "stdout",
       "text": [
        "! "
       ]
      },
      {
       "output_type": "stream",
       "stream": "stdout",
       "text": [
        "! "
       ]
      },
      {
       "output_type": "stream",
       "stream": "stdout",
       "text": [
        "74100 "
       ]
      },
      {
       "output_type": "stream",
       "stream": "stdout",
       "text": [
        "! "
       ]
      },
      {
       "output_type": "stream",
       "stream": "stdout",
       "text": [
        "! "
       ]
      },
      {
       "output_type": "stream",
       "stream": "stdout",
       "text": [
        "74200 "
       ]
      },
      {
       "output_type": "stream",
       "stream": "stdout",
       "text": [
        "! "
       ]
      },
      {
       "output_type": "stream",
       "stream": "stdout",
       "text": [
        "! "
       ]
      },
      {
       "output_type": "stream",
       "stream": "stdout",
       "text": [
        "! "
       ]
      },
      {
       "output_type": "stream",
       "stream": "stdout",
       "text": [
        "74300 "
       ]
      },
      {
       "output_type": "stream",
       "stream": "stdout",
       "text": [
        "! "
       ]
      },
      {
       "output_type": "stream",
       "stream": "stdout",
       "text": [
        "74400 ! "
       ]
      },
      {
       "output_type": "stream",
       "stream": "stdout",
       "text": [
        "! "
       ]
      },
      {
       "output_type": "stream",
       "stream": "stdout",
       "text": [
        "74500 ! "
       ]
      },
      {
       "output_type": "stream",
       "stream": "stdout",
       "text": [
        "! "
       ]
      },
      {
       "output_type": "stream",
       "stream": "stdout",
       "text": [
        "! "
       ]
      },
      {
       "output_type": "stream",
       "stream": "stdout",
       "text": [
        "! "
       ]
      },
      {
       "output_type": "stream",
       "stream": "stdout",
       "text": [
        "! "
       ]
      },
      {
       "output_type": "stream",
       "stream": "stdout",
       "text": [
        "74600 "
       ]
      },
      {
       "output_type": "stream",
       "stream": "stdout",
       "text": [
        "! "
       ]
      },
      {
       "output_type": "stream",
       "stream": "stdout",
       "text": [
        "! "
       ]
      },
      {
       "output_type": "stream",
       "stream": "stdout",
       "text": [
        "! "
       ]
      },
      {
       "output_type": "stream",
       "stream": "stdout",
       "text": [
        "! "
       ]
      },
      {
       "output_type": "stream",
       "stream": "stdout",
       "text": [
        "! "
       ]
      },
      {
       "output_type": "stream",
       "stream": "stdout",
       "text": [
        "74700 "
       ]
      },
      {
       "output_type": "stream",
       "stream": "stdout",
       "text": [
        "! "
       ]
      },
      {
       "output_type": "stream",
       "stream": "stdout",
       "text": [
        "! "
       ]
      },
      {
       "output_type": "stream",
       "stream": "stdout",
       "text": [
        "! "
       ]
      },
      {
       "output_type": "stream",
       "stream": "stdout",
       "text": [
        "! ! "
       ]
      },
      {
       "output_type": "stream",
       "stream": "stdout",
       "text": [
        "! "
       ]
      },
      {
       "output_type": "stream",
       "stream": "stdout",
       "text": [
        "! "
       ]
      },
      {
       "output_type": "stream",
       "stream": "stdout",
       "text": [
        "74800 "
       ]
      },
      {
       "output_type": "stream",
       "stream": "stdout",
       "text": [
        "! "
       ]
      },
      {
       "output_type": "stream",
       "stream": "stdout",
       "text": [
        "! "
       ]
      },
      {
       "output_type": "stream",
       "stream": "stdout",
       "text": [
        "74900 "
       ]
      },
      {
       "output_type": "stream",
       "stream": "stdout",
       "text": [
        "! "
       ]
      },
      {
       "output_type": "stream",
       "stream": "stdout",
       "text": [
        "! "
       ]
      },
      {
       "output_type": "stream",
       "stream": "stdout",
       "text": [
        "! ! "
       ]
      },
      {
       "output_type": "stream",
       "stream": "stdout",
       "text": [
        "75000 "
       ]
      },
      {
       "output_type": "stream",
       "stream": "stdout",
       "text": [
        "! "
       ]
      },
      {
       "output_type": "stream",
       "stream": "stdout",
       "text": [
        "! "
       ]
      },
      {
       "output_type": "stream",
       "stream": "stdout",
       "text": [
        "75100 "
       ]
      },
      {
       "output_type": "stream",
       "stream": "stdout",
       "text": [
        "! "
       ]
      },
      {
       "output_type": "stream",
       "stream": "stdout",
       "text": [
        "! "
       ]
      },
      {
       "output_type": "stream",
       "stream": "stdout",
       "text": [
        "! "
       ]
      },
      {
       "output_type": "stream",
       "stream": "stdout",
       "text": [
        "! "
       ]
      },
      {
       "output_type": "stream",
       "stream": "stdout",
       "text": [
        "! "
       ]
      },
      {
       "output_type": "stream",
       "stream": "stdout",
       "text": [
        "75200 "
       ]
      },
      {
       "output_type": "stream",
       "stream": "stdout",
       "text": [
        "! "
       ]
      },
      {
       "output_type": "stream",
       "stream": "stdout",
       "text": [
        "! "
       ]
      },
      {
       "output_type": "stream",
       "stream": "stdout",
       "text": [
        "! "
       ]
      },
      {
       "output_type": "stream",
       "stream": "stdout",
       "text": [
        "! "
       ]
      },
      {
       "output_type": "stream",
       "stream": "stdout",
       "text": [
        "75300 "
       ]
      },
      {
       "output_type": "stream",
       "stream": "stdout",
       "text": [
        "! "
       ]
      },
      {
       "output_type": "stream",
       "stream": "stdout",
       "text": [
        "! ! "
       ]
      },
      {
       "output_type": "stream",
       "stream": "stdout",
       "text": [
        "! "
       ]
      },
      {
       "output_type": "stream",
       "stream": "stdout",
       "text": [
        "75400 "
       ]
      },
      {
       "output_type": "stream",
       "stream": "stdout",
       "text": [
        "! "
       ]
      },
      {
       "output_type": "stream",
       "stream": "stdout",
       "text": [
        "! "
       ]
      },
      {
       "output_type": "stream",
       "stream": "stdout",
       "text": [
        "! "
       ]
      },
      {
       "output_type": "stream",
       "stream": "stdout",
       "text": [
        "! "
       ]
      },
      {
       "output_type": "stream",
       "stream": "stdout",
       "text": [
        "75500 "
       ]
      },
      {
       "output_type": "stream",
       "stream": "stdout",
       "text": [
        "! "
       ]
      },
      {
       "output_type": "stream",
       "stream": "stdout",
       "text": [
        "! "
       ]
      },
      {
       "output_type": "stream",
       "stream": "stdout",
       "text": [
        "! "
       ]
      },
      {
       "output_type": "stream",
       "stream": "stdout",
       "text": [
        "! "
       ]
      },
      {
       "output_type": "stream",
       "stream": "stdout",
       "text": [
        "! "
       ]
      },
      {
       "output_type": "stream",
       "stream": "stdout",
       "text": [
        "! "
       ]
      },
      {
       "output_type": "stream",
       "stream": "stdout",
       "text": [
        "75600 "
       ]
      },
      {
       "output_type": "stream",
       "stream": "stdout",
       "text": [
        "! "
       ]
      },
      {
       "output_type": "stream",
       "stream": "stdout",
       "text": [
        "! "
       ]
      },
      {
       "output_type": "stream",
       "stream": "stdout",
       "text": [
        "! "
       ]
      },
      {
       "output_type": "stream",
       "stream": "stdout",
       "text": [
        "75700 "
       ]
      },
      {
       "output_type": "stream",
       "stream": "stdout",
       "text": [
        "! "
       ]
      },
      {
       "output_type": "stream",
       "stream": "stdout",
       "text": [
        "! ! "
       ]
      },
      {
       "output_type": "stream",
       "stream": "stdout",
       "text": [
        "! "
       ]
      },
      {
       "output_type": "stream",
       "stream": "stdout",
       "text": [
        "! "
       ]
      },
      {
       "output_type": "stream",
       "stream": "stdout",
       "text": [
        "! "
       ]
      },
      {
       "output_type": "stream",
       "stream": "stdout",
       "text": [
        "! "
       ]
      },
      {
       "output_type": "stream",
       "stream": "stdout",
       "text": [
        "! "
       ]
      },
      {
       "output_type": "stream",
       "stream": "stdout",
       "text": [
        "75800 "
       ]
      },
      {
       "output_type": "stream",
       "stream": "stdout",
       "text": [
        "! "
       ]
      },
      {
       "output_type": "stream",
       "stream": "stdout",
       "text": [
        "! "
       ]
      },
      {
       "output_type": "stream",
       "stream": "stdout",
       "text": [
        "! ! "
       ]
      },
      {
       "output_type": "stream",
       "stream": "stdout",
       "text": [
        "! "
       ]
      },
      {
       "output_type": "stream",
       "stream": "stdout",
       "text": [
        "! 75900 "
       ]
      },
      {
       "output_type": "stream",
       "stream": "stdout",
       "text": [
        "! "
       ]
      },
      {
       "output_type": "stream",
       "stream": "stdout",
       "text": [
        "! "
       ]
      },
      {
       "output_type": "stream",
       "stream": "stdout",
       "text": [
        "! "
       ]
      },
      {
       "output_type": "stream",
       "stream": "stdout",
       "text": [
        "! "
       ]
      },
      {
       "output_type": "stream",
       "stream": "stdout",
       "text": [
        "76000 "
       ]
      },
      {
       "output_type": "stream",
       "stream": "stdout",
       "text": [
        "! "
       ]
      },
      {
       "output_type": "stream",
       "stream": "stdout",
       "text": [
        "! "
       ]
      },
      {
       "output_type": "stream",
       "stream": "stdout",
       "text": [
        "! "
       ]
      },
      {
       "output_type": "stream",
       "stream": "stdout",
       "text": [
        "! ! "
       ]
      },
      {
       "output_type": "stream",
       "stream": "stdout",
       "text": [
        "! "
       ]
      },
      {
       "output_type": "stream",
       "stream": "stdout",
       "text": [
        "! "
       ]
      },
      {
       "output_type": "stream",
       "stream": "stdout",
       "text": [
        "76100 ! "
       ]
      },
      {
       "output_type": "stream",
       "stream": "stdout",
       "text": [
        "! "
       ]
      },
      {
       "output_type": "stream",
       "stream": "stdout",
       "text": [
        "! "
       ]
      },
      {
       "output_type": "stream",
       "stream": "stdout",
       "text": [
        "! "
       ]
      },
      {
       "output_type": "stream",
       "stream": "stdout",
       "text": [
        "76200 "
       ]
      },
      {
       "output_type": "stream",
       "stream": "stdout",
       "text": [
        "! ! "
       ]
      },
      {
       "output_type": "stream",
       "stream": "stdout",
       "text": [
        "76300 "
       ]
      },
      {
       "output_type": "stream",
       "stream": "stdout",
       "text": [
        "! "
       ]
      },
      {
       "output_type": "stream",
       "stream": "stdout",
       "text": [
        "! "
       ]
      },
      {
       "output_type": "stream",
       "stream": "stdout",
       "text": [
        "! "
       ]
      },
      {
       "output_type": "stream",
       "stream": "stdout",
       "text": [
        "! "
       ]
      },
      {
       "output_type": "stream",
       "stream": "stdout",
       "text": [
        "! "
       ]
      },
      {
       "output_type": "stream",
       "stream": "stdout",
       "text": [
        "76400 "
       ]
      },
      {
       "output_type": "stream",
       "stream": "stdout",
       "text": [
        "! "
       ]
      },
      {
       "output_type": "stream",
       "stream": "stdout",
       "text": [
        "! "
       ]
      },
      {
       "output_type": "stream",
       "stream": "stdout",
       "text": [
        "! "
       ]
      },
      {
       "output_type": "stream",
       "stream": "stdout",
       "text": [
        "! "
       ]
      },
      {
       "output_type": "stream",
       "stream": "stdout",
       "text": [
        "! "
       ]
      },
      {
       "output_type": "stream",
       "stream": "stdout",
       "text": [
        "! "
       ]
      },
      {
       "output_type": "stream",
       "stream": "stdout",
       "text": [
        "! "
       ]
      },
      {
       "output_type": "stream",
       "stream": "stdout",
       "text": [
        "76500 "
       ]
      },
      {
       "output_type": "stream",
       "stream": "stdout",
       "text": [
        "! "
       ]
      },
      {
       "output_type": "stream",
       "stream": "stdout",
       "text": [
        "! "
       ]
      },
      {
       "output_type": "stream",
       "stream": "stdout",
       "text": [
        "76600 ! "
       ]
      },
      {
       "output_type": "stream",
       "stream": "stdout",
       "text": [
        "! "
       ]
      },
      {
       "output_type": "stream",
       "stream": "stdout",
       "text": [
        "! "
       ]
      },
      {
       "output_type": "stream",
       "stream": "stdout",
       "text": [
        "! "
       ]
      },
      {
       "output_type": "stream",
       "stream": "stdout",
       "text": [
        "! "
       ]
      },
      {
       "output_type": "stream",
       "stream": "stdout",
       "text": [
        "! 76700 "
       ]
      },
      {
       "output_type": "stream",
       "stream": "stdout",
       "text": [
        "! "
       ]
      },
      {
       "output_type": "stream",
       "stream": "stdout",
       "text": [
        "! ! "
       ]
      },
      {
       "output_type": "stream",
       "stream": "stdout",
       "text": [
        "! ! "
       ]
      },
      {
       "output_type": "stream",
       "stream": "stdout",
       "text": [
        "! "
       ]
      },
      {
       "output_type": "stream",
       "stream": "stdout",
       "text": [
        "! "
       ]
      },
      {
       "output_type": "stream",
       "stream": "stdout",
       "text": [
        "76800 "
       ]
      },
      {
       "output_type": "stream",
       "stream": "stdout",
       "text": [
        "! "
       ]
      },
      {
       "output_type": "stream",
       "stream": "stdout",
       "text": [
        "! "
       ]
      },
      {
       "output_type": "stream",
       "stream": "stdout",
       "text": [
        "! "
       ]
      },
      {
       "output_type": "stream",
       "stream": "stdout",
       "text": [
        "76900 "
       ]
      },
      {
       "output_type": "stream",
       "stream": "stdout",
       "text": [
        "! "
       ]
      },
      {
       "output_type": "stream",
       "stream": "stdout",
       "text": [
        "77000 "
       ]
      },
      {
       "output_type": "stream",
       "stream": "stdout",
       "text": [
        "! "
       ]
      },
      {
       "output_type": "stream",
       "stream": "stdout",
       "text": [
        "! "
       ]
      },
      {
       "output_type": "stream",
       "stream": "stdout",
       "text": [
        "! "
       ]
      },
      {
       "output_type": "stream",
       "stream": "stdout",
       "text": [
        "! "
       ]
      },
      {
       "output_type": "stream",
       "stream": "stdout",
       "text": [
        "77100 "
       ]
      },
      {
       "output_type": "stream",
       "stream": "stdout",
       "text": [
        "! "
       ]
      },
      {
       "output_type": "stream",
       "stream": "stdout",
       "text": [
        "! "
       ]
      },
      {
       "output_type": "stream",
       "stream": "stdout",
       "text": [
        "! "
       ]
      },
      {
       "output_type": "stream",
       "stream": "stdout",
       "text": [
        "! "
       ]
      },
      {
       "output_type": "stream",
       "stream": "stdout",
       "text": [
        "! 77200 "
       ]
      },
      {
       "output_type": "stream",
       "stream": "stdout",
       "text": [
        "! "
       ]
      },
      {
       "output_type": "stream",
       "stream": "stdout",
       "text": [
        "! "
       ]
      },
      {
       "output_type": "stream",
       "stream": "stdout",
       "text": [
        "! "
       ]
      },
      {
       "output_type": "stream",
       "stream": "stdout",
       "text": [
        "77300 "
       ]
      },
      {
       "output_type": "stream",
       "stream": "stdout",
       "text": [
        "! "
       ]
      },
      {
       "output_type": "stream",
       "stream": "stdout",
       "text": [
        "! "
       ]
      },
      {
       "output_type": "stream",
       "stream": "stdout",
       "text": [
        "! "
       ]
      },
      {
       "output_type": "stream",
       "stream": "stdout",
       "text": [
        "! 77400 "
       ]
      },
      {
       "output_type": "stream",
       "stream": "stdout",
       "text": [
        "! "
       ]
      },
      {
       "output_type": "stream",
       "stream": "stdout",
       "text": [
        "! "
       ]
      },
      {
       "output_type": "stream",
       "stream": "stdout",
       "text": [
        "! "
       ]
      },
      {
       "output_type": "stream",
       "stream": "stdout",
       "text": [
        "! "
       ]
      },
      {
       "output_type": "stream",
       "stream": "stdout",
       "text": [
        "! "
       ]
      },
      {
       "output_type": "stream",
       "stream": "stdout",
       "text": [
        "! ! "
       ]
      },
      {
       "output_type": "stream",
       "stream": "stdout",
       "text": [
        "! "
       ]
      },
      {
       "output_type": "stream",
       "stream": "stdout",
       "text": [
        "! "
       ]
      },
      {
       "output_type": "stream",
       "stream": "stdout",
       "text": [
        "77500 "
       ]
      },
      {
       "output_type": "stream",
       "stream": "stdout",
       "text": [
        "! "
       ]
      },
      {
       "output_type": "stream",
       "stream": "stdout",
       "text": [
        "! "
       ]
      },
      {
       "output_type": "stream",
       "stream": "stdout",
       "text": [
        "! "
       ]
      },
      {
       "output_type": "stream",
       "stream": "stdout",
       "text": [
        "! "
       ]
      },
      {
       "output_type": "stream",
       "stream": "stdout",
       "text": [
        "! 77600 "
       ]
      },
      {
       "output_type": "stream",
       "stream": "stdout",
       "text": [
        "! "
       ]
      },
      {
       "output_type": "stream",
       "stream": "stdout",
       "text": [
        "! "
       ]
      },
      {
       "output_type": "stream",
       "stream": "stdout",
       "text": [
        "! "
       ]
      },
      {
       "output_type": "stream",
       "stream": "stdout",
       "text": [
        "! "
       ]
      },
      {
       "output_type": "stream",
       "stream": "stdout",
       "text": [
        "! 77700 "
       ]
      },
      {
       "output_type": "stream",
       "stream": "stdout",
       "text": [
        "! "
       ]
      },
      {
       "output_type": "stream",
       "stream": "stdout",
       "text": [
        "! "
       ]
      },
      {
       "output_type": "stream",
       "stream": "stdout",
       "text": [
        "! "
       ]
      },
      {
       "output_type": "stream",
       "stream": "stdout",
       "text": [
        "! "
       ]
      },
      {
       "output_type": "stream",
       "stream": "stdout",
       "text": [
        "! "
       ]
      },
      {
       "output_type": "stream",
       "stream": "stdout",
       "text": [
        "77800 "
       ]
      },
      {
       "output_type": "stream",
       "stream": "stdout",
       "text": [
        "! "
       ]
      },
      {
       "output_type": "stream",
       "stream": "stdout",
       "text": [
        "77900 "
       ]
      },
      {
       "output_type": "stream",
       "stream": "stdout",
       "text": [
        "! "
       ]
      },
      {
       "output_type": "stream",
       "stream": "stdout",
       "text": [
        "! "
       ]
      },
      {
       "output_type": "stream",
       "stream": "stdout",
       "text": [
        "! "
       ]
      },
      {
       "output_type": "stream",
       "stream": "stdout",
       "text": [
        "78000 "
       ]
      },
      {
       "output_type": "stream",
       "stream": "stdout",
       "text": [
        "! "
       ]
      },
      {
       "output_type": "stream",
       "stream": "stdout",
       "text": [
        "! "
       ]
      },
      {
       "output_type": "stream",
       "stream": "stdout",
       "text": [
        "! "
       ]
      },
      {
       "output_type": "stream",
       "stream": "stdout",
       "text": [
        "! ! "
       ]
      },
      {
       "output_type": "stream",
       "stream": "stdout",
       "text": [
        "! "
       ]
      },
      {
       "output_type": "stream",
       "stream": "stdout",
       "text": [
        "! "
       ]
      },
      {
       "output_type": "stream",
       "stream": "stdout",
       "text": [
        "! "
       ]
      },
      {
       "output_type": "stream",
       "stream": "stdout",
       "text": [
        "78100 "
       ]
      },
      {
       "output_type": "stream",
       "stream": "stdout",
       "text": [
        "! "
       ]
      },
      {
       "output_type": "stream",
       "stream": "stdout",
       "text": [
        "! "
       ]
      },
      {
       "output_type": "stream",
       "stream": "stdout",
       "text": [
        "! "
       ]
      },
      {
       "output_type": "stream",
       "stream": "stdout",
       "text": [
        "! "
       ]
      },
      {
       "output_type": "stream",
       "stream": "stdout",
       "text": [
        "78200 ! "
       ]
      },
      {
       "output_type": "stream",
       "stream": "stdout",
       "text": [
        "! ! "
       ]
      },
      {
       "output_type": "stream",
       "stream": "stdout",
       "text": [
        "! "
       ]
      },
      {
       "output_type": "stream",
       "stream": "stdout",
       "text": [
        "78300 "
       ]
      },
      {
       "output_type": "stream",
       "stream": "stdout",
       "text": [
        "! "
       ]
      },
      {
       "output_type": "stream",
       "stream": "stdout",
       "text": [
        "! "
       ]
      },
      {
       "output_type": "stream",
       "stream": "stdout",
       "text": [
        "! "
       ]
      },
      {
       "output_type": "stream",
       "stream": "stdout",
       "text": [
        "78400 "
       ]
      },
      {
       "output_type": "stream",
       "stream": "stdout",
       "text": [
        "! "
       ]
      },
      {
       "output_type": "stream",
       "stream": "stdout",
       "text": [
        "! "
       ]
      },
      {
       "output_type": "stream",
       "stream": "stdout",
       "text": [
        "! "
       ]
      },
      {
       "output_type": "stream",
       "stream": "stdout",
       "text": [
        "! "
       ]
      },
      {
       "output_type": "stream",
       "stream": "stdout",
       "text": [
        "! "
       ]
      },
      {
       "output_type": "stream",
       "stream": "stdout",
       "text": [
        "78500 "
       ]
      },
      {
       "output_type": "stream",
       "stream": "stdout",
       "text": [
        "! "
       ]
      },
      {
       "output_type": "stream",
       "stream": "stdout",
       "text": [
        "! "
       ]
      },
      {
       "output_type": "stream",
       "stream": "stdout",
       "text": [
        "! "
       ]
      },
      {
       "output_type": "stream",
       "stream": "stdout",
       "text": [
        "78600 "
       ]
      },
      {
       "output_type": "stream",
       "stream": "stdout",
       "text": [
        "! "
       ]
      },
      {
       "output_type": "stream",
       "stream": "stdout",
       "text": [
        "! "
       ]
      },
      {
       "output_type": "stream",
       "stream": "stdout",
       "text": [
        "! "
       ]
      },
      {
       "output_type": "stream",
       "stream": "stdout",
       "text": [
        "! "
       ]
      },
      {
       "output_type": "stream",
       "stream": "stdout",
       "text": [
        "78700 "
       ]
      },
      {
       "output_type": "stream",
       "stream": "stdout",
       "text": [
        "! "
       ]
      },
      {
       "output_type": "stream",
       "stream": "stdout",
       "text": [
        "! "
       ]
      },
      {
       "output_type": "stream",
       "stream": "stdout",
       "text": [
        "! "
       ]
      },
      {
       "output_type": "stream",
       "stream": "stdout",
       "text": [
        "! ! "
       ]
      },
      {
       "output_type": "stream",
       "stream": "stdout",
       "text": [
        "78800 "
       ]
      },
      {
       "output_type": "stream",
       "stream": "stdout",
       "text": [
        "! "
       ]
      },
      {
       "output_type": "stream",
       "stream": "stdout",
       "text": [
        "! "
       ]
      },
      {
       "output_type": "stream",
       "stream": "stdout",
       "text": [
        "! "
       ]
      },
      {
       "output_type": "stream",
       "stream": "stdout",
       "text": [
        "78900 "
       ]
      },
      {
       "output_type": "stream",
       "stream": "stdout",
       "text": [
        "! 79000 "
       ]
      },
      {
       "output_type": "stream",
       "stream": "stdout",
       "text": [
        "! ! "
       ]
      },
      {
       "output_type": "stream",
       "stream": "stdout",
       "text": [
        "! ! "
       ]
      },
      {
       "output_type": "stream",
       "stream": "stdout",
       "text": [
        "! "
       ]
      },
      {
       "output_type": "stream",
       "stream": "stdout",
       "text": [
        "! "
       ]
      },
      {
       "output_type": "stream",
       "stream": "stdout",
       "text": [
        "! 79100 "
       ]
      },
      {
       "output_type": "stream",
       "stream": "stdout",
       "text": [
        "! ! "
       ]
      },
      {
       "output_type": "stream",
       "stream": "stdout",
       "text": [
        "! "
       ]
      },
      {
       "output_type": "stream",
       "stream": "stdout",
       "text": [
        "! "
       ]
      },
      {
       "output_type": "stream",
       "stream": "stdout",
       "text": [
        "79200 "
       ]
      },
      {
       "output_type": "stream",
       "stream": "stdout",
       "text": [
        "! "
       ]
      },
      {
       "output_type": "stream",
       "stream": "stdout",
       "text": [
        "! "
       ]
      },
      {
       "output_type": "stream",
       "stream": "stdout",
       "text": [
        "! "
       ]
      },
      {
       "output_type": "stream",
       "stream": "stdout",
       "text": [
        "79300 "
       ]
      },
      {
       "output_type": "stream",
       "stream": "stdout",
       "text": [
        "! "
       ]
      },
      {
       "output_type": "stream",
       "stream": "stdout",
       "text": [
        "! "
       ]
      },
      {
       "output_type": "stream",
       "stream": "stdout",
       "text": [
        "! "
       ]
      },
      {
       "output_type": "stream",
       "stream": "stdout",
       "text": [
        "79400 "
       ]
      },
      {
       "output_type": "stream",
       "stream": "stdout",
       "text": [
        "! "
       ]
      },
      {
       "output_type": "stream",
       "stream": "stdout",
       "text": [
        "! "
       ]
      },
      {
       "output_type": "stream",
       "stream": "stdout",
       "text": [
        "! "
       ]
      },
      {
       "output_type": "stream",
       "stream": "stdout",
       "text": [
        "! "
       ]
      },
      {
       "output_type": "stream",
       "stream": "stdout",
       "text": [
        "79500 "
       ]
      },
      {
       "output_type": "stream",
       "stream": "stdout",
       "text": [
        "! ! "
       ]
      },
      {
       "output_type": "stream",
       "stream": "stdout",
       "text": [
        "! "
       ]
      },
      {
       "output_type": "stream",
       "stream": "stdout",
       "text": [
        "! "
       ]
      },
      {
       "output_type": "stream",
       "stream": "stdout",
       "text": [
        "! "
       ]
      },
      {
       "output_type": "stream",
       "stream": "stdout",
       "text": [
        "! "
       ]
      },
      {
       "output_type": "stream",
       "stream": "stdout",
       "text": [
        "! 79600 "
       ]
      },
      {
       "output_type": "stream",
       "stream": "stdout",
       "text": [
        "! "
       ]
      },
      {
       "output_type": "stream",
       "stream": "stdout",
       "text": [
        "! "
       ]
      },
      {
       "output_type": "stream",
       "stream": "stdout",
       "text": [
        "! "
       ]
      },
      {
       "output_type": "stream",
       "stream": "stdout",
       "text": [
        "! "
       ]
      },
      {
       "output_type": "stream",
       "stream": "stdout",
       "text": [
        "! "
       ]
      },
      {
       "output_type": "stream",
       "stream": "stdout",
       "text": [
        "! "
       ]
      },
      {
       "output_type": "stream",
       "stream": "stdout",
       "text": [
        "! "
       ]
      },
      {
       "output_type": "stream",
       "stream": "stdout",
       "text": [
        "79700 "
       ]
      },
      {
       "output_type": "stream",
       "stream": "stdout",
       "text": [
        "! "
       ]
      },
      {
       "output_type": "stream",
       "stream": "stdout",
       "text": [
        "! "
       ]
      },
      {
       "output_type": "stream",
       "stream": "stdout",
       "text": [
        "! "
       ]
      },
      {
       "output_type": "stream",
       "stream": "stdout",
       "text": [
        "! ! "
       ]
      },
      {
       "output_type": "stream",
       "stream": "stdout",
       "text": [
        "! "
       ]
      },
      {
       "output_type": "stream",
       "stream": "stdout",
       "text": [
        "79800 "
       ]
      },
      {
       "output_type": "stream",
       "stream": "stdout",
       "text": [
        "! "
       ]
      },
      {
       "output_type": "stream",
       "stream": "stdout",
       "text": [
        "! "
       ]
      },
      {
       "output_type": "stream",
       "stream": "stdout",
       "text": [
        "! "
       ]
      },
      {
       "output_type": "stream",
       "stream": "stdout",
       "text": [
        "79900 "
       ]
      },
      {
       "output_type": "stream",
       "stream": "stdout",
       "text": [
        "! "
       ]
      },
      {
       "output_type": "stream",
       "stream": "stdout",
       "text": [
        "! "
       ]
      },
      {
       "output_type": "stream",
       "stream": "stdout",
       "text": [
        "! "
       ]
      },
      {
       "output_type": "stream",
       "stream": "stdout",
       "text": [
        "! "
       ]
      },
      {
       "output_type": "stream",
       "stream": "stdout",
       "text": [
        "80000 "
       ]
      },
      {
       "output_type": "stream",
       "stream": "stdout",
       "text": [
        "! "
       ]
      },
      {
       "output_type": "stream",
       "stream": "stdout",
       "text": [
        "! "
       ]
      },
      {
       "output_type": "stream",
       "stream": "stdout",
       "text": [
        "! "
       ]
      },
      {
       "output_type": "stream",
       "stream": "stdout",
       "text": [
        "! "
       ]
      },
      {
       "output_type": "stream",
       "stream": "stdout",
       "text": [
        "! "
       ]
      },
      {
       "output_type": "stream",
       "stream": "stdout",
       "text": [
        "! ! 80100 "
       ]
      },
      {
       "output_type": "stream",
       "stream": "stdout",
       "text": [
        "! "
       ]
      },
      {
       "output_type": "stream",
       "stream": "stdout",
       "text": [
        "! "
       ]
      },
      {
       "output_type": "stream",
       "stream": "stdout",
       "text": [
        "! "
       ]
      },
      {
       "output_type": "stream",
       "stream": "stdout",
       "text": [
        "80200 "
       ]
      },
      {
       "output_type": "stream",
       "stream": "stdout",
       "text": [
        "! "
       ]
      },
      {
       "output_type": "stream",
       "stream": "stdout",
       "text": [
        "80300 "
       ]
      },
      {
       "output_type": "stream",
       "stream": "stdout",
       "text": [
        "! "
       ]
      },
      {
       "output_type": "stream",
       "stream": "stdout",
       "text": [
        "! "
       ]
      },
      {
       "output_type": "stream",
       "stream": "stdout",
       "text": [
        "! "
       ]
      },
      {
       "output_type": "stream",
       "stream": "stdout",
       "text": [
        "! "
       ]
      },
      {
       "output_type": "stream",
       "stream": "stdout",
       "text": [
        "! "
       ]
      },
      {
       "output_type": "stream",
       "stream": "stdout",
       "text": [
        "! "
       ]
      },
      {
       "output_type": "stream",
       "stream": "stdout",
       "text": [
        "! "
       ]
      },
      {
       "output_type": "stream",
       "stream": "stdout",
       "text": [
        "80400 "
       ]
      },
      {
       "output_type": "stream",
       "stream": "stdout",
       "text": [
        "! "
       ]
      },
      {
       "output_type": "stream",
       "stream": "stdout",
       "text": [
        "! "
       ]
      },
      {
       "output_type": "stream",
       "stream": "stdout",
       "text": [
        "! "
       ]
      },
      {
       "output_type": "stream",
       "stream": "stdout",
       "text": [
        "! "
       ]
      },
      {
       "output_type": "stream",
       "stream": "stdout",
       "text": [
        "! "
       ]
      },
      {
       "output_type": "stream",
       "stream": "stdout",
       "text": [
        "! "
       ]
      },
      {
       "output_type": "stream",
       "stream": "stdout",
       "text": [
        "80500 "
       ]
      },
      {
       "output_type": "stream",
       "stream": "stdout",
       "text": [
        "! "
       ]
      },
      {
       "output_type": "stream",
       "stream": "stdout",
       "text": [
        "! "
       ]
      },
      {
       "output_type": "stream",
       "stream": "stdout",
       "text": [
        "80600 "
       ]
      },
      {
       "output_type": "stream",
       "stream": "stdout",
       "text": [
        "! "
       ]
      },
      {
       "output_type": "stream",
       "stream": "stdout",
       "text": [
        "! "
       ]
      },
      {
       "output_type": "stream",
       "stream": "stdout",
       "text": [
        "! "
       ]
      },
      {
       "output_type": "stream",
       "stream": "stdout",
       "text": [
        "! "
       ]
      },
      {
       "output_type": "stream",
       "stream": "stdout",
       "text": [
        "80700 "
       ]
      },
      {
       "output_type": "stream",
       "stream": "stdout",
       "text": [
        "! "
       ]
      },
      {
       "output_type": "stream",
       "stream": "stdout",
       "text": [
        "! "
       ]
      },
      {
       "output_type": "stream",
       "stream": "stdout",
       "text": [
        "! "
       ]
      },
      {
       "output_type": "stream",
       "stream": "stdout",
       "text": [
        "80800 "
       ]
      },
      {
       "output_type": "stream",
       "stream": "stdout",
       "text": [
        "! "
       ]
      },
      {
       "output_type": "stream",
       "stream": "stdout",
       "text": [
        "! "
       ]
      },
      {
       "output_type": "stream",
       "stream": "stdout",
       "text": [
        "! "
       ]
      },
      {
       "output_type": "stream",
       "stream": "stdout",
       "text": [
        "! "
       ]
      },
      {
       "output_type": "stream",
       "stream": "stdout",
       "text": [
        "! "
       ]
      },
      {
       "output_type": "stream",
       "stream": "stdout",
       "text": [
        "! "
       ]
      },
      {
       "output_type": "stream",
       "stream": "stdout",
       "text": [
        "80900 "
       ]
      },
      {
       "output_type": "stream",
       "stream": "stdout",
       "text": [
        "! "
       ]
      },
      {
       "output_type": "stream",
       "stream": "stdout",
       "text": [
        "! ! "
       ]
      },
      {
       "output_type": "stream",
       "stream": "stdout",
       "text": [
        "! "
       ]
      },
      {
       "output_type": "stream",
       "stream": "stdout",
       "text": [
        "81000 "
       ]
      },
      {
       "output_type": "stream",
       "stream": "stdout",
       "text": [
        "! "
       ]
      },
      {
       "output_type": "stream",
       "stream": "stdout",
       "text": [
        "! ! "
       ]
      },
      {
       "output_type": "stream",
       "stream": "stdout",
       "text": [
        "81100 "
       ]
      },
      {
       "output_type": "stream",
       "stream": "stdout",
       "text": [
        "! "
       ]
      },
      {
       "output_type": "stream",
       "stream": "stdout",
       "text": [
        "! "
       ]
      },
      {
       "output_type": "stream",
       "stream": "stdout",
       "text": [
        "81200 "
       ]
      },
      {
       "output_type": "stream",
       "stream": "stdout",
       "text": [
        "! "
       ]
      },
      {
       "output_type": "stream",
       "stream": "stdout",
       "text": [
        "! "
       ]
      },
      {
       "output_type": "stream",
       "stream": "stdout",
       "text": [
        "! "
       ]
      },
      {
       "output_type": "stream",
       "stream": "stdout",
       "text": [
        "! "
       ]
      },
      {
       "output_type": "stream",
       "stream": "stdout",
       "text": [
        "! "
       ]
      },
      {
       "output_type": "stream",
       "stream": "stdout",
       "text": [
        "81300 "
       ]
      },
      {
       "output_type": "stream",
       "stream": "stdout",
       "text": [
        "! "
       ]
      },
      {
       "output_type": "stream",
       "stream": "stdout",
       "text": [
        "! "
       ]
      },
      {
       "output_type": "stream",
       "stream": "stdout",
       "text": [
        "! "
       ]
      },
      {
       "output_type": "stream",
       "stream": "stdout",
       "text": [
        "! "
       ]
      },
      {
       "output_type": "stream",
       "stream": "stdout",
       "text": [
        "! "
       ]
      },
      {
       "output_type": "stream",
       "stream": "stdout",
       "text": [
        "! "
       ]
      },
      {
       "output_type": "stream",
       "stream": "stdout",
       "text": [
        "81400 "
       ]
      },
      {
       "output_type": "stream",
       "stream": "stdout",
       "text": [
        "! "
       ]
      },
      {
       "output_type": "stream",
       "stream": "stdout",
       "text": [
        "! "
       ]
      },
      {
       "output_type": "stream",
       "stream": "stdout",
       "text": [
        "! "
       ]
      },
      {
       "output_type": "stream",
       "stream": "stdout",
       "text": [
        "81500 "
       ]
      },
      {
       "output_type": "stream",
       "stream": "stdout",
       "text": [
        "! "
       ]
      },
      {
       "output_type": "stream",
       "stream": "stdout",
       "text": [
        "! "
       ]
      },
      {
       "output_type": "stream",
       "stream": "stdout",
       "text": [
        "81600 "
       ]
      },
      {
       "output_type": "stream",
       "stream": "stdout",
       "text": [
        "! "
       ]
      },
      {
       "output_type": "stream",
       "stream": "stdout",
       "text": [
        "! "
       ]
      },
      {
       "output_type": "stream",
       "stream": "stdout",
       "text": [
        "! "
       ]
      },
      {
       "output_type": "stream",
       "stream": "stdout",
       "text": [
        "81700 "
       ]
      },
      {
       "output_type": "stream",
       "stream": "stdout",
       "text": [
        "! "
       ]
      },
      {
       "output_type": "stream",
       "stream": "stdout",
       "text": [
        "! "
       ]
      },
      {
       "output_type": "stream",
       "stream": "stdout",
       "text": [
        "! "
       ]
      },
      {
       "output_type": "stream",
       "stream": "stdout",
       "text": [
        "! "
       ]
      },
      {
       "output_type": "stream",
       "stream": "stdout",
       "text": [
        "81800 "
       ]
      },
      {
       "output_type": "stream",
       "stream": "stdout",
       "text": [
        "! "
       ]
      },
      {
       "output_type": "stream",
       "stream": "stdout",
       "text": [
        "! ! "
       ]
      },
      {
       "output_type": "stream",
       "stream": "stdout",
       "text": [
        "81900 ! "
       ]
      },
      {
       "output_type": "stream",
       "stream": "stdout",
       "text": [
        "! "
       ]
      },
      {
       "output_type": "stream",
       "stream": "stdout",
       "text": [
        "! "
       ]
      },
      {
       "output_type": "stream",
       "stream": "stdout",
       "text": [
        "82000 "
       ]
      },
      {
       "output_type": "stream",
       "stream": "stdout",
       "text": [
        "! "
       ]
      },
      {
       "output_type": "stream",
       "stream": "stdout",
       "text": [
        "! "
       ]
      },
      {
       "output_type": "stream",
       "stream": "stdout",
       "text": [
        "! "
       ]
      },
      {
       "output_type": "stream",
       "stream": "stdout",
       "text": [
        "! "
       ]
      },
      {
       "output_type": "stream",
       "stream": "stdout",
       "text": [
        "82100 "
       ]
      },
      {
       "output_type": "stream",
       "stream": "stdout",
       "text": [
        "! "
       ]
      },
      {
       "output_type": "stream",
       "stream": "stdout",
       "text": [
        "! "
       ]
      },
      {
       "output_type": "stream",
       "stream": "stdout",
       "text": [
        "! "
       ]
      },
      {
       "output_type": "stream",
       "stream": "stdout",
       "text": [
        "! "
       ]
      },
      {
       "output_type": "stream",
       "stream": "stdout",
       "text": [
        "! ! "
       ]
      },
      {
       "output_type": "stream",
       "stream": "stdout",
       "text": [
        "82200 "
       ]
      },
      {
       "output_type": "stream",
       "stream": "stdout",
       "text": [
        "! "
       ]
      },
      {
       "output_type": "stream",
       "stream": "stdout",
       "text": [
        "! "
       ]
      },
      {
       "output_type": "stream",
       "stream": "stdout",
       "text": [
        "! "
       ]
      },
      {
       "output_type": "stream",
       "stream": "stdout",
       "text": [
        "! "
       ]
      },
      {
       "output_type": "stream",
       "stream": "stdout",
       "text": [
        "! "
       ]
      },
      {
       "output_type": "stream",
       "stream": "stdout",
       "text": [
        "! "
       ]
      },
      {
       "output_type": "stream",
       "stream": "stdout",
       "text": [
        "! "
       ]
      },
      {
       "output_type": "stream",
       "stream": "stdout",
       "text": [
        "82300 "
       ]
      },
      {
       "output_type": "stream",
       "stream": "stdout",
       "text": [
        "! "
       ]
      },
      {
       "output_type": "stream",
       "stream": "stdout",
       "text": [
        "! "
       ]
      },
      {
       "output_type": "stream",
       "stream": "stdout",
       "text": [
        "! "
       ]
      },
      {
       "output_type": "stream",
       "stream": "stdout",
       "text": [
        "! ! "
       ]
      },
      {
       "output_type": "stream",
       "stream": "stdout",
       "text": [
        "! "
       ]
      },
      {
       "output_type": "stream",
       "stream": "stdout",
       "text": [
        "82400 "
       ]
      },
      {
       "output_type": "stream",
       "stream": "stdout",
       "text": [
        "! "
       ]
      },
      {
       "output_type": "stream",
       "stream": "stdout",
       "text": [
        "! "
       ]
      },
      {
       "output_type": "stream",
       "stream": "stdout",
       "text": [
        "! ! "
       ]
      },
      {
       "output_type": "stream",
       "stream": "stdout",
       "text": [
        "82500 "
       ]
      },
      {
       "output_type": "stream",
       "stream": "stdout",
       "text": [
        "! "
       ]
      },
      {
       "output_type": "stream",
       "stream": "stdout",
       "text": [
        "! "
       ]
      },
      {
       "output_type": "stream",
       "stream": "stdout",
       "text": [
        "! "
       ]
      },
      {
       "output_type": "stream",
       "stream": "stdout",
       "text": [
        "! ! "
       ]
      },
      {
       "output_type": "stream",
       "stream": "stdout",
       "text": [
        "82600 "
       ]
      },
      {
       "output_type": "stream",
       "stream": "stdout",
       "text": [
        "! "
       ]
      },
      {
       "output_type": "stream",
       "stream": "stdout",
       "text": [
        "! "
       ]
      },
      {
       "output_type": "stream",
       "stream": "stdout",
       "text": [
        "! "
       ]
      },
      {
       "output_type": "stream",
       "stream": "stdout",
       "text": [
        "82700 "
       ]
      },
      {
       "output_type": "stream",
       "stream": "stdout",
       "text": [
        "! "
       ]
      },
      {
       "output_type": "stream",
       "stream": "stdout",
       "text": [
        "! ! "
       ]
      },
      {
       "output_type": "stream",
       "stream": "stdout",
       "text": [
        "! "
       ]
      },
      {
       "output_type": "stream",
       "stream": "stdout",
       "text": [
        "! "
       ]
      },
      {
       "output_type": "stream",
       "stream": "stdout",
       "text": [
        "! "
       ]
      },
      {
       "output_type": "stream",
       "stream": "stdout",
       "text": [
        "! 82800 "
       ]
      },
      {
       "output_type": "stream",
       "stream": "stdout",
       "text": [
        "! "
       ]
      },
      {
       "output_type": "stream",
       "stream": "stdout",
       "text": [
        "! "
       ]
      },
      {
       "output_type": "stream",
       "stream": "stdout",
       "text": [
        "82900 "
       ]
      },
      {
       "output_type": "stream",
       "stream": "stdout",
       "text": [
        "! "
       ]
      },
      {
       "output_type": "stream",
       "stream": "stdout",
       "text": [
        "! "
       ]
      },
      {
       "output_type": "stream",
       "stream": "stdout",
       "text": [
        "! "
       ]
      },
      {
       "output_type": "stream",
       "stream": "stdout",
       "text": [
        "! "
       ]
      },
      {
       "output_type": "stream",
       "stream": "stdout",
       "text": [
        "! "
       ]
      },
      {
       "output_type": "stream",
       "stream": "stdout",
       "text": [
        "! "
       ]
      },
      {
       "output_type": "stream",
       "stream": "stdout",
       "text": [
        "83000 "
       ]
      },
      {
       "output_type": "stream",
       "stream": "stdout",
       "text": [
        "! "
       ]
      },
      {
       "output_type": "stream",
       "stream": "stdout",
       "text": [
        "! "
       ]
      },
      {
       "output_type": "stream",
       "stream": "stdout",
       "text": [
        "! "
       ]
      },
      {
       "output_type": "stream",
       "stream": "stdout",
       "text": [
        "83100 "
       ]
      },
      {
       "output_type": "stream",
       "stream": "stdout",
       "text": [
        "! "
       ]
      },
      {
       "output_type": "stream",
       "stream": "stdout",
       "text": [
        "! "
       ]
      },
      {
       "output_type": "stream",
       "stream": "stdout",
       "text": [
        "! "
       ]
      },
      {
       "output_type": "stream",
       "stream": "stdout",
       "text": [
        "83200 "
       ]
      },
      {
       "output_type": "stream",
       "stream": "stdout",
       "text": [
        "! "
       ]
      },
      {
       "output_type": "stream",
       "stream": "stdout",
       "text": [
        "! "
       ]
      },
      {
       "output_type": "stream",
       "stream": "stdout",
       "text": [
        "! "
       ]
      },
      {
       "output_type": "stream",
       "stream": "stdout",
       "text": [
        "83300 "
       ]
      },
      {
       "output_type": "stream",
       "stream": "stdout",
       "text": [
        "! "
       ]
      },
      {
       "output_type": "stream",
       "stream": "stdout",
       "text": [
        "! "
       ]
      },
      {
       "output_type": "stream",
       "stream": "stdout",
       "text": [
        "83400 "
       ]
      },
      {
       "output_type": "stream",
       "stream": "stdout",
       "text": [
        "! "
       ]
      },
      {
       "output_type": "stream",
       "stream": "stdout",
       "text": [
        "83500 "
       ]
      },
      {
       "output_type": "stream",
       "stream": "stdout",
       "text": [
        "! "
       ]
      },
      {
       "output_type": "stream",
       "stream": "stdout",
       "text": [
        "! "
       ]
      },
      {
       "output_type": "stream",
       "stream": "stdout",
       "text": [
        "83600 "
       ]
      },
      {
       "output_type": "stream",
       "stream": "stdout",
       "text": [
        "! "
       ]
      },
      {
       "output_type": "stream",
       "stream": "stdout",
       "text": [
        "! "
       ]
      },
      {
       "output_type": "stream",
       "stream": "stdout",
       "text": [
        "83700 "
       ]
      },
      {
       "output_type": "stream",
       "stream": "stdout",
       "text": [
        "! "
       ]
      },
      {
       "output_type": "stream",
       "stream": "stdout",
       "text": [
        "! "
       ]
      },
      {
       "output_type": "stream",
       "stream": "stdout",
       "text": [
        "! ! "
       ]
      },
      {
       "output_type": "stream",
       "stream": "stdout",
       "text": [
        "! ! "
       ]
      },
      {
       "output_type": "stream",
       "stream": "stdout",
       "text": [
        "! 83800 "
       ]
      },
      {
       "output_type": "stream",
       "stream": "stdout",
       "text": [
        "! "
       ]
      },
      {
       "output_type": "stream",
       "stream": "stdout",
       "text": [
        "! "
       ]
      },
      {
       "output_type": "stream",
       "stream": "stdout",
       "text": [
        "! "
       ]
      },
      {
       "output_type": "stream",
       "stream": "stdout",
       "text": [
        "! "
       ]
      },
      {
       "output_type": "stream",
       "stream": "stdout",
       "text": [
        "83900 ! "
       ]
      },
      {
       "output_type": "stream",
       "stream": "stdout",
       "text": [
        "! "
       ]
      },
      {
       "output_type": "stream",
       "stream": "stdout",
       "text": [
        "! "
       ]
      },
      {
       "output_type": "stream",
       "stream": "stdout",
       "text": [
        "! "
       ]
      },
      {
       "output_type": "stream",
       "stream": "stdout",
       "text": [
        "! "
       ]
      },
      {
       "output_type": "stream",
       "stream": "stdout",
       "text": [
        "! "
       ]
      },
      {
       "output_type": "stream",
       "stream": "stdout",
       "text": [
        "! "
       ]
      },
      {
       "output_type": "stream",
       "stream": "stdout",
       "text": [
        "! ! "
       ]
      },
      {
       "output_type": "stream",
       "stream": "stdout",
       "text": [
        "84000 ! "
       ]
      },
      {
       "output_type": "stream",
       "stream": "stdout",
       "text": [
        "84100 "
       ]
      },
      {
       "output_type": "stream",
       "stream": "stdout",
       "text": [
        "! ! "
       ]
      },
      {
       "output_type": "stream",
       "stream": "stdout",
       "text": [
        "! "
       ]
      },
      {
       "output_type": "stream",
       "stream": "stdout",
       "text": [
        "! "
       ]
      },
      {
       "output_type": "stream",
       "stream": "stdout",
       "text": [
        "! "
       ]
      },
      {
       "output_type": "stream",
       "stream": "stdout",
       "text": [
        "! "
       ]
      },
      {
       "output_type": "stream",
       "stream": "stdout",
       "text": [
        "84200 ! "
       ]
      },
      {
       "output_type": "stream",
       "stream": "stdout",
       "text": [
        "! "
       ]
      },
      {
       "output_type": "stream",
       "stream": "stdout",
       "text": [
        "! "
       ]
      },
      {
       "output_type": "stream",
       "stream": "stdout",
       "text": [
        "! "
       ]
      },
      {
       "output_type": "stream",
       "stream": "stdout",
       "text": [
        "! "
       ]
      },
      {
       "output_type": "stream",
       "stream": "stdout",
       "text": [
        "84300 "
       ]
      },
      {
       "output_type": "stream",
       "stream": "stdout",
       "text": [
        "! "
       ]
      },
      {
       "output_type": "stream",
       "stream": "stdout",
       "text": [
        "84400 "
       ]
      },
      {
       "output_type": "stream",
       "stream": "stdout",
       "text": [
        "! "
       ]
      },
      {
       "output_type": "stream",
       "stream": "stdout",
       "text": [
        "! "
       ]
      },
      {
       "output_type": "stream",
       "stream": "stdout",
       "text": [
        "84500 "
       ]
      },
      {
       "output_type": "stream",
       "stream": "stdout",
       "text": [
        "! "
       ]
      },
      {
       "output_type": "stream",
       "stream": "stdout",
       "text": [
        "! "
       ]
      },
      {
       "output_type": "stream",
       "stream": "stdout",
       "text": [
        "! "
       ]
      },
      {
       "output_type": "stream",
       "stream": "stdout",
       "text": [
        "84600 "
       ]
      },
      {
       "output_type": "stream",
       "stream": "stdout",
       "text": [
        "! "
       ]
      },
      {
       "output_type": "stream",
       "stream": "stdout",
       "text": [
        "! "
       ]
      },
      {
       "output_type": "stream",
       "stream": "stdout",
       "text": [
        "! "
       ]
      },
      {
       "output_type": "stream",
       "stream": "stdout",
       "text": [
        "! "
       ]
      },
      {
       "output_type": "stream",
       "stream": "stdout",
       "text": [
        "! "
       ]
      },
      {
       "output_type": "stream",
       "stream": "stdout",
       "text": [
        "! "
       ]
      },
      {
       "output_type": "stream",
       "stream": "stdout",
       "text": [
        "84700 "
       ]
      },
      {
       "output_type": "stream",
       "stream": "stdout",
       "text": [
        "! "
       ]
      },
      {
       "output_type": "stream",
       "stream": "stdout",
       "text": [
        "! "
       ]
      },
      {
       "output_type": "stream",
       "stream": "stdout",
       "text": [
        "! "
       ]
      },
      {
       "output_type": "stream",
       "stream": "stdout",
       "text": [
        "! "
       ]
      },
      {
       "output_type": "stream",
       "stream": "stdout",
       "text": [
        "84800 "
       ]
      },
      {
       "output_type": "stream",
       "stream": "stdout",
       "text": [
        "! "
       ]
      },
      {
       "output_type": "stream",
       "stream": "stdout",
       "text": [
        "! "
       ]
      },
      {
       "output_type": "stream",
       "stream": "stdout",
       "text": [
        "! "
       ]
      },
      {
       "output_type": "stream",
       "stream": "stdout",
       "text": [
        "! "
       ]
      },
      {
       "output_type": "stream",
       "stream": "stdout",
       "text": [
        "! "
       ]
      },
      {
       "output_type": "stream",
       "stream": "stdout",
       "text": [
        "84900 "
       ]
      },
      {
       "output_type": "stream",
       "stream": "stdout",
       "text": [
        "! "
       ]
      },
      {
       "output_type": "stream",
       "stream": "stdout",
       "text": [
        "! "
       ]
      },
      {
       "output_type": "stream",
       "stream": "stdout",
       "text": [
        "! ! "
       ]
      },
      {
       "output_type": "stream",
       "stream": "stdout",
       "text": [
        "85000 "
       ]
      },
      {
       "output_type": "stream",
       "stream": "stdout",
       "text": [
        "! "
       ]
      },
      {
       "output_type": "stream",
       "stream": "stdout",
       "text": [
        "! ! "
       ]
      },
      {
       "output_type": "stream",
       "stream": "stdout",
       "text": [
        "! "
       ]
      },
      {
       "output_type": "stream",
       "stream": "stdout",
       "text": [
        "85100 "
       ]
      },
      {
       "output_type": "stream",
       "stream": "stdout",
       "text": [
        "! "
       ]
      },
      {
       "output_type": "stream",
       "stream": "stdout",
       "text": [
        "! "
       ]
      },
      {
       "output_type": "stream",
       "stream": "stdout",
       "text": [
        "85200 "
       ]
      },
      {
       "output_type": "stream",
       "stream": "stdout",
       "text": [
        "! "
       ]
      },
      {
       "output_type": "stream",
       "stream": "stdout",
       "text": [
        "! "
       ]
      },
      {
       "output_type": "stream",
       "stream": "stdout",
       "text": [
        "! "
       ]
      },
      {
       "output_type": "stream",
       "stream": "stdout",
       "text": [
        "! ! "
       ]
      },
      {
       "output_type": "stream",
       "stream": "stdout",
       "text": [
        "! "
       ]
      },
      {
       "output_type": "stream",
       "stream": "stdout",
       "text": [
        "85300 "
       ]
      },
      {
       "output_type": "stream",
       "stream": "stdout",
       "text": [
        "! "
       ]
      },
      {
       "output_type": "stream",
       "stream": "stdout",
       "text": [
        "! "
       ]
      },
      {
       "output_type": "stream",
       "stream": "stdout",
       "text": [
        "! "
       ]
      },
      {
       "output_type": "stream",
       "stream": "stdout",
       "text": [
        "! ! "
       ]
      },
      {
       "output_type": "stream",
       "stream": "stdout",
       "text": [
        "85400 "
       ]
      },
      {
       "output_type": "stream",
       "stream": "stdout",
       "text": [
        "! "
       ]
      },
      {
       "output_type": "stream",
       "stream": "stdout",
       "text": [
        "! "
       ]
      },
      {
       "output_type": "stream",
       "stream": "stdout",
       "text": [
        "! "
       ]
      },
      {
       "output_type": "stream",
       "stream": "stdout",
       "text": [
        "85500 "
       ]
      },
      {
       "output_type": "stream",
       "stream": "stdout",
       "text": [
        "! "
       ]
      },
      {
       "output_type": "stream",
       "stream": "stdout",
       "text": [
        "! "
       ]
      },
      {
       "output_type": "stream",
       "stream": "stdout",
       "text": [
        "! "
       ]
      },
      {
       "output_type": "stream",
       "stream": "stdout",
       "text": [
        "! "
       ]
      },
      {
       "output_type": "stream",
       "stream": "stdout",
       "text": [
        "85600 "
       ]
      },
      {
       "output_type": "stream",
       "stream": "stdout",
       "text": [
        "! "
       ]
      },
      {
       "output_type": "stream",
       "stream": "stdout",
       "text": [
        "! "
       ]
      },
      {
       "output_type": "stream",
       "stream": "stdout",
       "text": [
        "! "
       ]
      },
      {
       "output_type": "stream",
       "stream": "stdout",
       "text": [
        "! "
       ]
      },
      {
       "output_type": "stream",
       "stream": "stdout",
       "text": [
        "! "
       ]
      },
      {
       "output_type": "stream",
       "stream": "stdout",
       "text": [
        "85700 "
       ]
      },
      {
       "output_type": "stream",
       "stream": "stdout",
       "text": [
        "! "
       ]
      },
      {
       "output_type": "stream",
       "stream": "stdout",
       "text": [
        "! "
       ]
      },
      {
       "output_type": "stream",
       "stream": "stdout",
       "text": [
        "! "
       ]
      },
      {
       "output_type": "stream",
       "stream": "stdout",
       "text": [
        "! "
       ]
      },
      {
       "output_type": "stream",
       "stream": "stdout",
       "text": [
        "! "
       ]
      },
      {
       "output_type": "stream",
       "stream": "stdout",
       "text": [
        "! ! "
       ]
      },
      {
       "output_type": "stream",
       "stream": "stdout",
       "text": [
        "85800 "
       ]
      },
      {
       "output_type": "stream",
       "stream": "stdout",
       "text": [
        "! "
       ]
      },
      {
       "output_type": "stream",
       "stream": "stdout",
       "text": [
        "! "
       ]
      },
      {
       "output_type": "stream",
       "stream": "stdout",
       "text": [
        "! "
       ]
      },
      {
       "output_type": "stream",
       "stream": "stdout",
       "text": [
        "85900 ! "
       ]
      },
      {
       "output_type": "stream",
       "stream": "stdout",
       "text": [
        "! "
       ]
      },
      {
       "output_type": "stream",
       "stream": "stdout",
       "text": [
        "! "
       ]
      },
      {
       "output_type": "stream",
       "stream": "stdout",
       "text": [
        "! "
       ]
      },
      {
       "output_type": "stream",
       "stream": "stdout",
       "text": [
        "86000 "
       ]
      },
      {
       "output_type": "stream",
       "stream": "stdout",
       "text": [
        "! "
       ]
      },
      {
       "output_type": "stream",
       "stream": "stdout",
       "text": [
        "! "
       ]
      },
      {
       "output_type": "stream",
       "stream": "stdout",
       "text": [
        "! "
       ]
      },
      {
       "output_type": "stream",
       "stream": "stdout",
       "text": [
        "! 86100 "
       ]
      },
      {
       "output_type": "stream",
       "stream": "stdout",
       "text": [
        "! "
       ]
      },
      {
       "output_type": "stream",
       "stream": "stdout",
       "text": [
        "! "
       ]
      },
      {
       "output_type": "stream",
       "stream": "stdout",
       "text": [
        "86200 "
       ]
      },
      {
       "output_type": "stream",
       "stream": "stdout",
       "text": [
        "! "
       ]
      },
      {
       "output_type": "stream",
       "stream": "stdout",
       "text": [
        "! "
       ]
      },
      {
       "output_type": "stream",
       "stream": "stdout",
       "text": [
        "! ! "
       ]
      },
      {
       "output_type": "stream",
       "stream": "stdout",
       "text": [
        "! "
       ]
      },
      {
       "output_type": "stream",
       "stream": "stdout",
       "text": [
        "! "
       ]
      },
      {
       "output_type": "stream",
       "stream": "stdout",
       "text": [
        "! "
       ]
      },
      {
       "output_type": "stream",
       "stream": "stdout",
       "text": [
        "86300 "
       ]
      },
      {
       "output_type": "stream",
       "stream": "stdout",
       "text": [
        "! "
       ]
      },
      {
       "output_type": "stream",
       "stream": "stdout",
       "text": [
        "! "
       ]
      },
      {
       "output_type": "stream",
       "stream": "stdout",
       "text": [
        "! "
       ]
      },
      {
       "output_type": "stream",
       "stream": "stdout",
       "text": [
        "! "
       ]
      },
      {
       "output_type": "stream",
       "stream": "stdout",
       "text": [
        "86400 "
       ]
      },
      {
       "output_type": "stream",
       "stream": "stdout",
       "text": [
        "! "
       ]
      },
      {
       "output_type": "stream",
       "stream": "stdout",
       "text": [
        "86500 "
       ]
      },
      {
       "output_type": "stream",
       "stream": "stdout",
       "text": [
        "! "
       ]
      },
      {
       "output_type": "stream",
       "stream": "stdout",
       "text": [
        "! "
       ]
      },
      {
       "output_type": "stream",
       "stream": "stdout",
       "text": [
        "! "
       ]
      },
      {
       "output_type": "stream",
       "stream": "stdout",
       "text": [
        "! "
       ]
      },
      {
       "output_type": "stream",
       "stream": "stdout",
       "text": [
        "! "
       ]
      },
      {
       "output_type": "stream",
       "stream": "stdout",
       "text": [
        "! "
       ]
      },
      {
       "output_type": "stream",
       "stream": "stdout",
       "text": [
        "! "
       ]
      },
      {
       "output_type": "stream",
       "stream": "stdout",
       "text": [
        "! "
       ]
      },
      {
       "output_type": "stream",
       "stream": "stdout",
       "text": [
        "86600 "
       ]
      },
      {
       "output_type": "stream",
       "stream": "stdout",
       "text": [
        "! "
       ]
      },
      {
       "output_type": "stream",
       "stream": "stdout",
       "text": [
        "! "
       ]
      },
      {
       "output_type": "stream",
       "stream": "stdout",
       "text": [
        "! "
       ]
      },
      {
       "output_type": "stream",
       "stream": "stdout",
       "text": [
        "! 86700 "
       ]
      },
      {
       "output_type": "stream",
       "stream": "stdout",
       "text": [
        "! "
       ]
      },
      {
       "output_type": "stream",
       "stream": "stdout",
       "text": [
        "! "
       ]
      },
      {
       "output_type": "stream",
       "stream": "stdout",
       "text": [
        "! "
       ]
      },
      {
       "output_type": "stream",
       "stream": "stdout",
       "text": [
        "! "
       ]
      },
      {
       "output_type": "stream",
       "stream": "stdout",
       "text": [
        "! "
       ]
      },
      {
       "output_type": "stream",
       "stream": "stdout",
       "text": [
        "! "
       ]
      },
      {
       "output_type": "stream",
       "stream": "stdout",
       "text": [
        "! "
       ]
      },
      {
       "output_type": "stream",
       "stream": "stdout",
       "text": [
        "86800 "
       ]
      },
      {
       "output_type": "stream",
       "stream": "stdout",
       "text": [
        "! "
       ]
      },
      {
       "output_type": "stream",
       "stream": "stdout",
       "text": [
        "! "
       ]
      },
      {
       "output_type": "stream",
       "stream": "stdout",
       "text": [
        "! "
       ]
      },
      {
       "output_type": "stream",
       "stream": "stdout",
       "text": [
        "! "
       ]
      },
      {
       "output_type": "stream",
       "stream": "stdout",
       "text": [
        "! "
       ]
      },
      {
       "output_type": "stream",
       "stream": "stdout",
       "text": [
        "86900 "
       ]
      },
      {
       "output_type": "stream",
       "stream": "stdout",
       "text": [
        "! "
       ]
      },
      {
       "output_type": "stream",
       "stream": "stdout",
       "text": [
        "! "
       ]
      },
      {
       "output_type": "stream",
       "stream": "stdout",
       "text": [
        "! "
       ]
      },
      {
       "output_type": "stream",
       "stream": "stdout",
       "text": [
        "87000 "
       ]
      },
      {
       "output_type": "stream",
       "stream": "stdout",
       "text": [
        "! "
       ]
      },
      {
       "output_type": "stream",
       "stream": "stdout",
       "text": [
        "! "
       ]
      },
      {
       "output_type": "stream",
       "stream": "stdout",
       "text": [
        "! "
       ]
      },
      {
       "output_type": "stream",
       "stream": "stdout",
       "text": [
        "! "
       ]
      },
      {
       "output_type": "stream",
       "stream": "stdout",
       "text": [
        "! "
       ]
      },
      {
       "output_type": "stream",
       "stream": "stdout",
       "text": [
        "! "
       ]
      },
      {
       "output_type": "stream",
       "stream": "stdout",
       "text": [
        "! ! "
       ]
      },
      {
       "output_type": "stream",
       "stream": "stdout",
       "text": [
        "87100 "
       ]
      },
      {
       "output_type": "stream",
       "stream": "stdout",
       "text": [
        "! "
       ]
      },
      {
       "output_type": "stream",
       "stream": "stdout",
       "text": [
        "! "
       ]
      },
      {
       "output_type": "stream",
       "stream": "stdout",
       "text": [
        "87200 "
       ]
      },
      {
       "output_type": "stream",
       "stream": "stdout",
       "text": [
        "! ! "
       ]
      },
      {
       "output_type": "stream",
       "stream": "stdout",
       "text": [
        "! "
       ]
      },
      {
       "output_type": "stream",
       "stream": "stdout",
       "text": [
        "! "
       ]
      },
      {
       "output_type": "stream",
       "stream": "stdout",
       "text": [
        "! "
       ]
      },
      {
       "output_type": "stream",
       "stream": "stdout",
       "text": [
        "87300 "
       ]
      },
      {
       "output_type": "stream",
       "stream": "stdout",
       "text": [
        "! ! "
       ]
      },
      {
       "output_type": "stream",
       "stream": "stdout",
       "text": [
        "! "
       ]
      },
      {
       "output_type": "stream",
       "stream": "stdout",
       "text": [
        "! "
       ]
      },
      {
       "output_type": "stream",
       "stream": "stdout",
       "text": [
        "! "
       ]
      },
      {
       "output_type": "stream",
       "stream": "stdout",
       "text": [
        "! "
       ]
      },
      {
       "output_type": "stream",
       "stream": "stdout",
       "text": [
        "! ! "
       ]
      },
      {
       "output_type": "stream",
       "stream": "stdout",
       "text": [
        "! "
       ]
      },
      {
       "output_type": "stream",
       "stream": "stdout",
       "text": [
        "! "
       ]
      },
      {
       "output_type": "stream",
       "stream": "stdout",
       "text": [
        "! "
       ]
      },
      {
       "output_type": "stream",
       "stream": "stdout",
       "text": [
        "! "
       ]
      },
      {
       "output_type": "stream",
       "stream": "stdout",
       "text": [
        "87400 "
       ]
      },
      {
       "output_type": "stream",
       "stream": "stdout",
       "text": [
        "! "
       ]
      },
      {
       "output_type": "stream",
       "stream": "stdout",
       "text": [
        "! "
       ]
      },
      {
       "output_type": "stream",
       "stream": "stdout",
       "text": [
        "! "
       ]
      },
      {
       "output_type": "stream",
       "stream": "stdout",
       "text": [
        "87500 ! "
       ]
      },
      {
       "output_type": "stream",
       "stream": "stdout",
       "text": [
        "! "
       ]
      },
      {
       "output_type": "stream",
       "stream": "stdout",
       "text": [
        "! "
       ]
      },
      {
       "output_type": "stream",
       "stream": "stdout",
       "text": [
        "! "
       ]
      },
      {
       "output_type": "stream",
       "stream": "stdout",
       "text": [
        "! "
       ]
      },
      {
       "output_type": "stream",
       "stream": "stdout",
       "text": [
        "! "
       ]
      },
      {
       "output_type": "stream",
       "stream": "stdout",
       "text": [
        "! "
       ]
      },
      {
       "output_type": "stream",
       "stream": "stdout",
       "text": [
        "! "
       ]
      },
      {
       "output_type": "stream",
       "stream": "stdout",
       "text": [
        "! "
       ]
      },
      {
       "output_type": "stream",
       "stream": "stdout",
       "text": [
        "87600 "
       ]
      },
      {
       "output_type": "stream",
       "stream": "stdout",
       "text": [
        "! ! ! "
       ]
      },
      {
       "output_type": "stream",
       "stream": "stdout",
       "text": [
        "! "
       ]
      },
      {
       "output_type": "stream",
       "stream": "stdout",
       "text": [
        "! "
       ]
      },
      {
       "output_type": "stream",
       "stream": "stdout",
       "text": [
        "87700 "
       ]
      },
      {
       "output_type": "stream",
       "stream": "stdout",
       "text": [
        "! "
       ]
      },
      {
       "output_type": "stream",
       "stream": "stdout",
       "text": [
        "87800 "
       ]
      },
      {
       "output_type": "stream",
       "stream": "stdout",
       "text": [
        "87900 "
       ]
      },
      {
       "output_type": "stream",
       "stream": "stdout",
       "text": [
        "! "
       ]
      },
      {
       "output_type": "stream",
       "stream": "stdout",
       "text": [
        "88000 "
       ]
      },
      {
       "output_type": "stream",
       "stream": "stdout",
       "text": [
        "! "
       ]
      },
      {
       "output_type": "stream",
       "stream": "stdout",
       "text": [
        "! "
       ]
      },
      {
       "output_type": "stream",
       "stream": "stdout",
       "text": [
        "! "
       ]
      },
      {
       "output_type": "stream",
       "stream": "stdout",
       "text": [
        "! "
       ]
      },
      {
       "output_type": "stream",
       "stream": "stdout",
       "text": [
        "88100 "
       ]
      },
      {
       "output_type": "stream",
       "stream": "stdout",
       "text": [
        "! "
       ]
      },
      {
       "output_type": "stream",
       "stream": "stdout",
       "text": [
        "! "
       ]
      },
      {
       "output_type": "stream",
       "stream": "stdout",
       "text": [
        "! "
       ]
      },
      {
       "output_type": "stream",
       "stream": "stdout",
       "text": [
        "! "
       ]
      },
      {
       "output_type": "stream",
       "stream": "stdout",
       "text": [
        "88200 "
       ]
      },
      {
       "output_type": "stream",
       "stream": "stdout",
       "text": [
        "! "
       ]
      },
      {
       "output_type": "stream",
       "stream": "stdout",
       "text": [
        "! "
       ]
      },
      {
       "output_type": "stream",
       "stream": "stdout",
       "text": [
        "! "
       ]
      },
      {
       "output_type": "stream",
       "stream": "stdout",
       "text": [
        "! "
       ]
      },
      {
       "output_type": "stream",
       "stream": "stdout",
       "text": [
        "! "
       ]
      },
      {
       "output_type": "stream",
       "stream": "stdout",
       "text": [
        "88300 "
       ]
      },
      {
       "output_type": "stream",
       "stream": "stdout",
       "text": [
        "! "
       ]
      },
      {
       "output_type": "stream",
       "stream": "stdout",
       "text": [
        "! "
       ]
      },
      {
       "output_type": "stream",
       "stream": "stdout",
       "text": [
        "! "
       ]
      },
      {
       "output_type": "stream",
       "stream": "stdout",
       "text": [
        "! "
       ]
      },
      {
       "output_type": "stream",
       "stream": "stdout",
       "text": [
        "88400 "
       ]
      },
      {
       "output_type": "stream",
       "stream": "stdout",
       "text": [
        "! "
       ]
      },
      {
       "output_type": "stream",
       "stream": "stdout",
       "text": [
        "88500 "
       ]
      },
      {
       "output_type": "stream",
       "stream": "stdout",
       "text": [
        "! "
       ]
      },
      {
       "output_type": "stream",
       "stream": "stdout",
       "text": [
        "! "
       ]
      },
      {
       "output_type": "stream",
       "stream": "stdout",
       "text": [
        "! "
       ]
      },
      {
       "output_type": "stream",
       "stream": "stdout",
       "text": [
        "! "
       ]
      },
      {
       "output_type": "stream",
       "stream": "stdout",
       "text": [
        "88600 "
       ]
      },
      {
       "output_type": "stream",
       "stream": "stdout",
       "text": [
        "! "
       ]
      },
      {
       "output_type": "stream",
       "stream": "stdout",
       "text": [
        "! "
       ]
      },
      {
       "output_type": "stream",
       "stream": "stdout",
       "text": [
        "! "
       ]
      },
      {
       "output_type": "stream",
       "stream": "stdout",
       "text": [
        "88700 "
       ]
      },
      {
       "output_type": "stream",
       "stream": "stdout",
       "text": [
        "! "
       ]
      },
      {
       "output_type": "stream",
       "stream": "stdout",
       "text": [
        "! "
       ]
      },
      {
       "output_type": "stream",
       "stream": "stdout",
       "text": [
        "! "
       ]
      },
      {
       "output_type": "stream",
       "stream": "stdout",
       "text": [
        "! "
       ]
      },
      {
       "output_type": "stream",
       "stream": "stdout",
       "text": [
        "! "
       ]
      },
      {
       "output_type": "stream",
       "stream": "stdout",
       "text": [
        "! "
       ]
      },
      {
       "output_type": "stream",
       "stream": "stdout",
       "text": [
        "88800 ! "
       ]
      },
      {
       "output_type": "stream",
       "stream": "stdout",
       "text": [
        "! ! "
       ]
      },
      {
       "output_type": "stream",
       "stream": "stdout",
       "text": [
        "88900 "
       ]
      },
      {
       "output_type": "stream",
       "stream": "stdout",
       "text": [
        "! "
       ]
      },
      {
       "output_type": "stream",
       "stream": "stdout",
       "text": [
        "! "
       ]
      },
      {
       "output_type": "stream",
       "stream": "stdout",
       "text": [
        "! "
       ]
      },
      {
       "output_type": "stream",
       "stream": "stdout",
       "text": [
        "89000 "
       ]
      },
      {
       "output_type": "stream",
       "stream": "stdout",
       "text": [
        "! "
       ]
      },
      {
       "output_type": "stream",
       "stream": "stdout",
       "text": [
        "! "
       ]
      },
      {
       "output_type": "stream",
       "stream": "stdout",
       "text": [
        "! "
       ]
      },
      {
       "output_type": "stream",
       "stream": "stdout",
       "text": [
        "! "
       ]
      },
      {
       "output_type": "stream",
       "stream": "stdout",
       "text": [
        "89100 "
       ]
      },
      {
       "output_type": "stream",
       "stream": "stdout",
       "text": [
        "! "
       ]
      },
      {
       "output_type": "stream",
       "stream": "stdout",
       "text": [
        "! ! "
       ]
      },
      {
       "output_type": "stream",
       "stream": "stdout",
       "text": [
        "! "
       ]
      },
      {
       "output_type": "stream",
       "stream": "stdout",
       "text": [
        "! "
       ]
      },
      {
       "output_type": "stream",
       "stream": "stdout",
       "text": [
        "89200 "
       ]
      },
      {
       "output_type": "stream",
       "stream": "stdout",
       "text": [
        "! "
       ]
      },
      {
       "output_type": "stream",
       "stream": "stdout",
       "text": [
        "! "
       ]
      },
      {
       "output_type": "stream",
       "stream": "stdout",
       "text": [
        "! "
       ]
      },
      {
       "output_type": "stream",
       "stream": "stdout",
       "text": [
        "! "
       ]
      },
      {
       "output_type": "stream",
       "stream": "stdout",
       "text": [
        "! "
       ]
      },
      {
       "output_type": "stream",
       "stream": "stdout",
       "text": [
        "89300 "
       ]
      },
      {
       "output_type": "stream",
       "stream": "stdout",
       "text": [
        "! "
       ]
      },
      {
       "output_type": "stream",
       "stream": "stdout",
       "text": [
        "! "
       ]
      },
      {
       "output_type": "stream",
       "stream": "stdout",
       "text": [
        "! "
       ]
      },
      {
       "output_type": "stream",
       "stream": "stdout",
       "text": [
        "89400 "
       ]
      },
      {
       "output_type": "stream",
       "stream": "stdout",
       "text": [
        "! "
       ]
      },
      {
       "output_type": "stream",
       "stream": "stdout",
       "text": [
        "! 89500 "
       ]
      },
      {
       "output_type": "stream",
       "stream": "stdout",
       "text": [
        "! "
       ]
      },
      {
       "output_type": "stream",
       "stream": "stdout",
       "text": [
        "! "
       ]
      },
      {
       "output_type": "stream",
       "stream": "stdout",
       "text": [
        "! "
       ]
      },
      {
       "output_type": "stream",
       "stream": "stdout",
       "text": [
        "89600 "
       ]
      },
      {
       "output_type": "stream",
       "stream": "stdout",
       "text": [
        "! "
       ]
      },
      {
       "output_type": "stream",
       "stream": "stdout",
       "text": [
        "! "
       ]
      },
      {
       "output_type": "stream",
       "stream": "stdout",
       "text": [
        "! "
       ]
      },
      {
       "output_type": "stream",
       "stream": "stdout",
       "text": [
        "89700 "
       ]
      },
      {
       "output_type": "stream",
       "stream": "stdout",
       "text": [
        "! "
       ]
      },
      {
       "output_type": "stream",
       "stream": "stdout",
       "text": [
        "! "
       ]
      },
      {
       "output_type": "stream",
       "stream": "stdout",
       "text": [
        "! ! "
       ]
      },
      {
       "output_type": "stream",
       "stream": "stdout",
       "text": [
        "89800 "
       ]
      },
      {
       "output_type": "stream",
       "stream": "stdout",
       "text": [
        "! "
       ]
      },
      {
       "output_type": "stream",
       "stream": "stdout",
       "text": [
        "! "
       ]
      },
      {
       "output_type": "stream",
       "stream": "stdout",
       "text": [
        "! ! "
       ]
      },
      {
       "output_type": "stream",
       "stream": "stdout",
       "text": [
        "! "
       ]
      },
      {
       "output_type": "stream",
       "stream": "stdout",
       "text": [
        "! "
       ]
      },
      {
       "output_type": "stream",
       "stream": "stdout",
       "text": [
        "! 89900 "
       ]
      },
      {
       "output_type": "stream",
       "stream": "stdout",
       "text": [
        "! "
       ]
      },
      {
       "output_type": "stream",
       "stream": "stdout",
       "text": [
        "! "
       ]
      },
      {
       "output_type": "stream",
       "stream": "stdout",
       "text": [
        "! "
       ]
      },
      {
       "output_type": "stream",
       "stream": "stdout",
       "text": [
        "90000 "
       ]
      },
      {
       "output_type": "stream",
       "stream": "stdout",
       "text": [
        "! "
       ]
      },
      {
       "output_type": "stream",
       "stream": "stdout",
       "text": [
        "! "
       ]
      },
      {
       "output_type": "stream",
       "stream": "stdout",
       "text": [
        "! "
       ]
      },
      {
       "output_type": "stream",
       "stream": "stdout",
       "text": [
        "! "
       ]
      },
      {
       "output_type": "stream",
       "stream": "stdout",
       "text": [
        "! "
       ]
      },
      {
       "output_type": "stream",
       "stream": "stdout",
       "text": [
        "! "
       ]
      },
      {
       "output_type": "stream",
       "stream": "stdout",
       "text": [
        "90100 "
       ]
      },
      {
       "output_type": "stream",
       "stream": "stdout",
       "text": [
        "! "
       ]
      },
      {
       "output_type": "stream",
       "stream": "stdout",
       "text": [
        "! ! "
       ]
      },
      {
       "output_type": "stream",
       "stream": "stdout",
       "text": [
        "! "
       ]
      },
      {
       "output_type": "stream",
       "stream": "stdout",
       "text": [
        "90200 "
       ]
      },
      {
       "output_type": "stream",
       "stream": "stdout",
       "text": [
        "! "
       ]
      },
      {
       "output_type": "stream",
       "stream": "stdout",
       "text": [
        "! ! "
       ]
      },
      {
       "output_type": "stream",
       "stream": "stdout",
       "text": [
        "90300 "
       ]
      },
      {
       "output_type": "stream",
       "stream": "stdout",
       "text": [
        "! "
       ]
      },
      {
       "output_type": "stream",
       "stream": "stdout",
       "text": [
        "! ! "
       ]
      },
      {
       "output_type": "stream",
       "stream": "stdout",
       "text": [
        "90400 "
       ]
      },
      {
       "output_type": "stream",
       "stream": "stdout",
       "text": [
        "! "
       ]
      },
      {
       "output_type": "stream",
       "stream": "stdout",
       "text": [
        "! "
       ]
      },
      {
       "output_type": "stream",
       "stream": "stdout",
       "text": [
        "! "
       ]
      },
      {
       "output_type": "stream",
       "stream": "stdout",
       "text": [
        "90500 "
       ]
      },
      {
       "output_type": "stream",
       "stream": "stdout",
       "text": [
        "! "
       ]
      },
      {
       "output_type": "stream",
       "stream": "stdout",
       "text": [
        "! "
       ]
      },
      {
       "output_type": "stream",
       "stream": "stdout",
       "text": [
        "! "
       ]
      },
      {
       "output_type": "stream",
       "stream": "stdout",
       "text": [
        "! "
       ]
      },
      {
       "output_type": "stream",
       "stream": "stdout",
       "text": [
        "! "
       ]
      },
      {
       "output_type": "stream",
       "stream": "stdout",
       "text": [
        "! "
       ]
      },
      {
       "output_type": "stream",
       "stream": "stdout",
       "text": [
        "! "
       ]
      },
      {
       "output_type": "stream",
       "stream": "stdout",
       "text": [
        "90600 "
       ]
      },
      {
       "output_type": "stream",
       "stream": "stdout",
       "text": [
        "! "
       ]
      },
      {
       "output_type": "stream",
       "stream": "stdout",
       "text": [
        "! "
       ]
      },
      {
       "output_type": "stream",
       "stream": "stdout",
       "text": [
        "! "
       ]
      },
      {
       "output_type": "stream",
       "stream": "stdout",
       "text": [
        "90700 "
       ]
      },
      {
       "output_type": "stream",
       "stream": "stdout",
       "text": [
        "! "
       ]
      },
      {
       "output_type": "stream",
       "stream": "stdout",
       "text": [
        "! "
       ]
      },
      {
       "output_type": "stream",
       "stream": "stdout",
       "text": [
        "! "
       ]
      },
      {
       "output_type": "stream",
       "stream": "stdout",
       "text": [
        "! "
       ]
      },
      {
       "output_type": "stream",
       "stream": "stdout",
       "text": [
        "90800 "
       ]
      },
      {
       "output_type": "stream",
       "stream": "stdout",
       "text": [
        "! "
       ]
      },
      {
       "output_type": "stream",
       "stream": "stdout",
       "text": [
        "! "
       ]
      },
      {
       "output_type": "stream",
       "stream": "stdout",
       "text": [
        "! "
       ]
      },
      {
       "output_type": "stream",
       "stream": "stdout",
       "text": [
        "90900 "
       ]
      },
      {
       "output_type": "stream",
       "stream": "stdout",
       "text": [
        "! "
       ]
      },
      {
       "output_type": "stream",
       "stream": "stdout",
       "text": [
        "! "
       ]
      },
      {
       "output_type": "stream",
       "stream": "stdout",
       "text": [
        "! "
       ]
      },
      {
       "output_type": "stream",
       "stream": "stdout",
       "text": [
        "! "
       ]
      },
      {
       "output_type": "stream",
       "stream": "stdout",
       "text": [
        "91000 "
       ]
      },
      {
       "output_type": "stream",
       "stream": "stdout",
       "text": [
        "! "
       ]
      },
      {
       "output_type": "stream",
       "stream": "stdout",
       "text": [
        "! ! "
       ]
      },
      {
       "output_type": "stream",
       "stream": "stdout",
       "text": [
        "! "
       ]
      },
      {
       "output_type": "stream",
       "stream": "stdout",
       "text": [
        "91100 "
       ]
      },
      {
       "output_type": "stream",
       "stream": "stdout",
       "text": [
        "! "
       ]
      },
      {
       "output_type": "stream",
       "stream": "stdout",
       "text": [
        "! "
       ]
      },
      {
       "output_type": "stream",
       "stream": "stdout",
       "text": [
        "! "
       ]
      },
      {
       "output_type": "stream",
       "stream": "stdout",
       "text": [
        "91200 "
       ]
      },
      {
       "output_type": "stream",
       "stream": "stdout",
       "text": [
        "! "
       ]
      },
      {
       "output_type": "stream",
       "stream": "stdout",
       "text": [
        "! "
       ]
      },
      {
       "output_type": "stream",
       "stream": "stdout",
       "text": [
        "91300 "
       ]
      },
      {
       "output_type": "stream",
       "stream": "stdout",
       "text": [
        "! "
       ]
      },
      {
       "output_type": "stream",
       "stream": "stdout",
       "text": [
        "! "
       ]
      },
      {
       "output_type": "stream",
       "stream": "stdout",
       "text": [
        "! "
       ]
      },
      {
       "output_type": "stream",
       "stream": "stdout",
       "text": [
        "! "
       ]
      },
      {
       "output_type": "stream",
       "stream": "stdout",
       "text": [
        "! "
       ]
      },
      {
       "output_type": "stream",
       "stream": "stdout",
       "text": [
        "91400 "
       ]
      },
      {
       "output_type": "stream",
       "stream": "stdout",
       "text": [
        "! "
       ]
      },
      {
       "output_type": "stream",
       "stream": "stdout",
       "text": [
        "! "
       ]
      },
      {
       "output_type": "stream",
       "stream": "stdout",
       "text": [
        "! "
       ]
      },
      {
       "output_type": "stream",
       "stream": "stdout",
       "text": [
        "! "
       ]
      },
      {
       "output_type": "stream",
       "stream": "stdout",
       "text": [
        "! "
       ]
      },
      {
       "output_type": "stream",
       "stream": "stdout",
       "text": [
        "91500 "
       ]
      },
      {
       "output_type": "stream",
       "stream": "stdout",
       "text": [
        "! "
       ]
      },
      {
       "output_type": "stream",
       "stream": "stdout",
       "text": [
        "91600 ! "
       ]
      },
      {
       "output_type": "stream",
       "stream": "stdout",
       "text": [
        "! "
       ]
      },
      {
       "output_type": "stream",
       "stream": "stdout",
       "text": [
        "! "
       ]
      },
      {
       "output_type": "stream",
       "stream": "stdout",
       "text": [
        "! "
       ]
      },
      {
       "output_type": "stream",
       "stream": "stdout",
       "text": [
        "! "
       ]
      },
      {
       "output_type": "stream",
       "stream": "stdout",
       "text": [
        "! "
       ]
      },
      {
       "output_type": "stream",
       "stream": "stdout",
       "text": [
        "! ! "
       ]
      },
      {
       "output_type": "stream",
       "stream": "stdout",
       "text": [
        "! ! "
       ]
      },
      {
       "output_type": "stream",
       "stream": "stdout",
       "text": [
        "91700 "
       ]
      },
      {
       "output_type": "stream",
       "stream": "stdout",
       "text": [
        "! "
       ]
      },
      {
       "output_type": "stream",
       "stream": "stdout",
       "text": [
        "! "
       ]
      },
      {
       "output_type": "stream",
       "stream": "stdout",
       "text": [
        "91800 "
       ]
      },
      {
       "output_type": "stream",
       "stream": "stdout",
       "text": [
        "! "
       ]
      },
      {
       "output_type": "stream",
       "stream": "stdout",
       "text": [
        "! "
       ]
      },
      {
       "output_type": "stream",
       "stream": "stdout",
       "text": [
        "91900 "
       ]
      },
      {
       "output_type": "stream",
       "stream": "stdout",
       "text": [
        "! "
       ]
      },
      {
       "output_type": "stream",
       "stream": "stdout",
       "text": [
        "! "
       ]
      },
      {
       "output_type": "stream",
       "stream": "stdout",
       "text": [
        "! "
       ]
      },
      {
       "output_type": "stream",
       "stream": "stdout",
       "text": [
        "! "
       ]
      },
      {
       "output_type": "stream",
       "stream": "stdout",
       "text": [
        "92000 "
       ]
      },
      {
       "output_type": "stream",
       "stream": "stdout",
       "text": [
        "92100 "
       ]
      },
      {
       "output_type": "stream",
       "stream": "stdout",
       "text": [
        "! "
       ]
      },
      {
       "output_type": "stream",
       "stream": "stdout",
       "text": [
        "92200 "
       ]
      },
      {
       "output_type": "stream",
       "stream": "stdout",
       "text": [
        "! "
       ]
      },
      {
       "output_type": "stream",
       "stream": "stdout",
       "text": [
        "! "
       ]
      },
      {
       "output_type": "stream",
       "stream": "stdout",
       "text": [
        "92300 "
       ]
      },
      {
       "output_type": "stream",
       "stream": "stdout",
       "text": [
        "! ! "
       ]
      },
      {
       "output_type": "stream",
       "stream": "stdout",
       "text": [
        "! "
       ]
      },
      {
       "output_type": "stream",
       "stream": "stdout",
       "text": [
        "92400 "
       ]
      },
      {
       "output_type": "stream",
       "stream": "stdout",
       "text": [
        "! "
       ]
      },
      {
       "output_type": "stream",
       "stream": "stdout",
       "text": [
        "92500 "
       ]
      },
      {
       "output_type": "stream",
       "stream": "stdout",
       "text": [
        "! ! "
       ]
      },
      {
       "output_type": "stream",
       "stream": "stdout",
       "text": [
        "! "
       ]
      },
      {
       "output_type": "stream",
       "stream": "stdout",
       "text": [
        "! "
       ]
      },
      {
       "output_type": "stream",
       "stream": "stdout",
       "text": [
        "! "
       ]
      },
      {
       "output_type": "stream",
       "stream": "stdout",
       "text": [
        "! "
       ]
      },
      {
       "ename": "NameError",
       "evalue": "name 'list3' is not defined",
       "output_type": "pyerr",
       "traceback": [
        "\u001b[1;31m---------------------------------------------------------------------------\u001b[0m\n\u001b[1;31mNameError\u001b[0m                                 Traceback (most recent call last)",
        "\u001b[1;32m<ipython-input-15-f9cbd9bfc892>\u001b[0m in \u001b[0;36m<module>\u001b[1;34m()\u001b[0m\n\u001b[0;32m      8\u001b[0m \u001b[1;32mfor\u001b[0m \u001b[0mpos\u001b[0m \u001b[1;32min\u001b[0m \u001b[0mrange\u001b[0m\u001b[1;33m(\u001b[0m\u001b[0mlen\u001b[0m\u001b[1;33m(\u001b[0m\u001b[0mlist4\u001b[0m\u001b[1;33m)\u001b[0m\u001b[1;33m)\u001b[0m\u001b[1;33m:\u001b[0m\u001b[1;33m\u001b[0m\u001b[0m\n\u001b[0;32m      9\u001b[0m     \u001b[0mlist4\u001b[0m\u001b[1;33m[\u001b[0m\u001b[0mpos\u001b[0m\u001b[1;33m]\u001b[0m \u001b[1;33m=\u001b[0m \u001b[0mlist4\u001b[0m\u001b[1;33m[\u001b[0m\u001b[0mpos\u001b[0m\u001b[1;33m]\u001b[0m\u001b[1;33m.\u001b[0m\u001b[0mcapitalize\u001b[0m\u001b[1;33m(\u001b[0m\u001b[1;33m)\u001b[0m\u001b[1;33m\u001b[0m\u001b[0m\n\u001b[1;32m---> 10\u001b[1;33m \u001b[0mnamefwddict\u001b[0m \u001b[1;33m=\u001b[0m \u001b[0mpd\u001b[0m\u001b[1;33m.\u001b[0m\u001b[0mDataFrame\u001b[0m\u001b[1;33m(\u001b[0m\u001b[1;33m{\u001b[0m\u001b[1;34m'name'\u001b[0m\u001b[1;33m:\u001b[0m \u001b[0mlist3\u001b[0m\u001b[1;33m}\u001b[0m\u001b[1;33m)\u001b[0m\u001b[1;33m\u001b[0m\u001b[0m\n\u001b[0m\u001b[0;32m     11\u001b[0m \u001b[0mnamefwddict\u001b[0m\u001b[1;33m.\u001b[0m\u001b[0mto_pickle\u001b[0m\u001b[1;33m(\u001b[0m\u001b[1;34m'eraseme/namefwddict.pickle'\u001b[0m\u001b[1;33m)\u001b[0m\u001b[1;33m\u001b[0m\u001b[0m\n",
        "\u001b[1;31mNameError\u001b[0m: name 'list3' is not defined"
       ]
      },
      {
       "output_type": "stream",
       "stream": "stdout",
       "text": [
        "!"
       ]
      }
     ],
     "prompt_number": 15
    },
    {
     "cell_type": "code",
     "collapsed": false,
     "input": [
      "namefwddict = pd.DataFrame({'name': list4})\n",
      "namefwddict.to_pickle('eraseme/namefwddict.pickle')"
     ],
     "language": "python",
     "metadata": {},
     "outputs": [
      {
       "output_type": "stream",
       "stream": "stdout",
       "text": [
        "\n"
       ]
      }
     ],
     "prompt_number": 16
    },
    {
     "cell_type": "code",
     "collapsed": false,
     "input": [
      "list4[:111]"
     ],
     "language": "python",
     "metadata": {},
     "outputs": [
      {
       "metadata": {},
       "output_type": "pyout",
       "prompt_number": 17,
       "text": [
        "['Pearl',\n",
        " 'Lily',\n",
        " 'Daisy',\n",
        " 'Jane',\n",
        " 'Dolly',\n",
        " 'Bertha',\n",
        " 'Eve',\n",
        " 'Fern',\n",
        " 'Abigail',\n",
        " 'Florence',\n",
        " 'Hope',\n",
        " 'Belle',\n",
        " 'Ruth',\n",
        " 'Ivy',\n",
        " 'Olive',\n",
        " 'Violet',\n",
        " 'Patsy',\n",
        " 'Sally',\n",
        " 'Opal',\n",
        " 'Jesse',\n",
        " 'Maria',\n",
        " 'Rose',\n",
        " 'Phoebe',\n",
        " 'Fanny',\n",
        " 'Victoria',\n",
        " 'Alma',\n",
        " 'Mamie',\n",
        " 'Hazel',\n",
        " 'Althea',\n",
        " 'Polly',\n",
        " 'John',\n",
        " 'Veronica',\n",
        " 'Sue',\n",
        " 'Regina',\n",
        " 'Anna',\n",
        " 'Jewel',\n",
        " 'Charity',\n",
        " 'Matilda',\n",
        " 'Queen',\n",
        " 'Savannah',\n",
        " 'Flora',\n",
        " 'Bonnie',\n",
        " 'Kitty',\n",
        " 'Laura',\n",
        " 'Mollie',\n",
        " 'India',\n",
        " 'Molly',\n",
        " 'Mae',\n",
        " 'May',\n",
        " 'Donna',\n",
        " 'Lea',\n",
        " 'Lee',\n",
        " 'Jenny',\n",
        " 'Corrie',\n",
        " 'Jean',\n",
        " 'Ruby',\n",
        " 'Grace',\n",
        " 'Amie',\n",
        " 'Aline',\n",
        " 'Joseph',\n",
        " 'Vera',\n",
        " 'Geneva',\n",
        " 'Ava',\n",
        " 'Viola',\n",
        " 'Fay',\n",
        " 'Nona',\n",
        " 'Ora',\n",
        " 'Vina',\n",
        " 'Stella',\n",
        " 'Mina',\n",
        " 'Iris',\n",
        " 'Ester',\n",
        " 'Faith',\n",
        " 'Celeste',\n",
        " 'Prudence',\n",
        " 'Henry',\n",
        " 'Magnolia',\n",
        " 'Carol',\n",
        " 'Coral',\n",
        " 'Ana',\n",
        " 'Aurora',\n",
        " 'Carmen',\n",
        " 'Dona',\n",
        " 'Jo',\n",
        " 'Rosemary',\n",
        " 'Cherry',\n",
        " 'Rhea',\n",
        " 'Christie',\n",
        " 'Aura',\n",
        " 'Lacy',\n",
        " 'Delta',\n",
        " 'Magdalen',\n",
        " 'Beth',\n",
        " 'Amber',\n",
        " 'Nana',\n",
        " 'Genie',\n",
        " 'Laurel',\n",
        " 'Nova',\n",
        " 'Crystal',\n",
        " 'Kay',\n",
        " 'Meta',\n",
        " 'Patience',\n",
        " 'Joy',\n",
        " 'Billie',\n",
        " 'Novella',\n",
        " 'Lulu',\n",
        " 'Daphne',\n",
        " 'Ivory',\n",
        " 'Beryl',\n",
        " 'Vesta',\n",
        " 'Sabra']"
       ]
      }
     ],
     "prompt_number": 17
    },
    {
     "cell_type": "code",
     "collapsed": false,
     "input": [
      "list4[-111:]"
     ],
     "language": "python",
     "metadata": {},
     "outputs": [
      {
       "metadata": {},
       "output_type": "pyout",
       "prompt_number": 18,
       "text": [
        "['Mantra',\n",
        " 'Leeward',\n",
        " 'Be',\n",
        " 'Oxford',\n",
        " 'Thorpe',\n",
        " 'South',\n",
        " 'Hammed',\n",
        " 'Cloyed',\n",
        " 'Vice',\n",
        " 'Martinis',\n",
        " 'Denes',\n",
        " 'Sei',\n",
        " 'Antre',\n",
        " 'Ware',\n",
        " 'Peat',\n",
        " 'Bolling',\n",
        " 'Mony',\n",
        " 'Bwana',\n",
        " 'Terrane',\n",
        " 'Dural',\n",
        " 'Hooker',\n",
        " 'Graven',\n",
        " 'Robbins',\n",
        " 'Peerless',\n",
        " 'Lamb',\n",
        " 'Lenes',\n",
        " 'Savage',\n",
        " 'Chambers',\n",
        " 'Divan',\n",
        " 'Sabe',\n",
        " 'Stash',\n",
        " 'Chard',\n",
        " 'Royster',\n",
        " 'The',\n",
        " 'Arseno',\n",
        " 'Nizam',\n",
        " 'Record',\n",
        " 'Heard',\n",
        " 'Dominant',\n",
        " 'Eternal',\n",
        " 'Samp',\n",
        " 'Travel',\n",
        " 'Laver',\n",
        " 'Lanyard',\n",
        " 'Guardian',\n",
        " 'Beach',\n",
        " 'Hermit',\n",
        " 'Chain',\n",
        " 'Congress',\n",
        " 'Trill',\n",
        " 'Logic',\n",
        " 'Bang',\n",
        " 'Fess',\n",
        " 'Lung',\n",
        " 'Deking',\n",
        " 'Speedy',\n",
        " 'Audio',\n",
        " 'Fielder',\n",
        " 'Urbane',\n",
        " 'Mun',\n",
        " 'Shack',\n",
        " 'Profit',\n",
        " 'Cadge',\n",
        " 'Sever',\n",
        " 'Tomes',\n",
        " 'Sardar',\n",
        " 'Track',\n",
        " 'Dobby',\n",
        " 'Tench',\n",
        " 'Moral',\n",
        " 'Unto',\n",
        " 'Hub',\n",
        " 'Count',\n",
        " 'Bonanza',\n",
        " 'Chat',\n",
        " 'Levant',\n",
        " 'Stover',\n",
        " 'Flip',\n",
        " 'Stance',\n",
        " 'Brilliant',\n",
        " 'Berg',\n",
        " 'Omen',\n",
        " 'Waddy',\n",
        " 'Issei',\n",
        " 'Creel',\n",
        " 'Pray',\n",
        " 'Boney',\n",
        " 'Warrior',\n",
        " 'Church',\n",
        " 'Ricks',\n",
        " 'Daks',\n",
        " 'Talion',\n",
        " 'Scholar',\n",
        " 'Looney',\n",
        " 'Ness',\n",
        " 'Jocko',\n",
        " 'Lech',\n",
        " 'Tonka',\n",
        " 'Credence',\n",
        " 'Bower',\n",
        " 'Barrette',\n",
        " 'Frost',\n",
        " 'Charger',\n",
        " 'Kor',\n",
        " 'Cupid',\n",
        " 'Seaman',\n",
        " 'Rem',\n",
        " 'Wyle',\n",
        " 'Guru',\n",
        " 'Arcadian',\n",
        " 'Gross']"
       ]
      }
     ],
     "prompt_number": 18
    },
    {
     "cell_type": "code",
     "collapsed": false,
     "input": [],
     "language": "python",
     "metadata": {},
     "outputs": []
    }
   ],
   "metadata": {}
  }
 ]
}